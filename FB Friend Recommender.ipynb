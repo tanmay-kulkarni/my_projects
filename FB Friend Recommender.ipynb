{
 "cells": [
  {
   "cell_type": "markdown",
   "metadata": {},
   "source": [
    "<h1 align=\"center\"> Facebook Friend Recommender Challenge </h1>\n",
    "\n",
    "![](https://storage.googleapis.com/kaggle-competitions/kaggle/2947/logos/front_page.png)\n",
    "\n",
    "This problem was posted on Kaggle by Facebook around 2013. Facebook, as everyone knows, is the biggest online social network in existance with Billions of daily active users. But the provided data is that of a directed social graph, which indicates that it's not of Facebook itself, but some other entity of Facebook, probably Instagram.\n",
    "\n",
    "The format of the data is simply as follows\n",
    "\n",
    "    source_node, destination_node\n",
    "this is one edge of the network. The full dataset contains around 1.8 Million nodes. The objective is to predict whether there exists an edge, given any two nodes in the graph. As we proceed, we'll take a look at the data and discuss how to formulate the machine learning problem. Let's begin by taking a look at the data. I'll be using the original dataset in full for this case study. This code is run on a GCP server having ~100 GB RAM."
   ]
  },
  {
   "cell_type": "code",
   "execution_count": 1,
   "metadata": {
    "ExecuteTime": {
     "end_time": "2019-10-03T10:02:53.114628Z",
     "start_time": "2019-10-03T10:02:52.869808Z"
    },
    "scrolled": true
   },
   "outputs": [
    {
     "name": "stdout",
     "output_type": "stream",
     "text": [
      "source_node,destination_node\r",
      "\r\n",
      "1,690569\r",
      "\r\n",
      "1,315892\r",
      "\r\n",
      "1,189226\r",
      "\r\n",
      "2,834328\r",
      "\r\n",
      "2,1615927\r",
      "\r\n",
      "2,1194519\r",
      "\r\n",
      "2,470294\r",
      "\r\n",
      "2,961886\r",
      "\r\n",
      "2,626040\r",
      "\r\n"
     ]
    }
   ],
   "source": [
    "!head data/train.csv"
   ]
  },
  {
   "cell_type": "markdown",
   "metadata": {},
   "source": [
    "As you can see above, the format of the data is really simple. Each row in the data indicates an edge between two nodes in the network. We'll make heavy use of the excellent NetworkX library to build and make sense of this directed network."
   ]
  },
  {
   "cell_type": "code",
   "execution_count": 3,
   "metadata": {
    "ExecuteTime": {
     "end_time": "2019-10-03T09:29:08.255838Z",
     "start_time": "2019-10-03T09:29:02.750263Z"
    },
    "scrolled": true
   },
   "outputs": [
    {
     "name": "stderr",
     "output_type": "stream",
     "text": [
      "/usr/local/lib/python3.5/dist-packages/sklearn/externals/joblib/__init__.py:15: DeprecationWarning: sklearn.externals.joblib is deprecated in 0.21 and will be removed in 0.23. Please import this functionality directly from joblib, which can be installed with: pip install joblib. If this warning is raised when loading pickled models, you may need to re-serialize those models with scikit-learn 0.21+.\n",
      "  warnings.warn(msg, category=DeprecationWarning)\n"
     ]
    }
   ],
   "source": [
    "import networkx as nx\n",
    "import pandas as pd\n",
    "import numpy as np\n",
    "import matplotlib.pyplot as plt\n",
    "import seaborn as sbn\n",
    "import xgboost as xgb\n",
    "import pickle\n",
    "import random\n",
    "from tqdm import tqdm\n",
    "from sklearn.externals import joblib\n",
    "from prettytable import PrettyTable\n",
    "from sklearn.metrics import accuracy_score, precision_score, recall_score, roc_auc_score\n",
    "from sklearn.metrics import roc_curve, auc, confusion_matrix, f1_score\n",
    "from sklearn.model_selection import GridSearchCV\n",
    "from sklearn.linear_model import LogisticRegression\n",
    "from sklearn.preprocessing import StandardScaler"
   ]
  },
  {
   "cell_type": "code",
   "execution_count": 1,
   "metadata": {
    "ExecuteTime": {
     "end_time": "2019-10-03T09:11:30.915934Z",
     "start_time": "2019-10-03T09:11:30.700865Z"
    },
    "scrolled": true
   },
   "outputs": [
    {
     "data": {
      "application/javascript": [
       "if (!(\"Notification\" in window)) {\n",
       "    alert(\"This browser does not support desktop notifications, so the %%notify magic will not work.\");\n",
       "} else if (Notification.permission !== 'granted' && Notification.permission !== 'denied') {\n",
       "    Notification.requestPermission(function (permission) {\n",
       "        if(!('permission' in Notification)) {\n",
       "            Notification.permission = permission;\n",
       "        }\n",
       "    })\n",
       "}\n"
      ],
      "text/plain": [
       "<IPython.core.display.Javascript object>"
      ]
     },
     "metadata": {},
     "output_type": "display_data"
    }
   ],
   "source": [
    "%load_ext jupyternotify"
   ]
  },
  {
   "cell_type": "markdown",
   "metadata": {},
   "source": [
    "Set up tqdm such that it prints a progress bar while working on Pandas dataframes "
   ]
  },
  {
   "cell_type": "code",
   "execution_count": 3,
   "metadata": {
    "ExecuteTime": {
     "end_time": "2019-10-02T10:58:21.695161Z",
     "start_time": "2019-10-02T10:58:21.691656Z"
    }
   },
   "outputs": [],
   "source": [
    "tqdm.pandas()"
   ]
  },
  {
   "cell_type": "markdown",
   "metadata": {},
   "source": [
    "# Exploratory Data Analysis\n",
    "\n",
    "Remove header from the file and save it as a separate file for reading the graph using `read_edgelist` function of NetworkX."
   ]
  },
  {
   "cell_type": "code",
   "execution_count": 4,
   "metadata": {
    "ExecuteTime": {
     "end_time": "2019-09-18T12:28:25.065238Z",
     "start_time": "2019-09-18T12:28:25.061995Z"
    }
   },
   "outputs": [],
   "source": [
    "!sed '1d' data/train.csv > data/train_woheader.csv"
   ]
  },
  {
   "cell_type": "markdown",
   "metadata": {},
   "source": [
    "Read the graph from the given list of edges. I'm utilizing the entire training set provided in the original data. The following line of code will read the edglist from the raw data and create a directed graph from it."
   ]
  },
  {
   "cell_type": "code",
   "execution_count": 5,
   "metadata": {
    "ExecuteTime": {
     "end_time": "2019-09-19T15:48:27.561529Z",
     "start_time": "2019-09-19T15:47:15.058276Z"
    }
   },
   "outputs": [
    {
     "data": {
      "application/javascript": [
       "$(document).ready(\n",
       "    function() {\n",
       "        function appendUniqueDiv(){\n",
       "            // append a div with our uuid so we can check that it's already\n",
       "            // been sent and avoid duplicates on page reload\n",
       "            var notifiedDiv = document.createElement(\"div\")\n",
       "            notifiedDiv.id = \"883fbfb0-f054-4f62-960f-7e07645b0332\"\n",
       "            element.append(notifiedDiv)\n",
       "        }\n",
       "\n",
       "        // only send notifications if the pageload is complete; this will\n",
       "        // help stop extra notifications when a saved notebook is loaded,\n",
       "        // which during testing gives us state \"interactive\", not \"complete\"\n",
       "        if (document.readyState === 'complete') {\n",
       "            // check for the div that signifies that the notification\n",
       "            // was already sent\n",
       "            if (document.getElementById(\"883fbfb0-f054-4f62-960f-7e07645b0332\") === null) {\n",
       "                var notificationPayload = {\"icon\": \"/static/base/images/favicon.ico\", \"requireInteraction\": false, \"body\": \"Cell execution has finished!\"};\n",
       "                if (Notification.permission !== 'denied') {\n",
       "                    if (Notification.permission !== 'granted') { \n",
       "                        Notification.requestPermission(function (permission) {\n",
       "                            if(!('permission' in Notification)) {\n",
       "                                Notification.permission = permission\n",
       "                            }\n",
       "                        })\n",
       "                    }\n",
       "                    if (Notification.permission === 'granted') {\n",
       "                    var notification = new Notification(\"Jupyter Notebook\", notificationPayload)\n",
       "                    appendUniqueDiv()\n",
       "                    notification.onclick = function () {\n",
       "                        window.focus();\n",
       "                        this.close();\n",
       "                        };\n",
       "                    } \n",
       "                }     \n",
       "            }\n",
       "        }\n",
       "    }\n",
       ")\n"
      ],
      "text/plain": [
       "<IPython.core.display.Javascript object>"
      ]
     },
     "metadata": {},
     "output_type": "display_data"
    }
   ],
   "source": [
    "%%notify\n",
    "\n",
    "g = nx.read_edgelist('data/train_woheader.csv', delimiter=',',\n",
    "                     create_using=nx.DiGraph(), nodetype=int)"
   ]
  },
  {
   "cell_type": "markdown",
   "metadata": {},
   "source": [
    "Pickle the graph on to the disk for reading later."
   ]
  },
  {
   "cell_type": "code",
   "execution_count": 6,
   "metadata": {
    "ExecuteTime": {
     "end_time": "2019-09-19T15:48:51.872782Z",
     "start_time": "2019-09-19T15:48:37.254438Z"
    }
   },
   "outputs": [],
   "source": [
    "f = open('original_graph.pkl', 'wb')\n",
    "pickle.dump(g, f)\n",
    "f.close()"
   ]
  },
  {
   "cell_type": "markdown",
   "metadata": {},
   "source": [
    "Read the graph object stored on the disk (if the notebook is restarted)"
   ]
  },
  {
   "cell_type": "code",
   "execution_count": 100,
   "metadata": {
    "ExecuteTime": {
     "end_time": "2019-09-28T05:40:03.874149Z",
     "start_time": "2019-09-28T05:39:28.506652Z"
    },
    "scrolled": true
   },
   "outputs": [],
   "source": [
    "f = open('original_graph.pkl', 'rb')\n",
    "g = pickle.load(f)\n",
    "f.close()"
   ]
  },
  {
   "cell_type": "markdown",
   "metadata": {},
   "source": [
    "Let's explore and see what this graph contains\n",
    "\n",
    "    1. This is a directed graph\n",
    "    2. There are 1.8M nodes (persons)\n",
    "    3. There are 9.4M edges (links) "
   ]
  },
  {
   "cell_type": "code",
   "execution_count": 101,
   "metadata": {
    "ExecuteTime": {
     "end_time": "2019-09-28T05:41:32.217688Z",
     "start_time": "2019-09-28T05:41:30.051348Z"
    }
   },
   "outputs": [
    {
     "name": "stdout",
     "output_type": "stream",
     "text": [
      "Name: \n",
      "Type: DiGraph\n",
      "Number of nodes: 1862220\n",
      "Number of edges: 9437519\n",
      "Average in degree:   5.0679\n",
      "Average out degree:   5.0679\n"
     ]
    }
   ],
   "source": [
    "print(nx.info(g))"
   ]
  },
  {
   "cell_type": "markdown",
   "metadata": {},
   "source": [
    "**The following block of code displays a sample graph from this netowrk**"
   ]
  },
  {
   "cell_type": "code",
   "execution_count": 17,
   "metadata": {
    "ExecuteTime": {
     "end_time": "2019-09-18T14:11:40.662825Z",
     "start_time": "2019-09-18T14:11:40.084036Z"
    }
   },
   "outputs": [
    {
     "name": "stdout",
     "output_type": "stream",
     "text": [
      "Name: \n",
      "Type: DiGraph\n",
      "Number of nodes: 43\n",
      "Number of edges: 31\n",
      "Average in degree:   0.7209\n",
      "Average out degree:   0.7209\n"
     ]
    },
    {
     "data": {
      "image/png": "[encoded data removed]",
      "text/plain": [
       "<Figure size 720x360 with 1 Axes>"
      ]
     },
     "metadata": {},
     "output_type": "display_data"
    }
   ],
   "source": [
    "plt.figure(figsize=(10, 5))\n",
    "pd.read_csv('data/train_woheader.csv',\n",
    "            nrows=30).to_csv('data/train_woheader_sample.csv', index=False)\n",
    "\n",
    "subgraph = nx.read_edgelist('data/train_woheader_sample.csv',\n",
    "                            delimiter=',',\n",
    "                            create_using=nx.DiGraph(),\n",
    "                            nodetype=int)\n",
    "\n",
    "pos = nx.spring_layout(subgraph)\n",
    "\n",
    "options = {\n",
    "    'node_size': 200,\n",
    "}\n",
    "\n",
    "nx.draw(subgraph,\n",
    "        pos,\n",
    "        node_color='#A0CBE2',\n",
    "        edge_color='black',\n",
    "        edge_cmap=plt.cm.Blues,\n",
    "        with_labels=True,\n",
    "        font_weight='bold',\n",
    "        **options)\n",
    "\n",
    "print(nx.info(subgraph))"
   ]
  },
  {
   "cell_type": "markdown",
   "metadata": {},
   "source": [
    "**Number of followers of each person**\n",
    "\n",
    "Observe the figure below. 99 percent people have <= 40 followers."
   ]
  },
  {
   "cell_type": "code",
   "execution_count": 114,
   "metadata": {
    "ExecuteTime": {
     "end_time": "2019-09-28T05:58:00.519563Z",
     "start_time": "2019-09-28T05:57:56.903490Z"
    }
   },
   "outputs": [
    {
     "data": {
      "image/png": "[encoded data removed]",
      "text/plain": [
       "<Figure size 1080x432 with 2 Axes>"
      ]
     },
     "metadata": {},
     "output_type": "display_data"
    }
   ],
   "source": [
    "plt.figure(figsize=(15,6))\n",
    "sbn.set('notebook')\n",
    "sbn.set_style('white')\n",
    "sbn.set_palette('BuPu_r')\n",
    "\n",
    "plt.subplot(1,2,1)\n",
    "indegree_dist = list(dict(g.in_degree()).values())\n",
    "indegree_dist.sort()\n",
    "\n",
    "plt.plot(indegree_dist)\n",
    "plt.xlabel('Index No')\n",
    "plt.ylabel('Number Of Followers', fontsize=14)\n",
    "plt.title('Distribution of Followers', fontsize=16)\n",
    "plt.xticks(rotation=0)\n",
    "\n",
    "plt.subplot(1,2,2)\n",
    "sbn.boxplot(indegree_dist)\n",
    "plt.title('Boxplot of number of followers', fontsize=16)\n",
    "\n",
    "plt.tight_layout()\n",
    "plt.show()"
   ]
  },
  {
   "cell_type": "markdown",
   "metadata": {
    "ExecuteTime": {
     "end_time": "2019-09-18T14:32:09.170831Z",
     "start_time": "2019-09-18T14:32:09.167804Z"
    }
   },
   "source": [
    "## Percentile distribution of indegree\n",
    "\n",
    "As you can observe in the graph below, 99 percentile of number of followers is around 40."
   ]
  },
  {
   "cell_type": "code",
   "execution_count": 135,
   "metadata": {
    "ExecuteTime": {
     "end_time": "2019-09-28T06:07:57.581492Z",
     "start_time": "2019-09-28T06:07:52.366106Z"
    }
   },
   "outputs": [
    {
     "data": {
      "image/png": "[encoded data removed]",
      "text/plain": [
       "<Figure size 1080x360 with 1 Axes>"
      ]
     },
     "metadata": {},
     "output_type": "display_data"
    }
   ],
   "source": [
    "plt.figure(figsize=(15,5))\n",
    "p=[]\n",
    "for x in range(3, 100, 3):\n",
    "    p.append(np.percentile(indegree_dist, x))\n",
    "\n",
    "ax = sbn.barplot(list(range(3, 100, 3)), p)\n",
    "\n",
    "plt.title('In-degree (followers) for various percentile values', fontsize=16)\n",
    "plt.show()"
   ]
  },
  {
   "cell_type": "markdown",
   "metadata": {},
   "source": [
    "## The problem of missing links (class 0 for the ML models)\n",
    "\n",
    "There are 9.4 million edges in our data. But is that sufficient? To train a machine learning model which is able to predict whether there's an edge between two nodes, i.e. whether the first node is following the second node, we need representation of the positive class (edge exists), as well as the negative class (edge doesn't exist). Otherwise, how would to model learn to recognize class 0?\n",
    "\n",
    "But, the graph we've built represents only class 1, obviously. Therefore, we need to synthesize class 0 data points.\n",
    "\n",
    "To that end, we add the same number of negative cases i.e. where there's no edge between the nodes.\n",
    "\n",
    "NOTE: Here, I'm using the data provided by AAIC to load missing links."
   ]
  },
  {
   "cell_type": "code",
   "execution_count": 4,
   "metadata": {
    "ExecuteTime": {
     "end_time": "2019-09-28T08:07:19.116648Z",
     "start_time": "2019-09-28T08:07:15.486134Z"
    }
   },
   "outputs": [],
   "source": [
    "df_Edge_train = pd.read_csv('./data/after_eda/train_pos_after_eda.csv', header=None)\n",
    "df_noEdge_train = pd.read_csv('./data/after_eda/train_neg_after_eda.csv', header=None)"
   ]
  },
  {
   "cell_type": "code",
   "execution_count": 5,
   "metadata": {
    "ExecuteTime": {
     "end_time": "2019-09-28T08:07:20.986771Z",
     "start_time": "2019-09-28T08:07:20.982310Z"
    }
   },
   "outputs": [
    {
     "data": {
      "text/plain": [
       "((7550015, 2), (7550015, 2))"
      ]
     },
     "execution_count": 5,
     "metadata": {},
     "output_type": "execute_result"
    }
   ],
   "source": [
    "df_Edge_train.shape, df_noEdge_train.shape"
   ]
  },
  {
   "cell_type": "markdown",
   "metadata": {},
   "source": [
    "**Create a new column - edge_exists in the data**"
   ]
  },
  {
   "cell_type": "code",
   "execution_count": 6,
   "metadata": {
    "ExecuteTime": {
     "end_time": "2019-09-28T08:07:27.177085Z",
     "start_time": "2019-09-28T08:07:26.488312Z"
    }
   },
   "outputs": [],
   "source": [
    "df_Edge_train.columns = ['source', 'destination']\n",
    "df_Edge_train['edge_exists'] = 1\n",
    "df_noEdge_train.columns = ['source', 'destination']\n",
    "df_noEdge_train['edge_exists'] = 0\n",
    "\n",
    "df_train = pd.concat([df_Edge_train, df_noEdge_train], axis=0)"
   ]
  },
  {
   "cell_type": "markdown",
   "metadata": {},
   "source": [
    "**Shuffle all rows so that positive and negative cases appear randomly**"
   ]
  },
  {
   "cell_type": "code",
   "execution_count": 7,
   "metadata": {
    "ExecuteTime": {
     "end_time": "2019-09-28T08:07:33.436550Z",
     "start_time": "2019-09-28T08:07:30.936895Z"
    }
   },
   "outputs": [],
   "source": [
    "df_train = df_train.sample(frac=1).reset_index(drop=True)"
   ]
  },
  {
   "cell_type": "markdown",
   "metadata": {},
   "source": [
    "Sample of the resultant dataset which contains both positive and negative classes"
   ]
  },
  {
   "cell_type": "code",
   "execution_count": 8,
   "metadata": {
    "ExecuteTime": {
     "end_time": "2019-09-28T08:07:36.613555Z",
     "start_time": "2019-09-28T08:07:36.592282Z"
    }
   },
   "outputs": [
    {
     "data": {
      "text/html": [
       "<div>\n",
       "<style scoped>\n",
       "    .dataframe tbody tr th:only-of-type {\n",
       "        vertical-align: middle;\n",
       "    }\n",
       "\n",
       "    .dataframe tbody tr th {\n",
       "        vertical-align: top;\n",
       "    }\n",
       "\n",
       "    .dataframe thead th {\n",
       "        text-align: right;\n",
       "    }\n",
       "</style>\n",
       "<table border=\"1\" class=\"dataframe\">\n",
       "  <thead>\n",
       "    <tr style=\"text-align: right;\">\n",
       "      <th></th>\n",
       "      <th>source</th>\n",
       "      <th>destination</th>\n",
       "      <th>edge_exists</th>\n",
       "    </tr>\n",
       "  </thead>\n",
       "  <tbody>\n",
       "    <tr>\n",
       "      <td>0</td>\n",
       "      <td>1748054</td>\n",
       "      <td>464893</td>\n",
       "      <td>0</td>\n",
       "    </tr>\n",
       "    <tr>\n",
       "      <td>1</td>\n",
       "      <td>1151391</td>\n",
       "      <td>843274</td>\n",
       "      <td>0</td>\n",
       "    </tr>\n",
       "    <tr>\n",
       "      <td>2</td>\n",
       "      <td>961618</td>\n",
       "      <td>480610</td>\n",
       "      <td>0</td>\n",
       "    </tr>\n",
       "    <tr>\n",
       "      <td>3</td>\n",
       "      <td>589034</td>\n",
       "      <td>55429</td>\n",
       "      <td>0</td>\n",
       "    </tr>\n",
       "    <tr>\n",
       "      <td>4</td>\n",
       "      <td>1380182</td>\n",
       "      <td>987612</td>\n",
       "      <td>1</td>\n",
       "    </tr>\n",
       "    <tr>\n",
       "      <td>5</td>\n",
       "      <td>905992</td>\n",
       "      <td>1746011</td>\n",
       "      <td>0</td>\n",
       "    </tr>\n",
       "    <tr>\n",
       "      <td>6</td>\n",
       "      <td>427128</td>\n",
       "      <td>909328</td>\n",
       "      <td>1</td>\n",
       "    </tr>\n",
       "    <tr>\n",
       "      <td>7</td>\n",
       "      <td>483872</td>\n",
       "      <td>916638</td>\n",
       "      <td>1</td>\n",
       "    </tr>\n",
       "    <tr>\n",
       "      <td>8</td>\n",
       "      <td>883556</td>\n",
       "      <td>1753409</td>\n",
       "      <td>1</td>\n",
       "    </tr>\n",
       "    <tr>\n",
       "      <td>9</td>\n",
       "      <td>295599</td>\n",
       "      <td>1772113</td>\n",
       "      <td>1</td>\n",
       "    </tr>\n",
       "    <tr>\n",
       "      <td>10</td>\n",
       "      <td>1356166</td>\n",
       "      <td>229101</td>\n",
       "      <td>0</td>\n",
       "    </tr>\n",
       "    <tr>\n",
       "      <td>11</td>\n",
       "      <td>427948</td>\n",
       "      <td>1164733</td>\n",
       "      <td>1</td>\n",
       "    </tr>\n",
       "    <tr>\n",
       "      <td>12</td>\n",
       "      <td>14293</td>\n",
       "      <td>449894</td>\n",
       "      <td>0</td>\n",
       "    </tr>\n",
       "    <tr>\n",
       "      <td>13</td>\n",
       "      <td>1102570</td>\n",
       "      <td>982217</td>\n",
       "      <td>1</td>\n",
       "    </tr>\n",
       "    <tr>\n",
       "      <td>14</td>\n",
       "      <td>1358225</td>\n",
       "      <td>1422632</td>\n",
       "      <td>1</td>\n",
       "    </tr>\n",
       "    <tr>\n",
       "      <td>15</td>\n",
       "      <td>679233</td>\n",
       "      <td>1734939</td>\n",
       "      <td>0</td>\n",
       "    </tr>\n",
       "    <tr>\n",
       "      <td>16</td>\n",
       "      <td>38298</td>\n",
       "      <td>1003571</td>\n",
       "      <td>0</td>\n",
       "    </tr>\n",
       "    <tr>\n",
       "      <td>17</td>\n",
       "      <td>498070</td>\n",
       "      <td>526013</td>\n",
       "      <td>0</td>\n",
       "    </tr>\n",
       "    <tr>\n",
       "      <td>18</td>\n",
       "      <td>1424272</td>\n",
       "      <td>1818126</td>\n",
       "      <td>0</td>\n",
       "    </tr>\n",
       "    <tr>\n",
       "      <td>19</td>\n",
       "      <td>1466270</td>\n",
       "      <td>967768</td>\n",
       "      <td>0</td>\n",
       "    </tr>\n",
       "  </tbody>\n",
       "</table>\n",
       "</div>"
      ],
      "text/plain": [
       "     source  destination  edge_exists\n",
       "0   1748054       464893            0\n",
       "1   1151391       843274            0\n",
       "2    961618       480610            0\n",
       "3    589034        55429            0\n",
       "4   1380182       987612            1\n",
       "5    905992      1746011            0\n",
       "6    427128       909328            1\n",
       "7    483872       916638            1\n",
       "8    883556      1753409            1\n",
       "9    295599      1772113            1\n",
       "10  1356166       229101            0\n",
       "11   427948      1164733            1\n",
       "12    14293       449894            0\n",
       "13  1102570       982217            1\n",
       "14  1358225      1422632            1\n",
       "15   679233      1734939            0\n",
       "16    38298      1003571            0\n",
       "17   498070       526013            0\n",
       "18  1424272      1818126            0\n",
       "19  1466270       967768            0"
      ]
     },
     "execution_count": 8,
     "metadata": {},
     "output_type": "execute_result"
    }
   ],
   "source": [
    "df_train.head(20)"
   ]
  },
  {
   "cell_type": "markdown",
   "metadata": {},
   "source": [
    "Similarly, load test data and add the column edge_exists"
   ]
  },
  {
   "cell_type": "code",
   "execution_count": 9,
   "metadata": {
    "ExecuteTime": {
     "end_time": "2019-09-28T08:07:43.728680Z",
     "start_time": "2019-09-28T08:07:42.587341Z"
    }
   },
   "outputs": [],
   "source": [
    "df_Edge_test = pd.read_csv('./data/after_eda/test_pos_after_eda.csv', header=None)\n",
    "df_noEdge_test = pd.read_csv('./data/after_eda/test_neg_after_eda.csv', header=None)"
   ]
  },
  {
   "cell_type": "code",
   "execution_count": 10,
   "metadata": {
    "ExecuteTime": {
     "end_time": "2019-09-28T08:07:44.299226Z",
     "start_time": "2019-09-28T08:07:44.294156Z"
    }
   },
   "outputs": [
    {
     "data": {
      "text/plain": [
       "((1887504, 2), (1887504, 2))"
      ]
     },
     "execution_count": 10,
     "metadata": {},
     "output_type": "execute_result"
    }
   ],
   "source": [
    "df_Edge_test.shape, df_noEdge_test.shape"
   ]
  },
  {
   "cell_type": "code",
   "execution_count": 11,
   "metadata": {
    "ExecuteTime": {
     "end_time": "2019-09-28T08:07:48.213032Z",
     "start_time": "2019-09-28T08:07:48.076722Z"
    }
   },
   "outputs": [],
   "source": [
    "df_Edge_test.columns = ['source', 'destination']\n",
    "df_Edge_test['edge_exists'] = 1\n",
    "df_noEdge_test.columns = ['source', 'destination']\n",
    "df_noEdge_test['edge_exists'] = 0\n",
    "\n",
    "df_test = pd.concat([df_Edge_test, df_noEdge_test], axis=0)"
   ]
  },
  {
   "cell_type": "markdown",
   "metadata": {},
   "source": [
    "**Shuffle all rows**"
   ]
  },
  {
   "cell_type": "code",
   "execution_count": 12,
   "metadata": {
    "ExecuteTime": {
     "end_time": "2019-09-28T08:07:50.764854Z",
     "start_time": "2019-09-28T08:07:50.251435Z"
    }
   },
   "outputs": [],
   "source": [
    "df_test = df_test.sample(frac=1).reset_index(drop=True)"
   ]
  },
  {
   "cell_type": "code",
   "execution_count": 13,
   "metadata": {
    "ExecuteTime": {
     "end_time": "2019-09-28T08:07:52.422499Z",
     "start_time": "2019-09-28T08:07:52.412923Z"
    }
   },
   "outputs": [
    {
     "data": {
      "text/html": [
       "<div>\n",
       "<style scoped>\n",
       "    .dataframe tbody tr th:only-of-type {\n",
       "        vertical-align: middle;\n",
       "    }\n",
       "\n",
       "    .dataframe tbody tr th {\n",
       "        vertical-align: top;\n",
       "    }\n",
       "\n",
       "    .dataframe thead th {\n",
       "        text-align: right;\n",
       "    }\n",
       "</style>\n",
       "<table border=\"1\" class=\"dataframe\">\n",
       "  <thead>\n",
       "    <tr style=\"text-align: right;\">\n",
       "      <th></th>\n",
       "      <th>source</th>\n",
       "      <th>destination</th>\n",
       "      <th>edge_exists</th>\n",
       "    </tr>\n",
       "  </thead>\n",
       "  <tbody>\n",
       "    <tr>\n",
       "      <td>0</td>\n",
       "      <td>1105846</td>\n",
       "      <td>606770</td>\n",
       "      <td>0</td>\n",
       "    </tr>\n",
       "    <tr>\n",
       "      <td>1</td>\n",
       "      <td>1369115</td>\n",
       "      <td>86374</td>\n",
       "      <td>0</td>\n",
       "    </tr>\n",
       "    <tr>\n",
       "      <td>2</td>\n",
       "      <td>1381420</td>\n",
       "      <td>1034454</td>\n",
       "      <td>1</td>\n",
       "    </tr>\n",
       "    <tr>\n",
       "      <td>3</td>\n",
       "      <td>225532</td>\n",
       "      <td>1618749</td>\n",
       "      <td>1</td>\n",
       "    </tr>\n",
       "    <tr>\n",
       "      <td>4</td>\n",
       "      <td>1741219</td>\n",
       "      <td>1501190</td>\n",
       "      <td>0</td>\n",
       "    </tr>\n",
       "    <tr>\n",
       "      <td>5</td>\n",
       "      <td>1421676</td>\n",
       "      <td>1544558</td>\n",
       "      <td>1</td>\n",
       "    </tr>\n",
       "    <tr>\n",
       "      <td>6</td>\n",
       "      <td>45998</td>\n",
       "      <td>917432</td>\n",
       "      <td>1</td>\n",
       "    </tr>\n",
       "    <tr>\n",
       "      <td>7</td>\n",
       "      <td>884424</td>\n",
       "      <td>51258</td>\n",
       "      <td>0</td>\n",
       "    </tr>\n",
       "    <tr>\n",
       "      <td>8</td>\n",
       "      <td>936038</td>\n",
       "      <td>1499437</td>\n",
       "      <td>1</td>\n",
       "    </tr>\n",
       "    <tr>\n",
       "      <td>9</td>\n",
       "      <td>717126</td>\n",
       "      <td>1413404</td>\n",
       "      <td>0</td>\n",
       "    </tr>\n",
       "    <tr>\n",
       "      <td>10</td>\n",
       "      <td>105298</td>\n",
       "      <td>421980</td>\n",
       "      <td>0</td>\n",
       "    </tr>\n",
       "    <tr>\n",
       "      <td>11</td>\n",
       "      <td>1446931</td>\n",
       "      <td>505077</td>\n",
       "      <td>0</td>\n",
       "    </tr>\n",
       "    <tr>\n",
       "      <td>12</td>\n",
       "      <td>1374917</td>\n",
       "      <td>1523524</td>\n",
       "      <td>0</td>\n",
       "    </tr>\n",
       "    <tr>\n",
       "      <td>13</td>\n",
       "      <td>491660</td>\n",
       "      <td>893530</td>\n",
       "      <td>0</td>\n",
       "    </tr>\n",
       "    <tr>\n",
       "      <td>14</td>\n",
       "      <td>1324441</td>\n",
       "      <td>1672436</td>\n",
       "      <td>0</td>\n",
       "    </tr>\n",
       "    <tr>\n",
       "      <td>15</td>\n",
       "      <td>872295</td>\n",
       "      <td>344799</td>\n",
       "      <td>1</td>\n",
       "    </tr>\n",
       "    <tr>\n",
       "      <td>16</td>\n",
       "      <td>481548</td>\n",
       "      <td>461723</td>\n",
       "      <td>1</td>\n",
       "    </tr>\n",
       "    <tr>\n",
       "      <td>17</td>\n",
       "      <td>310397</td>\n",
       "      <td>1218156</td>\n",
       "      <td>0</td>\n",
       "    </tr>\n",
       "    <tr>\n",
       "      <td>18</td>\n",
       "      <td>1733403</td>\n",
       "      <td>172047</td>\n",
       "      <td>0</td>\n",
       "    </tr>\n",
       "    <tr>\n",
       "      <td>19</td>\n",
       "      <td>1176493</td>\n",
       "      <td>918293</td>\n",
       "      <td>1</td>\n",
       "    </tr>\n",
       "  </tbody>\n",
       "</table>\n",
       "</div>"
      ],
      "text/plain": [
       "     source  destination  edge_exists\n",
       "0   1105846       606770            0\n",
       "1   1369115        86374            0\n",
       "2   1381420      1034454            1\n",
       "3    225532      1618749            1\n",
       "4   1741219      1501190            0\n",
       "5   1421676      1544558            1\n",
       "6     45998       917432            1\n",
       "7    884424        51258            0\n",
       "8    936038      1499437            1\n",
       "9    717126      1413404            0\n",
       "10   105298       421980            0\n",
       "11  1446931       505077            0\n",
       "12  1374917      1523524            0\n",
       "13   491660       893530            0\n",
       "14  1324441      1672436            0\n",
       "15   872295       344799            1\n",
       "16   481548       461723            1\n",
       "17   310397      1218156            0\n",
       "18  1733403       172047            0\n",
       "19  1176493       918293            1"
      ]
     },
     "execution_count": 13,
     "metadata": {},
     "output_type": "execute_result"
    }
   ],
   "source": [
    "df_test.head(20)"
   ]
  },
  {
   "cell_type": "markdown",
   "metadata": {},
   "source": [
    "# Create a graph from the training data\n",
    "\n",
    "To avoid data leakage, we must use the graph built only on the training data."
   ]
  },
  {
   "cell_type": "code",
   "execution_count": 4,
   "metadata": {
    "ExecuteTime": {
     "end_time": "2019-09-29T15:18:13.653408Z",
     "start_time": "2019-09-29T15:17:12.340938Z"
    }
   },
   "outputs": [
    {
     "name": "stdout",
     "output_type": "stream",
     "text": [
      "Name: \n",
      "Type: DiGraph\n",
      "Number of nodes: 1780722\n",
      "Number of edges: 7550015\n",
      "Average in degree:   4.2399\n",
      "Average out degree:   4.2399\n"
     ]
    }
   ],
   "source": [
    "g_train = nx.read_edgelist('./data/after_eda/train_pos_after_eda.csv',\n",
    "                               delimiter=',', create_using=nx.DiGraph(), nodetype=int)\n",
    "print(nx.info(g_train))"
   ]
  },
  {
   "cell_type": "markdown",
   "metadata": {},
   "source": [
    "# Feature Engineering  \n",
    "\n",
    "So far, We've added new edges to the data such that class 0 (no edge) and class 1 (edge) have equal, 50-50 representation. But there's nothing in the data yet from which a ML model could *learn*. In the following sections, we will create some features which will add information to this raw data.\n",
    "\n",
    "## 1. Jaccard coefficient for followers and followees\n",
    "\n",
    "The Jaccard coefficient measures similarity between finite sample sets, and is defined as the size of the intersection divided by the size of the union of the sample sets:\n",
    "\n",
    "![](https://wikimedia.org/api/rest_v1/media/math/render/svg/eaef5aa86949f49e7dc6b9c8c3dd8b233332c9e7)\n",
    "\n",
    "For our data, this means intersection of following/followers divided by union of following/followers. Let's create functions to calculate these values."
   ]
  },
  {
   "cell_type": "code",
   "execution_count": 16,
   "metadata": {
    "ExecuteTime": {
     "end_time": "2019-09-28T08:10:25.012971Z",
     "start_time": "2019-09-28T08:10:25.008579Z"
    }
   },
   "outputs": [
    {
     "data": {
      "text/plain": [
       "networkx.classes.digraph.DiGraph"
      ]
     },
     "execution_count": 16,
     "metadata": {},
     "output_type": "execute_result"
    }
   ],
   "source": [
    "type(g_train)"
   ]
  },
  {
   "cell_type": "code",
   "execution_count": 17,
   "metadata": {
    "ExecuteTime": {
     "end_time": "2019-09-28T08:10:36.512531Z",
     "start_time": "2019-09-28T08:10:36.504280Z"
    }
   },
   "outputs": [],
   "source": [
    "# for followees\n",
    "def jaccard_for_followees(a, b):\n",
    "    try:\n",
    "        if len(set(g_train.successors(a))) == 0 | len(set(g_train.successors(b))) == 0:\n",
    "            return 0\n",
    "        sim = (len(set(g_train.successors(a)).intersection(set(g_train.successors(b))))) /\\\n",
    "            (len(set(g_train.successors(a)).union(set(g_train.successors(b)))))\n",
    "    except:\n",
    "        return 0\n",
    "    return sim\n",
    "\n",
    "\n",
    "# for followers\n",
    "def jaccard_for_followers(a, b):\n",
    "    try:\n",
    "        if len(set(g_train.predecessors(a))) == 0 | len(set(g_train.predecessors(b))) == 0:\n",
    "            return 0\n",
    "        sim = (len(set(g_train.predecessors(a)).intersection(set(g_train.predecessors(b))))) /\\\n",
    "            (len(set(g_train.predecessors(a)).union(set(g_train.predecessors(b)))))\n",
    "        return sim\n",
    "    except:\n",
    "        return 0"
   ]
  },
  {
   "cell_type": "markdown",
   "metadata": {},
   "source": [
    "**Jaccard coefficient for followers**"
   ]
  },
  {
   "cell_type": "code",
   "execution_count": 18,
   "metadata": {
    "ExecuteTime": {
     "end_time": "2019-09-28T08:24:40.028986Z",
     "start_time": "2019-09-28T08:11:10.017372Z"
    }
   },
   "outputs": [
    {
     "name": "stderr",
     "output_type": "stream",
     "text": [
      "100%|██████████| 15100030/15100030 [10:49<00:00, 23253.52it/s]\n",
      "100%|██████████| 3775008/3775008 [02:40<00:00, 23510.41it/s]\n"
     ]
    },
    {
     "data": {
      "application/javascript": [
       "$(document).ready(\n",
       "    function() {\n",
       "        function appendUniqueDiv(){\n",
       "            // append a div with our uuid so we can check that it's already\n",
       "            // been sent and avoid duplicates on page reload\n",
       "            var notifiedDiv = document.createElement(\"div\")\n",
       "            notifiedDiv.id = \"9ded9f86-c910-4459-907c-b5086e3f40da\"\n",
       "            element.append(notifiedDiv)\n",
       "        }\n",
       "\n",
       "        // only send notifications if the pageload is complete; this will\n",
       "        // help stop extra notifications when a saved notebook is loaded,\n",
       "        // which during testing gives us state \"interactive\", not \"complete\"\n",
       "        if (document.readyState === 'complete') {\n",
       "            // check for the div that signifies that the notification\n",
       "            // was already sent\n",
       "            if (document.getElementById(\"9ded9f86-c910-4459-907c-b5086e3f40da\") === null) {\n",
       "                var notificationPayload = {\"requireInteraction\": false, \"body\": \"Cell execution has finished!\", \"icon\": \"/static/base/images/favicon.ico\"};\n",
       "                if (Notification.permission !== 'denied') {\n",
       "                    if (Notification.permission !== 'granted') { \n",
       "                        Notification.requestPermission(function (permission) {\n",
       "                            if(!('permission' in Notification)) {\n",
       "                                Notification.permission = permission\n",
       "                            }\n",
       "                        })\n",
       "                    }\n",
       "                    if (Notification.permission === 'granted') {\n",
       "                    var notification = new Notification(\"Jupyter Notebook\", notificationPayload)\n",
       "                    appendUniqueDiv()\n",
       "                    notification.onclick = function () {\n",
       "                        window.focus();\n",
       "                        this.close();\n",
       "                        };\n",
       "                    } \n",
       "                }     \n",
       "            }\n",
       "        }\n",
       "    }\n",
       ")\n"
      ],
      "text/plain": [
       "<IPython.core.display.Javascript object>"
      ]
     },
     "metadata": {},
     "output_type": "display_data"
    }
   ],
   "source": [
    "%%notify\n",
    "\n",
    "df_train['jaccard_followers'] = df_train.progress_apply(lambda row:\n",
    "                                                        jaccard_for_followers(row['source'],\n",
    "                                                                              row['destination']), axis=1)\n",
    "\n",
    "df_test['jaccard_followers'] = df_test.progress_apply(lambda row:\n",
    "                                                      jaccard_for_followers(row['source'],\n",
    "                                                                            row['destination']), axis=1)"
   ]
  },
  {
   "cell_type": "markdown",
   "metadata": {},
   "source": [
    "**Jaccard coefficient for followees**"
   ]
  },
  {
   "cell_type": "code",
   "execution_count": 23,
   "metadata": {
    "ExecuteTime": {
     "end_time": "2019-09-28T08:39:52.699310Z",
     "start_time": "2019-09-28T08:25:59.270974Z"
    }
   },
   "outputs": [
    {
     "name": "stderr",
     "output_type": "stream",
     "text": [
      "100%|██████████| 15100030/15100030 [11:06<00:00, 22641.56it/s]\n",
      "100%|██████████| 3775008/3775008 [02:46<00:00, 22680.52it/s]\n"
     ]
    },
    {
     "data": {
      "application/javascript": [
       "$(document).ready(\n",
       "    function() {\n",
       "        function appendUniqueDiv(){\n",
       "            // append a div with our uuid so we can check that it's already\n",
       "            // been sent and avoid duplicates on page reload\n",
       "            var notifiedDiv = document.createElement(\"div\")\n",
       "            notifiedDiv.id = \"94fe882c-a5c6-4e28-85ab-2ade6b93166b\"\n",
       "            element.append(notifiedDiv)\n",
       "        }\n",
       "\n",
       "        // only send notifications if the pageload is complete; this will\n",
       "        // help stop extra notifications when a saved notebook is loaded,\n",
       "        // which during testing gives us state \"interactive\", not \"complete\"\n",
       "        if (document.readyState === 'complete') {\n",
       "            // check for the div that signifies that the notification\n",
       "            // was already sent\n",
       "            if (document.getElementById(\"94fe882c-a5c6-4e28-85ab-2ade6b93166b\") === null) {\n",
       "                var notificationPayload = {\"requireInteraction\": false, \"body\": \"Cell execution has finished!\", \"icon\": \"/static/base/images/favicon.ico\"};\n",
       "                if (Notification.permission !== 'denied') {\n",
       "                    if (Notification.permission !== 'granted') { \n",
       "                        Notification.requestPermission(function (permission) {\n",
       "                            if(!('permission' in Notification)) {\n",
       "                                Notification.permission = permission\n",
       "                            }\n",
       "                        })\n",
       "                    }\n",
       "                    if (Notification.permission === 'granted') {\n",
       "                    var notification = new Notification(\"Jupyter Notebook\", notificationPayload)\n",
       "                    appendUniqueDiv()\n",
       "                    notification.onclick = function () {\n",
       "                        window.focus();\n",
       "                        this.close();\n",
       "                        };\n",
       "                    } \n",
       "                }     \n",
       "            }\n",
       "        }\n",
       "    }\n",
       ")\n"
      ],
      "text/plain": [
       "<IPython.core.display.Javascript object>"
      ]
     },
     "metadata": {},
     "output_type": "display_data"
    }
   ],
   "source": [
    "%%notify\n",
    "\n",
    "# mapping jaccard followees to train and test data\n",
    "df_train['jaccard_followees'] = df_train.progress_apply(lambda row:\n",
    "                                               jaccard_for_followees(row['source'], row['destination']), axis=1)\n",
    "df_test['jaccard_followees'] = df_test.progress_apply(lambda row:\n",
    "                                             jaccard_for_followees(row['source'], row['destination']), axis=1)"
   ]
  },
  {
   "cell_type": "markdown",
   "metadata": {},
   "source": [
    "Save the dataframes back to the disk."
   ]
  },
  {
   "cell_type": "code",
   "execution_count": 38,
   "metadata": {
    "ExecuteTime": {
     "end_time": "2019-09-28T09:25:50.944648Z",
     "start_time": "2019-09-28T09:23:06.716199Z"
    }
   },
   "outputs": [
    {
     "data": {
      "application/javascript": [
       "$(document).ready(\n",
       "    function() {\n",
       "        function appendUniqueDiv(){\n",
       "            // append a div with our uuid so we can check that it's already\n",
       "            // been sent and avoid duplicates on page reload\n",
       "            var notifiedDiv = document.createElement(\"div\")\n",
       "            notifiedDiv.id = \"652124f6-f61f-4cfe-a1a8-2ba392168713\"\n",
       "            element.append(notifiedDiv)\n",
       "        }\n",
       "\n",
       "        // only send notifications if the pageload is complete; this will\n",
       "        // help stop extra notifications when a saved notebook is loaded,\n",
       "        // which during testing gives us state \"interactive\", not \"complete\"\n",
       "        if (document.readyState === 'complete') {\n",
       "            // check for the div that signifies that the notification\n",
       "            // was already sent\n",
       "            if (document.getElementById(\"652124f6-f61f-4cfe-a1a8-2ba392168713\") === null) {\n",
       "                var notificationPayload = {\"requireInteraction\": false, \"body\": \"Cell execution has finished!\", \"icon\": \"/static/base/images/favicon.ico\"};\n",
       "                if (Notification.permission !== 'denied') {\n",
       "                    if (Notification.permission !== 'granted') { \n",
       "                        Notification.requestPermission(function (permission) {\n",
       "                            if(!('permission' in Notification)) {\n",
       "                                Notification.permission = permission\n",
       "                            }\n",
       "                        })\n",
       "                    }\n",
       "                    if (Notification.permission === 'granted') {\n",
       "                    var notification = new Notification(\"Jupyter Notebook\", notificationPayload)\n",
       "                    appendUniqueDiv()\n",
       "                    notification.onclick = function () {\n",
       "                        window.focus();\n",
       "                        this.close();\n",
       "                        };\n",
       "                    } \n",
       "                }     \n",
       "            }\n",
       "        }\n",
       "    }\n",
       ")\n"
      ],
      "text/plain": [
       "<IPython.core.display.Javascript object>"
      ]
     },
     "metadata": {},
     "output_type": "display_data"
    }
   ],
   "source": [
    "%%notify\n",
    "df_train.to_csv('df_train_partial.csv', index=False)\n",
    "df_test.to_csv('df_test_partial.csv', index=False)"
   ]
  },
  {
   "cell_type": "markdown",
   "metadata": {},
   "source": [
    "## 2. Cosine similarity for followers and followees\n",
    "\n",
    "We'll use a different variant of the cosine similarity called \"Otsuka-Ochiai coefficient\", which is defined as\n",
    "\n",
    "![](https://wikimedia.org/api/rest_v1/media/math/render/svg/ad3bea56ed57c8e02ec743821f22efdc0ec5e9f4)"
   ]
  },
  {
   "cell_type": "code",
   "execution_count": 28,
   "metadata": {
    "ExecuteTime": {
     "end_time": "2019-09-28T08:43:40.709532Z",
     "start_time": "2019-09-28T08:43:40.700812Z"
    }
   },
   "outputs": [],
   "source": [
    "# for followees\n",
    "def cosine_for_followees(a, b):\n",
    "    try:\n",
    "        if len(set(g_train.successors(a))) == 0 | len(set(g_train.successors(b))) == 0:\n",
    "            return 0\n",
    "        sim = (len(set(g_train.successors(a)).intersection(set(g_train.successors(b))))) /\\\n",
    "            (math.sqrt(len(set(g_train.successors(a)))\n",
    "                       * len((set(g_train.successors(b))))))\n",
    "        return sim\n",
    "    except:\n",
    "        return 0\n",
    "\n",
    "\n",
    "def cosine_for_followers(a, b):\n",
    "    try:\n",
    "\n",
    "        if len(set(g_train.predecessors(a))) == 0 | len(set(g_train.predecessors(b))) == 0:\n",
    "            return 0\n",
    "        sim = (len(set(g_train.predecessors(a)).intersection(set(g_train.predecessors(b))))) /\\\n",
    "            (math.sqrt(len(set(g_train.predecessors(a))))\n",
    "             * (len(set(g_train.predecessors(b)))))\n",
    "        return sim\n",
    "    except:\n",
    "        return 0"
   ]
  },
  {
   "cell_type": "code",
   "execution_count": 29,
   "metadata": {
    "ExecuteTime": {
     "end_time": "2019-09-28T08:56:30.381564Z",
     "start_time": "2019-09-28T08:43:56.984456Z"
    }
   },
   "outputs": [
    {
     "name": "stderr",
     "output_type": "stream",
     "text": [
      "100%|██████████| 15100030/15100030 [10:05<00:00, 24944.30it/s]\n",
      "100%|██████████| 3775008/3775008 [02:27<00:00, 25510.69it/s]\n"
     ]
    },
    {
     "data": {
      "application/javascript": [
       "$(document).ready(\n",
       "    function() {\n",
       "        function appendUniqueDiv(){\n",
       "            // append a div with our uuid so we can check that it's already\n",
       "            // been sent and avoid duplicates on page reload\n",
       "            var notifiedDiv = document.createElement(\"div\")\n",
       "            notifiedDiv.id = \"e84104ed-7168-4eed-84d7-f6aad595ab77\"\n",
       "            element.append(notifiedDiv)\n",
       "        }\n",
       "\n",
       "        // only send notifications if the pageload is complete; this will\n",
       "        // help stop extra notifications when a saved notebook is loaded,\n",
       "        // which during testing gives us state \"interactive\", not \"complete\"\n",
       "        if (document.readyState === 'complete') {\n",
       "            // check for the div that signifies that the notification\n",
       "            // was already sent\n",
       "            if (document.getElementById(\"e84104ed-7168-4eed-84d7-f6aad595ab77\") === null) {\n",
       "                var notificationPayload = {\"requireInteraction\": false, \"body\": \"Cell execution has finished!\", \"icon\": \"/static/base/images/favicon.ico\"};\n",
       "                if (Notification.permission !== 'denied') {\n",
       "                    if (Notification.permission !== 'granted') { \n",
       "                        Notification.requestPermission(function (permission) {\n",
       "                            if(!('permission' in Notification)) {\n",
       "                                Notification.permission = permission\n",
       "                            }\n",
       "                        })\n",
       "                    }\n",
       "                    if (Notification.permission === 'granted') {\n",
       "                    var notification = new Notification(\"Jupyter Notebook\", notificationPayload)\n",
       "                    appendUniqueDiv()\n",
       "                    notification.onclick = function () {\n",
       "                        window.focus();\n",
       "                        this.close();\n",
       "                        };\n",
       "                    } \n",
       "                }     \n",
       "            }\n",
       "        }\n",
       "    }\n",
       ")\n"
      ],
      "text/plain": [
       "<IPython.core.display.Javascript object>"
      ]
     },
     "metadata": {},
     "output_type": "display_data"
    }
   ],
   "source": [
    "%%notify\n",
    "\n",
    "df_train['cosine_followers'] = df_train.progress_apply(lambda row:\n",
    "                                              cosine_for_followers(row['source'], row['destination']), axis=1)\n",
    "df_test['cosine_followers'] = df_test.progress_apply(lambda row:\n",
    "                                            cosine_for_followers(row['source'], row['destination']), axis=1)"
   ]
  },
  {
   "cell_type": "code",
   "execution_count": 31,
   "metadata": {
    "ExecuteTime": {
     "end_time": "2019-09-28T09:09:44.939373Z",
     "start_time": "2019-09-28T08:57:08.176942Z"
    }
   },
   "outputs": [
    {
     "name": "stderr",
     "output_type": "stream",
     "text": [
      "100%|██████████| 15100030/15100030 [10:06<00:00, 24914.49it/s]\n",
      "100%|██████████| 3775008/3775008 [02:30<00:00, 25063.19it/s]\n"
     ]
    },
    {
     "data": {
      "application/javascript": [
       "$(document).ready(\n",
       "    function() {\n",
       "        function appendUniqueDiv(){\n",
       "            // append a div with our uuid so we can check that it's already\n",
       "            // been sent and avoid duplicates on page reload\n",
       "            var notifiedDiv = document.createElement(\"div\")\n",
       "            notifiedDiv.id = \"a5aaee79-6a2f-42b1-842e-ff87a6ced872\"\n",
       "            element.append(notifiedDiv)\n",
       "        }\n",
       "\n",
       "        // only send notifications if the pageload is complete; this will\n",
       "        // help stop extra notifications when a saved notebook is loaded,\n",
       "        // which during testing gives us state \"interactive\", not \"complete\"\n",
       "        if (document.readyState === 'complete') {\n",
       "            // check for the div that signifies that the notification\n",
       "            // was already sent\n",
       "            if (document.getElementById(\"a5aaee79-6a2f-42b1-842e-ff87a6ced872\") === null) {\n",
       "                var notificationPayload = {\"requireInteraction\": false, \"body\": \"Cell execution has finished!\", \"icon\": \"/static/base/images/favicon.ico\"};\n",
       "                if (Notification.permission !== 'denied') {\n",
       "                    if (Notification.permission !== 'granted') { \n",
       "                        Notification.requestPermission(function (permission) {\n",
       "                            if(!('permission' in Notification)) {\n",
       "                                Notification.permission = permission\n",
       "                            }\n",
       "                        })\n",
       "                    }\n",
       "                    if (Notification.permission === 'granted') {\n",
       "                    var notification = new Notification(\"Jupyter Notebook\", notificationPayload)\n",
       "                    appendUniqueDiv()\n",
       "                    notification.onclick = function () {\n",
       "                        window.focus();\n",
       "                        this.close();\n",
       "                        };\n",
       "                    } \n",
       "                }     \n",
       "            }\n",
       "        }\n",
       "    }\n",
       ")\n"
      ],
      "text/plain": [
       "<IPython.core.display.Javascript object>"
      ]
     },
     "metadata": {},
     "output_type": "display_data"
    }
   ],
   "source": [
    "%%notify\n",
    "\n",
    "df_train['cosine_followees'] = df_train.progress_apply(lambda row:\n",
    "                                        cosine_for_followees(row['source'],row['destination']),axis=1)\n",
    "df_test['cosine_followees'] = df_test.progress_apply(lambda row:\n",
    "                                        cosine_for_followees(row['source'],row['destination']),axis=1)"
   ]
  },
  {
   "cell_type": "code",
   "execution_count": 18,
   "metadata": {
    "ExecuteTime": {
     "end_time": "2019-09-28T13:43:44.843291Z",
     "start_time": "2019-09-28T13:39:30.318725Z"
    }
   },
   "outputs": [
    {
     "data": {
      "application/javascript": [
       "$(document).ready(\n",
       "    function() {\n",
       "        function appendUniqueDiv(){\n",
       "            // append a div with our uuid so we can check that it's already\n",
       "            // been sent and avoid duplicates on page reload\n",
       "            var notifiedDiv = document.createElement(\"div\")\n",
       "            notifiedDiv.id = \"776e5be5-9be6-484f-a295-8d5e2097617e\"\n",
       "            element.append(notifiedDiv)\n",
       "        }\n",
       "\n",
       "        // only send notifications if the pageload is complete; this will\n",
       "        // help stop extra notifications when a saved notebook is loaded,\n",
       "        // which during testing gives us state \"interactive\", not \"complete\"\n",
       "        if (document.readyState === 'complete') {\n",
       "            // check for the div that signifies that the notification\n",
       "            // was already sent\n",
       "            if (document.getElementById(\"776e5be5-9be6-484f-a295-8d5e2097617e\") === null) {\n",
       "                var notificationPayload = {\"icon\": \"/static/base/images/favicon.ico\", \"body\": \"Cell execution has finished!\", \"requireInteraction\": false};\n",
       "                if (Notification.permission !== 'denied') {\n",
       "                    if (Notification.permission !== 'granted') { \n",
       "                        Notification.requestPermission(function (permission) {\n",
       "                            if(!('permission' in Notification)) {\n",
       "                                Notification.permission = permission\n",
       "                            }\n",
       "                        })\n",
       "                    }\n",
       "                    if (Notification.permission === 'granted') {\n",
       "                    var notification = new Notification(\"Jupyter Notebook\", notificationPayload)\n",
       "                    appendUniqueDiv()\n",
       "                    notification.onclick = function () {\n",
       "                        window.focus();\n",
       "                        this.close();\n",
       "                        };\n",
       "                    } \n",
       "                }     \n",
       "            }\n",
       "        }\n",
       "    }\n",
       ")\n"
      ],
      "text/plain": [
       "<IPython.core.display.Javascript object>"
      ]
     },
     "metadata": {},
     "output_type": "display_data"
    }
   ],
   "source": [
    "%%notify\n",
    "df_train.to_csv('df_train_partial.csv', index=False)\n",
    "df_test.to_csv('df_test_partial.csv', index=False)"
   ]
  },
  {
   "cell_type": "markdown",
   "metadata": {},
   "source": [
    "## 3. Follows back\n",
    "\n",
    "This feature checks whether the destination node is following the source node."
   ]
  },
  {
   "cell_type": "code",
   "execution_count": 33,
   "metadata": {
    "ExecuteTime": {
     "end_time": "2019-09-28T09:12:49.059683Z",
     "start_time": "2019-09-28T09:12:49.055909Z"
    }
   },
   "outputs": [],
   "source": [
    "def follows_back(a,b):\n",
    "    \n",
    "    if g_train.has_edge(b,a):\n",
    "        return 1\n",
    "    else:\n",
    "        return 0"
   ]
  },
  {
   "cell_type": "code",
   "execution_count": 35,
   "metadata": {
    "ExecuteTime": {
     "end_time": "2019-09-28T09:22:24.740284Z",
     "start_time": "2019-09-28T09:14:11.148939Z"
    }
   },
   "outputs": [
    {
     "name": "stderr",
     "output_type": "stream",
     "text": [
      "100%|██████████| 15100030/15100030 [06:35<00:00, 38227.73it/s]\n",
      "100%|██████████| 3775008/3775008 [01:38<00:00, 38316.82it/s]\n"
     ]
    },
    {
     "data": {
      "application/javascript": [
       "$(document).ready(\n",
       "    function() {\n",
       "        function appendUniqueDiv(){\n",
       "            // append a div with our uuid so we can check that it's already\n",
       "            // been sent and avoid duplicates on page reload\n",
       "            var notifiedDiv = document.createElement(\"div\")\n",
       "            notifiedDiv.id = \"0804bd79-fdf4-407f-bbcc-2e47cc0b59ae\"\n",
       "            element.append(notifiedDiv)\n",
       "        }\n",
       "\n",
       "        // only send notifications if the pageload is complete; this will\n",
       "        // help stop extra notifications when a saved notebook is loaded,\n",
       "        // which during testing gives us state \"interactive\", not \"complete\"\n",
       "        if (document.readyState === 'complete') {\n",
       "            // check for the div that signifies that the notification\n",
       "            // was already sent\n",
       "            if (document.getElementById(\"0804bd79-fdf4-407f-bbcc-2e47cc0b59ae\") === null) {\n",
       "                var notificationPayload = {\"requireInteraction\": false, \"body\": \"Cell execution has finished!\", \"icon\": \"/static/base/images/favicon.ico\"};\n",
       "                if (Notification.permission !== 'denied') {\n",
       "                    if (Notification.permission !== 'granted') { \n",
       "                        Notification.requestPermission(function (permission) {\n",
       "                            if(!('permission' in Notification)) {\n",
       "                                Notification.permission = permission\n",
       "                            }\n",
       "                        })\n",
       "                    }\n",
       "                    if (Notification.permission === 'granted') {\n",
       "                    var notification = new Notification(\"Jupyter Notebook\", notificationPayload)\n",
       "                    appendUniqueDiv()\n",
       "                    notification.onclick = function () {\n",
       "                        window.focus();\n",
       "                        this.close();\n",
       "                        };\n",
       "                    } \n",
       "                }     \n",
       "            }\n",
       "        }\n",
       "    }\n",
       ")\n"
      ],
      "text/plain": [
       "<IPython.core.display.Javascript object>"
      ]
     },
     "metadata": {},
     "output_type": "display_data"
    }
   ],
   "source": [
    "%%notify\n",
    "\n",
    "df_train['follows_back'] = df_train.progress_apply(\n",
    "    lambda row: follows_back(row['source'], row['destination']), axis=1)\n",
    "\n",
    "# mapping followback or not on test\n",
    "df_test['follows_back'] = df_test.progress_apply(\n",
    "    lambda row: follows_back(row['source'], row['destination']), axis=1)"
   ]
  },
  {
   "cell_type": "markdown",
   "metadata": {},
   "source": [
    "## 4. shortest path\n",
    "\n",
    "This feature stores the shortest path between the source and destination. Shorter the distance, more the chance of two nodes getting connected in the future"
   ]
  },
  {
   "cell_type": "code",
   "execution_count": 6,
   "metadata": {
    "ExecuteTime": {
     "end_time": "2019-09-28T15:48:57.545993Z",
     "start_time": "2019-09-28T15:48:57.534580Z"
    }
   },
   "outputs": [],
   "source": [
    "#if has direct edge then deleting that edge and calculating shortest path\n",
    "import copy\n",
    "g_ = copy.deepcopy(g_train)\n",
    "\n",
    "def compute_shortest_path_length(a, b):\n",
    "    p = -1\n",
    "\n",
    "    try:\n",
    "        if g_.has_edge(a, b):\n",
    "            g_.remove_edge(a, b)\n",
    "            p = nx.shortest_path_length(g_, source=a, target=b)\n",
    "            g_.add_edge(a, b)\n",
    "        else:\n",
    "            p = nx.shortest_path_length(g_, source=a, target=b)\n",
    "        return p\n",
    "    except:\n",
    "        return -1"
   ]
  },
  {
   "cell_type": "code",
   "execution_count": 5,
   "metadata": {
    "ExecuteTime": {
     "end_time": "2019-09-29T15:20:47.910647Z",
     "start_time": "2019-09-29T15:18:13.655370Z"
    }
   },
   "outputs": [],
   "source": [
    "df_train = pd.read_csv('df_train_partial.csv')\n",
    "df_test = pd.read_csv('df_test_partial.csv')"
   ]
  },
  {
   "cell_type": "code",
   "execution_count": 12,
   "metadata": {
    "ExecuteTime": {
     "end_time": "2019-09-28T13:27:37.906560Z",
     "start_time": "2019-09-28T09:47:30.869993Z"
    }
   },
   "outputs": [
    {
     "name": "stderr",
     "output_type": "stream",
     "text": [
      "100%|██████████| 15100030/15100030 [3:10:11<00:00, 1323.26it/s]  \n",
      "100%|██████████| 3775008/3775008 [29:55<00:00, 2102.25it/s]\n"
     ]
    },
    {
     "data": {
      "application/javascript": [
       "$(document).ready(\n",
       "    function() {\n",
       "        function appendUniqueDiv(){\n",
       "            // append a div with our uuid so we can check that it's already\n",
       "            // been sent and avoid duplicates on page reload\n",
       "            var notifiedDiv = document.createElement(\"div\")\n",
       "            notifiedDiv.id = \"5cd860bc-d45f-4b5c-ac02-be0d90e5975d\"\n",
       "            element.append(notifiedDiv)\n",
       "        }\n",
       "\n",
       "        // only send notifications if the pageload is complete; this will\n",
       "        // help stop extra notifications when a saved notebook is loaded,\n",
       "        // which during testing gives us state \"interactive\", not \"complete\"\n",
       "        if (document.readyState === 'complete') {\n",
       "            // check for the div that signifies that the notification\n",
       "            // was already sent\n",
       "            if (document.getElementById(\"5cd860bc-d45f-4b5c-ac02-be0d90e5975d\") === null) {\n",
       "                var notificationPayload = {\"icon\": \"/static/base/images/favicon.ico\", \"body\": \"Cell execution has finished!\", \"requireInteraction\": false};\n",
       "                if (Notification.permission !== 'denied') {\n",
       "                    if (Notification.permission !== 'granted') { \n",
       "                        Notification.requestPermission(function (permission) {\n",
       "                            if(!('permission' in Notification)) {\n",
       "                                Notification.permission = permission\n",
       "                            }\n",
       "                        })\n",
       "                    }\n",
       "                    if (Notification.permission === 'granted') {\n",
       "                    var notification = new Notification(\"Jupyter Notebook\", notificationPayload)\n",
       "                    appendUniqueDiv()\n",
       "                    notification.onclick = function () {\n",
       "                        window.focus();\n",
       "                        this.close();\n",
       "                        };\n",
       "                    } \n",
       "                }     \n",
       "            }\n",
       "        }\n",
       "    }\n",
       ")\n"
      ],
      "text/plain": [
       "<IPython.core.display.Javascript object>"
      ]
     },
     "metadata": {},
     "output_type": "display_data"
    }
   ],
   "source": [
    "%%notify\n",
    "\n",
    "# mapping shortest path on train\n",
    "df_train['shortest_path'] = df_train.progress_apply(\n",
    "    lambda row: compute_shortest_path_length(row['source'], row['destination']), axis=1)\n",
    "\n",
    "# mapping shortest path on test\n",
    "df_test['shortest_path'] = df_test.progress_apply(\n",
    "    lambda row: compute_shortest_path_length(row['source'], row['destination']), axis=1)"
   ]
  },
  {
   "cell_type": "markdown",
   "metadata": {},
   "source": [
    "Save the dataframes to disk to avoid computing the new features again"
   ]
  },
  {
   "cell_type": "code",
   "execution_count": 14,
   "metadata": {
    "ExecuteTime": {
     "end_time": "2019-09-28T13:31:12.724627Z",
     "start_time": "2019-09-28T13:28:08.703393Z"
    }
   },
   "outputs": [
    {
     "data": {
      "application/javascript": [
       "$(document).ready(\n",
       "    function() {\n",
       "        function appendUniqueDiv(){\n",
       "            // append a div with our uuid so we can check that it's already\n",
       "            // been sent and avoid duplicates on page reload\n",
       "            var notifiedDiv = document.createElement(\"div\")\n",
       "            notifiedDiv.id = \"8f3f1067-9e54-4b58-acb7-f2a7abe6fc40\"\n",
       "            element.append(notifiedDiv)\n",
       "        }\n",
       "\n",
       "        // only send notifications if the pageload is complete; this will\n",
       "        // help stop extra notifications when a saved notebook is loaded,\n",
       "        // which during testing gives us state \"interactive\", not \"complete\"\n",
       "        if (document.readyState === 'complete') {\n",
       "            // check for the div that signifies that the notification\n",
       "            // was already sent\n",
       "            if (document.getElementById(\"8f3f1067-9e54-4b58-acb7-f2a7abe6fc40\") === null) {\n",
       "                var notificationPayload = {\"icon\": \"/static/base/images/favicon.ico\", \"body\": \"Cell execution has finished!\", \"requireInteraction\": false};\n",
       "                if (Notification.permission !== 'denied') {\n",
       "                    if (Notification.permission !== 'granted') { \n",
       "                        Notification.requestPermission(function (permission) {\n",
       "                            if(!('permission' in Notification)) {\n",
       "                                Notification.permission = permission\n",
       "                            }\n",
       "                        })\n",
       "                    }\n",
       "                    if (Notification.permission === 'granted') {\n",
       "                    var notification = new Notification(\"Jupyter Notebook\", notificationPayload)\n",
       "                    appendUniqueDiv()\n",
       "                    notification.onclick = function () {\n",
       "                        window.focus();\n",
       "                        this.close();\n",
       "                        };\n",
       "                    } \n",
       "                }     \n",
       "            }\n",
       "        }\n",
       "    }\n",
       ")\n"
      ],
      "text/plain": [
       "<IPython.core.display.Javascript object>"
      ]
     },
     "metadata": {},
     "output_type": "display_data"
    }
   ],
   "source": [
    "%%notify\n",
    "df_train.to_csv('df_train_partial.csv', index=False)\n",
    "df_test.to_csv('df_test_partial.csv', index=False)"
   ]
  },
  {
   "cell_type": "code",
   "execution_count": 20,
   "metadata": {
    "ExecuteTime": {
     "end_time": "2019-09-23T12:21:45.629407Z",
     "start_time": "2019-09-23T11:54:37.809325Z"
    }
   },
   "outputs": [
    {
     "data": {
      "application/javascript": [
       "$(document).ready(\n",
       "    function() {\n",
       "        function appendUniqueDiv(){\n",
       "            // append a div with our uuid so we can check that it's already\n",
       "            // been sent and avoid duplicates on page reload\n",
       "            var notifiedDiv = document.createElement(\"div\")\n",
       "            notifiedDiv.id = \"0e63a681-080d-4609-8660-649c4468ce69\"\n",
       "            element.append(notifiedDiv)\n",
       "        }\n",
       "\n",
       "        // only send notifications if the pageload is complete; this will\n",
       "        // help stop extra notifications when a saved notebook is loaded,\n",
       "        // which during testing gives us state \"interactive\", not \"complete\"\n",
       "        if (document.readyState === 'complete') {\n",
       "            // check for the div that signifies that the notification\n",
       "            // was already sent\n",
       "            if (document.getElementById(\"0e63a681-080d-4609-8660-649c4468ce69\") === null) {\n",
       "                var notificationPayload = {\"requireInteraction\": false, \"icon\": \"/static/base/images/favicon.ico\", \"body\": \"Cell execution has finished!\"};\n",
       "                if (Notification.permission !== 'denied') {\n",
       "                    if (Notification.permission !== 'granted') { \n",
       "                        Notification.requestPermission(function (permission) {\n",
       "                            if(!('permission' in Notification)) {\n",
       "                                Notification.permission = permission\n",
       "                            }\n",
       "                        })\n",
       "                    }\n",
       "                    if (Notification.permission === 'granted') {\n",
       "                    var notification = new Notification(\"Jupyter Notebook\", notificationPayload)\n",
       "                    appendUniqueDiv()\n",
       "                    notification.onclick = function () {\n",
       "                        window.focus();\n",
       "                        this.close();\n",
       "                        };\n",
       "                    } \n",
       "                }     \n",
       "            }\n",
       "        }\n",
       "    }\n",
       ")\n"
      ],
      "text/plain": [
       "<IPython.core.display.Javascript object>"
      ]
     },
     "metadata": {},
     "output_type": "display_data"
    }
   ],
   "source": [
    "# %%notify\n",
    "# df_train.to_csv('df_train_partial.csv', index=False)\n",
    "# df_test.to_csv('df_test_partial.csv', index=False)"
   ]
  },
  {
   "cell_type": "markdown",
   "metadata": {},
   "source": [
    "## 5. PageRank\n",
    "\n",
    "PageRank computes a ranking of the nodes in the graph G based on the structure of the incoming links. It was originally designed as an algorithm to rank web pages. NetworkX provides a handy function to calculate pagerank of every node in the graph."
   ]
  },
  {
   "cell_type": "code",
   "execution_count": 15,
   "metadata": {
    "ExecuteTime": {
     "end_time": "2019-09-28T13:33:52.022199Z",
     "start_time": "2019-09-28T13:31:36.011279Z"
    }
   },
   "outputs": [
    {
     "data": {
      "application/javascript": [
       "$(document).ready(\n",
       "    function() {\n",
       "        function appendUniqueDiv(){\n",
       "            // append a div with our uuid so we can check that it's already\n",
       "            // been sent and avoid duplicates on page reload\n",
       "            var notifiedDiv = document.createElement(\"div\")\n",
       "            notifiedDiv.id = \"c5d7111c-88bd-441e-bf03-511a6ca24207\"\n",
       "            element.append(notifiedDiv)\n",
       "        }\n",
       "\n",
       "        // only send notifications if the pageload is complete; this will\n",
       "        // help stop extra notifications when a saved notebook is loaded,\n",
       "        // which during testing gives us state \"interactive\", not \"complete\"\n",
       "        if (document.readyState === 'complete') {\n",
       "            // check for the div that signifies that the notification\n",
       "            // was already sent\n",
       "            if (document.getElementById(\"c5d7111c-88bd-441e-bf03-511a6ca24207\") === null) {\n",
       "                var notificationPayload = {\"icon\": \"/static/base/images/favicon.ico\", \"body\": \"Cell execution has finished!\", \"requireInteraction\": false};\n",
       "                if (Notification.permission !== 'denied') {\n",
       "                    if (Notification.permission !== 'granted') { \n",
       "                        Notification.requestPermission(function (permission) {\n",
       "                            if(!('permission' in Notification)) {\n",
       "                                Notification.permission = permission\n",
       "                            }\n",
       "                        })\n",
       "                    }\n",
       "                    if (Notification.permission === 'granted') {\n",
       "                    var notification = new Notification(\"Jupyter Notebook\", notificationPayload)\n",
       "                    appendUniqueDiv()\n",
       "                    notification.onclick = function () {\n",
       "                        window.focus();\n",
       "                        this.close();\n",
       "                        };\n",
       "                    } \n",
       "                }     \n",
       "            }\n",
       "        }\n",
       "    }\n",
       ")\n"
      ],
      "text/plain": [
       "<IPython.core.display.Javascript object>"
      ]
     },
     "metadata": {},
     "output_type": "display_data"
    }
   ],
   "source": [
    "%%notify\n",
    "pr = nx.pagerank(g_train, alpha=0.85)"
   ]
  },
  {
   "cell_type": "code",
   "execution_count": 16,
   "metadata": {
    "ExecuteTime": {
     "end_time": "2019-09-28T13:34:15.588652Z",
     "start_time": "2019-09-28T13:34:15.045469Z"
    }
   },
   "outputs": [],
   "source": [
    "pickle.dump(pr,open('page_rank_train.pkl','wb'))"
   ]
  },
  {
   "cell_type": "code",
   "execution_count": 38,
   "metadata": {
    "ExecuteTime": {
     "end_time": "2019-09-30T01:59:59.280761Z",
     "start_time": "2019-09-30T01:59:58.701548Z"
    }
   },
   "outputs": [],
   "source": [
    "pr = pickle.load(open('page_rank_train.pkl', 'rb'))"
   ]
  },
  {
   "cell_type": "code",
   "execution_count": 39,
   "metadata": {
    "ExecuteTime": {
     "end_time": "2019-09-30T02:00:13.251568Z",
     "start_time": "2019-09-30T02:00:13.215431Z"
    }
   },
   "outputs": [
    {
     "name": "stdout",
     "output_type": "stream",
     "text": [
      "5.615699699365892e-07\n"
     ]
    }
   ],
   "source": [
    "mean_pr = float(sum(pr.values())) / len(pr)\n",
    "print(mean_pr)"
   ]
  },
  {
   "cell_type": "code",
   "execution_count": 42,
   "metadata": {
    "ExecuteTime": {
     "end_time": "2019-09-30T02:02:30.504928Z",
     "start_time": "2019-09-30T02:01:58.792180Z"
    }
   },
   "outputs": [
    {
     "data": {
      "application/javascript": [
       "$(document).ready(\n",
       "    function() {\n",
       "        function appendUniqueDiv(){\n",
       "            // append a div with our uuid so we can check that it's already\n",
       "            // been sent and avoid duplicates on page reload\n",
       "            var notifiedDiv = document.createElement(\"div\")\n",
       "            notifiedDiv.id = \"f45fbdbd-2b7c-409c-a932-edc84dc40407\"\n",
       "            element.append(notifiedDiv)\n",
       "        }\n",
       "\n",
       "        // only send notifications if the pageload is complete; this will\n",
       "        // help stop extra notifications when a saved notebook is loaded,\n",
       "        // which during testing gives us state \"interactive\", not \"complete\"\n",
       "        if (document.readyState === 'complete') {\n",
       "            // check for the div that signifies that the notification\n",
       "            // was already sent\n",
       "            if (document.getElementById(\"f45fbdbd-2b7c-409c-a932-edc84dc40407\") === null) {\n",
       "                var notificationPayload = {\"requireInteraction\": false, \"icon\": \"/static/base/images/favicon.ico\", \"body\": \"Cell execution has finished!\"};\n",
       "                if (Notification.permission !== 'denied') {\n",
       "                    if (Notification.permission !== 'granted') { \n",
       "                        Notification.requestPermission(function (permission) {\n",
       "                            if(!('permission' in Notification)) {\n",
       "                                Notification.permission = permission\n",
       "                            }\n",
       "                        })\n",
       "                    }\n",
       "                    if (Notification.permission === 'granted') {\n",
       "                    var notification = new Notification(\"Jupyter Notebook\", notificationPayload)\n",
       "                    appendUniqueDiv()\n",
       "                    notification.onclick = function () {\n",
       "                        window.focus();\n",
       "                        this.close();\n",
       "                        };\n",
       "                    } \n",
       "                }     \n",
       "            }\n",
       "        }\n",
       "    }\n",
       ")\n"
      ],
      "text/plain": [
       "<IPython.core.display.Javascript object>"
      ]
     },
     "metadata": {},
     "output_type": "display_data"
    }
   ],
   "source": [
    "%%notify\n",
    "\n",
    "df_train['pr_source'] = df_train['source'].map(lambda x: pr.get(x, mean_pr))\n",
    "df_train['pr_destination'] = df_train['destination'].map(lambda x: pr.get(x, mean_pr))\n",
    "df_test['pr_source'] = df_test['source'].map(lambda x: pr.get(x, mean_pr))\n",
    "df_test['pr_destination'] = df_test['destination'].map(lambda x: pr.get(x, mean_pr))"
   ]
  },
  {
   "cell_type": "markdown",
   "metadata": {},
   "source": [
    "## 6. Weakly conncected component\n",
    "\n",
    "In this feature, we check whether the source and destination nodes belong to the same weakly connected component.\n",
    "\n",
    "A weakly connected component is a maximal subgraph of a directed graph such that for every pair of vertices u, v in the subgraph, there is an path from u to v. If the source and destination nodes belong to the same WCC, higher the chance of they belonging to the same community of people and thus being connected in future."
   ]
  },
  {
   "cell_type": "code",
   "execution_count": 7,
   "metadata": {
    "ExecuteTime": {
     "end_time": "2019-09-28T15:51:24.343055Z",
     "start_time": "2019-09-28T15:48:57.548132Z"
    }
   },
   "outputs": [],
   "source": [
    "# getting weekly connected edges from graph\n",
    "wcc = list(nx.weakly_connected_components(g_))\n",
    "\n",
    "\n",
    "def belongs_to_same_wcc(a, b):\n",
    "    index = []\n",
    "    if g_.has_edge(b, a):\n",
    "        return 1\n",
    "    if g_.has_edge(a, b):\n",
    "        for i in wcc:\n",
    "            if a in i:\n",
    "                index = i\n",
    "                break\n",
    "        if (b in index):\n",
    "            g_.remove_edge(a, b)\n",
    "            if compute_shortest_path_length(a, b) == -1:\n",
    "                g_.add_edge(a, b)\n",
    "                return 0\n",
    "            else:\n",
    "                g_.add_edge(a, b)\n",
    "                return 1\n",
    "        else:\n",
    "            return 0\n",
    "    else:\n",
    "        for i in wcc:\n",
    "            if a in i:\n",
    "                index = i\n",
    "                break\n",
    "        if (b in index):\n",
    "            return 1\n",
    "        else:\n",
    "            return 0"
   ]
  },
  {
   "cell_type": "code",
   "execution_count": 22,
   "metadata": {
    "ExecuteTime": {
     "end_time": "2019-09-28T13:53:15.999096Z",
     "start_time": "2019-09-28T13:53:15.994469Z"
    }
   },
   "outputs": [
    {
     "data": {
      "text/plain": [
       "48602"
      ]
     },
     "execution_count": 22,
     "metadata": {},
     "output_type": "execute_result"
    }
   ],
   "source": [
    "len(wcc)"
   ]
  },
  {
   "cell_type": "code",
   "execution_count": null,
   "metadata": {
    "ExecuteTime": {
     "end_time": "2019-09-28T17:14:35.046199Z",
     "start_time": "2019-09-28T15:51:57.106196Z"
    }
   },
   "outputs": [],
   "source": [
    "%%notify\n",
    "\n",
    "# mapping same component of wcc or not on train\n",
    "df_train['same_component'] = df_train.progress_apply(\n",
    "    lambda row: belongs_to_same_wcc(row['source'], row['destination']), axis=1)\n",
    "\n",
    "# mapping same component of wcc or not on train\n",
    "df_test['same_component'] = df_test.progress_apply(lambda row: belongs_to_same_wcc(\n",
    "    row['source'], row['destination']), axis=1)"
   ]
  },
  {
   "cell_type": "code",
   "execution_count": 11,
   "metadata": {
    "ExecuteTime": {
     "end_time": "2019-09-29T03:33:57.341279Z",
     "start_time": "2019-09-29T03:27:51.177597Z"
    }
   },
   "outputs": [
    {
     "data": {
      "application/javascript": [
       "$(document).ready(\n",
       "    function() {\n",
       "        function appendUniqueDiv(){\n",
       "            // append a div with our uuid so we can check that it's already\n",
       "            // been sent and avoid duplicates on page reload\n",
       "            var notifiedDiv = document.createElement(\"div\")\n",
       "            notifiedDiv.id = \"1c61ea7b-735c-4cf9-9322-a3a2815c2af8\"\n",
       "            element.append(notifiedDiv)\n",
       "        }\n",
       "\n",
       "        // only send notifications if the pageload is complete; this will\n",
       "        // help stop extra notifications when a saved notebook is loaded,\n",
       "        // which during testing gives us state \"interactive\", not \"complete\"\n",
       "        if (document.readyState === 'complete') {\n",
       "            // check for the div that signifies that the notification\n",
       "            // was already sent\n",
       "            if (document.getElementById(\"1c61ea7b-735c-4cf9-9322-a3a2815c2af8\") === null) {\n",
       "                var notificationPayload = {\"requireInteraction\": false, \"icon\": \"/static/base/images/favicon.ico\", \"body\": \"Cell execution has finished!\"};\n",
       "                if (Notification.permission !== 'denied') {\n",
       "                    if (Notification.permission !== 'granted') { \n",
       "                        Notification.requestPermission(function (permission) {\n",
       "                            if(!('permission' in Notification)) {\n",
       "                                Notification.permission = permission\n",
       "                            }\n",
       "                        })\n",
       "                    }\n",
       "                    if (Notification.permission === 'granted') {\n",
       "                    var notification = new Notification(\"Jupyter Notebook\", notificationPayload)\n",
       "                    appendUniqueDiv()\n",
       "                    notification.onclick = function () {\n",
       "                        window.focus();\n",
       "                        this.close();\n",
       "                        };\n",
       "                    } \n",
       "                }     \n",
       "            }\n",
       "        }\n",
       "    }\n",
       ")\n"
      ],
      "text/plain": [
       "<IPython.core.display.Javascript object>"
      ]
     },
     "metadata": {},
     "output_type": "display_data"
    }
   ],
   "source": [
    "%%notify\n",
    "df_train.to_csv('df_train_partial.csv', index=False)\n",
    "df_test.to_csv('df_test_partial.csv', index=False)"
   ]
  },
  {
   "cell_type": "markdown",
   "metadata": {},
   "source": [
    "## 7 Adamic/Adar Index\n",
    "\n",
    "Adamic/Adar measures is defined as inverted sum of degrees of common neighbours for given two vertices.\n",
    "$$A(x,y)=\\sum_{u \\in N(x) \\cap N(y)}\\frac{1}{log(|N(u)|)}$$"
   ]
  },
  {
   "cell_type": "code",
   "execution_count": 11,
   "metadata": {
    "ExecuteTime": {
     "end_time": "2019-09-28T18:11:05.906015Z",
     "start_time": "2019-09-28T18:11:05.899778Z"
    }
   },
   "outputs": [],
   "source": [
    "# adar index\n",
    "def calc_adar_in(a, b):\n",
    "    sum = 0\n",
    "    try:\n",
    "        n = list(\n",
    "            set(g_train.successors(a)).intersection(set(\n",
    "                g_train.successors(b))))\n",
    "        if len(n) != 0:\n",
    "            for i in n:\n",
    "                sum = sum + (1 / np.log10(len(list(g_train.predecessors(i)))))\n",
    "            return sum\n",
    "        else:\n",
    "            return 0\n",
    "    except:\n",
    "        return 0"
   ]
  },
  {
   "cell_type": "code",
   "execution_count": 12,
   "metadata": {
    "ExecuteTime": {
     "end_time": "2019-09-28T18:31:55.905247Z",
     "start_time": "2019-09-28T18:11:22.956693Z"
    }
   },
   "outputs": [
    {
     "name": "stderr",
     "output_type": "stream",
     "text": [
      "100%|██████████| 15100030/15100030 [16:27<00:00, 15285.04it/s]\n",
      "100%|██████████| 3775008/3775008 [04:04<00:00, 15410.57it/s]\n"
     ]
    },
    {
     "data": {
      "application/javascript": [
       "$(document).ready(\n",
       "    function() {\n",
       "        function appendUniqueDiv(){\n",
       "            // append a div with our uuid so we can check that it's already\n",
       "            // been sent and avoid duplicates on page reload\n",
       "            var notifiedDiv = document.createElement(\"div\")\n",
       "            notifiedDiv.id = \"572239ef-572b-42fa-b93b-c253f7913bce\"\n",
       "            element.append(notifiedDiv)\n",
       "        }\n",
       "\n",
       "        // only send notifications if the pageload is complete; this will\n",
       "        // help stop extra notifications when a saved notebook is loaded,\n",
       "        // which during testing gives us state \"interactive\", not \"complete\"\n",
       "        if (document.readyState === 'complete') {\n",
       "            // check for the div that signifies that the notification\n",
       "            // was already sent\n",
       "            if (document.getElementById(\"572239ef-572b-42fa-b93b-c253f7913bce\") === null) {\n",
       "                var notificationPayload = {\"body\": \"Cell execution has finished!\", \"icon\": \"/static/base/images/favicon.ico\", \"requireInteraction\": false};\n",
       "                if (Notification.permission !== 'denied') {\n",
       "                    if (Notification.permission !== 'granted') { \n",
       "                        Notification.requestPermission(function (permission) {\n",
       "                            if(!('permission' in Notification)) {\n",
       "                                Notification.permission = permission\n",
       "                            }\n",
       "                        })\n",
       "                    }\n",
       "                    if (Notification.permission === 'granted') {\n",
       "                    var notification = new Notification(\"Jupyter Notebook\", notificationPayload)\n",
       "                    appendUniqueDiv()\n",
       "                    notification.onclick = function () {\n",
       "                        window.focus();\n",
       "                        this.close();\n",
       "                        };\n",
       "                    } \n",
       "                }     \n",
       "            }\n",
       "        }\n",
       "    }\n",
       ")\n"
      ],
      "text/plain": [
       "<IPython.core.display.Javascript object>"
      ]
     },
     "metadata": {},
     "output_type": "display_data"
    }
   ],
   "source": [
    "%%notify\n",
    "\n",
    "# mapping adar index on train\n",
    "df_train['adar_index'] = df_train.progress_apply(\n",
    "    lambda row: calc_adar_in(row['source'], row['destination']), axis=1)\n",
    "\n",
    "# mapping adar index on test\n",
    "df_test['adar_index'] = df_test.progress_apply(\n",
    "    lambda row: calc_adar_in(row['source'], row['destination']), axis=1)"
   ]
  },
  {
   "cell_type": "markdown",
   "metadata": {},
   "source": [
    "## 8. Katz centrality\n",
    "\n",
    "Katz centrality computes the centrality for a node based on the centrality of its neighbors. It is a generalization of the eigenvector centrality. The Katz centrality for node i is\n",
    "\n",
    "![](https://networkx.github.io/documentation/networkx-1.10/_images/math/7d9eab1f5f973e768e2bf1204108448cfb080094.png)\n",
    "\n",
    "where A is the adjacency matrix of the graph G with eigenvalues \\lambda.\n",
    "\n",
    "The parameter \\beta controls the initial centrality and\n",
    "\n",
    "\n",
    "![](https://networkx.github.io/documentation/networkx-1.10/_images/math/ebb85cf5e38537ff0b536e7b7876387dcecdc0e1.png)\n",
    "\n",
    "Katz centrality computes the relative influence of a node within a network by measuring the number of the immediate neighbors (first degree nodes) and also all other nodes in the network that connect to the node under consideration through these immediate neighbors."
   ]
  },
  {
   "cell_type": "code",
   "execution_count": 6,
   "metadata": {
    "ExecuteTime": {
     "end_time": "2019-09-29T03:26:02.998243Z",
     "start_time": "2019-09-29T03:18:57.147173Z"
    }
   },
   "outputs": [
    {
     "data": {
      "application/javascript": [
       "$(document).ready(\n",
       "    function() {\n",
       "        function appendUniqueDiv(){\n",
       "            // append a div with our uuid so we can check that it's already\n",
       "            // been sent and avoid duplicates on page reload\n",
       "            var notifiedDiv = document.createElement(\"div\")\n",
       "            notifiedDiv.id = \"9a1a87b6-a15d-4ac8-9a38-e380477dbe08\"\n",
       "            element.append(notifiedDiv)\n",
       "        }\n",
       "\n",
       "        // only send notifications if the pageload is complete; this will\n",
       "        // help stop extra notifications when a saved notebook is loaded,\n",
       "        // which during testing gives us state \"interactive\", not \"complete\"\n",
       "        if (document.readyState === 'complete') {\n",
       "            // check for the div that signifies that the notification\n",
       "            // was already sent\n",
       "            if (document.getElementById(\"9a1a87b6-a15d-4ac8-9a38-e380477dbe08\") === null) {\n",
       "                var notificationPayload = {\"requireInteraction\": false, \"icon\": \"/static/base/images/favicon.ico\", \"body\": \"Cell execution has finished!\"};\n",
       "                if (Notification.permission !== 'denied') {\n",
       "                    if (Notification.permission !== 'granted') { \n",
       "                        Notification.requestPermission(function (permission) {\n",
       "                            if(!('permission' in Notification)) {\n",
       "                                Notification.permission = permission\n",
       "                            }\n",
       "                        })\n",
       "                    }\n",
       "                    if (Notification.permission === 'granted') {\n",
       "                    var notification = new Notification(\"Jupyter Notebook\", notificationPayload)\n",
       "                    appendUniqueDiv()\n",
       "                    notification.onclick = function () {\n",
       "                        window.focus();\n",
       "                        this.close();\n",
       "                        };\n",
       "                    } \n",
       "                }     \n",
       "            }\n",
       "        }\n",
       "    }\n",
       ")\n"
      ],
      "text/plain": [
       "<IPython.core.display.Javascript object>"
      ]
     },
     "metadata": {},
     "output_type": "display_data"
    }
   ],
   "source": [
    "%%notify\n",
    "katz = nx.katz.katz_centrality(g_train, alpha=0.005, beta=1)"
   ]
  },
  {
   "cell_type": "code",
   "execution_count": 7,
   "metadata": {
    "ExecuteTime": {
     "end_time": "2019-09-29T03:26:03.162049Z",
     "start_time": "2019-09-29T03:26:03.000713Z"
    }
   },
   "outputs": [
    {
     "name": "stdout",
     "output_type": "stream",
     "text": [
      "0.0007483800935501884\n"
     ]
    }
   ],
   "source": [
    "mean_katz = float(sum(katz.values())) / len(katz)\n",
    "print(mean_katz)"
   ]
  },
  {
   "cell_type": "code",
   "execution_count": 8,
   "metadata": {
    "ExecuteTime": {
     "end_time": "2019-09-29T03:27:30.923684Z",
     "start_time": "2019-09-29T03:26:03.165759Z"
    }
   },
   "outputs": [
    {
     "name": "stderr",
     "output_type": "stream",
     "text": [
      "100%|██████████| 15100030/15100030 [00:35<00:00, 430892.05it/s]\n",
      "100%|██████████| 15100030/15100030 [00:35<00:00, 430629.31it/s]\n",
      "100%|██████████| 3775008/3775008 [00:08<00:00, 430919.98it/s]\n",
      "100%|██████████| 3775008/3775008 [00:08<00:00, 436081.60it/s]\n"
     ]
    },
    {
     "data": {
      "application/javascript": [
       "$(document).ready(\n",
       "    function() {\n",
       "        function appendUniqueDiv(){\n",
       "            // append a div with our uuid so we can check that it's already\n",
       "            // been sent and avoid duplicates on page reload\n",
       "            var notifiedDiv = document.createElement(\"div\")\n",
       "            notifiedDiv.id = \"be2c31a2-dc2c-404e-a3e9-c21e7191a0f0\"\n",
       "            element.append(notifiedDiv)\n",
       "        }\n",
       "\n",
       "        // only send notifications if the pageload is complete; this will\n",
       "        // help stop extra notifications when a saved notebook is loaded,\n",
       "        // which during testing gives us state \"interactive\", not \"complete\"\n",
       "        if (document.readyState === 'complete') {\n",
       "            // check for the div that signifies that the notification\n",
       "            // was already sent\n",
       "            if (document.getElementById(\"be2c31a2-dc2c-404e-a3e9-c21e7191a0f0\") === null) {\n",
       "                var notificationPayload = {\"requireInteraction\": false, \"icon\": \"/static/base/images/favicon.ico\", \"body\": \"Cell execution has finished!\"};\n",
       "                if (Notification.permission !== 'denied') {\n",
       "                    if (Notification.permission !== 'granted') { \n",
       "                        Notification.requestPermission(function (permission) {\n",
       "                            if(!('permission' in Notification)) {\n",
       "                                Notification.permission = permission\n",
       "                            }\n",
       "                        })\n",
       "                    }\n",
       "                    if (Notification.permission === 'granted') {\n",
       "                    var notification = new Notification(\"Jupyter Notebook\", notificationPayload)\n",
       "                    appendUniqueDiv()\n",
       "                    notification.onclick = function () {\n",
       "                        window.focus();\n",
       "                        this.close();\n",
       "                        };\n",
       "                    } \n",
       "                }     \n",
       "            }\n",
       "        }\n",
       "    }\n",
       ")\n"
      ],
      "text/plain": [
       "<IPython.core.display.Javascript object>"
      ]
     },
     "metadata": {},
     "output_type": "display_data"
    }
   ],
   "source": [
    "%%notify\n",
    "\n",
    "#Katz centrality score for source and destination in Train and test\n",
    "#if anything not there in train graph then adding mean katz score\n",
    "df_train['katz_s'] = df_train.source.progress_apply(lambda x: katz.get(x, mean_katz))\n",
    "df_train['katz_d'] = df_train.destination.progress_apply(lambda x: katz.get(x, mean_katz))\n",
    "\n",
    "df_test['katz_s'] = df_test.source.progress_apply(lambda x: katz.get(x, mean_katz))\n",
    "df_test['katz_d'] = df_test.destination.progress_apply(lambda x: katz.get(x, mean_katz))"
   ]
  },
  {
   "cell_type": "markdown",
   "metadata": {},
   "source": [
    "**correlation between the source and destination Katz centrality values**"
   ]
  },
  {
   "cell_type": "code",
   "execution_count": 9,
   "metadata": {
    "ExecuteTime": {
     "end_time": "2019-09-29T03:27:32.509107Z",
     "start_time": "2019-09-29T03:27:30.926314Z"
    }
   },
   "outputs": [
    {
     "data": {
      "text/html": [
       "<div>\n",
       "<style scoped>\n",
       "    .dataframe tbody tr th:only-of-type {\n",
       "        vertical-align: middle;\n",
       "    }\n",
       "\n",
       "    .dataframe tbody tr th {\n",
       "        vertical-align: top;\n",
       "    }\n",
       "\n",
       "    .dataframe thead th {\n",
       "        text-align: right;\n",
       "    }\n",
       "</style>\n",
       "<table border=\"1\" class=\"dataframe\">\n",
       "  <thead>\n",
       "    <tr style=\"text-align: right;\">\n",
       "      <th></th>\n",
       "      <th>katz_s</th>\n",
       "      <th>katz_d</th>\n",
       "    </tr>\n",
       "  </thead>\n",
       "  <tbody>\n",
       "    <tr>\n",
       "      <td>katz_s</td>\n",
       "      <td>1.000000</td>\n",
       "      <td>0.638912</td>\n",
       "    </tr>\n",
       "    <tr>\n",
       "      <td>katz_d</td>\n",
       "      <td>0.638912</td>\n",
       "      <td>1.000000</td>\n",
       "    </tr>\n",
       "  </tbody>\n",
       "</table>\n",
       "</div>"
      ],
      "text/plain": [
       "          katz_s    katz_d\n",
       "katz_s  1.000000  0.638912\n",
       "katz_d  0.638912  1.000000"
      ]
     },
     "execution_count": 9,
     "metadata": {},
     "output_type": "execute_result"
    }
   ],
   "source": [
    "df_train[['katz_s', 'katz_d']].corr()"
   ]
  },
  {
   "cell_type": "code",
   "execution_count": 10,
   "metadata": {
    "ExecuteTime": {
     "end_time": "2019-09-29T03:27:32.903886Z",
     "start_time": "2019-09-29T03:27:32.511340Z"
    }
   },
   "outputs": [
    {
     "data": {
      "text/html": [
       "<div>\n",
       "<style scoped>\n",
       "    .dataframe tbody tr th:only-of-type {\n",
       "        vertical-align: middle;\n",
       "    }\n",
       "\n",
       "    .dataframe tbody tr th {\n",
       "        vertical-align: top;\n",
       "    }\n",
       "\n",
       "    .dataframe thead th {\n",
       "        text-align: right;\n",
       "    }\n",
       "</style>\n",
       "<table border=\"1\" class=\"dataframe\">\n",
       "  <thead>\n",
       "    <tr style=\"text-align: right;\">\n",
       "      <th></th>\n",
       "      <th>katz_s</th>\n",
       "      <th>katz_d</th>\n",
       "    </tr>\n",
       "  </thead>\n",
       "  <tbody>\n",
       "    <tr>\n",
       "      <td>katz_s</td>\n",
       "      <td>1.000000</td>\n",
       "      <td>0.635525</td>\n",
       "    </tr>\n",
       "    <tr>\n",
       "      <td>katz_d</td>\n",
       "      <td>0.635525</td>\n",
       "      <td>1.000000</td>\n",
       "    </tr>\n",
       "  </tbody>\n",
       "</table>\n",
       "</div>"
      ],
      "text/plain": [
       "          katz_s    katz_d\n",
       "katz_s  1.000000  0.635525\n",
       "katz_d  0.635525  1.000000"
      ]
     },
     "execution_count": 10,
     "metadata": {},
     "output_type": "execute_result"
    }
   ],
   "source": [
    "df_test[['katz_s', 'katz_d']].corr()"
   ]
  },
  {
   "cell_type": "markdown",
   "metadata": {},
   "source": [
    "## 9. Hits score\n",
    "\n",
    "The HITS algorithm computes two numbers for a node. Authorities estimates the node value based on the incoming links. Hubs estimates the node value based on outgoing links."
   ]
  },
  {
   "cell_type": "code",
   "execution_count": 12,
   "metadata": {
    "ExecuteTime": {
     "end_time": "2019-09-29T05:22:12.784605Z",
     "start_time": "2019-09-29T03:34:31.099689Z"
    }
   },
   "outputs": [
    {
     "data": {
      "application/javascript": [
       "$(document).ready(\n",
       "    function() {\n",
       "        function appendUniqueDiv(){\n",
       "            // append a div with our uuid so we can check that it's already\n",
       "            // been sent and avoid duplicates on page reload\n",
       "            var notifiedDiv = document.createElement(\"div\")\n",
       "            notifiedDiv.id = \"c5697ae9-0649-4e03-ab43-49fed81c2789\"\n",
       "            element.append(notifiedDiv)\n",
       "        }\n",
       "\n",
       "        // only send notifications if the pageload is complete; this will\n",
       "        // help stop extra notifications when a saved notebook is loaded,\n",
       "        // which during testing gives us state \"interactive\", not \"complete\"\n",
       "        if (document.readyState === 'complete') {\n",
       "            // check for the div that signifies that the notification\n",
       "            // was already sent\n",
       "            if (document.getElementById(\"c5697ae9-0649-4e03-ab43-49fed81c2789\") === null) {\n",
       "                var notificationPayload = {\"requireInteraction\": false, \"icon\": \"/static/base/images/favicon.ico\", \"body\": \"Cell execution has finished!\"};\n",
       "                if (Notification.permission !== 'denied') {\n",
       "                    if (Notification.permission !== 'granted') { \n",
       "                        Notification.requestPermission(function (permission) {\n",
       "                            if(!('permission' in Notification)) {\n",
       "                                Notification.permission = permission\n",
       "                            }\n",
       "                        })\n",
       "                    }\n",
       "                    if (Notification.permission === 'granted') {\n",
       "                    var notification = new Notification(\"Jupyter Notebook\", notificationPayload)\n",
       "                    appendUniqueDiv()\n",
       "                    notification.onclick = function () {\n",
       "                        window.focus();\n",
       "                        this.close();\n",
       "                        };\n",
       "                    } \n",
       "                }     \n",
       "            }\n",
       "        }\n",
       "    }\n",
       ")\n"
      ],
      "text/plain": [
       "<IPython.core.display.Javascript object>"
      ]
     },
     "metadata": {},
     "output_type": "display_data"
    }
   ],
   "source": [
    "%%notify\n",
    "\n",
    "hits = nx.hits(g_train, max_iter=100, tol=1e-08, nstart=None, normalized=True)"
   ]
  },
  {
   "cell_type": "code",
   "execution_count": 13,
   "metadata": {
    "ExecuteTime": {
     "end_time": "2019-09-29T05:22:14.458383Z",
     "start_time": "2019-09-29T05:22:12.788057Z"
    }
   },
   "outputs": [],
   "source": [
    "pickle.dump(hits, open('hits.pkl', 'wb'))"
   ]
  },
  {
   "cell_type": "code",
   "execution_count": 6,
   "metadata": {
    "ExecuteTime": {
     "end_time": "2019-09-21T07:20:07.157343Z",
     "start_time": "2019-09-21T07:20:05.906852Z"
    }
   },
   "outputs": [],
   "source": [
    "#hits = pickle.load(open('hits.pkl', 'rb'))"
   ]
  },
  {
   "cell_type": "code",
   "execution_count": 14,
   "metadata": {
    "ExecuteTime": {
     "end_time": "2019-09-29T05:25:14.063070Z",
     "start_time": "2019-09-29T05:22:14.461249Z"
    },
    "scrolled": true
   },
   "outputs": [
    {
     "name": "stderr",
     "output_type": "stream",
     "text": [
      "100%|██████████| 15100030/15100030 [00:35<00:00, 420450.43it/s]\n",
      "100%|██████████| 15100030/15100030 [00:36<00:00, 417786.50it/s]\n",
      "100%|██████████| 3775008/3775008 [00:08<00:00, 434584.47it/s]\n",
      "100%|██████████| 3775008/3775008 [00:08<00:00, 443760.97it/s]\n",
      "100%|██████████| 15100030/15100030 [00:35<00:00, 428040.01it/s]\n",
      "100%|██████████| 15100030/15100030 [00:36<00:00, 412296.90it/s]\n",
      "100%|██████████| 3775008/3775008 [00:08<00:00, 422487.91it/s]\n",
      "100%|██████████| 3775008/3775008 [00:09<00:00, 416381.17it/s]\n"
     ]
    },
    {
     "data": {
      "application/javascript": [
       "$(document).ready(\n",
       "    function() {\n",
       "        function appendUniqueDiv(){\n",
       "            // append a div with our uuid so we can check that it's already\n",
       "            // been sent and avoid duplicates on page reload\n",
       "            var notifiedDiv = document.createElement(\"div\")\n",
       "            notifiedDiv.id = \"f44e01e7-fb64-4fca-9c8d-afd9b6ce3ea0\"\n",
       "            element.append(notifiedDiv)\n",
       "        }\n",
       "\n",
       "        // only send notifications if the pageload is complete; this will\n",
       "        // help stop extra notifications when a saved notebook is loaded,\n",
       "        // which during testing gives us state \"interactive\", not \"complete\"\n",
       "        if (document.readyState === 'complete') {\n",
       "            // check for the div that signifies that the notification\n",
       "            // was already sent\n",
       "            if (document.getElementById(\"f44e01e7-fb64-4fca-9c8d-afd9b6ce3ea0\") === null) {\n",
       "                var notificationPayload = {\"requireInteraction\": false, \"icon\": \"/static/base/images/favicon.ico\", \"body\": \"Cell execution has finished!\"};\n",
       "                if (Notification.permission !== 'denied') {\n",
       "                    if (Notification.permission !== 'granted') { \n",
       "                        Notification.requestPermission(function (permission) {\n",
       "                            if(!('permission' in Notification)) {\n",
       "                                Notification.permission = permission\n",
       "                            }\n",
       "                        })\n",
       "                    }\n",
       "                    if (Notification.permission === 'granted') {\n",
       "                    var notification = new Notification(\"Jupyter Notebook\", notificationPayload)\n",
       "                    appendUniqueDiv()\n",
       "                    notification.onclick = function () {\n",
       "                        window.focus();\n",
       "                        this.close();\n",
       "                        };\n",
       "                    } \n",
       "                }     \n",
       "            }\n",
       "        }\n",
       "    }\n",
       ")\n"
      ],
      "text/plain": [
       "<IPython.core.display.Javascript object>"
      ]
     },
     "metadata": {},
     "output_type": "display_data"
    }
   ],
   "source": [
    "%%notify\n",
    "\n",
    "# Hits algorithm score for source and destination in Train and test\n",
    "# if anything is not there in train graph then adding 0\n",
    "df_train['hubs_s'] = df_train.source.progress_apply(lambda x: hits[0].get(x, 0))\n",
    "df_train['hubs_d'] = df_train.destination.progress_apply(lambda x: hits[0].get(x, 0))\n",
    "\n",
    "df_test['hubs_s'] = df_test.source.progress_apply(lambda x: hits[0].get(x, 0))\n",
    "df_test['hubs_d'] = df_test.destination.progress_apply(lambda x: hits[0].get(x, 0))\n",
    "# ================================================================================\n",
    "\n",
    "# Hits algorithm score for source and destination in Train and Test\n",
    "# if anything is not there in train graph then adding 0\n",
    "df_train['authorities_s'] = df_train.source.progress_apply(lambda x: hits[1].get(x, 0))\n",
    "df_train['authorities_d'] = df_train.destination.progress_apply(\n",
    "    lambda x: hits[1].get(x, 0))\n",
    "\n",
    "df_test['authorities_s'] = df_test.source.progress_apply(lambda x: hits[1].get(x, 0))\n",
    "df_test['authorities_d'] = df_test.destination.progress_apply(\n",
    "    lambda x: hits[1].get(x, 0))\n",
    "# ================================================================================"
   ]
  },
  {
   "cell_type": "code",
   "execution_count": 15,
   "metadata": {
    "ExecuteTime": {
     "end_time": "2019-09-29T05:34:14.336429Z",
     "start_time": "2019-09-29T05:25:41.723642Z"
    }
   },
   "outputs": [
    {
     "data": {
      "application/javascript": [
       "$(document).ready(\n",
       "    function() {\n",
       "        function appendUniqueDiv(){\n",
       "            // append a div with our uuid so we can check that it's already\n",
       "            // been sent and avoid duplicates on page reload\n",
       "            var notifiedDiv = document.createElement(\"div\")\n",
       "            notifiedDiv.id = \"f857f3fe-5c93-4b05-9701-91ae7b222d1a\"\n",
       "            element.append(notifiedDiv)\n",
       "        }\n",
       "\n",
       "        // only send notifications if the pageload is complete; this will\n",
       "        // help stop extra notifications when a saved notebook is loaded,\n",
       "        // which during testing gives us state \"interactive\", not \"complete\"\n",
       "        if (document.readyState === 'complete') {\n",
       "            // check for the div that signifies that the notification\n",
       "            // was already sent\n",
       "            if (document.getElementById(\"f857f3fe-5c93-4b05-9701-91ae7b222d1a\") === null) {\n",
       "                var notificationPayload = {\"requireInteraction\": false, \"icon\": \"/static/base/images/favicon.ico\", \"body\": \"Cell execution has finished!\"};\n",
       "                if (Notification.permission !== 'denied') {\n",
       "                    if (Notification.permission !== 'granted') { \n",
       "                        Notification.requestPermission(function (permission) {\n",
       "                            if(!('permission' in Notification)) {\n",
       "                                Notification.permission = permission\n",
       "                            }\n",
       "                        })\n",
       "                    }\n",
       "                    if (Notification.permission === 'granted') {\n",
       "                    var notification = new Notification(\"Jupyter Notebook\", notificationPayload)\n",
       "                    appendUniqueDiv()\n",
       "                    notification.onclick = function () {\n",
       "                        window.focus();\n",
       "                        this.close();\n",
       "                        };\n",
       "                    } \n",
       "                }     \n",
       "            }\n",
       "        }\n",
       "    }\n",
       ")\n"
      ],
      "text/plain": [
       "<IPython.core.display.Javascript object>"
      ]
     },
     "metadata": {},
     "output_type": "display_data"
    }
   ],
   "source": [
    "%%notify\n",
    "df_train.to_csv('df_train_partial.csv', index=False)\n",
    "df_test.to_csv('df_test_partial.csv', index=False)"
   ]
  },
  {
   "cell_type": "markdown",
   "metadata": {},
   "source": [
    "## 10. Weight features\n",
    "\n",
    "In order to determine the similarity of nodes, an edge weight value can be calculated between nodes. Edge weight decreases as the neighbor count goes up. Intuitively, consider one million people following a celebrity on a social network then chances are most of them never met each other or the celebrity. On the other hand, if a user has 30 contacts in his/her social network, the chances are higher that many of them know each other. \n",
    "\n",
    "\n",
    "`credit` - Graph-based Features for Supervised Link Prediction\n",
    "William Cukierski, Benjamin Hamner, Bo Yang\n",
    "\n",
    "\\begin{equation}\n",
    "W = \\frac{1}{\\sqrt{1+|X|}}\n",
    "\\end{equation}"
   ]
  },
  {
   "cell_type": "code",
   "execution_count": 16,
   "metadata": {
    "ExecuteTime": {
     "end_time": "2019-09-29T05:35:05.464927Z",
     "start_time": "2019-09-29T05:34:45.784389Z"
    }
   },
   "outputs": [
    {
     "name": "stderr",
     "output_type": "stream",
     "text": [
      "100%|██████████| 1780722/1780722 [00:19<00:00, 92574.29it/s]\n"
     ]
    },
    {
     "data": {
      "application/javascript": [
       "$(document).ready(\n",
       "    function() {\n",
       "        function appendUniqueDiv(){\n",
       "            // append a div with our uuid so we can check that it's already\n",
       "            // been sent and avoid duplicates on page reload\n",
       "            var notifiedDiv = document.createElement(\"div\")\n",
       "            notifiedDiv.id = \"aa69f2ba-f141-45fa-b1e3-1965f8f57af8\"\n",
       "            element.append(notifiedDiv)\n",
       "        }\n",
       "\n",
       "        // only send notifications if the pageload is complete; this will\n",
       "        // help stop extra notifications when a saved notebook is loaded,\n",
       "        // which during testing gives us state \"interactive\", not \"complete\"\n",
       "        if (document.readyState === 'complete') {\n",
       "            // check for the div that signifies that the notification\n",
       "            // was already sent\n",
       "            if (document.getElementById(\"aa69f2ba-f141-45fa-b1e3-1965f8f57af8\") === null) {\n",
       "                var notificationPayload = {\"requireInteraction\": false, \"icon\": \"/static/base/images/favicon.ico\", \"body\": \"Cell execution has finished!\"};\n",
       "                if (Notification.permission !== 'denied') {\n",
       "                    if (Notification.permission !== 'granted') { \n",
       "                        Notification.requestPermission(function (permission) {\n",
       "                            if(!('permission' in Notification)) {\n",
       "                                Notification.permission = permission\n",
       "                            }\n",
       "                        })\n",
       "                    }\n",
       "                    if (Notification.permission === 'granted') {\n",
       "                    var notification = new Notification(\"Jupyter Notebook\", notificationPayload)\n",
       "                    appendUniqueDiv()\n",
       "                    notification.onclick = function () {\n",
       "                        window.focus();\n",
       "                        this.close();\n",
       "                        };\n",
       "                    } \n",
       "                }     \n",
       "            }\n",
       "        }\n",
       "    }\n",
       ")\n"
      ],
      "text/plain": [
       "<IPython.core.display.Javascript object>"
      ]
     },
     "metadata": {},
     "output_type": "display_data"
    }
   ],
   "source": [
    "%%notify\n",
    "\n",
    "#weight for source and destination of each link\n",
    "Weight_in = {}\n",
    "Weight_out = {}\n",
    "\n",
    "for i in  tqdm(g_train.nodes()):\n",
    "    s1=set(g_train.predecessors(i))\n",
    "    w_in = 1.0/(np.sqrt(1+len(s1)))\n",
    "    Weight_in[i]=w_in\n",
    "    \n",
    "    s2=set(g_train.successors(i))\n",
    "    w_out = 1.0/(np.sqrt(1+len(s2)))\n",
    "    Weight_out[i]=w_out\n",
    "    \n",
    "#for imputing with mean\n",
    "mean_weight_in = np.mean(list(Weight_in.values()))\n",
    "mean_weight_out = np.mean(list(Weight_out.values()))"
   ]
  },
  {
   "cell_type": "code",
   "execution_count": 17,
   "metadata": {
    "ExecuteTime": {
     "end_time": "2019-09-29T05:37:07.991837Z",
     "start_time": "2019-09-29T05:35:36.729766Z"
    }
   },
   "outputs": [
    {
     "name": "stderr",
     "output_type": "stream",
     "text": [
      "100%|██████████| 15100030/15100030 [00:35<00:00, 424323.31it/s]\n",
      "100%|██████████| 15100030/15100030 [00:36<00:00, 418957.18it/s]\n",
      "100%|██████████| 3775008/3775008 [00:08<00:00, 430080.04it/s]\n",
      "100%|██████████| 3775008/3775008 [00:10<00:00, 355137.68it/s]\n"
     ]
    },
    {
     "data": {
      "application/javascript": [
       "$(document).ready(\n",
       "    function() {\n",
       "        function appendUniqueDiv(){\n",
       "            // append a div with our uuid so we can check that it's already\n",
       "            // been sent and avoid duplicates on page reload\n",
       "            var notifiedDiv = document.createElement(\"div\")\n",
       "            notifiedDiv.id = \"ad80fd71-5071-40b1-bf48-2365abffb971\"\n",
       "            element.append(notifiedDiv)\n",
       "        }\n",
       "\n",
       "        // only send notifications if the pageload is complete; this will\n",
       "        // help stop extra notifications when a saved notebook is loaded,\n",
       "        // which during testing gives us state \"interactive\", not \"complete\"\n",
       "        if (document.readyState === 'complete') {\n",
       "            // check for the div that signifies that the notification\n",
       "            // was already sent\n",
       "            if (document.getElementById(\"ad80fd71-5071-40b1-bf48-2365abffb971\") === null) {\n",
       "                var notificationPayload = {\"requireInteraction\": false, \"icon\": \"/static/base/images/favicon.ico\", \"body\": \"Cell execution has finished!\"};\n",
       "                if (Notification.permission !== 'denied') {\n",
       "                    if (Notification.permission !== 'granted') { \n",
       "                        Notification.requestPermission(function (permission) {\n",
       "                            if(!('permission' in Notification)) {\n",
       "                                Notification.permission = permission\n",
       "                            }\n",
       "                        })\n",
       "                    }\n",
       "                    if (Notification.permission === 'granted') {\n",
       "                    var notification = new Notification(\"Jupyter Notebook\", notificationPayload)\n",
       "                    appendUniqueDiv()\n",
       "                    notification.onclick = function () {\n",
       "                        window.focus();\n",
       "                        this.close();\n",
       "                        };\n",
       "                    } \n",
       "                }     \n",
       "            }\n",
       "        }\n",
       "    }\n",
       ")\n"
      ],
      "text/plain": [
       "<IPython.core.display.Javascript object>"
      ]
     },
     "metadata": {},
     "output_type": "display_data"
    }
   ],
   "source": [
    "%%notify\n",
    "df_train['weight_in'] = df_train.destination.progress_apply(lambda x: Weight_in.get(x,mean_weight_in))\n",
    "df_train['weight_out'] = df_train.source.progress_apply(lambda x: Weight_out.get(x,mean_weight_out))\n",
    "\n",
    "#mapping to pandas test\n",
    "df_test['weight_in'] = df_test.destination.progress_apply(lambda x: Weight_in.get(x,mean_weight_in))\n",
    "df_test['weight_out'] = df_test.source.progress_apply(lambda x: Weight_out.get(x,mean_weight_out))"
   ]
  },
  {
   "cell_type": "code",
   "execution_count": 18,
   "metadata": {
    "ExecuteTime": {
     "end_time": "2019-09-29T05:46:54.793008Z",
     "start_time": "2019-09-29T05:37:29.048670Z"
    }
   },
   "outputs": [
    {
     "data": {
      "application/javascript": [
       "$(document).ready(\n",
       "    function() {\n",
       "        function appendUniqueDiv(){\n",
       "            // append a div with our uuid so we can check that it's already\n",
       "            // been sent and avoid duplicates on page reload\n",
       "            var notifiedDiv = document.createElement(\"div\")\n",
       "            notifiedDiv.id = \"ef78d6ef-0133-4be7-9d88-f09ec635a93e\"\n",
       "            element.append(notifiedDiv)\n",
       "        }\n",
       "\n",
       "        // only send notifications if the pageload is complete; this will\n",
       "        // help stop extra notifications when a saved notebook is loaded,\n",
       "        // which during testing gives us state \"interactive\", not \"complete\"\n",
       "        if (document.readyState === 'complete') {\n",
       "            // check for the div that signifies that the notification\n",
       "            // was already sent\n",
       "            if (document.getElementById(\"ef78d6ef-0133-4be7-9d88-f09ec635a93e\") === null) {\n",
       "                var notificationPayload = {\"requireInteraction\": false, \"icon\": \"/static/base/images/favicon.ico\", \"body\": \"Cell execution has finished!\"};\n",
       "                if (Notification.permission !== 'denied') {\n",
       "                    if (Notification.permission !== 'granted') { \n",
       "                        Notification.requestPermission(function (permission) {\n",
       "                            if(!('permission' in Notification)) {\n",
       "                                Notification.permission = permission\n",
       "                            }\n",
       "                        })\n",
       "                    }\n",
       "                    if (Notification.permission === 'granted') {\n",
       "                    var notification = new Notification(\"Jupyter Notebook\", notificationPayload)\n",
       "                    appendUniqueDiv()\n",
       "                    notification.onclick = function () {\n",
       "                        window.focus();\n",
       "                        this.close();\n",
       "                        };\n",
       "                    } \n",
       "                }     \n",
       "            }\n",
       "        }\n",
       "    }\n",
       ")\n"
      ],
      "text/plain": [
       "<IPython.core.display.Javascript object>"
      ]
     },
     "metadata": {},
     "output_type": "display_data"
    }
   ],
   "source": [
    "%%notify\n",
    "df_train.to_csv('df_train_partial.csv', index=False)\n",
    "df_test.to_csv('df_test_partial.csv', index=False)"
   ]
  },
  {
   "cell_type": "code",
   "execution_count": 5,
   "metadata": {
    "ExecuteTime": {
     "end_time": "2019-09-29T08:16:26.253434Z",
     "start_time": "2019-09-29T08:15:28.886749Z"
    }
   },
   "outputs": [],
   "source": [
    "df_train = pd.read_csv('df_train_partial.csv')\n",
    "df_test = pd.read_csv('df_test_partial.csv')"
   ]
  },
  {
   "cell_type": "markdown",
   "metadata": {},
   "source": [
    "## 11. SVD features"
   ]
  },
  {
   "cell_type": "code",
   "execution_count": 6,
   "metadata": {
    "ExecuteTime": {
     "end_time": "2019-09-29T08:16:34.241678Z",
     "start_time": "2019-09-29T08:16:32.832705Z"
    }
   },
   "outputs": [],
   "source": [
    "# this is a mappig for svd features\n",
    "sadj_col = sorted(g_train.nodes())\n",
    "sadj_dict = { val:idx for idx,val in enumerate(sadj_col)}"
   ]
  },
  {
   "cell_type": "code",
   "execution_count": 7,
   "metadata": {
    "ExecuteTime": {
     "end_time": "2019-09-29T07:00:29.240695Z",
     "start_time": "2019-09-29T06:59:12.821447Z"
    }
   },
   "outputs": [
    {
     "data": {
      "application/javascript": [
       "$(document).ready(\n",
       "    function() {\n",
       "        function appendUniqueDiv(){\n",
       "            // append a div with our uuid so we can check that it's already\n",
       "            // been sent and avoid duplicates on page reload\n",
       "            var notifiedDiv = document.createElement(\"div\")\n",
       "            notifiedDiv.id = \"38edf23f-92db-4b61-8c95-c876f52442ff\"\n",
       "            element.append(notifiedDiv)\n",
       "        }\n",
       "\n",
       "        // only send notifications if the pageload is complete; this will\n",
       "        // help stop extra notifications when a saved notebook is loaded,\n",
       "        // which during testing gives us state \"interactive\", not \"complete\"\n",
       "        if (document.readyState === 'complete') {\n",
       "            // check for the div that signifies that the notification\n",
       "            // was already sent\n",
       "            if (document.getElementById(\"38edf23f-92db-4b61-8c95-c876f52442ff\") === null) {\n",
       "                var notificationPayload = {\"requireInteraction\": false, \"body\": \"Cell execution has finished!\", \"icon\": \"/static/base/images/favicon.ico\"};\n",
       "                if (Notification.permission !== 'denied') {\n",
       "                    if (Notification.permission !== 'granted') { \n",
       "                        Notification.requestPermission(function (permission) {\n",
       "                            if(!('permission' in Notification)) {\n",
       "                                Notification.permission = permission\n",
       "                            }\n",
       "                        })\n",
       "                    }\n",
       "                    if (Notification.permission === 'granted') {\n",
       "                    var notification = new Notification(\"Jupyter Notebook\", notificationPayload)\n",
       "                    appendUniqueDiv()\n",
       "                    notification.onclick = function () {\n",
       "                        window.focus();\n",
       "                        this.close();\n",
       "                        };\n",
       "                    } \n",
       "                }     \n",
       "            }\n",
       "        }\n",
       "    }\n",
       ")\n"
      ],
      "text/plain": [
       "<IPython.core.display.Javascript object>"
      ]
     },
     "metadata": {},
     "output_type": "display_data"
    }
   ],
   "source": [
    "%%notify\n",
    "Adj = nx.adjacency_matrix(g_train, nodelist=sorted(g_train.nodes())).asfptype()"
   ]
  },
  {
   "cell_type": "code",
   "execution_count": 8,
   "metadata": {
    "ExecuteTime": {
     "end_time": "2019-09-29T08:16:55.273831Z",
     "start_time": "2019-09-29T08:16:55.269275Z"
    }
   },
   "outputs": [],
   "source": [
    "def svd(x, S):\n",
    "    try:\n",
    "        z = sadj_dict[x]\n",
    "        return S[z]\n",
    "    except:\n",
    "        return [0,0,0,0,0,0]"
   ]
  },
  {
   "cell_type": "code",
   "execution_count": 9,
   "metadata": {
    "ExecuteTime": {
     "end_time": "2019-09-29T08:16:59.091618Z",
     "start_time": "2019-09-29T08:16:59.087986Z"
    }
   },
   "outputs": [],
   "source": [
    "from scipy.sparse.linalg import svds, eigs"
   ]
  },
  {
   "cell_type": "code",
   "execution_count": 10,
   "metadata": {
    "ExecuteTime": {
     "end_time": "2019-09-29T06:05:31.681906Z",
     "start_time": "2019-09-29T06:05:03.144213Z"
    }
   },
   "outputs": [
    {
     "name": "stdout",
     "output_type": "stream",
     "text": [
      "Adjacency matrix Shape (1780722, 1780722)\n",
      "U Shape (1780722, 6)\n",
      "V Shape (6, 1780722)\n",
      "s Shape (6,)\n"
     ]
    }
   ],
   "source": [
    "U, s, V = svds(Adj, k = 6)\n",
    "print('Adjacency matrix Shape',Adj.shape)\n",
    "print('U Shape',U.shape)\n",
    "print('V Shape',V.shape)\n",
    "print('s Shape',s.shape)"
   ]
  },
  {
   "cell_type": "markdown",
   "metadata": {},
   "source": [
    "Save the decomposed matrices on to the disk"
   ]
  },
  {
   "cell_type": "code",
   "execution_count": 7,
   "metadata": {
    "ExecuteTime": {
     "end_time": "2019-09-29T08:16:41.010545Z",
     "start_time": "2019-09-29T08:16:39.574810Z"
    }
   },
   "outputs": [],
   "source": [
    "# pickle.dump(U, open('U.pkl', 'wb'))\n",
    "# pickle.dump(s, open('s.pkl', 'wb'))\n",
    "# pickle.dump(V, open('V.pkl', 'wb'))\n",
    "\n",
    "U = pickle.load(open('U.pkl', 'rb'))\n",
    "s = pickle.load(open('s.pkl', 'rb'))\n",
    "V = pickle.load(open('V.pkl', 'rb'))"
   ]
  },
  {
   "cell_type": "code",
   "execution_count": 11,
   "metadata": {
    "ExecuteTime": {
     "end_time": "2019-09-29T09:18:18.884661Z",
     "start_time": "2019-09-29T08:18:10.074877Z"
    }
   },
   "outputs": [
    {
     "name": "stderr",
     "output_type": "stream",
     "text": [
      "100%|██████████| 15100030/15100030 [00:33<00:00, 447096.30it/s]\n",
      "100%|██████████| 15100030/15100030 [47:22<00:00, 5313.06it/s] \n",
      "100%|██████████| 3775008/3775008 [00:09<00:00, 379455.86it/s]\n",
      "100%|██████████| 3775008/3775008 [11:49<00:00, 5320.32it/s] \n"
     ]
    },
    {
     "data": {
      "application/javascript": [
       "$(document).ready(\n",
       "    function() {\n",
       "        function appendUniqueDiv(){\n",
       "            // append a div with our uuid so we can check that it's already\n",
       "            // been sent and avoid duplicates on page reload\n",
       "            var notifiedDiv = document.createElement(\"div\")\n",
       "            notifiedDiv.id = \"07192374-1d0d-4e69-b7a4-44fefd1c8108\"\n",
       "            element.append(notifiedDiv)\n",
       "        }\n",
       "\n",
       "        // only send notifications if the pageload is complete; this will\n",
       "        // help stop extra notifications when a saved notebook is loaded,\n",
       "        // which during testing gives us state \"interactive\", not \"complete\"\n",
       "        if (document.readyState === 'complete') {\n",
       "            // check for the div that signifies that the notification\n",
       "            // was already sent\n",
       "            if (document.getElementById(\"07192374-1d0d-4e69-b7a4-44fefd1c8108\") === null) {\n",
       "                var notificationPayload = {\"body\": \"Cell execution has finished!\", \"icon\": \"/static/base/images/favicon.ico\", \"requireInteraction\": false};\n",
       "                if (Notification.permission !== 'denied') {\n",
       "                    if (Notification.permission !== 'granted') { \n",
       "                        Notification.requestPermission(function (permission) {\n",
       "                            if(!('permission' in Notification)) {\n",
       "                                Notification.permission = permission\n",
       "                            }\n",
       "                        })\n",
       "                    }\n",
       "                    if (Notification.permission === 'granted') {\n",
       "                    var notification = new Notification(\"Jupyter Notebook\", notificationPayload)\n",
       "                    appendUniqueDiv()\n",
       "                    notification.onclick = function () {\n",
       "                        window.focus();\n",
       "                        this.close();\n",
       "                        };\n",
       "                    } \n",
       "                }     \n",
       "            }\n",
       "        }\n",
       "    }\n",
       ")\n"
      ],
      "text/plain": [
       "<IPython.core.display.Javascript object>"
      ]
     },
     "metadata": {},
     "output_type": "display_data"
    }
   ],
   "source": [
    "%%notify\n",
    "\n",
    "df_train[['svd_u_s_1', 'svd_u_s_2','svd_u_s_3', 'svd_u_s_4', 'svd_u_s_5', 'svd_u_s_6']] = \\\n",
    "df_train.source.progress_apply(lambda x: svd(x, U)).progress_apply(pd.Series)\n",
    "\n",
    "df_test[['svd_u_s_1', 'svd_u_s_2','svd_u_s_3', 'svd_u_s_4', 'svd_u_s_5', 'svd_u_s_6']] = \\\n",
    "df_test.source.progress_apply(lambda x: svd(x, U)).progress_apply(pd.Series)"
   ]
  },
  {
   "cell_type": "code",
   "execution_count": 12,
   "metadata": {
    "ExecuteTime": {
     "end_time": "2019-09-29T09:18:18.892451Z",
     "start_time": "2019-09-29T09:18:18.886866Z"
    }
   },
   "outputs": [
    {
     "data": {
      "text/plain": [
       "((15100030, 27), (3775008, 27))"
      ]
     },
     "execution_count": 12,
     "metadata": {},
     "output_type": "execute_result"
    }
   ],
   "source": [
    "df_train.shape, df_test.shape"
   ]
  },
  {
   "cell_type": "code",
   "execution_count": 13,
   "metadata": {
    "ExecuteTime": {
     "end_time": "2019-09-29T09:31:27.256637Z",
     "start_time": "2019-09-29T09:18:18.894548Z"
    }
   },
   "outputs": [
    {
     "data": {
      "application/javascript": [
       "$(document).ready(\n",
       "    function() {\n",
       "        function appendUniqueDiv(){\n",
       "            // append a div with our uuid so we can check that it's already\n",
       "            // been sent and avoid duplicates on page reload\n",
       "            var notifiedDiv = document.createElement(\"div\")\n",
       "            notifiedDiv.id = \"15590ff2-3e81-4f31-b671-5ddec1d2d6fe\"\n",
       "            element.append(notifiedDiv)\n",
       "        }\n",
       "\n",
       "        // only send notifications if the pageload is complete; this will\n",
       "        // help stop extra notifications when a saved notebook is loaded,\n",
       "        // which during testing gives us state \"interactive\", not \"complete\"\n",
       "        if (document.readyState === 'complete') {\n",
       "            // check for the div that signifies that the notification\n",
       "            // was already sent\n",
       "            if (document.getElementById(\"15590ff2-3e81-4f31-b671-5ddec1d2d6fe\") === null) {\n",
       "                var notificationPayload = {\"body\": \"Cell execution has finished!\", \"icon\": \"/static/base/images/favicon.ico\", \"requireInteraction\": false};\n",
       "                if (Notification.permission !== 'denied') {\n",
       "                    if (Notification.permission !== 'granted') { \n",
       "                        Notification.requestPermission(function (permission) {\n",
       "                            if(!('permission' in Notification)) {\n",
       "                                Notification.permission = permission\n",
       "                            }\n",
       "                        })\n",
       "                    }\n",
       "                    if (Notification.permission === 'granted') {\n",
       "                    var notification = new Notification(\"Jupyter Notebook\", notificationPayload)\n",
       "                    appendUniqueDiv()\n",
       "                    notification.onclick = function () {\n",
       "                        window.focus();\n",
       "                        this.close();\n",
       "                        };\n",
       "                    } \n",
       "                }     \n",
       "            }\n",
       "        }\n",
       "    }\n",
       ")\n"
      ],
      "text/plain": [
       "<IPython.core.display.Javascript object>"
      ]
     },
     "metadata": {},
     "output_type": "display_data"
    }
   ],
   "source": [
    "%%notify\n",
    "df_train.to_csv('df_train_partial.csv', index=False)\n",
    "df_test.to_csv('df_test_partial.csv', index=False)"
   ]
  },
  {
   "cell_type": "code",
   "execution_count": 14,
   "metadata": {
    "ExecuteTime": {
     "end_time": "2019-09-29T10:50:44.966442Z",
     "start_time": "2019-09-29T09:33:18.240092Z"
    },
    "scrolled": true
   },
   "outputs": [
    {
     "name": "stderr",
     "output_type": "stream",
     "text": [
      "100%|██████████| 15100030/15100030 [00:35<00:00, 421043.90it/s]\n",
      "100%|██████████| 15100030/15100030 [48:32<00:00, 5184.45it/s]  \n",
      "100%|██████████| 3775008/3775008 [00:09<00:00, 405475.63it/s]\n",
      "100%|██████████| 3775008/3775008 [11:07<00:00, 5652.87it/s] \n"
     ]
    },
    {
     "data": {
      "application/javascript": [
       "$(document).ready(\n",
       "    function() {\n",
       "        function appendUniqueDiv(){\n",
       "            // append a div with our uuid so we can check that it's already\n",
       "            // been sent and avoid duplicates on page reload\n",
       "            var notifiedDiv = document.createElement(\"div\")\n",
       "            notifiedDiv.id = \"860e2c61-0896-4c6e-a581-7ef55266dc69\"\n",
       "            element.append(notifiedDiv)\n",
       "        }\n",
       "\n",
       "        // only send notifications if the pageload is complete; this will\n",
       "        // help stop extra notifications when a saved notebook is loaded,\n",
       "        // which during testing gives us state \"interactive\", not \"complete\"\n",
       "        if (document.readyState === 'complete') {\n",
       "            // check for the div that signifies that the notification\n",
       "            // was already sent\n",
       "            if (document.getElementById(\"860e2c61-0896-4c6e-a581-7ef55266dc69\") === null) {\n",
       "                var notificationPayload = {\"body\": \"Cell execution has finished!\", \"icon\": \"/static/base/images/favicon.ico\", \"requireInteraction\": false};\n",
       "                if (Notification.permission !== 'denied') {\n",
       "                    if (Notification.permission !== 'granted') { \n",
       "                        Notification.requestPermission(function (permission) {\n",
       "                            if(!('permission' in Notification)) {\n",
       "                                Notification.permission = permission\n",
       "                            }\n",
       "                        })\n",
       "                    }\n",
       "                    if (Notification.permission === 'granted') {\n",
       "                    var notification = new Notification(\"Jupyter Notebook\", notificationPayload)\n",
       "                    appendUniqueDiv()\n",
       "                    notification.onclick = function () {\n",
       "                        window.focus();\n",
       "                        this.close();\n",
       "                        };\n",
       "                    } \n",
       "                }     \n",
       "            }\n",
       "        }\n",
       "    }\n",
       ")\n"
      ],
      "text/plain": [
       "<IPython.core.display.Javascript object>"
      ]
     },
     "metadata": {},
     "output_type": "display_data"
    }
   ],
   "source": [
    "%%notify\n",
    "df_train[['svd_u_d_1', 'svd_u_d_2', 'svd_u_d_3', 'svd_u_d_4', 'svd_u_d_5','svd_u_d_6']] = \\\n",
    "df_train.destination.progress_apply(lambda x: svd(x, U)).progress_apply(pd.Series)\n",
    "\n",
    "df_test[['svd_u_d_1', 'svd_u_d_2', 'svd_u_d_3', 'svd_u_d_4', 'svd_u_d_5','svd_u_d_6']] = \\\n",
    "df_test.destination.progress_apply(lambda x: svd(x, U)).progress_apply(pd.Series)\n",
    "\n",
    "df_train.to_csv('df_train_partial.csv', index=False)\n",
    "df_test.to_csv('df_test_partial.csv', index=False)"
   ]
  },
  {
   "cell_type": "code",
   "execution_count": 15,
   "metadata": {
    "ExecuteTime": {
     "end_time": "2019-09-29T12:13:41.378652Z",
     "start_time": "2019-09-29T10:51:55.896638Z"
    }
   },
   "outputs": [
    {
     "name": "stderr",
     "output_type": "stream",
     "text": [
      "100%|██████████| 15100030/15100030 [00:40<00:00, 371092.91it/s]\n",
      "100%|██████████| 15100030/15100030 [47:50<00:00, 5261.05it/s]  \n",
      "100%|██████████| 3775008/3775008 [00:10<00:00, 373569.04it/s]\n",
      "100%|██████████| 3775008/3775008 [11:38<00:00, 5402.37it/s] \n"
     ]
    },
    {
     "data": {
      "application/javascript": [
       "$(document).ready(\n",
       "    function() {\n",
       "        function appendUniqueDiv(){\n",
       "            // append a div with our uuid so we can check that it's already\n",
       "            // been sent and avoid duplicates on page reload\n",
       "            var notifiedDiv = document.createElement(\"div\")\n",
       "            notifiedDiv.id = \"2733c5d1-4439-49a8-b980-de5f1fe7f6a8\"\n",
       "            element.append(notifiedDiv)\n",
       "        }\n",
       "\n",
       "        // only send notifications if the pageload is complete; this will\n",
       "        // help stop extra notifications when a saved notebook is loaded,\n",
       "        // which during testing gives us state \"interactive\", not \"complete\"\n",
       "        if (document.readyState === 'complete') {\n",
       "            // check for the div that signifies that the notification\n",
       "            // was already sent\n",
       "            if (document.getElementById(\"2733c5d1-4439-49a8-b980-de5f1fe7f6a8\") === null) {\n",
       "                var notificationPayload = {\"body\": \"Cell execution has finished!\", \"icon\": \"/static/base/images/favicon.ico\", \"requireInteraction\": false};\n",
       "                if (Notification.permission !== 'denied') {\n",
       "                    if (Notification.permission !== 'granted') { \n",
       "                        Notification.requestPermission(function (permission) {\n",
       "                            if(!('permission' in Notification)) {\n",
       "                                Notification.permission = permission\n",
       "                            }\n",
       "                        })\n",
       "                    }\n",
       "                    if (Notification.permission === 'granted') {\n",
       "                    var notification = new Notification(\"Jupyter Notebook\", notificationPayload)\n",
       "                    appendUniqueDiv()\n",
       "                    notification.onclick = function () {\n",
       "                        window.focus();\n",
       "                        this.close();\n",
       "                        };\n",
       "                    } \n",
       "                }     \n",
       "            }\n",
       "        }\n",
       "    }\n",
       ")\n"
      ],
      "text/plain": [
       "<IPython.core.display.Javascript object>"
      ]
     },
     "metadata": {},
     "output_type": "display_data"
    }
   ],
   "source": [
    "%%notify\n",
    "\n",
    "df_train[['svd_v_s_1','svd_v_s_2', 'svd_v_s_3', 'svd_v_s_4', 'svd_v_s_5', 'svd_v_s_6',]] = \\\n",
    "df_train.source.progress_apply(lambda x: svd(x, V.T)).progress_apply(pd.Series)\n",
    "\n",
    "df_test[['svd_v_s_1','svd_v_s_2', 'svd_v_s_3', 'svd_v_s_4', 'svd_v_s_5', 'svd_v_s_6',]] = \\\n",
    "df_test.source.progress_apply(lambda x: svd(x, V.T)).progress_apply(pd.Series)\n",
    "\n",
    "df_train.to_csv('df_train_partial.csv', index=False)\n",
    "df_test.to_csv('df_test_partial.csv', index=False)"
   ]
  },
  {
   "cell_type": "code",
   "execution_count": 16,
   "metadata": {
    "ExecuteTime": {
     "end_time": "2019-09-29T12:14:12.347131Z",
     "start_time": "2019-09-29T12:14:12.341188Z"
    }
   },
   "outputs": [
    {
     "data": {
      "text/plain": [
       "((3775008, 39), (15100030, 39))"
      ]
     },
     "execution_count": 16,
     "metadata": {},
     "output_type": "execute_result"
    }
   ],
   "source": [
    "df_test.shape, df_train.shape"
   ]
  },
  {
   "cell_type": "code",
   "execution_count": 17,
   "metadata": {
    "ExecuteTime": {
     "end_time": "2019-09-29T13:41:31.158936Z",
     "start_time": "2019-09-29T12:14:37.923550Z"
    }
   },
   "outputs": [
    {
     "name": "stderr",
     "output_type": "stream",
     "text": [
      "100%|██████████| 15100030/15100030 [00:43<00:00, 348192.80it/s]\n",
      "100%|██████████| 15100030/15100030 [50:07<00:00, 5020.71it/s] \n",
      "100%|██████████| 3775008/3775008 [00:10<00:00, 364510.71it/s]\n",
      "100%|██████████| 3775008/3775008 [11:14<00:00, 5598.11it/s] \n"
     ]
    },
    {
     "data": {
      "application/javascript": [
       "$(document).ready(\n",
       "    function() {\n",
       "        function appendUniqueDiv(){\n",
       "            // append a div with our uuid so we can check that it's already\n",
       "            // been sent and avoid duplicates on page reload\n",
       "            var notifiedDiv = document.createElement(\"div\")\n",
       "            notifiedDiv.id = \"97b985c2-dc8c-413c-81bc-5b084e995244\"\n",
       "            element.append(notifiedDiv)\n",
       "        }\n",
       "\n",
       "        // only send notifications if the pageload is complete; this will\n",
       "        // help stop extra notifications when a saved notebook is loaded,\n",
       "        // which during testing gives us state \"interactive\", not \"complete\"\n",
       "        if (document.readyState === 'complete') {\n",
       "            // check for the div that signifies that the notification\n",
       "            // was already sent\n",
       "            if (document.getElementById(\"97b985c2-dc8c-413c-81bc-5b084e995244\") === null) {\n",
       "                var notificationPayload = {\"body\": \"Cell execution has finished!\", \"icon\": \"/static/base/images/favicon.ico\", \"requireInteraction\": false};\n",
       "                if (Notification.permission !== 'denied') {\n",
       "                    if (Notification.permission !== 'granted') { \n",
       "                        Notification.requestPermission(function (permission) {\n",
       "                            if(!('permission' in Notification)) {\n",
       "                                Notification.permission = permission\n",
       "                            }\n",
       "                        })\n",
       "                    }\n",
       "                    if (Notification.permission === 'granted') {\n",
       "                    var notification = new Notification(\"Jupyter Notebook\", notificationPayload)\n",
       "                    appendUniqueDiv()\n",
       "                    notification.onclick = function () {\n",
       "                        window.focus();\n",
       "                        this.close();\n",
       "                        };\n",
       "                    } \n",
       "                }     \n",
       "            }\n",
       "        }\n",
       "    }\n",
       ")\n"
      ],
      "text/plain": [
       "<IPython.core.display.Javascript object>"
      ]
     },
     "metadata": {},
     "output_type": "display_data"
    }
   ],
   "source": [
    "%%notify\n",
    "df_train[['svd_v_d_1', 'svd_v_d_2', 'svd_v_d_3', 'svd_v_d_4', 'svd_v_d_5','svd_v_d_6']] = \\\n",
    "df_train.destination.progress_apply(lambda x: svd(x, V.T)).progress_apply(pd.Series)\n",
    "\n",
    "df_test[['svd_v_d_1', 'svd_v_d_2', 'svd_v_d_3', 'svd_v_d_4', 'svd_v_d_5','svd_v_d_6']] = \\\n",
    "df_test.destination.progress_apply(lambda x: svd(x, V.T)).progress_apply(pd.Series)\n",
    "\n",
    "df_train.to_csv('df_train_partial.csv', index=False)\n",
    "df_test.to_csv('df_test_partial.csv', index=False)"
   ]
  },
  {
   "cell_type": "markdown",
   "metadata": {},
   "source": [
    "done upto here"
   ]
  },
  {
   "cell_type": "code",
   "execution_count": 20,
   "metadata": {
    "ExecuteTime": {
     "end_time": "2019-09-29T13:44:11.887484Z",
     "start_time": "2019-09-29T13:44:11.882960Z"
    }
   },
   "outputs": [
    {
     "data": {
      "text/plain": [
       "((15100030, 45), (3775008, 45))"
      ]
     },
     "execution_count": 20,
     "metadata": {},
     "output_type": "execute_result"
    }
   ],
   "source": [
    "df_train.shape, df_test.shape"
   ]
  },
  {
   "cell_type": "markdown",
   "metadata": {},
   "source": [
    "## 12. SVD dot feature\n",
    "\n",
    "\n",
    "This is a dot product between the source SVD features and destination SVD features"
   ]
  },
  {
   "cell_type": "code",
   "execution_count": 8,
   "metadata": {
    "ExecuteTime": {
     "end_time": "2019-09-29T15:21:16.240204Z",
     "start_time": "2019-09-29T15:21:16.236189Z"
    }
   },
   "outputs": [
    {
     "data": {
      "text/plain": [
       "Index(['source', 'destination', 'edge_exists', 'jaccard_followers',\n",
       "       'jaccard_followees', 'cosine_followers', 'cosine_followees',\n",
       "       'follows_back', 'shortest_path', 'pr_source', 'pr_destination',\n",
       "       'same_component', 'adar_index', 'katz_s', 'katz_d', 'hubs_s', 'hubs_d',\n",
       "       'authorities_s', 'authorities_d', 'weight_in', 'weight_out',\n",
       "       'svd_u_s_1', 'svd_u_s_2', 'svd_u_s_3', 'svd_u_s_4', 'svd_u_s_5',\n",
       "       'svd_u_s_6', 'svd_u_d_1', 'svd_u_d_2', 'svd_u_d_3', 'svd_u_d_4',\n",
       "       'svd_u_d_5', 'svd_u_d_6', 'svd_v_s_1', 'svd_v_s_2', 'svd_v_s_3',\n",
       "       'svd_v_s_4', 'svd_v_s_5', 'svd_v_s_6', 'svd_v_d_1', 'svd_v_d_2',\n",
       "       'svd_v_d_3', 'svd_v_d_4', 'svd_v_d_5', 'svd_v_d_6'],\n",
       "      dtype='object')"
      ]
     },
     "execution_count": 8,
     "metadata": {},
     "output_type": "execute_result"
    }
   ],
   "source": [
    "df_train.columns"
   ]
  },
  {
   "cell_type": "code",
   "execution_count": null,
   "metadata": {
    "ExecuteTime": {
     "end_time": "2019-09-29T20:28:15.464897Z",
     "start_time": "2019-09-29T15:21:36.403345Z"
    }
   },
   "outputs": [],
   "source": [
    "%%notify\n",
    "\n",
    "df_train['svd_DOT'] = df_train.progress_apply(lambda x: np.dot(x[['svd_u_s_1', 'svd_u_s_2', \n",
    "                                                         'svd_u_s_3', 'svd_u_s_4', 'svd_u_s_5',\n",
    "                                                         'svd_u_s_6', 'svd_v_s_1', 'svd_v_s_2', \n",
    "                                                         'svd_v_s_3', 'svd_v_s_4', 'svd_v_s_5',\n",
    "                                                         'svd_v_s_6']],\n",
    "                                                      x[['svd_u_d_1', 'svd_u_d_2',\n",
    "                                                         'svd_u_d_3', 'svd_u_d_4', 'svd_u_d_5',\n",
    "                                                         'svd_u_d_6', 'svd_v_d_1', 'svd_v_d_2',\n",
    "                                                         'svd_v_d_3', 'svd_v_d_4', 'svd_v_d_5',\n",
    "                                                         'svd_v_d_6']]), axis=1)\n",
    "\n",
    "df_train.to_csv('df_train_partial.csv', index=False)"
   ]
  },
  {
   "cell_type": "markdown",
   "metadata": {},
   "source": [
    "SVD dot feature for test data"
   ]
  },
  {
   "cell_type": "code",
   "execution_count": null,
   "metadata": {
    "ExecuteTime": {
     "end_time": "2019-09-29T21:45:51.949456Z",
     "start_time": "2019-09-29T20:28:15.466776Z"
    }
   },
   "outputs": [],
   "source": [
    "%%notify\n",
    "\n",
    "df_test['svd_DOT'] = df_test.progress_apply(lambda x: np.dot(x[['svd_u_s_1', 'svd_u_s_2', \n",
    "                                                         'svd_u_s_3', 'svd_u_s_4', 'svd_u_s_5',\n",
    "                                                         'svd_u_s_6', 'svd_v_s_1', 'svd_v_s_2', \n",
    "                                                         'svd_v_s_3', 'svd_v_s_4', 'svd_v_s_5',\n",
    "                                                         'svd_v_s_6']],\n",
    "                                                      x[['svd_u_d_1', 'svd_u_d_2',\n",
    "                                                         'svd_u_d_3', 'svd_u_d_4', 'svd_u_d_5',\n",
    "                                                         'svd_u_d_6', 'svd_v_d_1', 'svd_v_d_2',\n",
    "                                                         'svd_v_d_3', 'svd_v_d_4', 'svd_v_d_5',\n",
    "                                                         'svd_v_d_6']]), axis=1)\n",
    "\n",
    "df_test.to_csv('df_test_partial.csv', index=False)"
   ]
  },
  {
   "cell_type": "markdown",
   "metadata": {},
   "source": [
    "## 13. Preferential Attachment\n",
    "\n",
    "Preferential Attachment - One well-known concept in social networks is that users with many friends tend to create more connections in the future. We estimate PA between our two vertices by calculating the multiplication between the number of friends (|Γ(x)|) or followers each vertex has. "
   ]
  },
  {
   "cell_type": "code",
   "execution_count": 13,
   "metadata": {
    "ExecuteTime": {
     "end_time": "2019-09-30T00:59:43.167252Z",
     "start_time": "2019-09-30T00:59:43.150695Z"
    }
   },
   "outputs": [],
   "source": [
    "def preferential_attachment_followers(source, destination):\n",
    "    try:\n",
    "        return len(list(g_train.predecessors(source))) * len(list(g_train.predecessors(destination)))\n",
    "    except:\n",
    "        return -1\n",
    "    \n",
    "    \n",
    "def preferential_attachment_followees(source, destination):\n",
    "    try:\n",
    "        return len(list(g_train.successors(source))) * len(list(g_train.successors(destination)))\n",
    "    except:\n",
    "        return -1"
   ]
  },
  {
   "cell_type": "code",
   "execution_count": 15,
   "metadata": {
    "ExecuteTime": {
     "end_time": "2019-09-30T01:17:45.210218Z",
     "start_time": "2019-09-30T01:00:38.206889Z"
    },
    "scrolled": true
   },
   "outputs": [
    {
     "data": {
      "application/javascript": [
       "$(document).ready(\n",
       "    function() {\n",
       "        function appendUniqueDiv(){\n",
       "            // append a div with our uuid so we can check that it's already\n",
       "            // been sent and avoid duplicates on page reload\n",
       "            var notifiedDiv = document.createElement(\"div\")\n",
       "            notifiedDiv.id = \"d686f395-d980-45f6-8b3a-42e952b36a87\"\n",
       "            element.append(notifiedDiv)\n",
       "        }\n",
       "\n",
       "        // only send notifications if the pageload is complete; this will\n",
       "        // help stop extra notifications when a saved notebook is loaded,\n",
       "        // which during testing gives us state \"interactive\", not \"complete\"\n",
       "        if (document.readyState === 'complete') {\n",
       "            // check for the div that signifies that the notification\n",
       "            // was already sent\n",
       "            if (document.getElementById(\"d686f395-d980-45f6-8b3a-42e952b36a87\") === null) {\n",
       "                var notificationPayload = {\"requireInteraction\": false, \"icon\": \"/static/base/images/favicon.ico\", \"body\": \"Cell execution has finished!\"};\n",
       "                if (Notification.permission !== 'denied') {\n",
       "                    if (Notification.permission !== 'granted') { \n",
       "                        Notification.requestPermission(function (permission) {\n",
       "                            if(!('permission' in Notification)) {\n",
       "                                Notification.permission = permission\n",
       "                            }\n",
       "                        })\n",
       "                    }\n",
       "                    if (Notification.permission === 'granted') {\n",
       "                    var notification = new Notification(\"Jupyter Notebook\", notificationPayload)\n",
       "                    appendUniqueDiv()\n",
       "                    notification.onclick = function () {\n",
       "                        window.focus();\n",
       "                        this.close();\n",
       "                        };\n",
       "                    } \n",
       "                }     \n",
       "            }\n",
       "        }\n",
       "    }\n",
       ")\n"
      ],
      "text/plain": [
       "<IPython.core.display.Javascript object>"
      ]
     },
     "metadata": {},
     "output_type": "display_data"
    }
   ],
   "source": [
    "%%notify\n",
    "\n",
    "df_train['PA_followers'] = df_train.apply(\n",
    "    lambda row: preferential_attachment_followers(row['source'], row['destination']), axis=1)\n",
    "\n",
    "\n",
    "df_train['PA_followees'] = df_train.apply(\n",
    "    lambda row: preferential_attachment_followees(row['source'], row['destination']), axis=1)\n",
    "\n",
    "\n",
    "\n",
    "df_test['PA_followers'] = df_test.apply(\n",
    "    lambda row: preferential_attachment_followers(row['source'], row['destination']), axis=1)\n",
    "\n",
    "\n",
    "\n",
    "df_test['PA_followees'] = df_test.apply(\n",
    "    lambda row: preferential_attachment_followees(row['source'], row['destination']), axis=1)\n",
    "\n"
   ]
  },
  {
   "cell_type": "markdown",
   "metadata": {},
   "source": [
    "**The feature engineering is now done. Let's look at what we've got in the final dataset**"
   ]
  },
  {
   "cell_type": "code",
   "execution_count": 18,
   "metadata": {
    "ExecuteTime": {
     "end_time": "2019-09-30T01:17:54.737923Z",
     "start_time": "2019-09-30T01:17:54.733461Z"
    }
   },
   "outputs": [
    {
     "data": {
      "text/plain": [
       "Index(['source', 'destination', 'edge_exists', 'jaccard_followers',\n",
       "       'jaccard_followees', 'cosine_followers', 'cosine_followees',\n",
       "       'follows_back', 'shortest_path', 'pr_source', 'pr_destination',\n",
       "       'same_component', 'adar_index', 'katz_s', 'katz_d', 'hubs_s', 'hubs_d',\n",
       "       'authorities_s', 'authorities_d', 'weight_in', 'weight_out',\n",
       "       'svd_u_s_1', 'svd_u_s_2', 'svd_u_s_3', 'svd_u_s_4', 'svd_u_s_5',\n",
       "       'svd_u_s_6', 'svd_u_d_1', 'svd_u_d_2', 'svd_u_d_3', 'svd_u_d_4',\n",
       "       'svd_u_d_5', 'svd_u_d_6', 'svd_v_s_1', 'svd_v_s_2', 'svd_v_s_3',\n",
       "       'svd_v_s_4', 'svd_v_s_5', 'svd_v_s_6', 'svd_v_d_1', 'svd_v_d_2',\n",
       "       'svd_v_d_3', 'svd_v_d_4', 'svd_v_d_5', 'svd_v_d_6', 'svd_DOT',\n",
       "       'PA_followers', 'PA_followees'],\n",
       "      dtype='object')"
      ]
     },
     "execution_count": 18,
     "metadata": {},
     "output_type": "execute_result"
    }
   ],
   "source": [
    "df_train.columns"
   ]
  },
  {
   "cell_type": "code",
   "execution_count": 21,
   "metadata": {
    "ExecuteTime": {
     "end_time": "2019-09-30T01:18:11.796515Z",
     "start_time": "2019-09-30T01:18:11.791975Z"
    }
   },
   "outputs": [
    {
     "data": {
      "text/plain": [
       "Index(['source', 'destination', 'edge_exists', 'jaccard_followers',\n",
       "       'jaccard_followees', 'cosine_followers', 'cosine_followees',\n",
       "       'follows_back', 'shortest_path', 'pr_source', 'pr_destination',\n",
       "       'same_component', 'adar_index', 'katz_s', 'katz_d', 'hubs_s', 'hubs_d',\n",
       "       'authorities_s', 'authorities_d', 'weight_in', 'weight_out',\n",
       "       'svd_u_s_1', 'svd_u_s_2', 'svd_u_s_3', 'svd_u_s_4', 'svd_u_s_5',\n",
       "       'svd_u_s_6', 'svd_u_d_1', 'svd_u_d_2', 'svd_u_d_3', 'svd_u_d_4',\n",
       "       'svd_u_d_5', 'svd_u_d_6', 'svd_v_s_1', 'svd_v_s_2', 'svd_v_s_3',\n",
       "       'svd_v_s_4', 'svd_v_s_5', 'svd_v_s_6', 'svd_v_d_1', 'svd_v_d_2',\n",
       "       'svd_v_d_3', 'svd_v_d_4', 'svd_v_d_5', 'svd_v_d_6', 'svd_DOT',\n",
       "       'PA_followers', 'PA_followees'],\n",
       "      dtype='object')"
      ]
     },
     "execution_count": 21,
     "metadata": {},
     "output_type": "execute_result"
    }
   ],
   "source": [
    "df_test.columns"
   ]
  },
  {
   "cell_type": "code",
   "execution_count": 45,
   "metadata": {
    "ExecuteTime": {
     "end_time": "2019-09-30T02:28:41.313148Z",
     "start_time": "2019-09-30T02:03:53.156297Z"
    }
   },
   "outputs": [],
   "source": [
    "df_train.to_csv('df_train_partial.csv', index=False)\n",
    "df_test.to_csv('df_test_partial.csv', index=False)"
   ]
  },
  {
   "cell_type": "markdown",
   "metadata": {},
   "source": [
    "# Train and Test data for Machine Learning\n",
    "\n",
    "\n",
    "We have preprocessed the data, and now it is time to do some machine learning. But there are a couple of last steps remaining. First, we need to drop the columns source, destination from the data because their job is done and they add no value to the learning process.\n",
    "\n",
    "Second, we'll standardize the data so that it makes the learning easier during optimization methods like gradient descent."
   ]
  },
  {
   "cell_type": "code",
   "execution_count": 46,
   "metadata": {
    "ExecuteTime": {
     "end_time": "2019-09-30T02:29:53.747475Z",
     "start_time": "2019-09-30T02:29:45.734661Z"
    }
   },
   "outputs": [],
   "source": [
    "X_train = df_train.drop(['source', 'destination', 'edge_exists',\n",
    "                         'cosine_followers', 'cosine_followees'], axis=1).values\n",
    "\n",
    "y_train = df_train['edge_exists'].values\n",
    "\n",
    "X_test = df_test.drop(['source', 'destination', 'edge_exists',\n",
    "                         'cosine_followers', 'cosine_followees'], axis=1).values\n",
    "\n",
    "y_test = df_test['edge_exists'].values"
   ]
  },
  {
   "cell_type": "code",
   "execution_count": 4,
   "metadata": {
    "ExecuteTime": {
     "end_time": "2019-10-02T10:59:59.799355Z",
     "start_time": "2019-10-02T10:58:48.247040Z"
    }
   },
   "outputs": [
    {
     "data": {
      "application/javascript": [
       "$(document).ready(\n",
       "    function() {\n",
       "        function appendUniqueDiv(){\n",
       "            // append a div with our uuid so we can check that it's already\n",
       "            // been sent and avoid duplicates on page reload\n",
       "            var notifiedDiv = document.createElement(\"div\")\n",
       "            notifiedDiv.id = \"b99314b7-2752-4cea-9c37-6e29d3223741\"\n",
       "            element.append(notifiedDiv)\n",
       "        }\n",
       "\n",
       "        // only send notifications if the pageload is complete; this will\n",
       "        // help stop extra notifications when a saved notebook is loaded,\n",
       "        // which during testing gives us state \"interactive\", not \"complete\"\n",
       "        if (document.readyState === 'complete') {\n",
       "            // check for the div that signifies that the notification\n",
       "            // was already sent\n",
       "            if (document.getElementById(\"b99314b7-2752-4cea-9c37-6e29d3223741\") === null) {\n",
       "                var notificationPayload = {\"icon\": \"/static/base/images/favicon.ico\", \"body\": \"Cell execution has finished!\", \"requireInteraction\": false};\n",
       "                if (Notification.permission !== 'denied') {\n",
       "                    if (Notification.permission !== 'granted') { \n",
       "                        Notification.requestPermission(function (permission) {\n",
       "                            if(!('permission' in Notification)) {\n",
       "                                Notification.permission = permission\n",
       "                            }\n",
       "                        })\n",
       "                    }\n",
       "                    if (Notification.permission === 'granted') {\n",
       "                    var notification = new Notification(\"Jupyter Notebook\", notificationPayload)\n",
       "                    appendUniqueDiv()\n",
       "                    notification.onclick = function () {\n",
       "                        window.focus();\n",
       "                        this.close();\n",
       "                        };\n",
       "                    } \n",
       "                }     \n",
       "            }\n",
       "        }\n",
       "    }\n",
       ")\n"
      ],
      "text/plain": [
       "<IPython.core.display.Javascript object>"
      ]
     },
     "metadata": {},
     "output_type": "display_data"
    }
   ],
   "source": [
    "%%notify\n",
    "# pickle.dump(X_train, open('X_train.pkl', 'wb'), protocol=4)\n",
    "# pickle.dump(X_test, open('X_test.pkl', 'wb'), protocol=4)\n",
    "# pickle.dump(y_train, open('y_train.pkl', 'wb'), protocol=4)\n",
    "# pickle.dump(y_test, open('y_test.pkl', 'wb'), protocol=4)\n",
    "\n",
    "\n",
    "X_train = pickle.load(open('X_train.pkl', 'rb'))\n",
    "X_test = pickle.load(open('X_test.pkl', 'rb'))\n",
    "y_train = pickle.load(open('y_train.pkl', 'rb'))\n",
    "y_test = pickle.load(open('y_test.pkl', 'rb'))"
   ]
  },
  {
   "cell_type": "code",
   "execution_count": 5,
   "metadata": {
    "ExecuteTime": {
     "end_time": "2019-09-30T15:27:02.324059Z",
     "start_time": "2019-09-30T15:27:02.319218Z"
    }
   },
   "outputs": [
    {
     "data": {
      "text/plain": [
       "((15100030, 43), (15100030,), (3775008, 43), (3775008,))"
      ]
     },
     "execution_count": 5,
     "metadata": {},
     "output_type": "execute_result"
    }
   ],
   "source": [
    "X_train.shape, y_train.shape, X_test.shape, y_test.shape"
   ]
  },
  {
   "cell_type": "markdown",
   "metadata": {},
   "source": [
    "**Standardize data**"
   ]
  },
  {
   "cell_type": "code",
   "execution_count": 5,
   "metadata": {
    "ExecuteTime": {
     "end_time": "2019-10-02T11:00:22.493501Z",
     "start_time": "2019-10-02T10:59:59.801533Z"
    }
   },
   "outputs": [],
   "source": [
    "scaler = StandardScaler()\n",
    "X_train = scaler.fit_transform(X_train)\n",
    "X_test = scaler.transform(X_test)"
   ]
  },
  {
   "cell_type": "markdown",
   "metadata": {},
   "source": [
    "## Functions to display model performance"
   ]
  },
  {
   "cell_type": "code",
   "execution_count": 6,
   "metadata": {
    "ExecuteTime": {
     "end_time": "2019-10-02T11:00:22.514737Z",
     "start_time": "2019-10-02T11:00:22.495962Z"
    }
   },
   "outputs": [],
   "source": [
    "# This function plots the confusion matrices given y_i, y_i_hat.\n",
    "def plot_confusion_matrix(test_y, predict_y):\n",
    "    C = confusion_matrix(test_y, predict_y)\n",
    "    A =(((C.T)/(C.sum(axis=1))).T)\n",
    "    \n",
    "    B =(C/C.sum(axis=0))\n",
    "    plt.figure(figsize=(20,4))\n",
    "\n",
    "    labels = [1,2]\n",
    "    # representing A in heatmap format\n",
    "    cmap=sbn.light_palette(\"green\")\n",
    "    plt.subplot(1, 3, 1)\n",
    "    sbn.heatmap(C, annot=True, cmap=cmap, fmt=\".0f\", xticklabels=labels, yticklabels=labels, annot_kws={\"size\": 20})\n",
    "    plt.xlabel('Predicted Class')\n",
    "    plt.ylabel('Original Class')\n",
    "    plt.title(\"Confusion matrix\")\n",
    "    \n",
    "    plt.subplot(1, 3, 2)\n",
    "    sbn.heatmap(B, annot=True, cmap=cmap, fmt=\".3f\", xticklabels=labels, yticklabels=labels, annot_kws={\"size\": 20})\n",
    "    plt.xlabel('Predicted Class')\n",
    "    plt.ylabel('Original Class')\n",
    "    plt.title(\"Precision matrix\")\n",
    "    \n",
    "    plt.subplot(1, 3, 3)\n",
    "    # representing B in heatmap format\n",
    "    sbn.heatmap(A, annot=True, cmap=cmap, fmt=\".3f\", xticklabels=labels, yticklabels=labels, annot_kws={\"size\": 20})\n",
    "    plt.xlabel('Predicted Class')\n",
    "    plt.ylabel('Original Class')\n",
    "    plt.title(\"Recall matrix\")\n",
    "    \n",
    "    plt.show()\n",
    "    \n",
    "def plot_model_performance(model,\n",
    "                           predict_output,\n",
    "                           fpr,\n",
    "                           tpr,\n",
    "                           roc_auc,\n",
    "                           param_column,\n",
    "                           titles=None,\n",
    "                           figures=3):\n",
    "\n",
    "    print('*' * 50, 'SUMMARY', '*' * 50)\n",
    "\n",
    "    plt.figure(figsize=(15, 5))\n",
    "    sbn.set()\n",
    "\n",
    "    columns = [\n",
    "        'mean_test_accuracy', 'mean_test_f1', 'mean_test_precision',\n",
    "        'mean_test_recall'\n",
    "    ] + [param_column]\n",
    "\n",
    "    f = 0\n",
    "    while f < figures - 1:\n",
    "\n",
    "        plt.subplot(1, figures, f + 1)\n",
    "\n",
    "        ax = pd.DataFrame(\n",
    "            model.cv_results_)[columns].loc[f][:4].plot.bar(rot=30)\n",
    "\n",
    "        for p in ax.patches:\n",
    "            ax.annotate('{:.3f}'.format((p.get_height())),\n",
    "                        (p.get_x(), p.get_height() + 0.01),\n",
    "                        fontsize=13)\n",
    "\n",
    "        plt.title(titles[f], fontsize=16)\n",
    "        plt.xticks(fontsize=14)\n",
    "        plt.yticks(fontsize=14)\n",
    "        f += 1\n",
    "\n",
    "    plt.subplot(1, figures, f + 1)\n",
    "    plt.plot(fpr, tpr, 'b', label='AUC = %0.2f' % roc_auc)\n",
    "    plt.plot([0, 1], [0, 1], 'r--')\n",
    "    plt.ylim([0, 1])\n",
    "    plt.legend(loc='best', fontsize=18)\n",
    "    plt.title(titles[f], fontsize=16)\n",
    "    plt.xticks(fontsize=14)\n",
    "    plt.yticks(fontsize=14)\n",
    "\n",
    "    plt.tight_layout()\n",
    "    plt.show()\n",
    "    print('*' * 46, 'Confusion Matrix', '*' * 46)\n",
    "    plot_confusion_matrix(y_test, predict_output)\n",
    "    plt.show()\n",
    "    print('*' * 110)"
   ]
  },
  {
   "cell_type": "markdown",
   "metadata": {},
   "source": [
    "# Model 1: Logistic Regression"
   ]
  },
  {
   "cell_type": "code",
   "execution_count": 54,
   "metadata": {
    "ExecuteTime": {
     "end_time": "2019-09-30T04:14:32.998931Z",
     "start_time": "2019-09-30T02:34:48.434693Z"
    }
   },
   "outputs": [
    {
     "name": "stdout",
     "output_type": "stream",
     "text": [
      "Fitting 3 folds for each of 2 candidates, totalling 6 fits\n"
     ]
    },
    {
     "name": "stderr",
     "output_type": "stream",
     "text": [
      "[Parallel(n_jobs=4)]: Using backend LokyBackend with 4 concurrent workers.\n",
      "[Parallel(n_jobs=4)]: Done   2 out of   6 | elapsed: 20.6min remaining: 41.3min\n",
      "[Parallel(n_jobs=4)]: Done   6 out of   6 | elapsed: 59.8min finished\n",
      "/usr/local/lib/python3.5/dist-packages/sklearn/linear_model/logistic.py:432: FutureWarning: Default solver will be changed to 'lbfgs' in 0.22. Specify a solver to silence this warning.\n",
      "  FutureWarning)\n"
     ]
    },
    {
     "name": "stdout",
     "output_type": "stream",
     "text": [
      "[LibLinear]"
     ]
    },
    {
     "data": {
      "application/javascript": [
       "$(document).ready(\n",
       "    function() {\n",
       "        function appendUniqueDiv(){\n",
       "            // append a div with our uuid so we can check that it's already\n",
       "            // been sent and avoid duplicates on page reload\n",
       "            var notifiedDiv = document.createElement(\"div\")\n",
       "            notifiedDiv.id = \"5681c9d7-34b2-4de0-8132-e90d21a80221\"\n",
       "            element.append(notifiedDiv)\n",
       "        }\n",
       "\n",
       "        // only send notifications if the pageload is complete; this will\n",
       "        // help stop extra notifications when a saved notebook is loaded,\n",
       "        // which during testing gives us state \"interactive\", not \"complete\"\n",
       "        if (document.readyState === 'complete') {\n",
       "            // check for the div that signifies that the notification\n",
       "            // was already sent\n",
       "            if (document.getElementById(\"5681c9d7-34b2-4de0-8132-e90d21a80221\") === null) {\n",
       "                var notificationPayload = {\"requireInteraction\": false, \"icon\": \"/static/base/images/favicon.ico\", \"body\": \"Cell execution has finished!\"};\n",
       "                if (Notification.permission !== 'denied') {\n",
       "                    if (Notification.permission !== 'granted') { \n",
       "                        Notification.requestPermission(function (permission) {\n",
       "                            if(!('permission' in Notification)) {\n",
       "                                Notification.permission = permission\n",
       "                            }\n",
       "                        })\n",
       "                    }\n",
       "                    if (Notification.permission === 'granted') {\n",
       "                    var notification = new Notification(\"Jupyter Notebook\", notificationPayload)\n",
       "                    appendUniqueDiv()\n",
       "                    notification.onclick = function () {\n",
       "                        window.focus();\n",
       "                        this.close();\n",
       "                        };\n",
       "                    } \n",
       "                }     \n",
       "            }\n",
       "        }\n",
       "    }\n",
       ")\n"
      ],
      "text/plain": [
       "<IPython.core.display.Javascript object>"
      ]
     },
     "metadata": {},
     "output_type": "display_data"
    }
   ],
   "source": [
    "%%notify\n",
    "\n",
    "logreg = LogisticRegression(verbose=3)\n",
    "\n",
    "param_grid = {'C': [0.1, 1.0]}\n",
    "\n",
    "model_grdsrch_logreg = GridSearchCV(logreg,\n",
    "                             param_grid,\n",
    "                             scoring=['accuracy', 'precision', 'recall', 'f1'],\n",
    "                             n_jobs=4,\n",
    "                             refit='f1',\n",
    "                             cv=3,\n",
    "                             verbose=3,\n",
    "                             return_train_score=True)\n",
    "\n",
    "model_grdsrch_logreg.fit(X_train, y_train)\n",
    "\n",
    "#pickle.dump(model_grdsrch_logreg, open('model_grdsrch_logreg.pkl', 'wb'))\n",
    "\n",
    "joblib.dump(model_grdsrch_logreg, 'model_grdsrch_logreg_JL.sav')\n",
    "\n",
    "pp_output_LR = model_grdsrch_logreg.predict_proba(X_test)\n",
    "predict_output_LR = model_grdsrch_logreg.predict(X_test)\n",
    "\n",
    "pickle.dump(pp_output_LR, open('pp_output_LR.pkl', 'wb'))\n",
    "pickle.dump(predict_output_LR, open('predict_output_LR.pkl', 'wb'))"
   ]
  },
  {
   "cell_type": "code",
   "execution_count": 63,
   "metadata": {
    "ExecuteTime": {
     "end_time": "2019-09-30T04:20:09.471711Z",
     "start_time": "2019-09-30T04:20:09.467713Z"
    }
   },
   "outputs": [],
   "source": [
    "pickle.dump(model_grdsrch_logreg.best_estimator_.coef_, open('logreg_coef.pkl', 'wb'))"
   ]
  },
  {
   "cell_type": "code",
   "execution_count": 55,
   "metadata": {
    "ExecuteTime": {
     "end_time": "2019-09-30T04:16:45.782189Z",
     "start_time": "2019-09-30T04:16:39.381669Z"
    }
   },
   "outputs": [],
   "source": [
    "#pp_output_LR = pickle.load(open('pp_output_LR.pkl', 'rb'))\n",
    "#predict_output_LR = pickle.load(open('predict_output_LR.pkl', 'rb'))\n",
    "\n",
    "accuracy = accuracy_score(y_test, predict_output_LR)\n",
    "precision = precision_score(y_test, predict_output_LR)\n",
    "recall = recall_score(y_test, predict_output_LR)\n",
    "f1 = f1_score(y_test, predict_output_LR)\n",
    "fpr, tpr, thresholds = roc_curve(y_test, pp_output_LR.max(axis=1))\n",
    "roc_auc = auc(fpr, tpr)"
   ]
  },
  {
   "cell_type": "markdown",
   "metadata": {},
   "source": [
    "**Five metrics: Logistic Regression**"
   ]
  },
  {
   "cell_type": "code",
   "execution_count": 56,
   "metadata": {
    "ExecuteTime": {
     "end_time": "2019-09-30T04:16:49.328336Z",
     "start_time": "2019-09-30T04:16:49.320419Z"
    }
   },
   "outputs": [
    {
     "name": "stdout",
     "output_type": "stream",
     "text": [
      "Accuracy Test data                           0.9120295904008681\n",
      "Precision Test data                           0.9498422357122819\n",
      "Recall Test data                              0.8700008052963066\n",
      "f1 score Test data                            0.9081700908844804\n",
      "AUC Test data                                 0.8426921531447231\n"
     ]
    }
   ],
   "source": [
    "print('Accuracy Test data', str(accuracy).rjust(44, ' '))\n",
    "print('Precision Test data', str(precision).rjust(44, ' '))\n",
    "print('Recall Test data', str(recall).rjust(47, ' '))\n",
    "print('f1 score Test data', str(f1).rjust(45, ' '))\n",
    "print('AUC Test data', str(roc_auc).rjust(50, ' '))"
   ]
  },
  {
   "cell_type": "code",
   "execution_count": 4,
   "metadata": {
    "ExecuteTime": {
     "end_time": "2019-10-03T09:29:32.069400Z",
     "start_time": "2019-10-03T09:29:32.062905Z"
    }
   },
   "outputs": [],
   "source": [
    "table = PrettyTable()\n",
    "table.field_names = ['#', 'Model', '#Train Data', '#Test Data','Accuracy','Precision', 'Recall', 'f1 score', 'AUC']\n",
    "table.add_row(['1','Logistic Regression', '15,100,030', '3,775,008','0.91', '0.94', '0.87', '0.90', '0.84'])"
   ]
  },
  {
   "cell_type": "markdown",
   "metadata": {},
   "source": [
    "**Load the model from the disk**"
   ]
  },
  {
   "cell_type": "code",
   "execution_count": 26,
   "metadata": {
    "ExecuteTime": {
     "end_time": "2019-09-28T03:54:43.607808Z",
     "start_time": "2019-09-28T03:54:43.562571Z"
    }
   },
   "outputs": [],
   "source": [
    "#model_LR = joblib.load('model_grdsrch_logreg_JL.sav')"
   ]
  },
  {
   "cell_type": "markdown",
   "metadata": {},
   "source": [
    "**model performance at a glance**"
   ]
  },
  {
   "cell_type": "code",
   "execution_count": 59,
   "metadata": {
    "ExecuteTime": {
     "end_time": "2019-09-30T04:18:17.002248Z",
     "start_time": "2019-09-30T04:18:10.623629Z"
    }
   },
   "outputs": [
    {
     "name": "stdout",
     "output_type": "stream",
     "text": [
      "************************************************** SUMMARY **************************************************\n"
     ]
    },
    {
     "data": {
      "image/png": "[encoded data removed]",
      "text/plain": [
       "<Figure size 1080x360 with 3 Axes>"
      ]
     },
     "metadata": {
      "needs_background": "light"
     },
     "output_type": "display_data"
    },
    {
     "name": "stdout",
     "output_type": "stream",
     "text": [
      "********************************************** Confusion Matrix **********************************************\n"
     ]
    },
    {
     "data": {
      "image/png": "[encoded data removed]",
      "text/plain": [
       "<Figure size 1440x288 with 6 Axes>"
      ]
     },
     "metadata": {},
     "output_type": "display_data"
    },
    {
     "name": "stdout",
     "output_type": "stream",
     "text": [
      "**************************************************************************************************************\n"
     ]
    }
   ],
   "source": [
    "plot_model_performance(model_grdsrch_logreg,\n",
    "                       predict_output_LR,\n",
    "                       fpr,\n",
    "                       tpr,\n",
    "                       roc_auc,\n",
    "                       'param_C',\n",
    "                       titles=['Hyperparameter C: 0.1', 'Hyperparameter C: 1.0', 'AUC'],\n",
    "                       figures=3)"
   ]
  },
  {
   "cell_type": "markdown",
   "metadata": {},
   "source": [
    "# Feature importance: Logistic Regression\n",
    "\n",
    "For various ML models we'll train, let's try to obtain the feature importance of the features present in the data.\n",
    "For Logistic Regression, the following features were crucial for classification\n",
    "\n",
    "    1. Jaccard Followers\n",
    "    2. Jaccard Followees\n",
    "    3. Follows Back\n",
    "    4. Adar Index\n",
    "    5. SVD_dot\n",
    "    6. PA_followers"
   ]
  },
  {
   "cell_type": "code",
   "execution_count": 31,
   "metadata": {
    "ExecuteTime": {
     "end_time": "2019-10-03T08:44:01.747272Z",
     "start_time": "2019-10-03T08:44:01.731537Z"
    }
   },
   "outputs": [],
   "source": [
    "df_ = pd.read_csv('df_train_partial_3.csv', nrows=2).drop(['source', 'destination', 'edge_exists',\n",
    "                         'cosine_followers', 'cosine_followees'], axis=1)\n",
    "\n",
    "feature_names = df_.columns.tolist()\n",
    "\n",
    "model_LR = joblib.load('model_grdsrch_logreg_JL.sav')\n",
    "lr_feature_imp=model_LR.best_estimator_.coef_.tolist()[0]"
   ]
  },
  {
   "cell_type": "code",
   "execution_count": 52,
   "metadata": {
    "ExecuteTime": {
     "end_time": "2019-10-03T08:53:27.053185Z",
     "start_time": "2019-10-03T08:53:26.483431Z"
    }
   },
   "outputs": [
    {
     "data": {
      "image/png": "[encoded data removed]",
      "text/plain": [
       "<Figure size 1080x360 with 1 Axes>"
      ]
     },
     "metadata": {},
     "output_type": "display_data"
    }
   ],
   "source": [
    "plt.figure(figsize=(15,5))\n",
    "plt.bar(feature_names, lr_feature_imp)\n",
    "plt.xticks(rotation=90)\n",
    "plt.title('Feature importance: Logistic Regression', fontsize=18)\n",
    "plt.show()"
   ]
  },
  {
   "cell_type": "markdown",
   "metadata": {},
   "source": [
    "# Model 2: Random Forest"
   ]
  },
  {
   "cell_type": "code",
   "execution_count": 64,
   "metadata": {
    "ExecuteTime": {
     "end_time": "2019-09-30T04:20:36.476604Z",
     "start_time": "2019-09-30T04:20:36.145711Z"
    }
   },
   "outputs": [],
   "source": [
    "from sklearn.ensemble import RandomForestClassifier"
   ]
  },
  {
   "cell_type": "code",
   "execution_count": 68,
   "metadata": {
    "ExecuteTime": {
     "end_time": "2019-09-30T05:11:47.942804Z",
     "start_time": "2019-09-30T04:26:46.082486Z"
    }
   },
   "outputs": [
    {
     "name": "stdout",
     "output_type": "stream",
     "text": [
      "Fitting 3 folds for each of 3 candidates, totalling 9 fits\n"
     ]
    },
    {
     "name": "stderr",
     "output_type": "stream",
     "text": [
      "[Parallel(n_jobs=4)]: Using backend LokyBackend with 4 concurrent workers.\n",
      "[Parallel(n_jobs=4)]: Done   7 out of   9 | elapsed: 21.6min remaining:  6.2min\n",
      "[Parallel(n_jobs=4)]: Done   9 out of   9 | elapsed: 31.1min finished\n"
     ]
    },
    {
     "data": {
      "application/javascript": [
       "$(document).ready(\n",
       "    function() {\n",
       "        function appendUniqueDiv(){\n",
       "            // append a div with our uuid so we can check that it's already\n",
       "            // been sent and avoid duplicates on page reload\n",
       "            var notifiedDiv = document.createElement(\"div\")\n",
       "            notifiedDiv.id = \"c4101e42-359c-4103-885c-888cf7186a68\"\n",
       "            element.append(notifiedDiv)\n",
       "        }\n",
       "\n",
       "        // only send notifications if the pageload is complete; this will\n",
       "        // help stop extra notifications when a saved notebook is loaded,\n",
       "        // which during testing gives us state \"interactive\", not \"complete\"\n",
       "        if (document.readyState === 'complete') {\n",
       "            // check for the div that signifies that the notification\n",
       "            // was already sent\n",
       "            if (document.getElementById(\"c4101e42-359c-4103-885c-888cf7186a68\") === null) {\n",
       "                var notificationPayload = {\"requireInteraction\": false, \"icon\": \"/static/base/images/favicon.ico\", \"body\": \"Cell execution has finished!\"};\n",
       "                if (Notification.permission !== 'denied') {\n",
       "                    if (Notification.permission !== 'granted') { \n",
       "                        Notification.requestPermission(function (permission) {\n",
       "                            if(!('permission' in Notification)) {\n",
       "                                Notification.permission = permission\n",
       "                            }\n",
       "                        })\n",
       "                    }\n",
       "                    if (Notification.permission === 'granted') {\n",
       "                    var notification = new Notification(\"Jupyter Notebook\", notificationPayload)\n",
       "                    appendUniqueDiv()\n",
       "                    notification.onclick = function () {\n",
       "                        window.focus();\n",
       "                        this.close();\n",
       "                        };\n",
       "                    } \n",
       "                }     \n",
       "            }\n",
       "        }\n",
       "    }\n",
       ")\n"
      ],
      "text/plain": [
       "<IPython.core.display.Javascript object>"
      ]
     },
     "metadata": {},
     "output_type": "display_data"
    }
   ],
   "source": [
    "%%notify\n",
    "\n",
    "rfc = RandomForestClassifier(max_depth=6)\n",
    "\n",
    "param_grid = {'n_estimators': [10, 20, 30]}\n",
    "\n",
    "model_grdsrch_rf = GridSearchCV(rfc,\n",
    "                             param_grid,\n",
    "                             scoring=['accuracy', 'precision', 'recall', 'f1'],\n",
    "                             n_jobs=4,\n",
    "                             refit='f1',\n",
    "                             cv=3,\n",
    "                             verbose=2,\n",
    "                             return_train_score=True,\n",
    "                             )\n",
    "\n",
    "model_grdsrch_rf.fit(X_train, y_train)\n",
    "\n",
    "joblib.dump(model_grdsrch_rf, 'model_grdsrch_rf_JL.sav')\n",
    "\n",
    "pp_output_RF = model_grdsrch_rf.predict_proba(X_test)\n",
    "predict_output_RF = model_grdsrch_rf.predict(X_test)\n",
    "\n",
    "pickle.dump(pp_output_RF, open('pp_output_RF.pkl', 'wb'))\n",
    "pickle.dump(predict_output_RF, open('predict_output_RF.pkl', 'wb'))"
   ]
  },
  {
   "cell_type": "code",
   "execution_count": 69,
   "metadata": {
    "ExecuteTime": {
     "end_time": "2019-09-30T05:12:32.295953Z",
     "start_time": "2019-09-30T05:12:26.246125Z"
    }
   },
   "outputs": [],
   "source": [
    "#pp_output_RF = pickle.load(open('pp_output_RF.pkl', 'rb'))\n",
    "#predict_output_RF = pickle.load(open('predict_output_RF.pkl', 'rb'))\n",
    "\n",
    "accuracy = accuracy_score(y_test, predict_output_RF)\n",
    "precision = precision_score(y_test, predict_output_RF)\n",
    "recall = recall_score(y_test, predict_output_RF)\n",
    "f1 = f1_score(y_test, predict_output_RF)\n",
    "fpr, tpr, thresholds = roc_curve(y_test, pp_output_RF.max(axis=1))\n",
    "roc_auc = auc(fpr, tpr)"
   ]
  },
  {
   "cell_type": "code",
   "execution_count": 72,
   "metadata": {
    "ExecuteTime": {
     "end_time": "2019-09-30T05:14:04.446891Z",
     "start_time": "2019-09-30T05:14:04.438889Z"
    }
   },
   "outputs": [],
   "source": [
    "pickle.dump(model_grdsrch_rf.best_estimator_.feature_importances_, open('rf_feature_imp.pkl', 'wb'))"
   ]
  },
  {
   "cell_type": "markdown",
   "metadata": {},
   "source": [
    "**Five metrics: Random Forests**"
   ]
  },
  {
   "cell_type": "code",
   "execution_count": 73,
   "metadata": {
    "ExecuteTime": {
     "end_time": "2019-09-30T05:14:09.489101Z",
     "start_time": "2019-09-30T05:14:09.481450Z"
    }
   },
   "outputs": [
    {
     "name": "stdout",
     "output_type": "stream",
     "text": [
      "Accuracy Test data                           0.8989053798031686\n",
      "Precision Test data                          0.9732511620159838\n",
      "Recall Test data                            0.8203574667921234\n",
      "f1 score Test data                           0.8902877082549349\n",
      "AUC Test data                                0.6308350286821729\n"
     ]
    }
   ],
   "source": [
    "print('Accuracy Test data', str(accuracy).rjust(44, ' '))\n",
    "print('Precision Test data', str(precision).rjust(43, ' '))\n",
    "print('Recall Test data', str(recall).rjust(45, ' '))\n",
    "print('f1 score Test data', str(f1).rjust(44, ' '))\n",
    "print('AUC Test data', str(roc_auc).rjust(49, ' '))"
   ]
  },
  {
   "cell_type": "code",
   "execution_count": 6,
   "metadata": {
    "ExecuteTime": {
     "end_time": "2019-10-03T09:33:48.078139Z",
     "start_time": "2019-10-03T09:33:48.069565Z"
    }
   },
   "outputs": [],
   "source": [
    "table.add_row(['2','Random Forests', '15,100,030', '3,775,008','0.89', '0.97', '0.82', '0.89', '0.63'])"
   ]
  },
  {
   "cell_type": "code",
   "execution_count": 34,
   "metadata": {
    "ExecuteTime": {
     "end_time": "2019-09-28T04:00:41.633007Z",
     "start_time": "2019-09-28T04:00:41.408779Z"
    }
   },
   "outputs": [],
   "source": [
    "#model_RF = joblib.load('model_grdsrch_rf_JL.sav')"
   ]
  },
  {
   "cell_type": "markdown",
   "metadata": {},
   "source": [
    "**Model performance at a glance**"
   ]
  },
  {
   "cell_type": "code",
   "execution_count": 76,
   "metadata": {
    "ExecuteTime": {
     "end_time": "2019-09-30T05:15:01.226257Z",
     "start_time": "2019-09-30T05:14:55.358868Z"
    }
   },
   "outputs": [
    {
     "name": "stdout",
     "output_type": "stream",
     "text": [
      "************************************************** SUMMARY **************************************************\n"
     ]
    },
    {
     "data": {
      "image/png": "[encoded data removed]",
      "text/plain": [
       "<Figure size 1080x360 with 4 Axes>"
      ]
     },
     "metadata": {},
     "output_type": "display_data"
    },
    {
     "name": "stdout",
     "output_type": "stream",
     "text": [
      "********************************************** Confusion Matrix **********************************************\n"
     ]
    },
    {
     "data": {
      "image/png": "[encoded data removed]",
      "text/plain": [
       "<Figure size 1440x288 with 6 Axes>"
      ]
     },
     "metadata": {},
     "output_type": "display_data"
    },
    {
     "name": "stdout",
     "output_type": "stream",
     "text": [
      "**************************************************************************************************************\n"
     ]
    }
   ],
   "source": [
    "plot_model_performance(model_grdsrch_rf,\n",
    "                       predict_output_RF,\n",
    "                       fpr,\n",
    "                       tpr,\n",
    "                       roc_auc,\n",
    "                       'param_n_estimators',\n",
    "                       titles=['n_estimators: 10', 'n_estimators: 20', 'n_estimators: 30', 'AUC'],\n",
    "                       figures=4)"
   ]
  },
  {
   "cell_type": "markdown",
   "metadata": {},
   "source": [
    "# Feature importance: Random Forests\n",
    "\n",
    "Unlike in case of LR, for Random Forests the svd_dot feature didn't matter much. The most important feature was **follows_back**."
   ]
  },
  {
   "cell_type": "code",
   "execution_count": 38,
   "metadata": {
    "ExecuteTime": {
     "end_time": "2019-10-03T08:49:04.309600Z",
     "start_time": "2019-10-03T08:49:04.238204Z"
    }
   },
   "outputs": [],
   "source": [
    "model_rf = joblib.load('model_grdsrch_rf_JL.sav')\n",
    "rf_feature_imp=model_rf.best_estimator_.feature_importances_.tolist()"
   ]
  },
  {
   "cell_type": "code",
   "execution_count": 40,
   "metadata": {
    "ExecuteTime": {
     "end_time": "2019-10-03T08:49:44.629292Z",
     "start_time": "2019-10-03T08:49:43.996917Z"
    }
   },
   "outputs": [
    {
     "data": {
      "image/png": "[encoded data removed]",
      "text/plain": [
       "<Figure size 1080x360 with 1 Axes>"
      ]
     },
     "metadata": {},
     "output_type": "display_data"
    }
   ],
   "source": [
    "plt.figure(figsize=(15,5))\n",
    "plt.bar(feature_names, rf_feature_imp)\n",
    "plt.xticks(rotation=90)\n",
    "plt.title('Feature importance: Random Forests', fontsize=18)\n",
    "plt.show()"
   ]
  },
  {
   "cell_type": "markdown",
   "metadata": {},
   "source": [
    "# Model 3: Gradient Boosting Classifier using XGBoost\n",
    "\n",
    "This model took ~11 hours to train."
   ]
  },
  {
   "cell_type": "code",
   "execution_count": 7,
   "metadata": {
    "ExecuteTime": {
     "end_time": "2019-10-02T11:00:22.539812Z",
     "start_time": "2019-10-02T11:00:22.516779Z"
    }
   },
   "outputs": [],
   "source": [
    "from xgboost import XGBClassifier"
   ]
  },
  {
   "cell_type": "code",
   "execution_count": 8,
   "metadata": {
    "ExecuteTime": {
     "end_time": "2019-10-02T21:21:35.352085Z",
     "start_time": "2019-10-02T11:00:22.542172Z"
    }
   },
   "outputs": [
    {
     "name": "stdout",
     "output_type": "stream",
     "text": [
      "Fitting 3 folds for each of 2 candidates, totalling 6 fits\n"
     ]
    },
    {
     "name": "stderr",
     "output_type": "stream",
     "text": [
      "[Parallel(n_jobs=4)]: Using backend LokyBackend with 4 concurrent workers.\n",
      "[Parallel(n_jobs=4)]: Done   6 out of   6 | elapsed: 322.2min remaining:    0.0s\n",
      "[Parallel(n_jobs=4)]: Done   6 out of   6 | elapsed: 322.2min finished\n"
     ]
    },
    {
     "name": "stdout",
     "output_type": "stream",
     "text": [
      "[16:23:11] WARNING: /workspace/src/learner.cc:686: Tree method is automatically selected to be 'approx' for faster speed. To use old behavior (exact greedy algorithm on single machine), set tree_method to 'exact'.\n"
     ]
    },
    {
     "data": {
      "application/javascript": [
       "$(document).ready(\n",
       "    function() {\n",
       "        function appendUniqueDiv(){\n",
       "            // append a div with our uuid so we can check that it's already\n",
       "            // been sent and avoid duplicates on page reload\n",
       "            var notifiedDiv = document.createElement(\"div\")\n",
       "            notifiedDiv.id = \"874a1ea2-7838-43ce-8a06-60a34bb8e711\"\n",
       "            element.append(notifiedDiv)\n",
       "        }\n",
       "\n",
       "        // only send notifications if the pageload is complete; this will\n",
       "        // help stop extra notifications when a saved notebook is loaded,\n",
       "        // which during testing gives us state \"interactive\", not \"complete\"\n",
       "        if (document.readyState === 'complete') {\n",
       "            // check for the div that signifies that the notification\n",
       "            // was already sent\n",
       "            if (document.getElementById(\"874a1ea2-7838-43ce-8a06-60a34bb8e711\") === null) {\n",
       "                var notificationPayload = {\"icon\": \"/static/base/images/favicon.ico\", \"body\": \"Cell execution has finished!\", \"requireInteraction\": false};\n",
       "                if (Notification.permission !== 'denied') {\n",
       "                    if (Notification.permission !== 'granted') { \n",
       "                        Notification.requestPermission(function (permission) {\n",
       "                            if(!('permission' in Notification)) {\n",
       "                                Notification.permission = permission\n",
       "                            }\n",
       "                        })\n",
       "                    }\n",
       "                    if (Notification.permission === 'granted') {\n",
       "                    var notification = new Notification(\"Jupyter Notebook\", notificationPayload)\n",
       "                    appendUniqueDiv()\n",
       "                    notification.onclick = function () {\n",
       "                        window.focus();\n",
       "                        this.close();\n",
       "                        };\n",
       "                    } \n",
       "                }     \n",
       "            }\n",
       "        }\n",
       "    }\n",
       ")\n"
      ],
      "text/plain": [
       "<IPython.core.display.Javascript object>"
      ]
     },
     "metadata": {},
     "output_type": "display_data"
    }
   ],
   "source": [
    "%%notify\n",
    "\n",
    "xgb = XGBClassifier(verbosity=1)\n",
    "\n",
    "parameters_dict = {'max_depth': [3, 4]}\n",
    "\n",
    "clf_gridsrch_xgb = GridSearchCV(xgb,\n",
    "                            param_grid=parameters_dict,\n",
    "                            n_jobs=4,\n",
    "                            verbose=1,\n",
    "                            cv=3,\n",
    "                            scoring=['accuracy', 'precision', 'recall', 'f1'],\n",
    "                            refit='f1')\n",
    "\n",
    "clf_gridsrch_xgb.fit(X_train, y_train)\n",
    "\n",
    "joblib.dump(clf_gridsrch_xgb, 'clf_gridsrch_xgb_JL.sav')\n",
    "\n",
    "pp_output_xgb = clf_gridsrch_xgb.best_estimator_.predict_proba(X_test)\n",
    "predict_output_xgb = clf_gridsrch_xgb.predict(X_test)\n",
    "\n",
    "pickle.dump(pp_output_xgb, open('pp_output_xgb.pkl', 'wb'))\n",
    "pickle.dump(predict_output_xgb, open('predict_output_xgb.pkl', 'wb'))\n",
    "\n",
    "#pickle.dump(clf_gridsrch_xgb, open('model_grdsrch_xgb.pkl', 'wb'))"
   ]
  },
  {
   "cell_type": "code",
   "execution_count": 25,
   "metadata": {
    "ExecuteTime": {
     "end_time": "2019-10-03T08:41:22.580827Z",
     "start_time": "2019-10-03T08:41:16.175966Z"
    }
   },
   "outputs": [],
   "source": [
    "#pp_output_xgb = pickle.load(open('pp_output_xgb.pkl', 'rb'))\n",
    "#predict_output_xgb = pickle.load(open('predict_output_xgb.pkl', 'rb'))\n",
    "\n",
    "accuracy = accuracy_score(y_test, predict_output_xgb)\n",
    "precision = precision_score(y_test, predict_output_xgb)\n",
    "recall = recall_score(y_test, predict_output_xgb)\n",
    "f1 = f1_score(y_test, predict_output_xgb)\n",
    "fpr, tpr, thresholds = roc_curve(y_test, pp_output_xgb.max(axis=1))\n",
    "roc_auc = auc(fpr, tpr)"
   ]
  },
  {
   "cell_type": "markdown",
   "metadata": {},
   "source": [
    "**Five metrics: XGBoost**"
   ]
  },
  {
   "cell_type": "code",
   "execution_count": 26,
   "metadata": {
    "ExecuteTime": {
     "end_time": "2019-10-03T08:41:23.938217Z",
     "start_time": "2019-10-03T08:41:23.931530Z"
    }
   },
   "outputs": [
    {
     "name": "stdout",
     "output_type": "stream",
     "text": [
      "Accuracy Test data                           0.9224197670574473\n",
      "Precision Test data                          0.9737036288885192\n",
      "Recall Test data                             0.8682890208444591\n",
      "f1 score Test data                            0.917979961150083\n",
      "AUC Test data                                0.7518279280828053\n"
     ]
    }
   ],
   "source": [
    "print('Accuracy Test data', str(accuracy).rjust(44, ' '))\n",
    "print('Precision Test data', str(precision).rjust(43, ' '))\n",
    "print('Recall Test data', str(recall).rjust(46, ' '))\n",
    "print('f1 score Test data', str(f1).rjust(44, ' '))\n",
    "print('AUC Test data', str(roc_auc).rjust(49, ' '))"
   ]
  },
  {
   "cell_type": "code",
   "execution_count": 8,
   "metadata": {
    "ExecuteTime": {
     "end_time": "2019-10-03T09:38:11.981320Z",
     "start_time": "2019-10-03T09:38:11.972631Z"
    }
   },
   "outputs": [],
   "source": [
    "table.add_row(['3','Gradient Boosting', '15,100,030', '3,775,008','0.92', '0.97', '0.87', '0.92', '0.75'])"
   ]
  },
  {
   "cell_type": "code",
   "execution_count": 38,
   "metadata": {
    "ExecuteTime": {
     "end_time": "2019-09-28T04:03:08.674623Z",
     "start_time": "2019-09-28T04:03:08.663506Z"
    }
   },
   "outputs": [],
   "source": [
    "# model_xgb = joblib.load('clf_gridsrch_xgb_JL.sav')"
   ]
  },
  {
   "cell_type": "markdown",
   "metadata": {},
   "source": [
    "**Model performance at a glance**"
   ]
  },
  {
   "cell_type": "code",
   "execution_count": 27,
   "metadata": {
    "ExecuteTime": {
     "end_time": "2019-10-03T08:41:33.736298Z",
     "start_time": "2019-10-03T08:41:28.783726Z"
    }
   },
   "outputs": [
    {
     "name": "stdout",
     "output_type": "stream",
     "text": [
      "************************************************** SUMMARY **************************************************\n"
     ]
    },
    {
     "data": {
      "image/png": "[encoded data removed]",
      "text/plain": [
       "<Figure size 1080x360 with 3 Axes>"
      ]
     },
     "metadata": {},
     "output_type": "display_data"
    },
    {
     "name": "stdout",
     "output_type": "stream",
     "text": [
      "********************************************** Confusion Matrix **********************************************\n"
     ]
    },
    {
     "data": {
      "image/png": "[encoded data removed]",
      "text/plain": [
       "<Figure size 1440x288 with 6 Axes>"
      ]
     },
     "metadata": {},
     "output_type": "display_data"
    },
    {
     "name": "stdout",
     "output_type": "stream",
     "text": [
      "**************************************************************************************************************\n"
     ]
    }
   ],
   "source": [
    "plot_model_performance(clf_gridsrch_xgb,\n",
    "                       predict_output_xgb,\n",
    "                       fpr,\n",
    "                       tpr,\n",
    "                       roc_auc,\n",
    "                       'param_max_depth',\n",
    "                       titles=['Max Depth: 3', 'Max Depth: 4', 'AUC'],\n",
    "                       figures=3)"
   ]
  },
  {
   "cell_type": "markdown",
   "metadata": {},
   "source": [
    "# Feature importance: XGBoost"
   ]
  },
  {
   "cell_type": "code",
   "execution_count": 37,
   "metadata": {
    "ExecuteTime": {
     "end_time": "2019-10-03T08:46:58.539445Z",
     "start_time": "2019-10-03T08:46:58.527312Z"
    }
   },
   "outputs": [],
   "source": [
    "xgb_feature_imp = clf_gridsrch_xgb.best_estimator_.feature_importances_.tolist()\n",
    "pickle.dump(xgb_feature_imp, open('xgb_feature_imp.pkl', 'wb'))"
   ]
  },
  {
   "cell_type": "code",
   "execution_count": 36,
   "metadata": {
    "ExecuteTime": {
     "end_time": "2019-10-03T08:45:48.753495Z",
     "start_time": "2019-10-03T08:45:48.159212Z"
    }
   },
   "outputs": [
    {
     "data": {
      "image/png": "[encoded data removed]",
      "text/plain": [
       "<Figure size 1080x360 with 1 Axes>"
      ]
     },
     "metadata": {},
     "output_type": "display_data"
    }
   ],
   "source": [
    "plt.figure(figsize=(15,5))\n",
    "plt.bar(feature_names, xgb_feature_imp)\n",
    "plt.xticks(rotation=90, fontsize=14)\n",
    "plt.title('Feature importance XGBoost classifier', fontsize=18)\n",
    "plt.show()"
   ]
  },
  {
   "cell_type": "markdown",
   "metadata": {},
   "source": [
    "# Model 4: LinearSVC"
   ]
  },
  {
   "cell_type": "code",
   "execution_count": null,
   "metadata": {
    "ExecuteTime": {
     "end_time": "2019-10-03T08:14:01.855662Z",
     "start_time": "2019-10-02T21:21:42.066333Z"
    }
   },
   "outputs": [],
   "source": [
    "%%notify\n",
    "from sklearn.svm import LinearSVC\n",
    "from sklearn.calibration import CalibratedClassifierCV\n",
    "\n",
    "svc = LinearSVC(penalty='l2', verbose=2, random_state=19, max_iter=700)\n",
    "\n",
    "clf = CalibratedClassifierCV(svc) \n",
    "\n",
    "parameters_dict = {'base_estimator__C': [1, 10]}\n",
    "\n",
    "clf_gridsrch_svc = GridSearchCV(clf,\n",
    "                            param_grid=parameters_dict,\n",
    "                            n_jobs=5,\n",
    "                            verbose=2,\n",
    "                            cv=3,\n",
    "                            scoring=['accuracy', 'precision', 'recall', 'f1'],\n",
    "                            refit='f1')\n",
    "\n",
    "clf_gridsrch_svc.fit(X_train, y_train)\n",
    "\n",
    "\n",
    "joblib.dump(clf_gridsrch_svc, 'model_grdsrch_SVC_JL.sav')\n",
    "\n",
    "pp_output_SVC = clf_gridsrch_svc.best_estimator_.predict_proba(X_test)\n",
    "predict_output_SVC = clf_gridsrch_svc.predict(X_test)\n",
    "\n",
    "pickle.dump(pp_output_SVC, open('pp_output_SVC.pkl', 'wb'))\n",
    "pickle.dump(predict_output_SVC, open('predict_output_SVC.pkl', 'wb'))\n",
    "\n",
    "\n",
    "# pickle.dump(clf_gridsrch_svc, open('model_grdsrch_svc.pkl', 'wb'))"
   ]
  },
  {
   "cell_type": "code",
   "execution_count": 12,
   "metadata": {
    "ExecuteTime": {
     "end_time": "2019-10-03T08:14:08.407481Z",
     "start_time": "2019-10-03T08:14:01.858622Z"
    }
   },
   "outputs": [],
   "source": [
    "#pp_output_SVC = pickle.load(open('pp_output_SVC.pkl', 'rb'))\n",
    "#predict_output_SVC = pickle.load(open('predict_output_SVC.pkl', 'rb'))\n",
    "\n",
    "accuracy = accuracy_score(y_test, predict_output_SVC)\n",
    "precision = precision_score(y_test, predict_output_SVC)\n",
    "recall = recall_score(y_test, predict_output_SVC)\n",
    "f1 = f1_score(y_test, predict_output_SVC)\n",
    "fpr, tpr, thresholds = roc_curve(y_test, pp_output_SVC.max(axis=1))\n",
    "roc_auc = auc(fpr, tpr)"
   ]
  },
  {
   "cell_type": "markdown",
   "metadata": {},
   "source": [
    "**Five metrics: Linear SVC**"
   ]
  },
  {
   "cell_type": "code",
   "execution_count": 21,
   "metadata": {
    "ExecuteTime": {
     "end_time": "2019-10-03T08:36:44.843347Z",
     "start_time": "2019-10-03T08:36:44.836462Z"
    }
   },
   "outputs": [
    {
     "name": "stdout",
     "output_type": "stream",
     "text": [
      "Accuracy Test data                           0.6920382685281726\n",
      "Precision Test data                          0.9999972411890475\n",
      "Recall Test data                             0.3840775966567488\n",
      "f1 score Test data                           0.5549938869737037\n",
      "AUC Test data                                0.23620157230843672\n"
     ]
    }
   ],
   "source": [
    "print('Accuracy Test data', str(accuracy).rjust(44, ' '))\n",
    "print('Precision Test data', str(precision).rjust(43, ' '))\n",
    "print('Recall Test data', str(recall).rjust(46, ' '))\n",
    "print('f1 score Test data', str(f1).rjust(44, ' '))\n",
    "print('AUC Test data', str(roc_auc).rjust(50, ' '))"
   ]
  },
  {
   "cell_type": "code",
   "execution_count": 9,
   "metadata": {
    "ExecuteTime": {
     "end_time": "2019-10-03T09:41:03.607242Z",
     "start_time": "2019-10-03T09:41:03.600225Z"
    }
   },
   "outputs": [],
   "source": [
    "table.add_row(['4','Linear SVC', '15,100,030', '3,775,008','0.69', '0.99', '0.38', '0.55', '0.23'])"
   ]
  },
  {
   "cell_type": "code",
   "execution_count": 41,
   "metadata": {
    "ExecuteTime": {
     "end_time": "2019-09-28T04:06:49.008361Z",
     "start_time": "2019-09-28T04:06:48.993278Z"
    }
   },
   "outputs": [],
   "source": [
    "# model_SVC = joblib.load('model_grdsrch_SVC_JL.sav')"
   ]
  },
  {
   "cell_type": "markdown",
   "metadata": {},
   "source": [
    "**Model performance at a glance**"
   ]
  },
  {
   "cell_type": "code",
   "execution_count": 22,
   "metadata": {
    "ExecuteTime": {
     "end_time": "2019-10-03T08:37:58.356311Z",
     "start_time": "2019-10-03T08:37:52.950424Z"
    }
   },
   "outputs": [
    {
     "name": "stdout",
     "output_type": "stream",
     "text": [
      "************************************************** SUMMARY **************************************************\n"
     ]
    },
    {
     "data": {
      "image/png": "[encoded data removed]",
      "text/plain": [
       "<Figure size 1080x360 with 3 Axes>"
      ]
     },
     "metadata": {
      "needs_background": "light"
     },
     "output_type": "display_data"
    },
    {
     "name": "stdout",
     "output_type": "stream",
     "text": [
      "********************************************** Confusion Matrix **********************************************\n"
     ]
    },
    {
     "data": {
      "image/png": "[encoded data removed]",
      "text/plain": [
       "<Figure size 1440x288 with 6 Axes>"
      ]
     },
     "metadata": {},
     "output_type": "display_data"
    },
    {
     "name": "stdout",
     "output_type": "stream",
     "text": [
      "**************************************************************************************************************\n"
     ]
    }
   ],
   "source": [
    "plot_model_performance(clf_gridsrch_svc,\n",
    "                       predict_output_SVC,\n",
    "                       fpr,\n",
    "                       tpr,\n",
    "                       roc_auc,\n",
    "                       'param_base_estimator__C',\n",
    "                       titles=['C: 1.0', 'C: 10','AUC'],\n",
    "                       figures=3)"
   ]
  },
  {
   "cell_type": "markdown",
   "metadata": {},
   "source": [
    "# Concluding Remarks\n",
    "\n",
    "* This was a very tedious but worthwhile case study, because of the amount of time and compute resources required to preprocess the data and train the models.\n",
    "\n",
    "* The biggest challenge was feature engineering. The original data had only 2 columns - source and destination nodes. From there, we devised ~45 new features to train the models\n",
    "\n",
    "* The results obtained were exciting. The best model proved to be XGB with an f1 score (test data) of **0.92**. The complete summary of the models trained is given below.\n",
    "\n",
    "* The following features in particular proved to be highly useful for predicting the link between two nodes.\n",
    "\n",
    "    - Jaccard Followers\n",
    "    - Jaccard Followees\n",
    "    - Adar Index\n",
    "    - PA followers\n",
    "    - PA followees\n",
    "    - Page Rank"
   ]
  },
  {
   "cell_type": "code",
   "execution_count": 10,
   "metadata": {
    "ExecuteTime": {
     "end_time": "2019-10-03T09:41:49.519515Z",
     "start_time": "2019-10-03T09:41:49.510825Z"
    }
   },
   "outputs": [
    {
     "name": "stdout",
     "output_type": "stream",
     "text": [
      "+---+---------------------+-------------+------------+----------+-----------+--------+----------+------+\n",
      "| # |        Model        | #Train Data | #Test Data | Accuracy | Precision | Recall | f1 score | AUC  |\n",
      "+---+---------------------+-------------+------------+----------+-----------+--------+----------+------+\n",
      "| 1 | Logistic Regression |  15,100,030 | 3,775,008  |   0.91   |    0.94   |  0.87  |   0.90   | 0.84 |\n",
      "| 2 |    Random Forests   |  15,100,030 | 3,775,008  |   0.89   |    0.97   |  0.82  |   0.89   | 0.63 |\n",
      "| 3 |  Gradient Boosting  |  15,100,030 | 3,775,008  |   0.92   |    0.97   |  0.87  |   0.92   | 0.75 |\n",
      "| 4 |      Linear SVC     |  15,100,030 | 3,775,008  |   0.69   |    0.99   |  0.38  |   0.55   | 0.23 |\n",
      "+---+---------------------+-------------+------------+----------+-----------+--------+----------+------+\n"
     ]
    }
   ],
   "source": [
    "print(table)"
   ]
  }
 ],
 "metadata": {
  "kernelspec": {
   "display_name": "Python 3",
   "language": "python",
   "name": "python3"
  },
  "language_info": {
   "codemirror_mode": {
    "name": "ipython",
    "version": 3
   },
   "file_extension": ".py",
   "mimetype": "text/x-python",
   "name": "python",
   "nbconvert_exporter": "python",
   "pygments_lexer": "ipython3",
   "version": "3.7.3"
  },
  "toc": {
   "base_numbering": 1,
   "nav_menu": {},
   "number_sections": true,
   "sideBar": true,
   "skip_h1_title": false,
   "title_cell": "Table of Contents",
   "title_sidebar": "Contents",
   "toc_cell": false,
   "toc_position": {},
   "toc_section_display": true,
   "toc_window_display": false
  },
  "varInspector": {
   "cols": {
    "lenName": 16,
    "lenType": 16,
    "lenVar": 40
   },
   "kernels_config": {
    "python": {
     "delete_cmd_postfix": "",
     "delete_cmd_prefix": "del ",
     "library": "var_list.py",
     "varRefreshCmd": "print(var_dic_list())"
    },
    "r": {
     "delete_cmd_postfix": ") ",
     "delete_cmd_prefix": "rm(",
     "library": "var_list.r",
     "varRefreshCmd": "cat(var_dic_list()) "
    }
   },
   "types_to_exclude": [
    "module",
    "function",
    "builtin_function_or_method",
    "instance",
    "_Feature"
   ],
   "window_display": false
  }
 },
 "nbformat": 4,
 "nbformat_minor": 2
}
