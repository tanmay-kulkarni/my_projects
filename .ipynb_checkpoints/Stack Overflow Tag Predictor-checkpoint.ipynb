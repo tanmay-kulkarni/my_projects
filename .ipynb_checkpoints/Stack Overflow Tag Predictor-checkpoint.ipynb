{
 "cells": [
  {
   "cell_type": "markdown",
   "metadata": {},
   "source": [
    "<h1 align=\"center\">Predicting Question Tags using Machine Learning</h1>"
   ]
  },
  {
   "cell_type": "markdown",
   "metadata": {},
   "source": [
    "![](https://cdn-images-1.medium.com/max/1200/1*rEQGD7eciTUkoaePqyqY2A.png)"
   ]
  },
  {
   "cell_type": "markdown",
   "metadata": {},
   "source": [
    "# Introduction:\n",
    "\n",
    "Stack Overflow is the most popular question-answer site among programmers. Whenever a programmer finds themselves at a dead end, most of the times Stack Overflow is a one stop solution to all their problems. It's a very sophisticated and beautiful site. \n",
    "\n",
    "The questions on it are segregated into multiple topics. This is done by assigning one or more labels, known as a \"Tag\" to each question. If you have ever asked a question on SO, you'd know that the site automatically suggests the appropriate tags for your question.\n",
    "\n",
    "![](https://i.stack.imgur.com/gbxst.jpg)\n",
    "\n",
    "For example, if you ask -\n",
    "\n",
    "> How to declare a variable in Python?\n",
    "\n",
    "The tag `python` will be suggested to you. This is done using Natural Language Processing and Machine Learning.\n",
    "\n",
    "\n",
    "## Objective:\n",
    "\n",
    "The goal of this study is to analyze the questions on Stack Overflow, and predict appropriate tags for them.\n",
    "\n",
    "## Data:\n",
    "\n",
    "We will be using [this](https://www.kaggle.com/c/facebook-recruiting-iii-keyword-extraction/data) huge repository of Stack Overflow Questions and Tags published on Kaggle by Facebook for a Kaggle competition. It's a zip file which yields a humongous `.csv` file of ~7 GB. There are 4 fields in this file.\n",
    "\n",
    "        1. Id: question number\n",
    "        2. Title: Title of the question \n",
    "        3. Body: text matter of the question\n",
    "        4. Tags: A ' ' separated list of tags assigned to the question\n",
    "\n",
    "Let's begin the journey by importing the libraries we need.\n"
   ]
  },
  {
   "cell_type": "code",
   "execution_count": 59,
   "metadata": {},
   "outputs": [],
   "source": [
    "import pandas as pd\n",
    "import itertools\n",
    "from collections import Counter\n",
    "import matplotlib.pyplot as plt\n",
    "from matplotlib import rcParams\n",
    "from wordcloud import WordCloud\n",
    "import numpy as np\n",
    "from sklearn.feature_extraction.text import CountVectorizer, TfidfVectorizer\n",
    "from skmultilearn.problem_transform import BinaryRelevance\n",
    "from sklearn.metrics import accuracy_score, f1_score, hamming_loss, precision_score, recall_score\n",
    "from sklearn.svm import LinearSVC\n",
    "from nltk.corpus import stopwords\n",
    "from nltk.stem.snowball import SnowballStemmer\n",
    "from nltk.tokenize import word_tokenize\n",
    "import re\n",
    "from sklearn.linear_model import LogisticRegression\n",
    "from skmultilearn.problem_transform import ClassifierChain\n",
    "from sklearn.model_selection import GridSearchCV\n",
    "from sklearn.naive_bayes import MultinomialNB\n",
    "from sklearn.svm import SVC\n",
    "from sklearn.multiclass import OneVsRestClassifier\n",
    "import gensim\n",
    "import pickle\n",
    "from sklearn.neighbors import KNeighborsClassifier\n",
    "from sklearn.neural_network import MLPClassifier"
   ]
  },
  {
   "cell_type": "code",
   "execution_count": 2,
   "metadata": {},
   "outputs": [
    {
     "data": {
      "application/javascript": [
       "if (!(\"Notification\" in window)) {\n",
       "    alert(\"This browser does not support desktop notifications, so the %%notify magic will not work.\");\n",
       "} else if (Notification.permission !== 'granted' && Notification.permission !== 'denied') {\n",
       "    Notification.requestPermission(function (permission) {\n",
       "        if(!('permission' in Notification)) {\n",
       "            Notification.permission = permission;\n",
       "        }\n",
       "    })\n",
       "}\n"
      ],
      "text/plain": [
       "<IPython.core.display.Javascript object>"
      ]
     },
     "metadata": {},
     "output_type": "display_data"
    }
   ],
   "source": [
    "%load_ext jupyternotify"
   ]
  },
  {
   "cell_type": "markdown",
   "metadata": {},
   "source": [
    "Set figure parameters"
   ]
  },
  {
   "cell_type": "code",
   "execution_count": 3,
   "metadata": {},
   "outputs": [],
   "source": [
    "rcParams['figure.figsize'] = (15,5)\n",
    "plt.style.use('bmh')"
   ]
  },
  {
   "cell_type": "markdown",
   "metadata": {},
   "source": [
    "Load the extracted csv file"
   ]
  },
  {
   "cell_type": "code",
   "execution_count": 5,
   "metadata": {},
   "outputs": [],
   "source": [
    "#path = r'D:\\data_science\\datasets\\stack overflow Tags\\Train.csv'\n",
    "#path = 'Train_deDuped.csv'\n",
    "#path = 'Train_500k_cleaned.csv'\n",
    "#df = pd.read_csv(path, nrows=500000)\n",
    "\n",
    "path = 'Train.csv'\n",
    "df = pd.read_csv(path)"
   ]
  },
  {
   "cell_type": "markdown",
   "metadata": {},
   "source": [
    "Let's see what our data looks like"
   ]
  },
  {
   "cell_type": "code",
   "execution_count": 7,
   "metadata": {},
   "outputs": [
    {
     "data": {
      "text/html": [
       "<div>\n",
       "<style scoped>\n",
       "    .dataframe tbody tr th:only-of-type {\n",
       "        vertical-align: middle;\n",
       "    }\n",
       "\n",
       "    .dataframe tbody tr th {\n",
       "        vertical-align: top;\n",
       "    }\n",
       "\n",
       "    .dataframe thead th {\n",
       "        text-align: right;\n",
       "    }\n",
       "</style>\n",
       "<table border=\"1\" class=\"dataframe\">\n",
       "  <thead>\n",
       "    <tr style=\"text-align: right;\">\n",
       "      <th></th>\n",
       "      <th>Id</th>\n",
       "      <th>Title</th>\n",
       "      <th>Body</th>\n",
       "      <th>Tags</th>\n",
       "    </tr>\n",
       "  </thead>\n",
       "  <tbody>\n",
       "    <tr>\n",
       "      <th>0</th>\n",
       "      <td>1</td>\n",
       "      <td>How to check if an uploaded file is an image w...</td>\n",
       "      <td>&lt;p&gt;I'd like to check if an uploaded file is an...</td>\n",
       "      <td>php image-processing file-upload upload mime-t...</td>\n",
       "    </tr>\n",
       "    <tr>\n",
       "      <th>1</th>\n",
       "      <td>2</td>\n",
       "      <td>How can I prevent firefox from closing when I ...</td>\n",
       "      <td>&lt;p&gt;In my favorite editor (vim), I regularly us...</td>\n",
       "      <td>firefox</td>\n",
       "    </tr>\n",
       "    <tr>\n",
       "      <th>2</th>\n",
       "      <td>3</td>\n",
       "      <td>R Error Invalid type (list) for variable</td>\n",
       "      <td>&lt;p&gt;I am import matlab file and construct a dat...</td>\n",
       "      <td>r matlab machine-learning</td>\n",
       "    </tr>\n",
       "    <tr>\n",
       "      <th>3</th>\n",
       "      <td>4</td>\n",
       "      <td>How do I replace special characters in a URL?</td>\n",
       "      <td>&lt;p&gt;This is probably very simple, but I simply ...</td>\n",
       "      <td>c# url encoding</td>\n",
       "    </tr>\n",
       "    <tr>\n",
       "      <th>4</th>\n",
       "      <td>5</td>\n",
       "      <td>How to modify whois contact details?</td>\n",
       "      <td>&lt;pre&gt;&lt;code&gt;function modify(.......)\\n{\\n  $mco...</td>\n",
       "      <td>php api file-get-contents</td>\n",
       "    </tr>\n",
       "  </tbody>\n",
       "</table>\n",
       "</div>"
      ],
      "text/plain": [
       "   Id                                              Title  \\\n",
       "0   1  How to check if an uploaded file is an image w...   \n",
       "1   2  How can I prevent firefox from closing when I ...   \n",
       "2   3           R Error Invalid type (list) for variable   \n",
       "3   4      How do I replace special characters in a URL?   \n",
       "4   5               How to modify whois contact details?   \n",
       "\n",
       "                                                Body  \\\n",
       "0  <p>I'd like to check if an uploaded file is an...   \n",
       "1  <p>In my favorite editor (vim), I regularly us...   \n",
       "2  <p>I am import matlab file and construct a dat...   \n",
       "3  <p>This is probably very simple, but I simply ...   \n",
       "4  <pre><code>function modify(.......)\\n{\\n  $mco...   \n",
       "\n",
       "                                                Tags  \n",
       "0  php image-processing file-upload upload mime-t...  \n",
       "1                                            firefox  \n",
       "2                          r matlab machine-learning  \n",
       "3                                    c# url encoding  \n",
       "4                          php api file-get-contents  "
      ]
     },
     "execution_count": 7,
     "metadata": {},
     "output_type": "execute_result"
    }
   ],
   "source": [
    "df.head()"
   ]
  },
  {
   "cell_type": "markdown",
   "metadata": {},
   "source": [
    "There are about 6 million records"
   ]
  },
  {
   "cell_type": "code",
   "execution_count": 8,
   "metadata": {
    "scrolled": true
   },
   "outputs": [
    {
     "name": "stdout",
     "output_type": "stream",
     "text": [
      "<class 'pandas.core.frame.DataFrame'>\n",
      "RangeIndex: 6034195 entries, 0 to 6034194\n",
      "Data columns (total 4 columns):\n",
      "Id       int64\n",
      "Title    object\n",
      "Body     object\n",
      "Tags     object\n",
      "dtypes: int64(1), object(3)\n",
      "memory usage: 184.1+ MB\n"
     ]
    }
   ],
   "source": [
    "df.info()"
   ]
  },
  {
   "cell_type": "markdown",
   "metadata": {},
   "source": [
    "## Are there any duplicates in the dataframe?\n",
    "\n",
    "If a combination of `Title`, `Body` and `Tags` is repeated, these are clearly duplicate values. There's no point in having them more than once.\n",
    " \n",
    "Let's create a boolean list of all the duplicate rows."
   ]
  },
  {
   "cell_type": "code",
   "execution_count": 9,
   "metadata": {},
   "outputs": [],
   "source": [
    "duplicated = df.duplicated(subset=['Title', 'Body','Tags']) == True"
   ]
  },
  {
   "cell_type": "markdown",
   "metadata": {},
   "source": [
    "There are `1827881` duplicate rows!"
   ]
  },
  {
   "cell_type": "code",
   "execution_count": 10,
   "metadata": {},
   "outputs": [
    {
     "data": {
      "text/plain": [
       "(1827881, 4)"
      ]
     },
     "execution_count": 10,
     "metadata": {},
     "output_type": "execute_result"
    }
   ],
   "source": [
    "df[duplicated].shape"
   ]
  },
  {
   "cell_type": "markdown",
   "metadata": {},
   "source": [
    "Let's drop these records"
   ]
  },
  {
   "cell_type": "code",
   "execution_count": 11,
   "metadata": {
    "scrolled": false
   },
   "outputs": [],
   "source": [
    "df.drop_duplicates(subset=['Title','Body', 'Tags'], inplace=True)"
   ]
  },
  {
   "cell_type": "markdown",
   "metadata": {},
   "source": [
    "After dropping duplicates, we have about ~70% of data"
   ]
  },
  {
   "cell_type": "code",
   "execution_count": 12,
   "metadata": {},
   "outputs": [
    {
     "data": {
      "text/plain": [
       "69.70795607367677"
      ]
     },
     "execution_count": 12,
     "metadata": {},
     "output_type": "execute_result"
    }
   ],
   "source": [
    "df.shape[0] / 6034195  * 100"
   ]
  },
  {
   "cell_type": "markdown",
   "metadata": {},
   "source": [
    "Save the deplicated dataframe to disk"
   ]
  },
  {
   "cell_type": "code",
   "execution_count": 13,
   "metadata": {},
   "outputs": [],
   "source": [
    "# df.to_csv('Train_deDuped.csv', index=False)"
   ]
  },
  {
   "cell_type": "markdown",
   "metadata": {},
   "source": [
    "## Exploratory Data Analysis (EDA)\n",
    "\n",
    "Any data science or machine learning project should begin with EDA. It gives us a *feel* of the data and helps us decide what features to include in the ML models. Let's analyze the four features in our data one by one. \n",
    "\n",
    "### 1. Feature: Tags\n",
    "\n",
    "Each question in the dataframe has a space separated list of Tags associated with it. This is what we want to predict as accurately as possible. Let's define certain variables that will help us analyze how the Tags are distributed in the data."
   ]
  },
  {
   "cell_type": "code",
   "execution_count": 14,
   "metadata": {
    "scrolled": false
   },
   "outputs": [],
   "source": [
    "# create a list of tags for each Question. 1 list for 1 question. Therefore a list of lists.\n",
    "list_of_lists_tags = [str(tags).split() for tags in df['Tags'].values.tolist()]\n",
    "\n",
    "# join all lists together to form a single list\n",
    "all_tags = list(itertools.chain.from_iterable(list_of_lists_tags))\n",
    "\n",
    "tag_counts = Counter()\n",
    "\n",
    "for tag in all_tags:\n",
    "    tag_counts[tag] += 1\n",
    "\n",
    "# Get unique tags\n",
    "all_tags = list(set(all_tags))\n",
    "\n",
    "df_tag_counts = pd.DataFrame.from_dict(tag_counts, orient='index')"
   ]
  },
  {
   "cell_type": "markdown",
   "metadata": {},
   "source": [
    "A dataframe with index as tag name and column as count"
   ]
  },
  {
   "cell_type": "code",
   "execution_count": 17,
   "metadata": {},
   "outputs": [
    {
     "data": {
      "text/html": [
       "<div>\n",
       "<style scoped>\n",
       "    .dataframe tbody tr th:only-of-type {\n",
       "        vertical-align: middle;\n",
       "    }\n",
       "\n",
       "    .dataframe tbody tr th {\n",
       "        vertical-align: top;\n",
       "    }\n",
       "\n",
       "    .dataframe thead th {\n",
       "        text-align: right;\n",
       "    }\n",
       "</style>\n",
       "<table border=\"1\" class=\"dataframe\">\n",
       "  <thead>\n",
       "    <tr style=\"text-align: right;\">\n",
       "      <th></th>\n",
       "      <th>0</th>\n",
       "    </tr>\n",
       "  </thead>\n",
       "  <tbody>\n",
       "    <tr>\n",
       "      <th>php</th>\n",
       "      <td>284103</td>\n",
       "    </tr>\n",
       "    <tr>\n",
       "      <th>image-processing</th>\n",
       "      <td>7099</td>\n",
       "    </tr>\n",
       "    <tr>\n",
       "      <th>file-upload</th>\n",
       "      <td>6807</td>\n",
       "    </tr>\n",
       "    <tr>\n",
       "      <th>upload</th>\n",
       "      <td>4281</td>\n",
       "    </tr>\n",
       "    <tr>\n",
       "      <th>mime-types</th>\n",
       "      <td>966</td>\n",
       "    </tr>\n",
       "    <tr>\n",
       "      <th>firefox</th>\n",
       "      <td>14066</td>\n",
       "    </tr>\n",
       "    <tr>\n",
       "      <th>r</th>\n",
       "      <td>20096</td>\n",
       "    </tr>\n",
       "    <tr>\n",
       "      <th>matlab</th>\n",
       "      <td>13532</td>\n",
       "    </tr>\n",
       "    <tr>\n",
       "      <th>machine-learning</th>\n",
       "      <td>2141</td>\n",
       "    </tr>\n",
       "    <tr>\n",
       "      <th>c#</th>\n",
       "      <td>331505</td>\n",
       "    </tr>\n",
       "  </tbody>\n",
       "</table>\n",
       "</div>"
      ],
      "text/plain": [
       "                       0\n",
       "php               284103\n",
       "image-processing    7099\n",
       "file-upload         6807\n",
       "upload              4281\n",
       "mime-types           966\n",
       "firefox            14066\n",
       "r                  20096\n",
       "matlab             13532\n",
       "machine-learning    2141\n",
       "c#                331505"
      ]
     },
     "execution_count": 17,
     "metadata": {},
     "output_type": "execute_result"
    }
   ],
   "source": [
    "df_tag_counts.head(10)"
   ]
  },
  {
   "cell_type": "markdown",
   "metadata": {},
   "source": [
    "### How many unique tags?"
   ]
  },
  {
   "cell_type": "code",
   "execution_count": 18,
   "metadata": {},
   "outputs": [
    {
     "name": "stdout",
     "output_type": "stream",
     "text": [
      "There are 42048 unique tags in the data.\n"
     ]
    }
   ],
   "source": [
    "print('There are {} unique tags in the data.'.format(len(all_tags)))"
   ]
  },
  {
   "cell_type": "markdown",
   "metadata": {},
   "source": [
    "### Most common Tags\n",
    "\n",
    "Following are the 15 most common tags found in the dataset. Looks like `C#` is the most popular language among the developers around the world."
   ]
  },
  {
   "cell_type": "code",
   "execution_count": 19,
   "metadata": {},
   "outputs": [
    {
     "data": {
      "image/png": "[encoded data removed]",
      "text/plain": [
       "<Figure size 1080x360 with 1 Axes>"
      ]
     },
     "metadata": {},
     "output_type": "display_data"
    }
   ],
   "source": [
    "_ = df_tag_counts.sort_values(by=0, ascending=False)[:15].plot(kind='bar', rot=20, cmap='Set3', legend=False)\n",
    "_.tick_params(axis='x', labelsize=13)\n",
    "_.tick_params(axis='y', labelsize=13)\n",
    "_ = plt.title('Top 15 most popular tags')"
   ]
  },
  {
   "cell_type": "markdown",
   "metadata": {},
   "source": [
    "## Wordcloud of Tags\n",
    "\n",
    "Wordcloud is a pictorial representation of how the words are distributed in a corpus. The most frequent words are shown in the biggest font, with sizes decreasing correspondingly with decrease in frequency."
   ]
  },
  {
   "cell_type": "code",
   "execution_count": 20,
   "metadata": {},
   "outputs": [],
   "source": [
    "wordcloud = WordCloud(    background_color='black',\n",
    "                          width=1600,\n",
    "                          height=800,\n",
    "                    ).generate_from_frequencies(dict(tag_counts.most_common()))"
   ]
  },
  {
   "cell_type": "code",
   "execution_count": 22,
   "metadata": {},
   "outputs": [
    {
     "data": {
      "image/png": "[encoded data removed]",
      "text/plain": [
       "<Figure size 1080x648 with 1 Axes>"
      ]
     },
     "metadata": {},
     "output_type": "display_data"
    }
   ],
   "source": [
    "plt.figure(figsize=(15,9))\n",
    "plt.axis('off')\n",
    "plt.title('WordCloud of Tags')\n",
    "plt.imshow(wordcloud)\n",
    "plt.show()"
   ]
  },
  {
   "cell_type": "markdown",
   "metadata": {},
   "source": [
    "## Frequency of Tags\n",
    "\n",
    "We have 42048 tags, are they evenly distributed? Nope!\n",
    "\n",
    "Look at the graph below and observe that a few hundred tags cover most of the questions while the others are encountered sporadically."
   ]
  },
  {
   "cell_type": "code",
   "execution_count": 23,
   "metadata": {},
   "outputs": [
    {
     "data": {
      "image/png": "[encoded data removed]",
      "text/plain": [
       "<Figure size 1080x360 with 1 Axes>"
      ]
     },
     "metadata": {},
     "output_type": "display_data"
    }
   ],
   "source": [
    "frequency_of_tags_sorted = sorted(list(tag_counts.values()))[::-1]\n",
    "\n",
    "plt.plot(frequency_of_tags_sorted, marker = '.', linestyle='none', markersize='4')\n",
    "plt.title('Frequency of Tags (Sorted)')\n",
    "plt.xlabel('Index of Tag')\n",
    "plt.ylabel('Frequency')\n",
    "plt.show()"
   ]
  },
  {
   "cell_type": "markdown",
   "metadata": {},
   "source": [
    "### How many Tags are there which cover most of the questions?\n",
    "\n",
    "In this section, we'll try to see exactly how many tags are there which are associated with most of the questions? Let's define a function to plot the Cumulative Distribution Function."
   ]
  },
  {
   "cell_type": "code",
   "execution_count": 24,
   "metadata": {},
   "outputs": [],
   "source": [
    "def cdf(data):\n",
    "    \"\"\"\n",
    "    compute ECDF for a one dimensional array of measurements.\n",
    "    The y data of the ECDF go from 1/n to 1 in equally spaced increments.\n",
    "    the end value in np.arange() is not inclusive. Therefore, np.arange() will need to go from 1 to n+1\n",
    "    \"\"\"\n",
    "    n=len(data)\n",
    "    x=np.sort(data)\n",
    "    y=np.arange(1,n+1) / n\n",
    "    return x,y"
   ]
  },
  {
   "cell_type": "markdown",
   "metadata": {},
   "source": [
    "Looking at the CDF of Tag Frequency, we find that about 99% of the questions can be covered with a few hundred tags. But exactly what is this number? We'll find it out next. "
   ]
  },
  {
   "cell_type": "code",
   "execution_count": 26,
   "metadata": {},
   "outputs": [
    {
     "data": {
      "image/png": "[encoded data removed]",
      "text/plain": [
       "<Figure size 1080x360 with 1 Axes>"
      ]
     },
     "metadata": {},
     "output_type": "display_data"
    }
   ],
   "source": [
    "x,y = cdf(frequency_of_tags_sorted)\n",
    "plt.plot(x,y, marker='.', linestyle='none', markersize='1')\n",
    "plt.title('Cumulative Distribution Function of Tag frequency')\n",
    "plt.xlabel('Number of Tags')\n",
    "plt.ylabel('Percentage')\n",
    "plt.show()"
   ]
  },
  {
   "cell_type": "markdown",
   "metadata": {},
   "source": [
    "## Explained Questions by n tags\n",
    "\n",
    "The following block of code prints the percentage of questions covered by the top `n` Tags. By varying the value of n, let's do some analysis."
   ]
  },
  {
   "cell_type": "code",
   "execution_count": 29,
   "metadata": {},
   "outputs": [
    {
     "name": "stdout",
     "output_type": "stream",
     "text": [
      "Questions covered by top 50 Tags: 68.54 %\n",
      "Questions covered by top 100 Tags: 76.49 %\n",
      "Questions covered by top 150 Tags: 80.19 %\n",
      "Questions covered by top 200 Tags: 83.15 %\n",
      "Questions covered by top 250 Tags: 84.88 %\n",
      "Questions covered by top 300 Tags: 86.25 %\n",
      "Questions covered by top 350 Tags: 87.37 %\n",
      "Questions covered by top 400 Tags: 88.4 %\n",
      "Questions covered by top 450 Tags: 89.27 %\n",
      "Questions covered by top 500 Tags: 90.05 %\n",
      "Questions covered by top 550 Tags: 90.75 %\n",
      "Questions covered by top 600 Tags: 91.22 %\n",
      "Questions covered by top 650 Tags: 91.76 %\n",
      "Questions covered by top 700 Tags: 92.13 %\n",
      "Questions covered by top 750 Tags: 92.47 %\n",
      "Questions covered by top 800 Tags: 92.89 %\n",
      "Questions covered by top 850 Tags: 93.32 %\n",
      "Questions covered by top 900 Tags: 93.69 %\n",
      "Questions covered by top 950 Tags: 93.93 %\n",
      "Questions covered by top 1000 Tags: 94.16 %\n",
      "Questions covered by top 1050 Tags: 94.36 %\n",
      "Questions covered by top 1100 Tags: 94.55 %\n",
      "Questions covered by top 1150 Tags: 94.7 %\n",
      "Questions covered by top 1200 Tags: 94.84 %\n",
      "Questions covered by top 1250 Tags: 95.06 %\n",
      "Questions covered by top 1300 Tags: 95.25 %\n",
      "Questions covered by top 1350 Tags: 95.38 %\n",
      "Questions covered by top 1400 Tags: 95.55 %\n",
      "Questions covered by top 1450 Tags: 95.65 %\n",
      "Questions covered by top 1500 Tags: 95.82 %\n"
     ]
    }
   ],
   "source": [
    "N = []\n",
    "pct_of_questions = []\n",
    "\n",
    "for n in range(50, 1550, 50):\n",
    "    # n = 100\n",
    "    top_n_tags_SET = set(dict(tag_counts.most_common(n)).keys())\n",
    "    no_of_questions_covered = 0\n",
    "\n",
    "    for tags in list_of_lists_tags:\n",
    "\n",
    "         if bool(top_n_tags_SET.intersection(set(tags))) is True:\n",
    "                no_of_questions_covered += 1\n",
    "    \n",
    "    pct = no_of_questions_covered/len(list_of_lists_tags)*100\n",
    "    \n",
    "    N.append(n)\n",
    "    pct_of_questions.append(pct)\n",
    "    \n",
    "    print('Questions covered by top',n,'Tags:',np.round(pct, 2), '%')        "
   ]
  },
  {
   "cell_type": "markdown",
   "metadata": {},
   "source": [
    "Plot the above result"
   ]
  },
  {
   "cell_type": "code",
   "execution_count": 30,
   "metadata": {},
   "outputs": [
    {
     "data": {
      "image/png": "[encoded data removed]",
      "text/plain": [
       "<Figure size 1080x360 with 1 Axes>"
      ]
     },
     "metadata": {},
     "output_type": "display_data"
    }
   ],
   "source": [
    "plt.plot(N, pct_of_questions, marker='.', markersize=13)\n",
    "plt.xlabel('Top n Tags', fontsize=15)\n",
    "plt.ylabel('Percentage', fontsize=15)\n",
    "plt.title('Percentage of Questions covered by top n tags')\n",
    "plt.show()"
   ]
  },
  {
   "cell_type": "markdown",
   "metadata": {},
   "source": [
    "As is evident in the graph above, the top 500 tags appear in about 90% of the questions, while the top 300 appear in 85% of the questions.\n",
    "\n",
    "As this is a prototype solution, in order to reduce the complexity of the problem, it is necessary that we choose a small subset of the tags. Training a multi-label classification model on 42,048 features will require huge compute power and attempting do it is just not feasible for this study. Therefore, I'll limit the number of tags to 300.\n",
    "\n",
    "## Tags per question\n",
    "\n",
    "How many tags does a question have typically?"
   ]
  },
  {
   "cell_type": "code",
   "execution_count": 31,
   "metadata": {},
   "outputs": [],
   "source": [
    "number_of_tags = Counter()\n",
    "\n",
    "for tags in list_of_lists_tags:\n",
    "    \n",
    "    number_of_tags[len(tags)] += 1"
   ]
  },
  {
   "cell_type": "code",
   "execution_count": 32,
   "metadata": {},
   "outputs": [
    {
     "data": {
      "text/plain": [
       "Counter({5: 505158, 1: 568297, 3: 1206157, 2: 1111706, 4: 814996})"
      ]
     },
     "execution_count": 32,
     "metadata": {},
     "output_type": "execute_result"
    }
   ],
   "source": [
    "number_of_tags"
   ]
  },
  {
   "cell_type": "markdown",
   "metadata": {},
   "source": [
    "Observe the graph below and notice that most of the questions have three tags."
   ]
  },
  {
   "cell_type": "code",
   "execution_count": 33,
   "metadata": {},
   "outputs": [
    {
     "data": {
      "image/png": "[encoded data removed]",
      "text/plain": [
       "<Figure size 1080x360 with 1 Axes>"
      ]
     },
     "metadata": {},
     "output_type": "display_data"
    }
   ],
   "source": [
    "x = number_of_tags.keys()\n",
    "y= number_of_tags.values()\n",
    "plt.bar(x,y, width=0.5, color='k')\n",
    "plt.title('Questions with number of tags')\n",
    "plt.xlabel('Number of Tags', fontsize=14)\n",
    "plt.ylabel('Count', fontsize=14)\n",
    "plt.xticks(fontsize=13)\n",
    "plt.yticks(fontsize=13)\n",
    "plt.show()"
   ]
  },
  {
   "cell_type": "markdown",
   "metadata": {},
   "source": [
    "### 2. Feature: Body\n",
    "\n",
    "Following are a few examples of unprocessed text in the body of a few questions. As you can observe, this data is really dirty from a data analysis perspective. We need to massage it into a format fit for generating vectors, which will in turn be used for training ML models."
   ]
  },
  {
   "cell_type": "code",
   "execution_count": 39,
   "metadata": {
    "scrolled": false
   },
   "outputs": [
    {
     "name": "stdout",
     "output_type": "stream",
     "text": [
      "<p>Why is installing MySQL on Windows Vista such a bear?  For someone who is not \n",
      "a professional database administrator, it seems like I am jumping through hoops.</p>\n",
      "\n",
      "<p>This page\n",
      "<a href=\"http://forums.mysql.com/read.php?11,200958,204223#REPLY\" rel=\"nofollow\">http://forums.mysql.com/read.php?11,200958,204223#REPLY</a>\n",
      "pointed to this page\n",
      "<a href=\"http://www.sqlservercentral.com/blogs/brian_kelley/archive/2008/04/04/installing-5-0-51a-mysql-community-edition-on-windows-vista.aspx\" rel=\"nofollow\">http://www.sqlservercentral.com/blogs/brian_kelley/archive/2008/04/04/installing-5-0-51a-mysql-community-edition-on-windows-vista.aspx</a>\n",
      "which suggests this page\n",
      "<a href=\"http://port25.technet.com/archive/2007/03/16/mysql-on-windows-configuration-install.aspx\" rel=\"nofollow\">http://port25.technet.com/archive/2007/03/16/mysql-on-windows-configuration-install.aspx</a>\n",
      "which points to this beautiful pdf file\n",
      "<a href=\"http://port25.technet.com/videos/research/MySQL_Windows.pdf\" rel=\"nofollow\">http://port25.technet.com/videos/research/MySQL_Windows.pdf</a>\n",
      "Ah, now I am getting somewhere.</p>\n",
      "\n",
      "<p>It suggested I turn off the User Account Control (UAC).  Which I did.</p>\n",
      "\n",
      "<p>But after following these steps\n",
      "There was an error at the end of the installation that said that the server failed to start.\n",
      "[IMG]<a href=\"http://i67.photobucket.com/albums/h292/Athono/help-1.jpg\" rel=\"nofollow\">http://i67.photobucket.com/albums/h292/Athono/help-1.jpg</a>[/IMG]</p>\n",
      "\n",
      "<p>Where do I go to find answers?</p>\n",
      "\n",
      "*************************************************************************************\n",
      "<pre><code>To support OS 3.x, please set Base SDK to iPhone Device 4.0 and iPhone OS Deployment Target to iPhone OS 3.x. Extra linker flags may be needed if NSConcreteGlobalBlock and UIBackgroundTaskInvalid runtime error occur under 3.x.\n",
      "The linker flags are:\n",
      "-weak_framework UIKit\n",
      "-weak_library /usr/lib/libSystem.B.dylib\n",
      "</code></pre>\n",
      "\n",
      "<p>EDIT:\n",
      "im still getting the same build error, even after linking: cl.ly/c69ca3f8a336d7e41256</p>\n",
      "\n",
      "*************************************************************************************\n",
      "<p>I've been trying to add a variable in the flash notice that appears when post been created with <code>#{variable}</code></p>\n",
      "\n",
      "<p>But I must be missing something because the only message I receive is \"#{variable}\".</p>\n",
      "\n",
      "<p>This is my controller:</p>\n",
      "\n",
      "<pre><code> def create\n",
      "\n",
      "    @participant = Participant.new(params[:participant])\n",
      "\n",
      "    respond_to do |format|\n",
      "      if @participant.save\n",
      "        mail = params[:email]\n",
      "        format.html { redirect_to @participant, notice: 'Thanks, We will be sending out instructions to:  #{mail}' }\n",
      "        format.json { render json: @participant, status: :created, location: @participant }\n",
      "      else\n",
      "        format.html { render action: \"new\" }\n",
      "        format.json { render json: @participant.errors, status: :unprocessable_entity }\n",
      "      end\n",
      "    end\n",
      "  end\n",
      "</code></pre>\n",
      "\n",
      "<p>I've been trying with @participants as variable aswell, but still, I don't get anything but the actual \"#{@participants}\" in the message.</p>\n",
      "\n",
      "*************************************************************************************\n"
     ]
    }
   ],
   "source": [
    "for question in df['Body'].sample(3):\n",
    "    print(question, end='\\n*************************************************************************************\\n')"
   ]
  },
  {
   "cell_type": "markdown",
   "metadata": {},
   "source": [
    "### Clean the dataframe\n",
    "\n",
    "The following function takes in a corpus of text, and removes `HTML` from it."
   ]
  },
  {
   "cell_type": "code",
   "execution_count": 40,
   "metadata": {},
   "outputs": [],
   "source": [
    "def stripHTML(data):\n",
    "    cleanr = re.compile('<.*?>')\n",
    "    cleantext = re.sub(cleanr, ' ', str(data))\n",
    "    return cleantext"
   ]
  },
  {
   "cell_type": "markdown",
   "metadata": {},
   "source": [
    "Function that cleans the input text by removing HTML tags, code or special characters."
   ]
  },
  {
   "cell_type": "code",
   "execution_count": 13,
   "metadata": {},
   "outputs": [],
   "source": [
    "def clean_text(row):\n",
    "    row = re.sub('<code>(.*?)</code>', '', row)\n",
    "    row = stripHTML(row.encode('utf-8'))\n",
    "    row = re.sub(r'[^A-Za-z]+', ' ', row)\n",
    "    words = word_tokenize(row.lower())\n",
    "    row = ' '.join(str(stemmer.stem(j))\\\n",
    "                          for j in words \\\n",
    "                              if j not in stop_words and (j=='c' or len(j)>2))\n",
    "    return row"
   ]
  },
  {
   "cell_type": "code",
   "execution_count": 41,
   "metadata": {},
   "outputs": [
    {
     "data": {
      "text/plain": [
       "Index(['Id', 'Title', 'Body', 'Tags'], dtype='object')"
      ]
     },
     "execution_count": 41,
     "metadata": {},
     "output_type": "execute_result"
    }
   ],
   "source": [
    "#df.drop(axis=1, labels='title_plus_body', inplace=True)\n",
    "df.columns"
   ]
  },
  {
   "cell_type": "markdown",
   "metadata": {},
   "source": [
    "### More importance to the Title\n",
    "\n",
    "The title of a question is often sufficient to determine what tags are applicable to it. Therefore, it makes sense to give it more importance as compared to the body of the question. How do we do this?\n",
    "\n",
    "By creating a new column `title_plus_body` that repeats the title of the question 3 times. This is a simple hack that will give three times more importance to the title of the question, when we convert the textual data into vectors using `Tfidf` or `Bag of Words`."
   ]
  },
  {
   "cell_type": "code",
   "execution_count": 43,
   "metadata": {},
   "outputs": [],
   "source": [
    "df['title_plus_body'] = df.Title + ' ' + df.Title + ' ' + df.Title + ' ' + df.Body"
   ]
  },
  {
   "cell_type": "markdown",
   "metadata": {},
   "source": [
    "As expected, the new column is added to the dataframe. It is a concatenation of three times title and the body."
   ]
  },
  {
   "cell_type": "code",
   "execution_count": 44,
   "metadata": {},
   "outputs": [
    {
     "data": {
      "text/html": [
       "<div>\n",
       "<style scoped>\n",
       "    .dataframe tbody tr th:only-of-type {\n",
       "        vertical-align: middle;\n",
       "    }\n",
       "\n",
       "    .dataframe tbody tr th {\n",
       "        vertical-align: top;\n",
       "    }\n",
       "\n",
       "    .dataframe thead th {\n",
       "        text-align: right;\n",
       "    }\n",
       "</style>\n",
       "<table border=\"1\" class=\"dataframe\">\n",
       "  <thead>\n",
       "    <tr style=\"text-align: right;\">\n",
       "      <th></th>\n",
       "      <th>Id</th>\n",
       "      <th>Title</th>\n",
       "      <th>Body</th>\n",
       "      <th>Tags</th>\n",
       "      <th>title_plus_body</th>\n",
       "    </tr>\n",
       "  </thead>\n",
       "  <tbody>\n",
       "    <tr>\n",
       "      <th>0</th>\n",
       "      <td>1</td>\n",
       "      <td>How to check if an uploaded file is an image w...</td>\n",
       "      <td>&lt;p&gt;I'd like to check if an uploaded file is an...</td>\n",
       "      <td>php image-processing file-upload upload mime-t...</td>\n",
       "      <td>How to check if an uploaded file is an image w...</td>\n",
       "    </tr>\n",
       "    <tr>\n",
       "      <th>1</th>\n",
       "      <td>2</td>\n",
       "      <td>How can I prevent firefox from closing when I ...</td>\n",
       "      <td>&lt;p&gt;In my favorite editor (vim), I regularly us...</td>\n",
       "      <td>firefox</td>\n",
       "      <td>How can I prevent firefox from closing when I ...</td>\n",
       "    </tr>\n",
       "    <tr>\n",
       "      <th>2</th>\n",
       "      <td>3</td>\n",
       "      <td>R Error Invalid type (list) for variable</td>\n",
       "      <td>&lt;p&gt;I am import matlab file and construct a dat...</td>\n",
       "      <td>r matlab machine-learning</td>\n",
       "      <td>R Error Invalid type (list) for variable R Err...</td>\n",
       "    </tr>\n",
       "    <tr>\n",
       "      <th>3</th>\n",
       "      <td>4</td>\n",
       "      <td>How do I replace special characters in a URL?</td>\n",
       "      <td>&lt;p&gt;This is probably very simple, but I simply ...</td>\n",
       "      <td>c# url encoding</td>\n",
       "      <td>How do I replace special characters in a URL? ...</td>\n",
       "    </tr>\n",
       "    <tr>\n",
       "      <th>4</th>\n",
       "      <td>5</td>\n",
       "      <td>How to modify whois contact details?</td>\n",
       "      <td>&lt;pre&gt;&lt;code&gt;function modify(.......)\\n{\\n  $mco...</td>\n",
       "      <td>php api file-get-contents</td>\n",
       "      <td>How to modify whois contact details? How to mo...</td>\n",
       "    </tr>\n",
       "  </tbody>\n",
       "</table>\n",
       "</div>"
      ],
      "text/plain": [
       "   Id                                              Title  \\\n",
       "0   1  How to check if an uploaded file is an image w...   \n",
       "1   2  How can I prevent firefox from closing when I ...   \n",
       "2   3           R Error Invalid type (list) for variable   \n",
       "3   4      How do I replace special characters in a URL?   \n",
       "4   5               How to modify whois contact details?   \n",
       "\n",
       "                                                Body  \\\n",
       "0  <p>I'd like to check if an uploaded file is an...   \n",
       "1  <p>In my favorite editor (vim), I regularly us...   \n",
       "2  <p>I am import matlab file and construct a dat...   \n",
       "3  <p>This is probably very simple, but I simply ...   \n",
       "4  <pre><code>function modify(.......)\\n{\\n  $mco...   \n",
       "\n",
       "                                                Tags  \\\n",
       "0  php image-processing file-upload upload mime-t...   \n",
       "1                                            firefox   \n",
       "2                          r matlab machine-learning   \n",
       "3                                    c# url encoding   \n",
       "4                          php api file-get-contents   \n",
       "\n",
       "                                     title_plus_body  \n",
       "0  How to check if an uploaded file is an image w...  \n",
       "1  How can I prevent firefox from closing when I ...  \n",
       "2  R Error Invalid type (list) for variable R Err...  \n",
       "3  How do I replace special characters in a URL? ...  \n",
       "4  How to modify whois contact details? How to mo...  "
      ]
     },
     "execution_count": 44,
     "metadata": {},
     "output_type": "execute_result"
    }
   ],
   "source": [
    "df.head()"
   ]
  },
  {
   "cell_type": "markdown",
   "metadata": {},
   "source": [
    "This is how the new column looks before it is cleaned."
   ]
  },
  {
   "cell_type": "code",
   "execution_count": 12,
   "metadata": {},
   "outputs": [
    {
     "data": {
      "text/plain": [
       "'How do I replace special characters in a URL? How do I replace special characters in a URL? How do I replace special characters in a URL? <p>This is probably very simple, but I simply cannot find the answer myself :( </p>\\n\\n<p>Basicaly, what I want is, given this string:</p>\\n\\n<p>\"http://www.google.com/search?hl=en&amp;q=c# objects\"</p>\\n\\n<p>I want this output:</p>\\n\\n<p><a href=\"http://www.google.com/search?hl=en&amp;q=c%23+objects\">http://www.google.com/search?hl=en&amp;q=c%23+objects</a></p>\\n\\n<p>I\\'m sure there\\'s some helper class somewhere buried in the Framework that takes care of that for me, but I\\'m having trouble finding it.</p>\\n\\n<p>EDIT: I should add, that this is for a Winforms App.</p>\\n'"
      ]
     },
     "execution_count": 12,
     "metadata": {},
     "output_type": "execute_result"
    }
   ],
   "source": [
    "df.title_plus_body.loc[3]"
   ]
  },
  {
   "cell_type": "markdown",
   "metadata": {},
   "source": [
    "Clean the dataframe using the functions we defined above."
   ]
  },
  {
   "cell_type": "code",
   "execution_count": null,
   "metadata": {},
   "outputs": [],
   "source": [
    "%%notify\n",
    "%%time\n",
    "\n",
    "stop_words = set(stopwords.words('english'))\n",
    "\n",
    "# Add `num` to stopwords\n",
    "stop_words.add('num')\n",
    "stop_words.add('na')\n",
    "stop_words.add('like')\n",
    "stop_words.add('could')\n",
    "stop_words.add('would')\n",
    "stop_words.add('should')\n",
    "stop_words.add('thank')\n",
    "stop_words.add('think')\n",
    "stop_words.add('need')\n",
    "stop_words.add('know')\n",
    "\n",
    "stemmer = SnowballStemmer(\"english\")\n",
    "\n",
    "df['title_plus_body'] = df.title_plus_body.apply(clean_text)"
   ]
  },
  {
   "cell_type": "markdown",
   "metadata": {},
   "source": [
    "This is how the text looks after cleaning"
   ]
  },
  {
   "cell_type": "code",
   "execution_count": 6,
   "metadata": {},
   "outputs": [
    {
     "data": {
      "text/plain": [
       "'replac special charact url replac special charact url replac special charact url probabl simpl simpli find answer basicali want given string http com search amp c object want output http com search amp c object sure helper class somewher buri framework take care troubl find edit add winform app'"
      ]
     },
     "execution_count": 6,
     "metadata": {},
     "output_type": "execute_result"
    }
   ],
   "source": [
    "df.title_plus_body.loc[3]"
   ]
  },
  {
   "cell_type": "code",
   "execution_count": 45,
   "metadata": {},
   "outputs": [
    {
     "data": {
      "text/plain": [
       "Index(['Id', 'Title', 'Body', 'Tags', 'title_plus_body'], dtype='object')"
      ]
     },
     "execution_count": 45,
     "metadata": {},
     "output_type": "execute_result"
    }
   ],
   "source": [
    "df.columns"
   ]
  },
  {
   "cell_type": "markdown",
   "metadata": {},
   "source": [
    "As we discussed above, the total number of tags in the data is `42048`, which is a huge number! The multilabel classification algorithms would take days to finish training. Therefore we need to select a subset of the tags that cover as many questions as possible.\n",
    "\n",
    "## Limit the data\n",
    "\n",
    "We will work with 500k questions instead of all 6 million. Therefore, let's see how many tags sufficiently cover these 500k questions. I've saved the top 500k cleaned questions on disk, with only the columns `title_plus_body` and `Tags`, since the operation takes a lot of time. "
   ]
  },
  {
   "cell_type": "code",
   "execution_count": 4,
   "metadata": {},
   "outputs": [
    {
     "data": {
      "text/html": [
       "<div>\n",
       "<style scoped>\n",
       "    .dataframe tbody tr th:only-of-type {\n",
       "        vertical-align: middle;\n",
       "    }\n",
       "\n",
       "    .dataframe tbody tr th {\n",
       "        vertical-align: top;\n",
       "    }\n",
       "\n",
       "    .dataframe thead th {\n",
       "        text-align: right;\n",
       "    }\n",
       "</style>\n",
       "<table border=\"1\" class=\"dataframe\">\n",
       "  <thead>\n",
       "    <tr style=\"text-align: right;\">\n",
       "      <th></th>\n",
       "      <th>title_plus_body</th>\n",
       "      <th>Tags</th>\n",
       "    </tr>\n",
       "  </thead>\n",
       "  <tbody>\n",
       "    <tr>\n",
       "      <th>0</th>\n",
       "      <td>check upload file imag without mime type check...</td>\n",
       "      <td>php image-processing file-upload upload mime-t...</td>\n",
       "    </tr>\n",
       "    <tr>\n",
       "      <th>1</th>\n",
       "      <td>prevent firefox close press ctrl prevent firef...</td>\n",
       "      <td>firefox</td>\n",
       "    </tr>\n",
       "    <tr>\n",
       "      <th>2</th>\n",
       "      <td>error invalid type list variabl error invalid ...</td>\n",
       "      <td>r matlab machine-learning</td>\n",
       "    </tr>\n",
       "    <tr>\n",
       "      <th>3</th>\n",
       "      <td>replac special charact url replac special char...</td>\n",
       "      <td>c# url encoding</td>\n",
       "    </tr>\n",
       "    <tr>\n",
       "      <th>4</th>\n",
       "      <td>modifi whoi contact detail modifi whoi contact...</td>\n",
       "      <td>php api file-get-contents</td>\n",
       "    </tr>\n",
       "  </tbody>\n",
       "</table>\n",
       "</div>"
      ],
      "text/plain": [
       "                                     title_plus_body  \\\n",
       "0  check upload file imag without mime type check...   \n",
       "1  prevent firefox close press ctrl prevent firef...   \n",
       "2  error invalid type list variabl error invalid ...   \n",
       "3  replac special charact url replac special char...   \n",
       "4  modifi whoi contact detail modifi whoi contact...   \n",
       "\n",
       "                                                Tags  \n",
       "0  php image-processing file-upload upload mime-t...  \n",
       "1                                            firefox  \n",
       "2                          r matlab machine-learning  \n",
       "3                                    c# url encoding  \n",
       "4                          php api file-get-contents  "
      ]
     },
     "execution_count": 4,
     "metadata": {},
     "output_type": "execute_result"
    }
   ],
   "source": [
    "path = 'Train_500k_cleaned.csv'\n",
    "df = pd.read_csv(path)\n",
    "df.head()"
   ]
  },
  {
   "cell_type": "code",
   "execution_count": 5,
   "metadata": {},
   "outputs": [
    {
     "data": {
      "text/plain": [
       "(500000, 2)"
      ]
     },
     "execution_count": 5,
     "metadata": {},
     "output_type": "execute_result"
    }
   ],
   "source": [
    "df.shape"
   ]
  },
  {
   "cell_type": "code",
   "execution_count": 6,
   "metadata": {},
   "outputs": [],
   "source": [
    "# create a list of tags for each Question. 1 list for 1 question. Therefore a list of lists.\n",
    "list_of_lists_tags = [str(tags).split() for tags in df['Tags'].values.tolist()]\n",
    "\n",
    "# join all lists together to form a single list\n",
    "all_tags = list(itertools.chain.from_iterable(list_of_lists_tags))\n",
    "\n",
    "tag_counts = Counter()\n",
    "\n",
    "for tag in all_tags:\n",
    "    tag_counts[tag] += 1\n",
    "\n",
    "# Get unique tags\n",
    "all_tags = list(set(all_tags))\n",
    "\n",
    "df_tag_counts = pd.DataFrame.from_dict(tag_counts, orient='index')"
   ]
  },
  {
   "cell_type": "code",
   "execution_count": 7,
   "metadata": {},
   "outputs": [
    {
     "name": "stdout",
     "output_type": "stream",
     "text": [
      "*** Considering 500k Questions ***\n",
      "Questions covered by top 50 Tags: 67.61 %\n",
      "Questions covered by top 100 Tags: 75.43 %\n",
      "Questions covered by top 150 Tags: 79.71 %\n",
      "Questions covered by top 200 Tags: 82.41 %\n",
      "Questions covered by top 250 Tags: 84.2 %\n",
      "Questions covered by top 300 Tags: 85.71 %\n",
      "Questions covered by top 350 Tags: 87.0 %\n",
      "Questions covered by top 400 Tags: 88.26 %\n",
      "Questions covered by top 450 Tags: 89.07 %\n",
      "Questions covered by top 500 Tags: 89.78 %\n",
      "Questions covered by top 550 Tags: 90.47 %\n",
      "Questions covered by top 600 Tags: 91.01 %\n",
      "Questions covered by top 650 Tags: 91.45 %\n",
      "Questions covered by top 700 Tags: 91.87 %\n",
      "Questions covered by top 750 Tags: 92.33 %\n",
      "Questions covered by top 800 Tags: 92.78 %\n",
      "Questions covered by top 850 Tags: 93.08 %\n",
      "Questions covered by top 900 Tags: 93.37 %\n",
      "Questions covered by top 950 Tags: 93.68 %\n",
      "Questions covered by top 1000 Tags: 93.92 %\n",
      "Questions covered by top 1050 Tags: 94.19 %\n",
      "Questions covered by top 1100 Tags: 94.44 %\n",
      "Questions covered by top 1150 Tags: 94.62 %\n",
      "Questions covered by top 1200 Tags: 94.78 %\n",
      "Questions covered by top 1250 Tags: 94.98 %\n",
      "Questions covered by top 1300 Tags: 95.19 %\n",
      "Questions covered by top 1350 Tags: 95.34 %\n",
      "Questions covered by top 1400 Tags: 95.52 %\n",
      "Questions covered by top 1450 Tags: 95.67 %\n",
      "Questions covered by top 1500 Tags: 95.78 %\n"
     ]
    }
   ],
   "source": [
    "N = []\n",
    "pct_of_questions = []\n",
    "\n",
    "print('*** Considering 500k Questions ***')\n",
    "\n",
    "for n in range(50, 1550, 50):\n",
    "    # n = 100\n",
    "    top_n_tags_SET = set(dict(tag_counts.most_common(n)).keys())\n",
    "    no_of_questions_covered = 0\n",
    "\n",
    "    for tags in list_of_lists_tags:\n",
    "\n",
    "         if bool(top_n_tags_SET.intersection(set(tags))) is True:\n",
    "                no_of_questions_covered += 1\n",
    "    \n",
    "    pct = no_of_questions_covered/len(list_of_lists_tags)*100\n",
    "    \n",
    "    N.append(n)\n",
    "    pct_of_questions.append(pct)\n",
    "    \n",
    "    print('Questions covered by top',n,'Tags:',np.round(pct, 2), '%')"
   ]
  },
  {
   "cell_type": "markdown",
   "metadata": {},
   "source": [
    "We were hoping that a smaller number of tags covers maximum percent of these 500k questions. Unfortunately, it is not so. However, in order to keep the number of tags low to manage the computation complexity, let's limit the tags to 300 which cover about 86% of the questions.\n",
    "\n",
    "## Target variable: Binary Bag of Words\n",
    "\n",
    "The ML algorithms require target variables to be in shape `n_samples x n_labels` for multiclass problems.\n",
    "\n",
    "Since we are interested only in whether the tag occues, this should be a binary indicator variable. This can be done using a `Binary Bag of Words` representation of the `Tags` feature in our data."
   ]
  },
  {
   "cell_type": "code",
   "execution_count": 8,
   "metadata": {},
   "outputs": [],
   "source": [
    "tag_vectorizer = CountVectorizer(max_features=300, min_df=20, binary=True)\n",
    "tags_bow = tag_vectorizer.fit_transform(df['Tags'])"
   ]
  },
  {
   "cell_type": "code",
   "execution_count": 9,
   "metadata": {},
   "outputs": [
    {
     "data": {
      "text/plain": [
       "<500000x300 sparse matrix of type '<class 'numpy.int64'>'\n",
       "\twith 982933 stored elements in Compressed Sparse Row format>"
      ]
     },
     "execution_count": 9,
     "metadata": {},
     "output_type": "execute_result"
    }
   ],
   "source": [
    "tags_bow"
   ]
  },
  {
   "cell_type": "markdown",
   "metadata": {},
   "source": [
    "## Train and Test sets: X & y\n",
    "\n",
    "Since the original data is randomly distributed, we don't need to use the `train_test_split` function to split the data. Let's divide the train and test data in ratio 80:20."
   ]
  },
  {
   "cell_type": "code",
   "execution_count": 10,
   "metadata": {},
   "outputs": [],
   "source": [
    "split_upto = int(0.80*df.shape[0])\n",
    "\n",
    "y_train = tags_bow[:split_upto]\n",
    "y_test = tags_bow[split_upto:]"
   ]
  },
  {
   "cell_type": "markdown",
   "metadata": {},
   "source": [
    "## X: Tfidf 1-grams\n",
    "\n",
    "We'll first try a simple Tfidf representation of our question corpus."
   ]
  },
  {
   "cell_type": "code",
   "execution_count": 11,
   "metadata": {},
   "outputs": [],
   "source": [
    "split_upto = int(0.80*df.shape[0])\n",
    "\n",
    "df_X_train = df['title_plus_body'][:split_upto]\n",
    "df_X_test = df['title_plus_body'][split_upto:]"
   ]
  },
  {
   "cell_type": "markdown",
   "metadata": {},
   "source": [
    "Limit max features to 20000, i.e. the top 20k features by Tfidf value will be considered."
   ]
  },
  {
   "cell_type": "code",
   "execution_count": 12,
   "metadata": {},
   "outputs": [],
   "source": [
    "text_vectorizer = TfidfVectorizer(min_df=20, max_features=20000)\n",
    "X_train = text_vectorizer.fit_transform(df_X_train)\n",
    "X_test = text_vectorizer.transform(df_X_test)"
   ]
  },
  {
   "cell_type": "markdown",
   "metadata": {},
   "source": [
    "The shape of our train and test sets"
   ]
  },
  {
   "cell_type": "code",
   "execution_count": 13,
   "metadata": {},
   "outputs": [
    {
     "name": "stdout",
     "output_type": "stream",
     "text": [
      "The shape of X_train is: (400000, 20000)\n",
      "The shape of y_train is: (400000, 300)\n",
      "The shape of X_test is: (100000, 20000)\n",
      "The shape of y_test is: (100000, 300)\n"
     ]
    }
   ],
   "source": [
    "print('The shape of X_train is:', X_train.shape)\n",
    "print('The shape of y_train is:', y_train.shape)\n",
    "print('The shape of X_test is:', X_test.shape)\n",
    "print('The shape of y_test is:', y_test.shape)"
   ]
  },
  {
   "cell_type": "markdown",
   "metadata": {},
   "source": [
    "### Function to show the question with actual and predicted tags\n",
    "\n",
    "The following function will print the predicted as well as actual tags of 5 sample questions."
   ]
  },
  {
   "cell_type": "code",
   "execution_count": 30,
   "metadata": {},
   "outputs": [],
   "source": [
    "def compare_Tags(predictions, tag_vectorizer, df):\n",
    "    \n",
    "    x,y = predictions.nonzero()\n",
    "    non_zero_tuples = list(zip(x, y))\n",
    "    \n",
    "    printed = 0\n",
    "    \n",
    "    #print(len(non_zero_tuples))\n",
    "    \n",
    "    for i in range(len(non_zero_tuples)):\n",
    "        \n",
    "        k = i\n",
    "        predicted_tags_indexes = []\n",
    "\n",
    "        question_no = non_zero_tuples[k][0]\n",
    "        \n",
    "        while True:\n",
    "            \n",
    "            #print('k=',k, end='|')\n",
    "            \n",
    "            if (k < len(non_zero_tuples)) and (non_zero_tuples[k][0] == question_no) :\n",
    "         \n",
    "                predicted_tags_indexes.append(non_zero_tuples[k][1])\n",
    "\n",
    "                k += 1\n",
    "            \n",
    "            else:\n",
    "                \n",
    "                break\n",
    "            \n",
    "        i = k\n",
    "        \n",
    "        actual_tags = df.loc[question_no]['Tags'].split()\n",
    "        \n",
    "        if (printed < 5) and len(set(actual_tags).\\\n",
    "                intersection(set(tag_vectorizer.get_feature_names()[t]\\\n",
    "                                 for t in predicted_tags_indexes))) > 1:\n",
    "        \n",
    "            print('Question:\\n{}\\n'.format(df.loc[question_no]['title_plus_body']))\n",
    "            print('Actual Tags:\\n{}'.format(actual_tags))\n",
    "            print('\\nPredicted Tags:')\n",
    "\n",
    "            for t in predicted_tags_indexes:\n",
    "\n",
    "                print(tag_vectorizer.get_feature_names()[t], end = ' | ')\n",
    "            print('\\n--------------------------------------------------', end='\\n\\n')\n",
    "            printed += 1"
   ]
  },
  {
   "cell_type": "markdown",
   "metadata": {},
   "source": [
    "## Metrics to judge model's performance\n",
    "\n",
    "* F1 score\n",
    "\n",
    "It is defined as the Harmonic mean of Precision and Recall.\n",
    "\n",
    "![](https://wikimedia.org/api/rest_v1/media/math/render/svg/057ffc6b4fa80dc1c0e1f2f1f6b598c38cdd7c23)\n",
    "\n",
    "F1 is typically calculated in two ways: \n",
    "    - Micro Averaged F1 score \n",
    "    - Macro averaged F1 score\n",
    "\n",
    "In case of imbalanced data, which our dataset is, we should prefer the micro averaged F1 score.\n",
    "\n",
    "* Hamming Loss:\n",
    "\n",
    "If $\\hat{y}_j$ is the predicted value for the $j$-th label of a given sample, $y_j$ is the corresponding true value, and $n_\\text{labels}$ is the number of classes or labels, then the Hamming loss $L_{Hamming}$ between two samples is defined as:\n",
    "\n",
    "$$L_{Hamming}(y, \\hat{y}) = \\frac{1}{n_\\text{labels}} \\sum_{j=0}^{n_\\text{labels} - 1} 1(\\hat{y}_j \\not= y_j)$$\n",
    "\n",
    "Ref: [Micro F1 vs Macro F1](https://datascience.stackexchange.com/a/16001/37490)\n",
    ", [Hamming Loss](https://scikit-learn.org/stable/modules/model_evaluation.html#hamming-loss)"
   ]
  },
  {
   "cell_type": "markdown",
   "metadata": {},
   "source": [
    "## Model 1: Binary Relevance (Logistic Regression | 1-gram Tfidf X)\n",
    "\n",
    "Let's try the Binary Relevance approach for multilabel classification using Logistic Regression.\n",
    "\n",
    "### Binary Relevance\n",
    "\n",
    "*In this strategy, we independently train one binary classifier for each label. Given an unseen sample, the combined model then predicts all labels for this sample for which the respective classifiers predict a positive result.*\n",
    "\n",
    "We will also try to find the optimal value of the parameter C using GridSearch."
   ]
  },
  {
   "cell_type": "code",
   "execution_count": 17,
   "metadata": {},
   "outputs": [
    {
     "data": {
      "text/plain": [
       "((400000, 20000), (400000, 300))"
      ]
     },
     "execution_count": 17,
     "metadata": {},
     "output_type": "execute_result"
    }
   ],
   "source": [
    "X_train.shape, y_train.shape"
   ]
  },
  {
   "cell_type": "code",
   "execution_count": 18,
   "metadata": {},
   "outputs": [
    {
     "name": "stdout",
     "output_type": "stream",
     "text": [
      "Fitting 2 folds for each of 3 candidates, totalling 6 fits\n"
     ]
    },
    {
     "name": "stderr",
     "output_type": "stream",
     "text": [
      "[Parallel(n_jobs=-1)]: Using backend LokyBackend with 6 concurrent workers.\n",
      "[Parallel(n_jobs=-1)]: Done   2 out of   6 | elapsed: 51.6min remaining: 103.2min\n",
      "[Parallel(n_jobs=-1)]: Done   6 out of   6 | elapsed: 59.7min finished\n"
     ]
    },
    {
     "name": "stdout",
     "output_type": "stream",
     "text": [
      "CPU times: user 3h 41min 2s, sys: 24min 11s, total: 4h 5min 14s\n",
      "Wall time: 2h 36min 51s\n"
     ]
    },
    {
     "data": {
      "application/javascript": [
       "$(document).ready(\n",
       "    function() {\n",
       "        function appendUniqueDiv(){\n",
       "            // append a div with our uuid so we can check that it's already\n",
       "            // been sent and avoid duplicates on page reload\n",
       "            var notifiedDiv = document.createElement(\"div\")\n",
       "            notifiedDiv.id = \"5e3d6d0c-0441-4168-8bea-e3269ba66cf2\"\n",
       "            element.append(notifiedDiv)\n",
       "        }\n",
       "\n",
       "        // only send notifications if the pageload is complete; this will\n",
       "        // help stop extra notifications when a saved notebook is loaded,\n",
       "        // which during testing gives us state \"interactive\", not \"complete\"\n",
       "        if (document.readyState === 'complete') {\n",
       "            // check for the div that signifies that the notification\n",
       "            // was already sent\n",
       "            if (document.getElementById(\"5e3d6d0c-0441-4168-8bea-e3269ba66cf2\") === null) {\n",
       "                var notificationPayload = {\"requireInteraction\": false, \"icon\": \"/static/base/images/favicon.ico\", \"body\": \"Cell execution has finished!\"};\n",
       "                if (Notification.permission !== 'denied') {\n",
       "                    if (Notification.permission !== 'granted') { \n",
       "                        Notification.requestPermission(function (permission) {\n",
       "                            if(!('permission' in Notification)) {\n",
       "                                Notification.permission = permission\n",
       "                            }\n",
       "                        })\n",
       "                    }\n",
       "                    if (Notification.permission === 'granted') {\n",
       "                    var notification = new Notification(\"Jupyter Notebook\", notificationPayload)\n",
       "                    appendUniqueDiv()\n",
       "                    notification.onclick = function () {\n",
       "                        window.focus();\n",
       "                        this.close();\n",
       "                        };\n",
       "                    } \n",
       "                }     \n",
       "            }\n",
       "        }\n",
       "    }\n",
       ")\n"
      ],
      "text/plain": [
       "<IPython.core.display.Javascript object>"
      ]
     },
     "metadata": {},
     "output_type": "display_data"
    }
   ],
   "source": [
    "%%notify\n",
    "%%time\n",
    "\n",
    "base_estimator = LogisticRegression(solver='newton-cg')\n",
    "\n",
    "OvsR_model = OneVsRestClassifier(base_estimator)\n",
    "\n",
    "hyp_par = {\n",
    "    \n",
    "    \"estimator__C\" : [0.1, 0.5, 1.0]\n",
    "}\n",
    "\n",
    "clf = GridSearchCV(estimator=OvsR_model, cv=2,param_grid=hyp_par, verbose=True, n_jobs=-1)\n",
    "\n",
    "clf.fit(X_train, y_train)"
   ]
  },
  {
   "cell_type": "markdown",
   "metadata": {},
   "source": [
    "Best parameter"
   ]
  },
  {
   "cell_type": "code",
   "execution_count": 19,
   "metadata": {},
   "outputs": [
    {
     "data": {
      "text/plain": [
       "{'estimator__C': 1.0}"
      ]
     },
     "execution_count": 19,
     "metadata": {},
     "output_type": "execute_result"
    }
   ],
   "source": [
    "clf.best_params_"
   ]
  },
  {
   "cell_type": "markdown",
   "metadata": {},
   "source": [
    "Predict the target labels on Test dataset"
   ]
  },
  {
   "cell_type": "code",
   "execution_count": 20,
   "metadata": {},
   "outputs": [],
   "source": [
    "predictions = clf.predict(X_test)\n",
    "x, y = predictions.nonzero()"
   ]
  },
  {
   "cell_type": "markdown",
   "metadata": {},
   "source": [
    "Let's see how our first model has performed. We are particularly interested in the `micro averaged F1 score` and `Hamming Loss`."
   ]
  },
  {
   "cell_type": "code",
   "execution_count": 21,
   "metadata": {},
   "outputs": [
    {
     "name": "stdout",
     "output_type": "stream",
     "text": [
      "***** Binary Relevance | Logistic Regression | 1-gram Tfidf ***** \n",
      "\n",
      "Accuracy: 0.28519\n",
      "F1 Score(macro) 0.40142982112910575\n",
      "F1 Score(micro) 0.5423841059602649\n",
      "Precision (macro) 0.6438963860278104\n",
      "Precision (micro) 0.7796510133559263\n",
      "Recall (micro) 0.41583525003427213\n",
      "Recall (macro) 0.3125850785245812\n",
      "Hamming loss 0.004606666666666667\n"
     ]
    }
   ],
   "source": [
    "print('***** Binary Relevance | Logistic Regression | 1-gram Tfidf ***** ', end='\\n\\n')\n",
    "print('Accuracy:',accuracy_score(y_test,predictions))\n",
    "print('F1 Score(macro)',f1_score(y_test, predictions, average = 'macro'))\n",
    "print('F1 Score(micro)',f1_score(y_test, predictions, average = 'micro'))\n",
    "print('Precision (macro)',precision_score(y_test, predictions, average='macro'))\n",
    "print('Precision (micro)',precision_score(y_test, predictions, average='micro'))\n",
    "print('Recall (micro)',recall_score(y_test, predictions, average='micro'))\n",
    "print('Recall (macro)',recall_score(y_test, predictions, average='macro'))\n",
    "print('Hamming loss',hamming_loss(y_test,predictions))"
   ]
  },
  {
   "cell_type": "code",
   "execution_count": 26,
   "metadata": {},
   "outputs": [],
   "source": [
    "from prettytable import PrettyTable\n",
    "table = PrettyTable()\n",
    "table.field_names = ['#', 'Approach', 'Model', 'Data', 'F1', 'Precision', 'HL']\n",
    "table.add_row([1, 'Binary Relevance', 'Logistic Regression', '1-gram Tfidf', '0.54', '0.77', '0.004'])"
   ]
  },
  {
   "cell_type": "markdown",
   "metadata": {},
   "source": [
    "### Sample Predictions | Binary Relevance , LR , Tfidf 1-gram\n",
    "\n",
    "It's time to see the model in action. Recall that we defined a function that prints a few sample Tag predictions. Let's pass the model's `predictions` and the Tfidf vectorizer of Tags as parameters.\n",
    "\n",
    "The printed question is in its cleaned form."
   ]
  },
  {
   "cell_type": "code",
   "execution_count": 24,
   "metadata": {},
   "outputs": [
    {
     "name": "stdout",
     "output_type": "stream",
     "text": [
      "Question:\n",
      "effici way make ajax request particular element effici way make ajax request particular element effici way make ajax request particular element play jqueri load function grab particular div page result load ajax test html variabl work howev take forev respons still contain complet document even though return result div defin exampl variabl anoth way accomplish respons contain actual div fastest way return result clarifi search generat foreach loop page img name php echo product getid onclick event make ajax request relat div img click function result load ajax test html attr name page test html also foreach loop generat div block pass name david juan suggest sever side solut someon pleas explain bit\n",
      "\n",
      "Actual Tags:\n",
      "['php', 'javascript', 'jquery', 'ajax']\n",
      "\n",
      "Predicted Tags:\n",
      "javascript | jquery | php | \n",
      "--------------------------------------------------\n",
      "\n",
      "Question:\n",
      "ajax content load ajax content load ajax content load work browser nthe content dosn seem load site press menu item work major browser sure due supersis plugin get head around kinda stack help anyhow load content supers anim finish find end supers shutter min taker pleas thank\n",
      "\n",
      "Actual Tags:\n",
      "['javascript', 'jquery', 'ajax', 'supersized']\n",
      "\n",
      "Predicted Tags:\n",
      "ajax | events | javascript | jquery | \n",
      "--------------------------------------------------\n",
      "\n"
     ]
    }
   ],
   "source": [
    "compare_Tags(predictions, tag_vectorizer, df)"
   ]
  },
  {
   "cell_type": "markdown",
   "metadata": {},
   "source": [
    "## Model 2 : Binary Relevance (Linear SVC | 1-gram Tfidf X)"
   ]
  },
  {
   "cell_type": "code",
   "execution_count": 25,
   "metadata": {},
   "outputs": [
    {
     "name": "stdout",
     "output_type": "stream",
     "text": [
      "Fitting 2 folds for each of 3 candidates, totalling 6 fits\n"
     ]
    },
    {
     "name": "stderr",
     "output_type": "stream",
     "text": [
      "[Parallel(n_jobs=-1)]: Using backend LokyBackend with 6 concurrent workers.\n",
      "[Parallel(n_jobs=-1)]: Done   2 out of   6 | elapsed:  8.1min remaining: 16.2min\n",
      "[Parallel(n_jobs=-1)]: Done   6 out of   6 | elapsed:  8.6min finished\n"
     ]
    },
    {
     "name": "stdout",
     "output_type": "stream",
     "text": [
      "CPU times: user 14min 45s, sys: 3.13 s, total: 14min 48s\n",
      "Wall time: 21min 3s\n"
     ]
    },
    {
     "data": {
      "application/javascript": [
       "$(document).ready(\n",
       "    function() {\n",
       "        function appendUniqueDiv(){\n",
       "            // append a div with our uuid so we can check that it's already\n",
       "            // been sent and avoid duplicates on page reload\n",
       "            var notifiedDiv = document.createElement(\"div\")\n",
       "            notifiedDiv.id = \"90d18ca2-6bef-4d54-a4cf-6e961dce2cb9\"\n",
       "            element.append(notifiedDiv)\n",
       "        }\n",
       "\n",
       "        // only send notifications if the pageload is complete; this will\n",
       "        // help stop extra notifications when a saved notebook is loaded,\n",
       "        // which during testing gives us state \"interactive\", not \"complete\"\n",
       "        if (document.readyState === 'complete') {\n",
       "            // check for the div that signifies that the notification\n",
       "            // was already sent\n",
       "            if (document.getElementById(\"90d18ca2-6bef-4d54-a4cf-6e961dce2cb9\") === null) {\n",
       "                var notificationPayload = {\"requireInteraction\": false, \"icon\": \"/static/base/images/favicon.ico\", \"body\": \"Cell execution has finished!\"};\n",
       "                if (Notification.permission !== 'denied') {\n",
       "                    if (Notification.permission !== 'granted') { \n",
       "                        Notification.requestPermission(function (permission) {\n",
       "                            if(!('permission' in Notification)) {\n",
       "                                Notification.permission = permission\n",
       "                            }\n",
       "                        })\n",
       "                    }\n",
       "                    if (Notification.permission === 'granted') {\n",
       "                    var notification = new Notification(\"Jupyter Notebook\", notificationPayload)\n",
       "                    appendUniqueDiv()\n",
       "                    notification.onclick = function () {\n",
       "                        window.focus();\n",
       "                        this.close();\n",
       "                        };\n",
       "                    } \n",
       "                }     \n",
       "            }\n",
       "        }\n",
       "    }\n",
       ")\n"
      ],
      "text/plain": [
       "<IPython.core.display.Javascript object>"
      ]
     },
     "metadata": {},
     "output_type": "display_data"
    }
   ],
   "source": [
    "%%notify\n",
    "%%time\n",
    "\n",
    "base_estimator = LinearSVC()\n",
    "\n",
    "OvsR_model = OneVsRestClassifier(base_estimator)\n",
    "\n",
    "hyp_par = {\n",
    "    \n",
    "    \"estimator__C\" : [0.1, 0.5, 1.0]\n",
    "}\n",
    "\n",
    "clf = GridSearchCV(estimator=OvsR_model, cv=2,param_grid=hyp_par, verbose=True, n_jobs=-1)\n",
    "\n",
    "clf.fit(X_train, y_train)"
   ]
  },
  {
   "cell_type": "markdown",
   "metadata": {},
   "source": [
    "Best Parameters"
   ]
  },
  {
   "cell_type": "code",
   "execution_count": 26,
   "metadata": {},
   "outputs": [
    {
     "data": {
      "text/plain": [
       "{'estimator__C': 0.5}"
      ]
     },
     "execution_count": 26,
     "metadata": {},
     "output_type": "execute_result"
    }
   ],
   "source": [
    "clf.best_params_"
   ]
  },
  {
   "cell_type": "code",
   "execution_count": 27,
   "metadata": {},
   "outputs": [],
   "source": [
    "predictions = clf.predict(X_test)\n",
    "x, y = predictions.nonzero()"
   ]
  },
  {
   "cell_type": "code",
   "execution_count": 28,
   "metadata": {},
   "outputs": [
    {
     "name": "stdout",
     "output_type": "stream",
     "text": [
      "***** Binary Relevance | Linear SVC | 1-gram Tfidf ***** \n",
      "\n",
      "Accuracy: 0.30105\n",
      "F1 Score(macro) 0.4019936615589079\n",
      "F1 Score(micro) 0.5580469022289347\n",
      "Precision (macro) 0.6787553406433703\n",
      "Precision (micro) 0.8058516757420048\n",
      "Recall (micro) 0.42680233355165953\n",
      "Recall (macro) 0.3228634902494693\n",
      "Hamming loss 0.004438166666666667\n"
     ]
    },
    {
     "name": "stderr",
     "output_type": "stream",
     "text": [
      "/home/ucanreachtvk/anaconda3/lib/python3.6/site-packages/sklearn/metrics/classification.py:1143: UndefinedMetricWarning: F-score is ill-defined and being set to 0.0 in labels with no predicted samples.\n",
      "  'precision', 'predicted', average, warn_for)\n",
      "/home/ucanreachtvk/anaconda3/lib/python3.6/site-packages/sklearn/metrics/classification.py:1143: UndefinedMetricWarning: Precision is ill-defined and being set to 0.0 in labels with no predicted samples.\n",
      "  'precision', 'predicted', average, warn_for)\n"
     ]
    }
   ],
   "source": [
    "print('***** Binary Relevance | Linear SVC | 1-gram Tfidf ***** ', end='\\n\\n')\n",
    "print('Accuracy:',accuracy_score(y_test,predictions))\n",
    "print('F1 Score(macro)',f1_score(y_test, predictions, average = 'macro'))\n",
    "print('F1 Score(micro)',f1_score(y_test, predictions, average = 'micro'))\n",
    "print('Precision (macro)',precision_score(y_test, predictions, average='macro'))\n",
    "print('Precision (micro)',precision_score(y_test, predictions, average='micro'))\n",
    "print('Recall (micro)',recall_score(y_test, predictions, average='micro'))\n",
    "print('Recall (macro)',recall_score(y_test, predictions, average='macro'))\n",
    "print('Hamming loss',hamming_loss(y_test,predictions))"
   ]
  },
  {
   "cell_type": "markdown",
   "metadata": {},
   "source": [
    "Store model's performance in a table"
   ]
  },
  {
   "cell_type": "code",
   "execution_count": 27,
   "metadata": {},
   "outputs": [],
   "source": [
    "table.add_row([2, 'Binary Relevance', 'Linear SVC', '1-gram Tfidf', '0.55', '0.80', '0.004'])"
   ]
  },
  {
   "cell_type": "markdown",
   "metadata": {},
   "source": [
    "### Sample Predictions | Binary Relevance , SVC , Tfidf 1-gram"
   ]
  },
  {
   "cell_type": "code",
   "execution_count": 31,
   "metadata": {
    "scrolled": false
   },
   "outputs": [
    {
     "name": "stdout",
     "output_type": "stream",
     "text": [
      "Question:\n",
      "effici way make ajax request particular element effici way make ajax request particular element effici way make ajax request particular element play jqueri load function grab particular div page result load ajax test html variabl work howev take forev respons still contain complet document even though return result div defin exampl variabl anoth way accomplish respons contain actual div fastest way return result clarifi search generat foreach loop page img name php echo product getid onclick event make ajax request relat div img click function result load ajax test html attr name page test html also foreach loop generat div block pass name david juan suggest sever side solut someon pleas explain bit\n",
      "\n",
      "Actual Tags:\n",
      "['php', 'javascript', 'jquery', 'ajax']\n",
      "\n",
      "Predicted Tags:\n",
      "javascript | jquery | php | \n",
      "--------------------------------------------------\n",
      "\n",
      "Question:\n",
      "effici way make ajax request particular element effici way make ajax request particular element effici way make ajax request particular element play jqueri load function grab particular div page result load ajax test html variabl work howev take forev respons still contain complet document even though return result div defin exampl variabl anoth way accomplish respons contain actual div fastest way return result clarifi search generat foreach loop page img name php echo product getid onclick event make ajax request relat div img click function result load ajax test html attr name page test html also foreach loop generat div block pass name david juan suggest sever side solut someon pleas explain bit\n",
      "\n",
      "Actual Tags:\n",
      "['php', 'javascript', 'jquery', 'ajax']\n",
      "\n",
      "Predicted Tags:\n",
      "jquery | php | \n",
      "--------------------------------------------------\n",
      "\n",
      "Question:\n",
      "android graphic layout eclips android graphic layout eclips android graphic layout eclips tri access graphic layout eclips view xml give error java lang nullpointerexcept com android ide eclips adt intern editor layout configur configurationcomposit updatethem configurationcomposit java com android ide eclips adt intern editor layout configur configurationcomposit onrenderingtargetchang configurationcomposit java com android ide eclips adt intern editor layout configur configurationcomposit access configurationcomposit java com android ide eclips adt intern editor layout configur configurationcomposit widgetselect configurationcomposit java org eclips swt widget typedlisten handleev typedlisten java org eclips swt widget eventt sendev eventt java org eclips swt widget display sendev display java org eclips swt widget widget sendev widget java org eclips swt widget widget sendev widget java org eclips swt widget widget sendev widget java org eclips swt widget widget notifylisten widget java org eclips swt widget display rundeferredev display java org eclips swt widget display readanddispatch display java org eclips intern workbench runeventloop workbench java org eclips intern workbench runui workbench java org eclips intern workbench access workbench java org eclips intern workbench run workbench java org eclips core databind observ realm runwithdefault realm java org eclips intern workbench createandrunworkbench workbench java org eclips platformui createandrunworkbench platformui java org eclips intern ide applic ideappl start ideappl java org eclips equinox intern app eclipseapphandl run eclipseapphandl java org eclips core runtim intern adaptor eclipseapplaunch runappl eclipseapplaunch java org eclips core runtim intern adaptor eclipseapplaunch start eclipseapplaunch java org eclips core runtim adaptor eclipsestart run eclipsestart java org eclips core runtim adaptor eclipsestart run eclipsestart java sun reflect nativemethodaccessorimpl invok nativ method sun reflect nativemethodaccessorimpl invok nativemethodaccessorimpl java sun reflect delegatingmethodaccessorimpl invok delegatingmethodaccessorimpl java java lang reflect method invok method java org eclips equinox launcher main invokeframework main java org eclips equinox launcher main basicrun main java org eclips equinox launcher main run main java start recent restart eclips find anyth etc thank advanc\n",
      "\n",
      "Actual Tags:\n",
      "['java', 'android', 'xml', 'eclipse', 'gui']\n",
      "\n",
      "Predicted Tags:\n",
      "eclipse | java | tomcat | \n",
      "--------------------------------------------------\n",
      "\n",
      "Question:\n",
      "disabl readon form process submit disabl readon form process submit disabl readon form process submit use ajax submit form use follow code submit form via ajax jqueri form ajaxform submit function ajax url attr action type attr method datatyp json data serial success function data var data jqueri html data return fals question want disabl readon server process form data submit form normal submit error time user press submit button one time get unwant duplic entri databas idea thank\n",
      "\n",
      "Actual Tags:\n",
      "['javascript', 'jquery', 'html', 'forms', 'jquery-ajax']\n",
      "\n",
      "Predicted Tags:\n",
      "javascript | jquery | \n",
      "--------------------------------------------------\n",
      "\n",
      "Question:\n",
      "except except except long time ago friend made rnd click function click function event event stoppropag fadeout random button hide recov button show protect element bodi recov button fade\n",
      "\n",
      "Actual Tags:\n",
      "['javascript', 'jquery']\n",
      "\n",
      "Predicted Tags:\n",
      "javascript | jquery | php | \n",
      "--------------------------------------------------\n",
      "\n"
     ]
    }
   ],
   "source": [
    "compare_Tags(predictions, tag_vectorizer, df)"
   ]
  },
  {
   "cell_type": "markdown",
   "metadata": {},
   "source": [
    "## Model 3: Classifier-Chain | Naive Bayes | 1-gram Tfidf X\n",
    "\n",
    "### Classifier Chain\n",
    "\n",
    "In this approach, the first classifier is trained just on the input data and then each next classifier is trained on the input space and all the previous classifiers in the chain.\n",
    "\n",
    "Let's try Naive Bayes using this method.\n",
    "\n",
    "Ref: [Classifier Chain](https://www.analyticsvidhya.com/blog/2017/08/introduction-to-multi-label-classification/)"
   ]
  },
  {
   "cell_type": "code",
   "execution_count": 32,
   "metadata": {},
   "outputs": [
    {
     "name": "stdout",
     "output_type": "stream",
     "text": [
      "CPU times: user 14min 20s, sys: 1min 40s, total: 16min\n",
      "Wall time: 11min 28s\n"
     ]
    },
    {
     "data": {
      "application/javascript": [
       "$(document).ready(\n",
       "    function() {\n",
       "        function appendUniqueDiv(){\n",
       "            // append a div with our uuid so we can check that it's already\n",
       "            // been sent and avoid duplicates on page reload\n",
       "            var notifiedDiv = document.createElement(\"div\")\n",
       "            notifiedDiv.id = \"b3d905c3-2689-4ca7-8453-6caabb66f73e\"\n",
       "            element.append(notifiedDiv)\n",
       "        }\n",
       "\n",
       "        // only send notifications if the pageload is complete; this will\n",
       "        // help stop extra notifications when a saved notebook is loaded,\n",
       "        // which during testing gives us state \"interactive\", not \"complete\"\n",
       "        if (document.readyState === 'complete') {\n",
       "            // check for the div that signifies that the notification\n",
       "            // was already sent\n",
       "            if (document.getElementById(\"b3d905c3-2689-4ca7-8453-6caabb66f73e\") === null) {\n",
       "                var notificationPayload = {\"requireInteraction\": false, \"icon\": \"/static/base/images/favicon.ico\", \"body\": \"Cell execution has finished!\"};\n",
       "                if (Notification.permission !== 'denied') {\n",
       "                    if (Notification.permission !== 'granted') { \n",
       "                        Notification.requestPermission(function (permission) {\n",
       "                            if(!('permission' in Notification)) {\n",
       "                                Notification.permission = permission\n",
       "                            }\n",
       "                        })\n",
       "                    }\n",
       "                    if (Notification.permission === 'granted') {\n",
       "                    var notification = new Notification(\"Jupyter Notebook\", notificationPayload)\n",
       "                    appendUniqueDiv()\n",
       "                    notification.onclick = function () {\n",
       "                        window.focus();\n",
       "                        this.close();\n",
       "                        };\n",
       "                    } \n",
       "                }     \n",
       "            }\n",
       "        }\n",
       "    }\n",
       ")\n"
      ],
      "text/plain": [
       "<IPython.core.display.Javascript object>"
      ]
     },
     "metadata": {},
     "output_type": "display_data"
    }
   ],
   "source": [
    "%%notify\n",
    "%%time\n",
    "\n",
    "classifier = ClassifierChain(\n",
    "    classifier = MultinomialNB(alpha=0.1),\n",
    "    require_dense = [False, True]\n",
    ")\n",
    "\n",
    "# train\n",
    "classifier.fit(X_train, y_train)"
   ]
  },
  {
   "cell_type": "markdown",
   "metadata": {},
   "source": [
    "Predictions"
   ]
  },
  {
   "cell_type": "code",
   "execution_count": 33,
   "metadata": {},
   "outputs": [],
   "source": [
    "predictions = classifier.predict(X_test)\n",
    "x, y = predictions.nonzero()"
   ]
  },
  {
   "cell_type": "code",
   "execution_count": 34,
   "metadata": {},
   "outputs": [
    {
     "name": "stdout",
     "output_type": "stream",
     "text": [
      "***** Classifier Chain | Naive Bayes | 1-gram Tfidf ***** \n",
      "\n",
      "Accuracy: 0.14993\n",
      "F1 Score(macro) 0.22533229252345938\n",
      "F1 Score(micro) 0.3248169205212793\n",
      "Precision (macro) 0.30243909616980763\n",
      "Precision (micro) 0.30120586486850043\n",
      "Recall (micro) 0.3524444918330769\n",
      "Recall (macro) 0.265396181699586\n",
      "Hamming loss 0.009619333333333334\n"
     ]
    },
    {
     "name": "stderr",
     "output_type": "stream",
     "text": [
      "/home/ucanreachtvk/anaconda3/lib/python3.6/site-packages/sklearn/metrics/classification.py:1143: UndefinedMetricWarning: F-score is ill-defined and being set to 0.0 in labels with no predicted samples.\n",
      "  'precision', 'predicted', average, warn_for)\n",
      "/home/ucanreachtvk/anaconda3/lib/python3.6/site-packages/sklearn/metrics/classification.py:1143: UndefinedMetricWarning: Precision is ill-defined and being set to 0.0 in labels with no predicted samples.\n",
      "  'precision', 'predicted', average, warn_for)\n"
     ]
    }
   ],
   "source": [
    "print('***** Classifier Chain | Naive Bayes | 1-gram Tfidf ***** ', end='\\n\\n')\n",
    "print('Accuracy:',accuracy_score(y_test,predictions))\n",
    "print('F1 Score(macro)',f1_score(y_test, predictions, average = 'macro'))\n",
    "print('F1 Score(micro)',f1_score(y_test, predictions, average = 'micro'))\n",
    "print('Precision (macro)',precision_score(y_test, predictions, average='macro'))\n",
    "print('Precision (micro)',precision_score(y_test, predictions, average='micro'))\n",
    "print('Recall (micro)',recall_score(y_test, predictions, average='micro'))\n",
    "print('Recall (macro)',recall_score(y_test, predictions, average='macro'))\n",
    "print('Hamming loss',hamming_loss(y_test,predictions))"
   ]
  },
  {
   "cell_type": "markdown",
   "metadata": {},
   "source": [
    "Add the results to the table"
   ]
  },
  {
   "cell_type": "code",
   "execution_count": 28,
   "metadata": {},
   "outputs": [],
   "source": [
    "table.add_row([3, 'Classifier Chain', 'Naive Bayes', '1-gram Tfidf', '0.32', '0.30', '0.009'])"
   ]
  },
  {
   "cell_type": "markdown",
   "metadata": {},
   "source": [
    "### Sample Predictions | Classifier Chain , Naive Bayes , Tfidf 1-gram"
   ]
  },
  {
   "cell_type": "code",
   "execution_count": 35,
   "metadata": {
    "scrolled": false
   },
   "outputs": [
    {
     "name": "stdout",
     "output_type": "stream",
     "text": [
      "Question:\n",
      "creat block transit jqueri creat block transit jqueri creat block transit jqueri best way creat block transit jqueri plugin provid transit transit want imag galleri transit look someth http mitya script blockster transit effect diagon expand block transit http codecanyon net item jqueri banner rotat slideshow full screen preview problem first link slow use bit block figur transit creat second link\n",
      "\n",
      "Actual Tags:\n",
      "['javascript', 'jquery', 'transition', 'effect']\n",
      "\n",
      "Predicted Tags:\n",
      "javascript | jquery | \n",
      "--------------------------------------------------\n",
      "\n",
      "Question:\n",
      "start anim start button burst engin canva start anim start button burst engin canva start anim start button burst engin canva creat simpl anim burst engin html want connect start button press twice anim restart nnow start noth happen start button give paus function fals valu clue write function idea use burst engin librari var dval redrecttl bluerecttl nfunction minburstfunk burst bakgrunden burst timelin fals shape ruta svg svg svg cut redsqr bluesqr burst timelin paus true burst timelin redrect true shape red svg svg svg cut bluesqr bgsqr track left key easeinoutquad key linear key redrecttl burst timelin redrect redrecttl paus true burst start redrect bluerect nnew burst loadcanva minburstfunk button stoppa red rectangel nfunction stoprect redrecttl paus true starta red rectangel nfunction klickhant redrecttl paus fals link anim http pixeltouch multimedia labb canva php\n",
      "\n",
      "Actual Tags:\n",
      "['javascript', 'html', 'html5', 'canvas']\n",
      "\n",
      "Predicted Tags:\n",
      "css | explorer | firefox | html | html5 | internet | javascript | jquery | menu | mobile | plugins | ui | \n",
      "--------------------------------------------------\n",
      "\n",
      "Question:\n",
      "start anim start button burst engin canva start anim start button burst engin canva start anim start button burst engin canva creat simpl anim burst engin html want connect start button press twice anim restart nnow start noth happen start button give paus function fals valu clue write function idea use burst engin librari var dval redrecttl bluerecttl nfunction minburstfunk burst bakgrunden burst timelin fals shape ruta svg svg svg cut redsqr bluesqr burst timelin paus true burst timelin redrect true shape red svg svg svg cut bluesqr bgsqr track left key easeinoutquad key linear key redrecttl burst timelin redrect redrecttl paus true burst start redrect bluerect nnew burst loadcanva minburstfunk button stoppa red rectangel nfunction stoprect redrecttl paus true starta red rectangel nfunction klickhant redrecttl paus fals link anim http pixeltouch multimedia labb canva php\n",
      "\n",
      "Actual Tags:\n",
      "['javascript', 'html', 'html5', 'canvas']\n",
      "\n",
      "Predicted Tags:\n",
      "explorer | firefox | html | html5 | internet | javascript | jquery | menu | mobile | plugins | ui | \n",
      "--------------------------------------------------\n",
      "\n",
      "Question:\n",
      "start anim start button burst engin canva start anim start button burst engin canva start anim start button burst engin canva creat simpl anim burst engin html want connect start button press twice anim restart nnow start noth happen start button give paus function fals valu clue write function idea use burst engin librari var dval redrecttl bluerecttl nfunction minburstfunk burst bakgrunden burst timelin fals shape ruta svg svg svg cut redsqr bluesqr burst timelin paus true burst timelin redrect true shape red svg svg svg cut bluesqr bgsqr track left key easeinoutquad key linear key redrecttl burst timelin redrect redrecttl paus true burst start redrect bluerect nnew burst loadcanva minburstfunk button stoppa red rectangel nfunction stoprect redrecttl paus true starta red rectangel nfunction klickhant redrecttl paus fals link anim http pixeltouch multimedia labb canva php\n",
      "\n",
      "Actual Tags:\n",
      "['javascript', 'html', 'html5', 'canvas']\n",
      "\n",
      "Predicted Tags:\n",
      "firefox | html | html5 | internet | javascript | jquery | menu | mobile | plugins | ui | \n",
      "--------------------------------------------------\n",
      "\n",
      "Question:\n",
      "start anim start button burst engin canva start anim start button burst engin canva start anim start button burst engin canva creat simpl anim burst engin html want connect start button press twice anim restart nnow start noth happen start button give paus function fals valu clue write function idea use burst engin librari var dval redrecttl bluerecttl nfunction minburstfunk burst bakgrunden burst timelin fals shape ruta svg svg svg cut redsqr bluesqr burst timelin paus true burst timelin redrect true shape red svg svg svg cut bluesqr bgsqr track left key easeinoutquad key linear key redrecttl burst timelin redrect redrecttl paus true burst start redrect bluerect nnew burst loadcanva minburstfunk button stoppa red rectangel nfunction stoprect redrecttl paus true starta red rectangel nfunction klickhant redrecttl paus fals link anim http pixeltouch multimedia labb canva php\n",
      "\n",
      "Actual Tags:\n",
      "['javascript', 'html', 'html5', 'canvas']\n",
      "\n",
      "Predicted Tags:\n",
      "html | html5 | internet | javascript | jquery | menu | mobile | plugins | ui | \n",
      "--------------------------------------------------\n",
      "\n"
     ]
    }
   ],
   "source": [
    "compare_Tags(predictions, tag_vectorizer, df)"
   ]
  },
  {
   "cell_type": "markdown",
   "metadata": {},
   "source": [
    "## Tfidf 3-grams\n",
    "\n",
    "Until now, we have used only 1-gram data for training our models. Let's try increasing the range upto 3-grams. This allows for adding some context to a feature by considering a sequence of upto 3 words."
   ]
  },
  {
   "cell_type": "code",
   "execution_count": 36,
   "metadata": {},
   "outputs": [],
   "source": [
    "text_vectorizer = TfidfVectorizer(min_df=100, ngram_range=(1,3), max_features=30000)\n",
    "X_train = text_vectorizer.fit_transform(df_X_train)\n",
    "X_test = text_vectorizer.transform(df_X_test)"
   ]
  },
  {
   "cell_type": "markdown",
   "metadata": {},
   "source": [
    "Shape of Train and Test sets where `X` contains 3-gram Tfidf data. We didn't make any change to the target variable. "
   ]
  },
  {
   "cell_type": "code",
   "execution_count": 37,
   "metadata": {},
   "outputs": [
    {
     "name": "stdout",
     "output_type": "stream",
     "text": [
      "The shape of X_train is: (400000, 30000)\n",
      "The shape of y_train is: (400000, 300)\n",
      "The shape of X_test is: (100000, 30000)\n",
      "The shape of y_test is: (100000, 300)\n"
     ]
    }
   ],
   "source": [
    "print('The shape of X_train is:', X_train.shape)\n",
    "print('The shape of y_train is:', y_train.shape)\n",
    "print('The shape of X_test is:', X_test.shape)\n",
    "print('The shape of y_test is:', y_test.shape)"
   ]
  },
  {
   "cell_type": "markdown",
   "metadata": {},
   "source": [
    "## Model 4: Binary Relevance (Linear SVC | Tfidf Trigram X)"
   ]
  },
  {
   "cell_type": "code",
   "execution_count": 38,
   "metadata": {},
   "outputs": [
    {
     "name": "stdout",
     "output_type": "stream",
     "text": [
      "Fitting 2 folds for each of 4 candidates, totalling 8 fits\n"
     ]
    },
    {
     "name": "stderr",
     "output_type": "stream",
     "text": [
      "[Parallel(n_jobs=-1)]: Using backend LokyBackend with 6 concurrent workers.\n",
      "[Parallel(n_jobs=-1)]: Done   6 out of   8 | elapsed: 11.2min remaining:  3.7min\n",
      "[Parallel(n_jobs=-1)]: Done   8 out of   8 | elapsed: 14.8min finished\n"
     ]
    },
    {
     "name": "stdout",
     "output_type": "stream",
     "text": [
      "CPU times: user 17min 22s, sys: 3.87 s, total: 17min 26s\n",
      "Wall time: 29min 42s\n"
     ]
    },
    {
     "data": {
      "application/javascript": [
       "$(document).ready(\n",
       "    function() {\n",
       "        function appendUniqueDiv(){\n",
       "            // append a div with our uuid so we can check that it's already\n",
       "            // been sent and avoid duplicates on page reload\n",
       "            var notifiedDiv = document.createElement(\"div\")\n",
       "            notifiedDiv.id = \"4c77b151-f602-49ab-b2a7-9466703a9b2c\"\n",
       "            element.append(notifiedDiv)\n",
       "        }\n",
       "\n",
       "        // only send notifications if the pageload is complete; this will\n",
       "        // help stop extra notifications when a saved notebook is loaded,\n",
       "        // which during testing gives us state \"interactive\", not \"complete\"\n",
       "        if (document.readyState === 'complete') {\n",
       "            // check for the div that signifies that the notification\n",
       "            // was already sent\n",
       "            if (document.getElementById(\"4c77b151-f602-49ab-b2a7-9466703a9b2c\") === null) {\n",
       "                var notificationPayload = {\"requireInteraction\": false, \"icon\": \"/static/base/images/favicon.ico\", \"body\": \"Cell execution has finished!\"};\n",
       "                if (Notification.permission !== 'denied') {\n",
       "                    if (Notification.permission !== 'granted') { \n",
       "                        Notification.requestPermission(function (permission) {\n",
       "                            if(!('permission' in Notification)) {\n",
       "                                Notification.permission = permission\n",
       "                            }\n",
       "                        })\n",
       "                    }\n",
       "                    if (Notification.permission === 'granted') {\n",
       "                    var notification = new Notification(\"Jupyter Notebook\", notificationPayload)\n",
       "                    appendUniqueDiv()\n",
       "                    notification.onclick = function () {\n",
       "                        window.focus();\n",
       "                        this.close();\n",
       "                        };\n",
       "                    } \n",
       "                }     \n",
       "            }\n",
       "        }\n",
       "    }\n",
       ")\n"
      ],
      "text/plain": [
       "<IPython.core.display.Javascript object>"
      ]
     },
     "metadata": {},
     "output_type": "display_data"
    }
   ],
   "source": [
    "%%notify\n",
    "%%time\n",
    "\n",
    "base_estimator = LinearSVC()\n",
    "\n",
    "OvsR_model = OneVsRestClassifier(base_estimator)\n",
    "\n",
    "hyp_par = {\n",
    "    \n",
    "    \"estimator__C\" : [0.1, 0.5, 1.0, 1.5]\n",
    "}\n",
    "\n",
    "clf = GridSearchCV(estimator=OvsR_model, cv=2,param_grid=hyp_par, verbose=True, n_jobs=-1)\n",
    "\n",
    "clf.fit(X_train, y_train)"
   ]
  },
  {
   "cell_type": "markdown",
   "metadata": {},
   "source": [
    "Best params"
   ]
  },
  {
   "cell_type": "code",
   "execution_count": 40,
   "metadata": {},
   "outputs": [
    {
     "data": {
      "text/plain": [
       "{'estimator__C': 0.5}"
      ]
     },
     "execution_count": 40,
     "metadata": {},
     "output_type": "execute_result"
    }
   ],
   "source": [
    "clf.best_params_"
   ]
  },
  {
   "cell_type": "code",
   "execution_count": 41,
   "metadata": {},
   "outputs": [],
   "source": [
    "predictions = clf.predict(X_test)\n",
    "x, y = predictions.nonzero()"
   ]
  },
  {
   "cell_type": "code",
   "execution_count": 42,
   "metadata": {},
   "outputs": [
    {
     "name": "stdout",
     "output_type": "stream",
     "text": [
      "***** Binary Relevance | Linear SVC | Tri-gram Tfidf ***** \n",
      "\n",
      "Accuracy: 0.30576\n",
      "F1 Score(macro) 0.4168550493924778\n",
      "F1 Score(micro) 0.5680335201410267\n",
      "Precision (macro) 0.6907656518959793\n",
      "Precision (micro) 0.8062986097494935\n",
      "Recall (micro) 0.4384650144958442\n",
      "Recall (macro) 0.33253849639843436\n",
      "Hamming loss 0.004378066666666667\n"
     ]
    },
    {
     "name": "stderr",
     "output_type": "stream",
     "text": [
      "/home/ucanreachtvk/anaconda3/lib/python3.6/site-packages/sklearn/metrics/classification.py:1143: UndefinedMetricWarning: F-score is ill-defined and being set to 0.0 in labels with no predicted samples.\n",
      "  'precision', 'predicted', average, warn_for)\n",
      "/home/ucanreachtvk/anaconda3/lib/python3.6/site-packages/sklearn/metrics/classification.py:1143: UndefinedMetricWarning: Precision is ill-defined and being set to 0.0 in labels with no predicted samples.\n",
      "  'precision', 'predicted', average, warn_for)\n"
     ]
    }
   ],
   "source": [
    "print('***** Binary Relevance | Linear SVC | Tri-gram Tfidf ***** ', end='\\n\\n')\n",
    "print('Accuracy:',accuracy_score(y_test,predictions))\n",
    "print('F1 Score(macro)',f1_score(y_test, predictions, average = 'macro'))\n",
    "print('F1 Score(micro)',f1_score(y_test, predictions, average = 'micro'))\n",
    "print('Precision (macro)',precision_score(y_test, predictions, average='macro'))\n",
    "print('Precision (micro)',precision_score(y_test, predictions, average='micro'))\n",
    "print('Recall (micro)',recall_score(y_test, predictions, average='micro'))\n",
    "print('Recall (macro)',recall_score(y_test, predictions, average='macro'))\n",
    "\n",
    "print('Hamming loss',hamming_loss(y_test,predictions))"
   ]
  },
  {
   "cell_type": "markdown",
   "metadata": {},
   "source": [
    "Store the results to the table"
   ]
  },
  {
   "cell_type": "code",
   "execution_count": 29,
   "metadata": {},
   "outputs": [],
   "source": [
    "table.add_row([4, 'Binary Relevance', 'Linear SVC', '3-gram Tfidf', '0.56', '0.80', '0.004'])"
   ]
  },
  {
   "cell_type": "markdown",
   "metadata": {},
   "source": [
    "### Sample Predictions | Binary Relevance, Linear SVC , Tfidf 3-gram"
   ]
  },
  {
   "cell_type": "code",
   "execution_count": 43,
   "metadata": {},
   "outputs": [
    {
     "name": "stdout",
     "output_type": "stream",
     "text": [
      "Question:\n",
      "android graphic layout eclips android graphic layout eclips android graphic layout eclips tri access graphic layout eclips view xml give error java lang nullpointerexcept com android ide eclips adt intern editor layout configur configurationcomposit updatethem configurationcomposit java com android ide eclips adt intern editor layout configur configurationcomposit onrenderingtargetchang configurationcomposit java com android ide eclips adt intern editor layout configur configurationcomposit access configurationcomposit java com android ide eclips adt intern editor layout configur configurationcomposit widgetselect configurationcomposit java org eclips swt widget typedlisten handleev typedlisten java org eclips swt widget eventt sendev eventt java org eclips swt widget display sendev display java org eclips swt widget widget sendev widget java org eclips swt widget widget sendev widget java org eclips swt widget widget sendev widget java org eclips swt widget widget notifylisten widget java org eclips swt widget display rundeferredev display java org eclips swt widget display readanddispatch display java org eclips intern workbench runeventloop workbench java org eclips intern workbench runui workbench java org eclips intern workbench access workbench java org eclips intern workbench run workbench java org eclips core databind observ realm runwithdefault realm java org eclips intern workbench createandrunworkbench workbench java org eclips platformui createandrunworkbench platformui java org eclips intern ide applic ideappl start ideappl java org eclips equinox intern app eclipseapphandl run eclipseapphandl java org eclips core runtim intern adaptor eclipseapplaunch runappl eclipseapplaunch java org eclips core runtim intern adaptor eclipseapplaunch start eclipseapplaunch java org eclips core runtim adaptor eclipsestart run eclipsestart java org eclips core runtim adaptor eclipsestart run eclipsestart java sun reflect nativemethodaccessorimpl invok nativ method sun reflect nativemethodaccessorimpl invok nativemethodaccessorimpl java sun reflect delegatingmethodaccessorimpl invok delegatingmethodaccessorimpl java java lang reflect method invok method java org eclips equinox launcher main invokeframework main java org eclips equinox launcher main basicrun main java org eclips equinox launcher main run main java start recent restart eclips find anyth etc thank advanc\n",
      "\n",
      "Actual Tags:\n",
      "['java', 'android', 'xml', 'eclipse', 'gui']\n",
      "\n",
      "Predicted Tags:\n",
      "eclipse | java | tomcat | \n",
      "--------------------------------------------------\n",
      "\n",
      "Question:\n",
      "disabl readon form process submit disabl readon form process submit disabl readon form process submit use ajax submit form use follow code submit form via ajax jqueri form ajaxform submit function ajax url attr action type attr method datatyp json data serial success function data var data jqueri html data return fals question want disabl readon server process form data submit form normal submit error time user press submit button one time get unwant duplic entri databas idea thank\n",
      "\n",
      "Actual Tags:\n",
      "['javascript', 'jquery', 'html', 'forms', 'jquery-ajax']\n",
      "\n",
      "Predicted Tags:\n",
      "javascript | jquery | \n",
      "--------------------------------------------------\n",
      "\n",
      "Question:\n",
      "deep json serial jpa entiti deep json serial jpa entiti deep json serial jpa entiti use pojo serial featur jersey servic function return jpa entiti entiti tell serial dig deeper serial word tell pojo serial deep serial specifi depth properti return detail json deeper data jpa object includ map relationship object annot without use kind solut http stackoverflow com problem link solut necess declar bloat copi constructor thank\n",
      "\n",
      "Actual Tags:\n",
      "['java', 'json', 'jpa', 'serialization', 'jersey']\n",
      "\n",
      "Predicted Tags:\n",
      "java | json | \n",
      "--------------------------------------------------\n",
      "\n",
      "Question:\n",
      "django offici tutori absolut beginn absolut fail django offici tutori absolut beginn absolut fail django offici tutori absolut beginn absolut fail level failur inde complet part tutori djangoproject com administr app work fine entri point url poll work well except get http respons poll avail even databas one registri enter admin app entri show way end tutori chang hard code view replac generic view urlconf suposs modif url end django conf url default import nfrom mysit poll model import poll ninfo dict queryset poll object nurlpattern pattern django view generic list detail object list info dict object django view generic list detail object detail info dict url object result django view generic list detail object detail dict info dict templat name poll result html poll result poll vote mysit poll view vote use generic view pointless copi past view file mention vote function sinc django generic view magic supposit url file need tweak wrong someth order send poll avail output poll url poll list html file look latest poll list poll latest poll list poll question endfor els poll avail endif eval latest poll list fals els block execut give hand search stackoverflow duplic question even issu find anyth get messag enter http poll\n",
      "\n",
      "Actual Tags:\n",
      "['python', 'django', 'tutorials']\n",
      "\n",
      "Predicted Tags:\n",
      "app | django | engine | google | python | \n",
      "--------------------------------------------------\n",
      "\n",
      "Question:\n",
      "django offici tutori absolut beginn absolut fail django offici tutori absolut beginn absolut fail django offici tutori absolut beginn absolut fail level failur inde complet part tutori djangoproject com administr app work fine entri point url poll work well except get http respons poll avail even databas one registri enter admin app entri show way end tutori chang hard code view replac generic view urlconf suposs modif url end django conf url default import nfrom mysit poll model import poll ninfo dict queryset poll object nurlpattern pattern django view generic list detail object list info dict object django view generic list detail object detail info dict url object result django view generic list detail object detail dict info dict templat name poll result html poll result poll vote mysit poll view vote use generic view pointless copi past view file mention vote function sinc django generic view magic supposit url file need tweak wrong someth order send poll avail output poll url poll list html file look latest poll list poll latest poll list poll question endfor els poll avail endif eval latest poll list fals els block execut give hand search stackoverflow duplic question even issu find anyth get messag enter http poll\n",
      "\n",
      "Actual Tags:\n",
      "['python', 'django', 'tutorials']\n",
      "\n",
      "Predicted Tags:\n",
      "django | engine | google | python | \n",
      "--------------------------------------------------\n",
      "\n"
     ]
    }
   ],
   "source": [
    "compare_Tags(predictions, tag_vectorizer, df)"
   ]
  },
  {
   "cell_type": "markdown",
   "metadata": {},
   "source": [
    "## Model 5: Binary Relevance (Logistic Regression | Tfidf Trigram X)"
   ]
  },
  {
   "cell_type": "code",
   "execution_count": 44,
   "metadata": {},
   "outputs": [
    {
     "name": "stdout",
     "output_type": "stream",
     "text": [
      "Fitting 2 folds for each of 3 candidates, totalling 6 fits\n"
     ]
    },
    {
     "name": "stderr",
     "output_type": "stream",
     "text": [
      "[Parallel(n_jobs=-1)]: Using backend LokyBackend with 6 concurrent workers.\n",
      "[Parallel(n_jobs=-1)]: Done   2 out of   6 | elapsed: 22.1min remaining: 44.2min\n",
      "[Parallel(n_jobs=-1)]: Done   6 out of   6 | elapsed: 25.8min finished\n",
      "/home/ucanreachtvk/anaconda3/lib/python3.6/site-packages/sklearn/linear_model/logistic.py:432: FutureWarning: Default solver will be changed to 'lbfgs' in 0.22. Specify a solver to silence this warning.\n",
      "  FutureWarning)\n"
     ]
    },
    {
     "name": "stdout",
     "output_type": "stream",
     "text": [
      "CPU times: user 2h 14min 42s, sys: 1min 37s, total: 2h 16min 19s\n",
      "Wall time: 1h 11min 50s\n"
     ]
    },
    {
     "data": {
      "application/javascript": [
       "$(document).ready(\n",
       "    function() {\n",
       "        function appendUniqueDiv(){\n",
       "            // append a div with our uuid so we can check that it's already\n",
       "            // been sent and avoid duplicates on page reload\n",
       "            var notifiedDiv = document.createElement(\"div\")\n",
       "            notifiedDiv.id = \"fed5e7c7-c4bf-4323-8e55-c911a653d423\"\n",
       "            element.append(notifiedDiv)\n",
       "        }\n",
       "\n",
       "        // only send notifications if the pageload is complete; this will\n",
       "        // help stop extra notifications when a saved notebook is loaded,\n",
       "        // which during testing gives us state \"interactive\", not \"complete\"\n",
       "        if (document.readyState === 'complete') {\n",
       "            // check for the div that signifies that the notification\n",
       "            // was already sent\n",
       "            if (document.getElementById(\"fed5e7c7-c4bf-4323-8e55-c911a653d423\") === null) {\n",
       "                var notificationPayload = {\"requireInteraction\": false, \"icon\": \"/static/base/images/favicon.ico\", \"body\": \"Cell execution has finished!\"};\n",
       "                if (Notification.permission !== 'denied') {\n",
       "                    if (Notification.permission !== 'granted') { \n",
       "                        Notification.requestPermission(function (permission) {\n",
       "                            if(!('permission' in Notification)) {\n",
       "                                Notification.permission = permission\n",
       "                            }\n",
       "                        })\n",
       "                    }\n",
       "                    if (Notification.permission === 'granted') {\n",
       "                    var notification = new Notification(\"Jupyter Notebook\", notificationPayload)\n",
       "                    appendUniqueDiv()\n",
       "                    notification.onclick = function () {\n",
       "                        window.focus();\n",
       "                        this.close();\n",
       "                        };\n",
       "                    } \n",
       "                }     \n",
       "            }\n",
       "        }\n",
       "    }\n",
       ")\n"
      ],
      "text/plain": [
       "<IPython.core.display.Javascript object>"
      ]
     },
     "metadata": {},
     "output_type": "display_data"
    }
   ],
   "source": [
    "%%notify\n",
    "%%time\n",
    "\n",
    "base_estimator = LogisticRegression()\n",
    "\n",
    "OvsR_model = OneVsRestClassifier(base_estimator)\n",
    "\n",
    "hyp_par = {\n",
    "    \n",
    "    \"estimator__C\" : [0.1, 0.5, 1.0]\n",
    "}\n",
    "\n",
    "clf = GridSearchCV(estimator=OvsR_model, cv=2,param_grid=hyp_par, verbose=True, n_jobs=-1)\n",
    "\n",
    "clf.fit(X_train, y_train)"
   ]
  },
  {
   "cell_type": "code",
   "execution_count": 45,
   "metadata": {},
   "outputs": [],
   "source": [
    "# predict\n",
    "predictions = clf.predict(X_test)\n",
    "x, y = predictions.nonzero()"
   ]
  },
  {
   "cell_type": "code",
   "execution_count": 46,
   "metadata": {},
   "outputs": [
    {
     "name": "stdout",
     "output_type": "stream",
     "text": [
      "***** Binary Relevance | Linear SVC | Tri-gram Tfidf ***** \n",
      "\n",
      "Accuracy: 0.28882\n",
      "F1 Score(macro) 0.4027684963054974\n",
      "F1 Score(micro) 0.5465852510425576\n",
      "Precision (macro) 0.6520622131092415\n",
      "Precision (micro) 0.7873439723423965\n",
      "Recall (micro) 0.4185871756205795\n",
      "Recall (macro) 0.312174538281564\n",
      "Hamming loss 0.0045592666666666665\n"
     ]
    }
   ],
   "source": [
    "print('***** Binary Relevance | Linear SVC | Tri-gram Tfidf ***** ', end='\\n\\n')\n",
    "print('Accuracy:',accuracy_score(y_test,predictions))\n",
    "print('F1 Score(macro)',f1_score(y_test, predictions, average = 'macro'))\n",
    "print('F1 Score(micro)',f1_score(y_test, predictions, average = 'micro'))\n",
    "print('Precision (macro)',precision_score(y_test, predictions, average='macro'))\n",
    "print('Precision (micro)',precision_score(y_test, predictions, average='micro'))\n",
    "print('Recall (micro)',recall_score(y_test, predictions, average='micro'))\n",
    "print('Recall (macro)',recall_score(y_test, predictions, average='macro'))\n",
    "\n",
    "print('Hamming loss',hamming_loss(y_test,predictions))"
   ]
  },
  {
   "cell_type": "markdown",
   "metadata": {},
   "source": [
    "Add results to the table"
   ]
  },
  {
   "cell_type": "code",
   "execution_count": 30,
   "metadata": {},
   "outputs": [],
   "source": [
    "table.add_row([5, 'Binary Relevance', 'Logistic Regression', '3-gram Tfidf', '0.54', '0.78', '0.004'])"
   ]
  },
  {
   "cell_type": "markdown",
   "metadata": {},
   "source": [
    "### Sample Predictions | Binary Relevance, Logistic Regression , Tfidf 3-gram"
   ]
  },
  {
   "cell_type": "code",
   "execution_count": 47,
   "metadata": {},
   "outputs": [
    {
     "name": "stdout",
     "output_type": "stream",
     "text": [
      "Question:\n",
      "effici way make ajax request particular element effici way make ajax request particular element effici way make ajax request particular element play jqueri load function grab particular div page result load ajax test html variabl work howev take forev respons still contain complet document even though return result div defin exampl variabl anoth way accomplish respons contain actual div fastest way return result clarifi search generat foreach loop page img name php echo product getid onclick event make ajax request relat div img click function result load ajax test html attr name page test html also foreach loop generat div block pass name david juan suggest sever side solut someon pleas explain bit\n",
      "\n",
      "Actual Tags:\n",
      "['php', 'javascript', 'jquery', 'ajax']\n",
      "\n",
      "Predicted Tags:\n",
      "javascript | jquery | php | \n",
      "--------------------------------------------------\n",
      "\n",
      "Question:\n",
      "effici way make ajax request particular element effici way make ajax request particular element effici way make ajax request particular element play jqueri load function grab particular div page result load ajax test html variabl work howev take forev respons still contain complet document even though return result div defin exampl variabl anoth way accomplish respons contain actual div fastest way return result clarifi search generat foreach loop page img name php echo product getid onclick event make ajax request relat div img click function result load ajax test html attr name page test html also foreach loop generat div block pass name david juan suggest sever side solut someon pleas explain bit\n",
      "\n",
      "Actual Tags:\n",
      "['php', 'javascript', 'jquery', 'ajax']\n",
      "\n",
      "Predicted Tags:\n",
      "jquery | php | \n",
      "--------------------------------------------------\n",
      "\n",
      "Question:\n",
      "android graphic layout eclips android graphic layout eclips android graphic layout eclips tri access graphic layout eclips view xml give error java lang nullpointerexcept com android ide eclips adt intern editor layout configur configurationcomposit updatethem configurationcomposit java com android ide eclips adt intern editor layout configur configurationcomposit onrenderingtargetchang configurationcomposit java com android ide eclips adt intern editor layout configur configurationcomposit access configurationcomposit java com android ide eclips adt intern editor layout configur configurationcomposit widgetselect configurationcomposit java org eclips swt widget typedlisten handleev typedlisten java org eclips swt widget eventt sendev eventt java org eclips swt widget display sendev display java org eclips swt widget widget sendev widget java org eclips swt widget widget sendev widget java org eclips swt widget widget sendev widget java org eclips swt widget widget notifylisten widget java org eclips swt widget display rundeferredev display java org eclips swt widget display readanddispatch display java org eclips intern workbench runeventloop workbench java org eclips intern workbench runui workbench java org eclips intern workbench access workbench java org eclips intern workbench run workbench java org eclips core databind observ realm runwithdefault realm java org eclips intern workbench createandrunworkbench workbench java org eclips platformui createandrunworkbench platformui java org eclips intern ide applic ideappl start ideappl java org eclips equinox intern app eclipseapphandl run eclipseapphandl java org eclips core runtim intern adaptor eclipseapplaunch runappl eclipseapplaunch java org eclips core runtim intern adaptor eclipseapplaunch start eclipseapplaunch java org eclips core runtim adaptor eclipsestart run eclipsestart java org eclips core runtim adaptor eclipsestart run eclipsestart java sun reflect nativemethodaccessorimpl invok nativ method sun reflect nativemethodaccessorimpl invok nativemethodaccessorimpl java sun reflect delegatingmethodaccessorimpl invok delegatingmethodaccessorimpl java java lang reflect method invok method java org eclips equinox launcher main invokeframework main java org eclips equinox launcher main basicrun main java org eclips equinox launcher main run main java start recent restart eclips find anyth etc thank advanc\n",
      "\n",
      "Actual Tags:\n",
      "['java', 'android', 'xml', 'eclipse', 'gui']\n",
      "\n",
      "Predicted Tags:\n",
      "eclipse | java | tomcat | \n",
      "--------------------------------------------------\n",
      "\n",
      "Question:\n",
      "disabl readon form process submit disabl readon form process submit disabl readon form process submit use ajax submit form use follow code submit form via ajax jqueri form ajaxform submit function ajax url attr action type attr method datatyp json data serial success function data var data jqueri html data return fals question want disabl readon server process form data submit form normal submit error time user press submit button one time get unwant duplic entri databas idea thank\n",
      "\n",
      "Actual Tags:\n",
      "['javascript', 'jquery', 'html', 'forms', 'jquery-ajax']\n",
      "\n",
      "Predicted Tags:\n",
      "javascript | jquery | \n",
      "--------------------------------------------------\n",
      "\n",
      "Question:\n",
      "deep json serial jpa entiti deep json serial jpa entiti deep json serial jpa entiti use pojo serial featur jersey servic function return jpa entiti entiti tell serial dig deeper serial word tell pojo serial deep serial specifi depth properti return detail json deeper data jpa object includ map relationship object annot without use kind solut http stackoverflow com problem link solut necess declar bloat copi constructor thank\n",
      "\n",
      "Actual Tags:\n",
      "['java', 'json', 'jpa', 'serialization', 'jersey']\n",
      "\n",
      "Predicted Tags:\n",
      "java | json | \n",
      "--------------------------------------------------\n",
      "\n"
     ]
    }
   ],
   "source": [
    "compare_Tags(predictions, tag_vectorizer, df)"
   ]
  },
  {
   "cell_type": "markdown",
   "metadata": {},
   "source": [
    "# W2V format data\n",
    "\n",
    "After trying out a few models with Tfidf data, let's try word vector embeddings. We will convert each question into its vector format using a technique called Doc2Vec. It's simialar to W2V, but gives us a vector for an entire document instead of individual words.\n",
    "\n",
    "Following is a function that takes in a text corpus and returns it in the format `TaggedDocument`. This is required to train our D2V model.\n",
    "\n",
    "Ref: [Doc2Vec](https://radimrehurek.com/gensim/models/doc2vec.html)"
   ]
  },
  {
   "cell_type": "code",
   "execution_count": 12,
   "metadata": {},
   "outputs": [],
   "source": [
    "def read_corpus(df, tokens_only=False):\n",
    "    for i, review in enumerate(df['title_plus_body']):\n",
    "        if tokens_only:\n",
    "            yield gensim.utils.simple_preprocess(review)\n",
    "        else:\n",
    "            # For training data, add tags\n",
    "            yield gensim.models.doc2vec.TaggedDocument(\n",
    "                gensim.utils.simple_preprocess(review), [i])"
   ]
  },
  {
   "cell_type": "markdown",
   "metadata": {},
   "source": [
    "Get the data in TaggedDocument format"
   ]
  },
  {
   "cell_type": "code",
   "execution_count": 13,
   "metadata": {},
   "outputs": [
    {
     "name": "stdout",
     "output_type": "stream",
     "text": [
      "CPU times: user 1min 12s, sys: 2.83 s, total: 1min 15s\n",
      "Wall time: 1min 15s\n"
     ]
    },
    {
     "data": {
      "application/javascript": [
       "$(document).ready(\n",
       "    function() {\n",
       "        function appendUniqueDiv(){\n",
       "            // append a div with our uuid so we can check that it's already\n",
       "            // been sent and avoid duplicates on page reload\n",
       "            var notifiedDiv = document.createElement(\"div\")\n",
       "            notifiedDiv.id = \"085ee035-2cc2-4014-98e1-13ab23520d64\"\n",
       "            element.append(notifiedDiv)\n",
       "        }\n",
       "\n",
       "        // only send notifications if the pageload is complete; this will\n",
       "        // help stop extra notifications when a saved notebook is loaded,\n",
       "        // which during testing gives us state \"interactive\", not \"complete\"\n",
       "        if (document.readyState === 'complete') {\n",
       "            // check for the div that signifies that the notification\n",
       "            // was already sent\n",
       "            if (document.getElementById(\"085ee035-2cc2-4014-98e1-13ab23520d64\") === null) {\n",
       "                var notificationPayload = {\"requireInteraction\": false, \"icon\": \"/static/base/images/favicon.ico\", \"body\": \"Cell execution has finished!\"};\n",
       "                if (Notification.permission !== 'denied') {\n",
       "                    if (Notification.permission !== 'granted') { \n",
       "                        Notification.requestPermission(function (permission) {\n",
       "                            if(!('permission' in Notification)) {\n",
       "                                Notification.permission = permission\n",
       "                            }\n",
       "                        })\n",
       "                    }\n",
       "                    if (Notification.permission === 'granted') {\n",
       "                    var notification = new Notification(\"Jupyter Notebook\", notificationPayload)\n",
       "                    appendUniqueDiv()\n",
       "                    notification.onclick = function () {\n",
       "                        window.focus();\n",
       "                        this.close();\n",
       "                        };\n",
       "                    } \n",
       "                }     \n",
       "            }\n",
       "        }\n",
       "    }\n",
       ")\n"
      ],
      "text/plain": [
       "<IPython.core.display.Javascript object>"
      ]
     },
     "metadata": {},
     "output_type": "display_data"
    }
   ],
   "source": [
    "%%notify\n",
    "%%time\n",
    "\n",
    "train_corpus = list(read_corpus(df))"
   ]
  },
  {
   "cell_type": "code",
   "execution_count": 14,
   "metadata": {},
   "outputs": [
    {
     "data": {
      "text/plain": [
       "gensim.models.doc2vec.TaggedDocument"
      ]
     },
     "execution_count": 14,
     "metadata": {},
     "output_type": "execute_result"
    }
   ],
   "source": [
    "type(train_corpus[1])"
   ]
  },
  {
   "cell_type": "code",
   "execution_count": 15,
   "metadata": {},
   "outputs": [
    {
     "data": {
      "text/plain": [
       "500000"
      ]
     },
     "execution_count": 15,
     "metadata": {},
     "output_type": "execute_result"
    }
   ],
   "source": [
    "len(train_corpus)"
   ]
  },
  {
   "cell_type": "markdown",
   "metadata": {},
   "source": [
    "Define a `Doc2Vec` model"
   ]
  },
  {
   "cell_type": "code",
   "execution_count": 16,
   "metadata": {},
   "outputs": [],
   "source": [
    "model = gensim.models.doc2vec.Doc2Vec(vector_size=100, min_count=10, epochs=45, workers=2)"
   ]
  },
  {
   "cell_type": "markdown",
   "metadata": {},
   "source": [
    "Build vocabulary"
   ]
  },
  {
   "cell_type": "code",
   "execution_count": 17,
   "metadata": {},
   "outputs": [
    {
     "name": "stdout",
     "output_type": "stream",
     "text": [
      "CPU times: user 17.2 s, sys: 242 ms, total: 17.4 s\n",
      "Wall time: 17.5 s\n"
     ]
    },
    {
     "data": {
      "application/javascript": [
       "$(document).ready(\n",
       "    function() {\n",
       "        function appendUniqueDiv(){\n",
       "            // append a div with our uuid so we can check that it's already\n",
       "            // been sent and avoid duplicates on page reload\n",
       "            var notifiedDiv = document.createElement(\"div\")\n",
       "            notifiedDiv.id = \"0373e511-4384-4e0d-b613-bc43e935ad8d\"\n",
       "            element.append(notifiedDiv)\n",
       "        }\n",
       "\n",
       "        // only send notifications if the pageload is complete; this will\n",
       "        // help stop extra notifications when a saved notebook is loaded,\n",
       "        // which during testing gives us state \"interactive\", not \"complete\"\n",
       "        if (document.readyState === 'complete') {\n",
       "            // check for the div that signifies that the notification\n",
       "            // was already sent\n",
       "            if (document.getElementById(\"0373e511-4384-4e0d-b613-bc43e935ad8d\") === null) {\n",
       "                var notificationPayload = {\"requireInteraction\": false, \"icon\": \"/static/base/images/favicon.ico\", \"body\": \"Cell execution has finished!\"};\n",
       "                if (Notification.permission !== 'denied') {\n",
       "                    if (Notification.permission !== 'granted') { \n",
       "                        Notification.requestPermission(function (permission) {\n",
       "                            if(!('permission' in Notification)) {\n",
       "                                Notification.permission = permission\n",
       "                            }\n",
       "                        })\n",
       "                    }\n",
       "                    if (Notification.permission === 'granted') {\n",
       "                    var notification = new Notification(\"Jupyter Notebook\", notificationPayload)\n",
       "                    appendUniqueDiv()\n",
       "                    notification.onclick = function () {\n",
       "                        window.focus();\n",
       "                        this.close();\n",
       "                        };\n",
       "                    } \n",
       "                }     \n",
       "            }\n",
       "        }\n",
       "    }\n",
       ")\n"
      ],
      "text/plain": [
       "<IPython.core.display.Javascript object>"
      ]
     },
     "metadata": {},
     "output_type": "display_data"
    }
   ],
   "source": [
    "%%notify\n",
    "%%time\n",
    "\n",
    "model.build_vocab(train_corpus)"
   ]
  },
  {
   "cell_type": "markdown",
   "metadata": {},
   "source": [
    "Train the model on question corpus"
   ]
  },
  {
   "cell_type": "code",
   "execution_count": 18,
   "metadata": {},
   "outputs": [
    {
     "name": "stdout",
     "output_type": "stream",
     "text": [
      "CPU times: user 1h 34min 9s, sys: 10 s, total: 1h 34min 19s\n",
      "Wall time: 1h 34min 42s\n"
     ]
    },
    {
     "data": {
      "application/javascript": [
       "$(document).ready(\n",
       "    function() {\n",
       "        function appendUniqueDiv(){\n",
       "            // append a div with our uuid so we can check that it's already\n",
       "            // been sent and avoid duplicates on page reload\n",
       "            var notifiedDiv = document.createElement(\"div\")\n",
       "            notifiedDiv.id = \"52934c4b-b43a-4204-a9a8-0c6c241cc4c8\"\n",
       "            element.append(notifiedDiv)\n",
       "        }\n",
       "\n",
       "        // only send notifications if the pageload is complete; this will\n",
       "        // help stop extra notifications when a saved notebook is loaded,\n",
       "        // which during testing gives us state \"interactive\", not \"complete\"\n",
       "        if (document.readyState === 'complete') {\n",
       "            // check for the div that signifies that the notification\n",
       "            // was already sent\n",
       "            if (document.getElementById(\"52934c4b-b43a-4204-a9a8-0c6c241cc4c8\") === null) {\n",
       "                var notificationPayload = {\"requireInteraction\": false, \"icon\": \"/static/base/images/favicon.ico\", \"body\": \"Cell execution has finished!\"};\n",
       "                if (Notification.permission !== 'denied') {\n",
       "                    if (Notification.permission !== 'granted') { \n",
       "                        Notification.requestPermission(function (permission) {\n",
       "                            if(!('permission' in Notification)) {\n",
       "                                Notification.permission = permission\n",
       "                            }\n",
       "                        })\n",
       "                    }\n",
       "                    if (Notification.permission === 'granted') {\n",
       "                    var notification = new Notification(\"Jupyter Notebook\", notificationPayload)\n",
       "                    appendUniqueDiv()\n",
       "                    notification.onclick = function () {\n",
       "                        window.focus();\n",
       "                        this.close();\n",
       "                        };\n",
       "                    } \n",
       "                }     \n",
       "            }\n",
       "        }\n",
       "    }\n",
       ")\n"
      ],
      "text/plain": [
       "<IPython.core.display.Javascript object>"
      ]
     },
     "metadata": {},
     "output_type": "display_data"
    }
   ],
   "source": [
    "%%notify\n",
    "%%time\n",
    "\n",
    "model.train(train_corpus, total_examples=model.corpus_count, epochs=model.epochs)"
   ]
  },
  {
   "cell_type": "markdown",
   "metadata": {},
   "source": [
    "Save the model to disk"
   ]
  },
  {
   "cell_type": "code",
   "execution_count": 23,
   "metadata": {},
   "outputs": [],
   "source": [
    "f = open('w2v_model.pkl', 'wb')\n",
    "pickle.dump(model, f)\n",
    "f.close()"
   ]
  },
  {
   "cell_type": "code",
   "execution_count": 13,
   "metadata": {},
   "outputs": [],
   "source": [
    "f = open('w2v_model.pkl', 'rb')\n",
    "model = pickle.load( f)\n",
    "f.close()"
   ]
  },
  {
   "cell_type": "code",
   "execution_count": 84,
   "metadata": {},
   "outputs": [],
   "source": [
    "def d2v(doc):\n",
    "    return np.reshape(model.infer_vector(str(doc).split()), (1,-1))"
   ]
  },
  {
   "cell_type": "code",
   "execution_count": 78,
   "metadata": {},
   "outputs": [],
   "source": [
    "df['title_plus_body_D2V'] = df['title_plus_body']"
   ]
  },
  {
   "cell_type": "code",
   "execution_count": 79,
   "metadata": {},
   "outputs": [
    {
     "data": {
      "text/html": [
       "<div>\n",
       "<style scoped>\n",
       "    .dataframe tbody tr th:only-of-type {\n",
       "        vertical-align: middle;\n",
       "    }\n",
       "\n",
       "    .dataframe tbody tr th {\n",
       "        vertical-align: top;\n",
       "    }\n",
       "\n",
       "    .dataframe thead th {\n",
       "        text-align: right;\n",
       "    }\n",
       "</style>\n",
       "<table border=\"1\" class=\"dataframe\">\n",
       "  <thead>\n",
       "    <tr style=\"text-align: right;\">\n",
       "      <th></th>\n",
       "      <th>title_plus_body</th>\n",
       "      <th>Tags</th>\n",
       "      <th>title_plus_body_D2V</th>\n",
       "    </tr>\n",
       "  </thead>\n",
       "  <tbody>\n",
       "    <tr>\n",
       "      <th>0</th>\n",
       "      <td>check upload file imag without mime type check...</td>\n",
       "      <td>php image-processing file-upload upload mime-t...</td>\n",
       "      <td>check upload file imag without mime type check...</td>\n",
       "    </tr>\n",
       "    <tr>\n",
       "      <th>1</th>\n",
       "      <td>prevent firefox close press ctrl prevent firef...</td>\n",
       "      <td>firefox</td>\n",
       "      <td>prevent firefox close press ctrl prevent firef...</td>\n",
       "    </tr>\n",
       "    <tr>\n",
       "      <th>2</th>\n",
       "      <td>error invalid type list variabl error invalid ...</td>\n",
       "      <td>r matlab machine-learning</td>\n",
       "      <td>error invalid type list variabl error invalid ...</td>\n",
       "    </tr>\n",
       "    <tr>\n",
       "      <th>3</th>\n",
       "      <td>replac special charact url replac special char...</td>\n",
       "      <td>c# url encoding</td>\n",
       "      <td>replac special charact url replac special char...</td>\n",
       "    </tr>\n",
       "    <tr>\n",
       "      <th>4</th>\n",
       "      <td>modifi whoi contact detail modifi whoi contact...</td>\n",
       "      <td>php api file-get-contents</td>\n",
       "      <td>modifi whoi contact detail modifi whoi contact...</td>\n",
       "    </tr>\n",
       "  </tbody>\n",
       "</table>\n",
       "</div>"
      ],
      "text/plain": [
       "                                     title_plus_body  \\\n",
       "0  check upload file imag without mime type check...   \n",
       "1  prevent firefox close press ctrl prevent firef...   \n",
       "2  error invalid type list variabl error invalid ...   \n",
       "3  replac special charact url replac special char...   \n",
       "4  modifi whoi contact detail modifi whoi contact...   \n",
       "\n",
       "                                                Tags  \\\n",
       "0  php image-processing file-upload upload mime-t...   \n",
       "1                                            firefox   \n",
       "2                          r matlab machine-learning   \n",
       "3                                    c# url encoding   \n",
       "4                          php api file-get-contents   \n",
       "\n",
       "                                 title_plus_body_D2V  \n",
       "0  check upload file imag without mime type check...  \n",
       "1  prevent firefox close press ctrl prevent firef...  \n",
       "2  error invalid type list variabl error invalid ...  \n",
       "3  replac special charact url replac special char...  \n",
       "4  modifi whoi contact detail modifi whoi contact...  "
      ]
     },
     "execution_count": 79,
     "metadata": {},
     "output_type": "execute_result"
    }
   ],
   "source": [
    "df.head()"
   ]
  },
  {
   "cell_type": "code",
   "execution_count": 80,
   "metadata": {
    "scrolled": true
   },
   "outputs": [
    {
     "data": {
      "text/plain": [
       "0    check upload file imag without mime type check...\n",
       "1    prevent firefox close press ctrl prevent firef...\n",
       "2    error invalid type list variabl error invalid ...\n",
       "3    replac special charact url replac special char...\n",
       "4    modifi whoi contact detail modifi whoi contact...\n",
       "Name: title_plus_body, dtype: object"
      ]
     },
     "execution_count": 80,
     "metadata": {},
     "output_type": "execute_result"
    }
   ],
   "source": [
    "df.title_plus_body[:5]"
   ]
  },
  {
   "cell_type": "markdown",
   "metadata": {},
   "source": [
    "### Store text vectors in dataframe"
   ]
  },
  {
   "cell_type": "code",
   "execution_count": 85,
   "metadata": {},
   "outputs": [
    {
     "name": "stdout",
     "output_type": "stream",
     "text": [
      "CPU times: user 1h 11min 7s, sys: 1.85 s, total: 1h 11min 9s\n",
      "Wall time: 1h 11min 27s\n"
     ]
    },
    {
     "data": {
      "application/javascript": [
       "$(document).ready(\n",
       "    function() {\n",
       "        function appendUniqueDiv(){\n",
       "            // append a div with our uuid so we can check that it's already\n",
       "            // been sent and avoid duplicates on page reload\n",
       "            var notifiedDiv = document.createElement(\"div\")\n",
       "            notifiedDiv.id = \"0b2130e0-d419-40fc-b851-a64916327090\"\n",
       "            element.append(notifiedDiv)\n",
       "        }\n",
       "\n",
       "        // only send notifications if the pageload is complete; this will\n",
       "        // help stop extra notifications when a saved notebook is loaded,\n",
       "        // which during testing gives us state \"interactive\", not \"complete\"\n",
       "        if (document.readyState === 'complete') {\n",
       "            // check for the div that signifies that the notification\n",
       "            // was already sent\n",
       "            if (document.getElementById(\"0b2130e0-d419-40fc-b851-a64916327090\") === null) {\n",
       "                var notificationPayload = {\"requireInteraction\": false, \"icon\": \"/static/base/images/favicon.ico\", \"body\": \"Cell execution has finished!\"};\n",
       "                if (Notification.permission !== 'denied') {\n",
       "                    if (Notification.permission !== 'granted') { \n",
       "                        Notification.requestPermission(function (permission) {\n",
       "                            if(!('permission' in Notification)) {\n",
       "                                Notification.permission = permission\n",
       "                            }\n",
       "                        })\n",
       "                    }\n",
       "                    if (Notification.permission === 'granted') {\n",
       "                    var notification = new Notification(\"Jupyter Notebook\", notificationPayload)\n",
       "                    appendUniqueDiv()\n",
       "                    notification.onclick = function () {\n",
       "                        window.focus();\n",
       "                        this.close();\n",
       "                        };\n",
       "                    } \n",
       "                }     \n",
       "            }\n",
       "        }\n",
       "    }\n",
       ")\n"
      ],
      "text/plain": [
       "<IPython.core.display.Javascript object>"
      ]
     },
     "metadata": {},
     "output_type": "display_data"
    }
   ],
   "source": [
    "%%notify\n",
    "%%time\n",
    "\n",
    "df['title_plus_body_D2V'] = df.title_plus_body_D2V.map(d2v)"
   ]
  },
  {
   "cell_type": "code",
   "execution_count": 86,
   "metadata": {},
   "outputs": [],
   "source": [
    "f = open('df_500k_withD2V.pkl', 'wb')\n",
    "pickle.dump(df, f)\n",
    "f.close()"
   ]
  },
  {
   "cell_type": "code",
   "execution_count": 87,
   "metadata": {},
   "outputs": [],
   "source": [
    "df.to_csv('df_500k_withD2V.csv', index=False)"
   ]
  },
  {
   "cell_type": "code",
   "execution_count": 5,
   "metadata": {},
   "outputs": [],
   "source": [
    "df = pd.read_csv('df_500k_withD2V.csv')"
   ]
  },
  {
   "cell_type": "markdown",
   "metadata": {},
   "source": [
    "### Load df with vectors"
   ]
  },
  {
   "cell_type": "code",
   "execution_count": 14,
   "metadata": {},
   "outputs": [],
   "source": [
    "f = open('df_500k_withD2V.pkl', 'rb')\n",
    "df = pickle.load(f)\n",
    "f.close()"
   ]
  },
  {
   "cell_type": "code",
   "execution_count": 15,
   "metadata": {},
   "outputs": [
    {
     "data": {
      "text/html": [
       "<div>\n",
       "<style scoped>\n",
       "    .dataframe tbody tr th:only-of-type {\n",
       "        vertical-align: middle;\n",
       "    }\n",
       "\n",
       "    .dataframe tbody tr th {\n",
       "        vertical-align: top;\n",
       "    }\n",
       "\n",
       "    .dataframe thead th {\n",
       "        text-align: right;\n",
       "    }\n",
       "</style>\n",
       "<table border=\"1\" class=\"dataframe\">\n",
       "  <thead>\n",
       "    <tr style=\"text-align: right;\">\n",
       "      <th></th>\n",
       "      <th>title_plus_body</th>\n",
       "      <th>Tags</th>\n",
       "      <th>title_plus_body_D2V</th>\n",
       "    </tr>\n",
       "  </thead>\n",
       "  <tbody>\n",
       "    <tr>\n",
       "      <th>0</th>\n",
       "      <td>check upload file imag without mime type check...</td>\n",
       "      <td>php image-processing file-upload upload mime-t...</td>\n",
       "      <td>[[-1.0824873, -1.5873562, 2.0967324, 0.0812469...</td>\n",
       "    </tr>\n",
       "    <tr>\n",
       "      <th>1</th>\n",
       "      <td>prevent firefox close press ctrl prevent firef...</td>\n",
       "      <td>firefox</td>\n",
       "      <td>[[0.78520584, 1.0754683, 0.273408, 1.8291662, ...</td>\n",
       "    </tr>\n",
       "    <tr>\n",
       "      <th>2</th>\n",
       "      <td>error invalid type list variabl error invalid ...</td>\n",
       "      <td>r matlab machine-learning</td>\n",
       "      <td>[[0.18651532, 3.208882, -0.80458874, 2.5546575...</td>\n",
       "    </tr>\n",
       "    <tr>\n",
       "      <th>3</th>\n",
       "      <td>replac special charact url replac special char...</td>\n",
       "      <td>c# url encoding</td>\n",
       "      <td>[[0.33740228, 0.6176685, -0.5122717, -1.345658...</td>\n",
       "    </tr>\n",
       "    <tr>\n",
       "      <th>4</th>\n",
       "      <td>modifi whoi contact detail modifi whoi contact...</td>\n",
       "      <td>php api file-get-contents</td>\n",
       "      <td>[[-2.6397312, -0.057149094, 1.1491874, 0.27843...</td>\n",
       "    </tr>\n",
       "  </tbody>\n",
       "</table>\n",
       "</div>"
      ],
      "text/plain": [
       "                                     title_plus_body  \\\n",
       "0  check upload file imag without mime type check...   \n",
       "1  prevent firefox close press ctrl prevent firef...   \n",
       "2  error invalid type list variabl error invalid ...   \n",
       "3  replac special charact url replac special char...   \n",
       "4  modifi whoi contact detail modifi whoi contact...   \n",
       "\n",
       "                                                Tags  \\\n",
       "0  php image-processing file-upload upload mime-t...   \n",
       "1                                            firefox   \n",
       "2                          r matlab machine-learning   \n",
       "3                                    c# url encoding   \n",
       "4                          php api file-get-contents   \n",
       "\n",
       "                                 title_plus_body_D2V  \n",
       "0  [[-1.0824873, -1.5873562, 2.0967324, 0.0812469...  \n",
       "1  [[0.78520584, 1.0754683, 0.273408, 1.8291662, ...  \n",
       "2  [[0.18651532, 3.208882, -0.80458874, 2.5546575...  \n",
       "3  [[0.33740228, 0.6176685, -0.5122717, -1.345658...  \n",
       "4  [[-2.6397312, -0.057149094, 1.1491874, 0.27843...  "
      ]
     },
     "execution_count": 15,
     "metadata": {},
     "output_type": "execute_result"
    }
   ],
   "source": [
    "df.head()"
   ]
  },
  {
   "cell_type": "markdown",
   "metadata": {},
   "source": [
    "### Extract text vectors from dataframe"
   ]
  },
  {
   "cell_type": "code",
   "execution_count": 13,
   "metadata": {
    "scrolled": false
   },
   "outputs": [
    {
     "name": "stdout",
     "output_type": "stream",
     "text": [
      "CPU times: user 1h 26min 10s, sys: 17min 10s, total: 1h 43min 20s\n",
      "Wall time: 1h 39min 24s\n"
     ]
    },
    {
     "data": {
      "application/javascript": [
       "$(document).ready(\n",
       "    function() {\n",
       "        function appendUniqueDiv(){\n",
       "            // append a div with our uuid so we can check that it's already\n",
       "            // been sent and avoid duplicates on page reload\n",
       "            var notifiedDiv = document.createElement(\"div\")\n",
       "            notifiedDiv.id = \"ab37ab44-2fb0-4d08-b2bb-7991d6fd8d76\"\n",
       "            element.append(notifiedDiv)\n",
       "        }\n",
       "\n",
       "        // only send notifications if the pageload is complete; this will\n",
       "        // help stop extra notifications when a saved notebook is loaded,\n",
       "        // which during testing gives us state \"interactive\", not \"complete\"\n",
       "        if (document.readyState === 'complete') {\n",
       "            // check for the div that signifies that the notification\n",
       "            // was already sent\n",
       "            if (document.getElementById(\"ab37ab44-2fb0-4d08-b2bb-7991d6fd8d76\") === null) {\n",
       "                var notificationPayload = {\"requireInteraction\": false, \"icon\": \"/static/base/images/favicon.ico\", \"body\": \"Cell execution has finished!\"};\n",
       "                if (Notification.permission !== 'denied') {\n",
       "                    if (Notification.permission !== 'granted') { \n",
       "                        Notification.requestPermission(function (permission) {\n",
       "                            if(!('permission' in Notification)) {\n",
       "                                Notification.permission = permission\n",
       "                            }\n",
       "                        })\n",
       "                    }\n",
       "                    if (Notification.permission === 'granted') {\n",
       "                    var notification = new Notification(\"Jupyter Notebook\", notificationPayload)\n",
       "                    appendUniqueDiv()\n",
       "                    notification.onclick = function () {\n",
       "                        window.focus();\n",
       "                        this.close();\n",
       "                        };\n",
       "                    } \n",
       "                }     \n",
       "            }\n",
       "        }\n",
       "    }\n",
       ")\n"
      ],
      "text/plain": [
       "<IPython.core.display.Javascript object>"
      ]
     },
     "metadata": {},
     "output_type": "display_data"
    }
   ],
   "source": [
    "%%notify\n",
    "%%time\n",
    "\n",
    "df1, df2, df3, df4, df5 = np.array_split(df, 5)\n",
    "\n",
    "dataframes = [df1, df2, df3, df4, df5]\n",
    "\n",
    "W2V_TEXT = np.zeros((1,100))\n",
    "\n",
    "cnt=0\n",
    "\n",
    "for df in dataframes:\n",
    "\n",
    "    w2v_text = np.zeros((1,100))\n",
    "\n",
    "\n",
    "    for doc_vec in df.title_plus_body_D2V:\n",
    "        w2v_text = np.vstack([w2v_text, doc_vec])\n",
    "        print(cnt, end='\\r')\n",
    "        cnt += 1\n",
    "\n",
    "    w2v_text = np.delete(w2v_text, (0), axis = 0)\n",
    "    W2V_TEXT = np.vstack([W2V_TEXT, w2v_text])"
   ]
  },
  {
   "cell_type": "code",
   "execution_count": 16,
   "metadata": {},
   "outputs": [],
   "source": [
    "W2V_TEXT = np.delete(W2V_TEXT, (0), axis = 0)"
   ]
  },
  {
   "cell_type": "code",
   "execution_count": 17,
   "metadata": {},
   "outputs": [
    {
     "data": {
      "text/plain": [
       "(500000, 100)"
      ]
     },
     "execution_count": 17,
     "metadata": {},
     "output_type": "execute_result"
    }
   ],
   "source": [
    "W2V_TEXT.shape"
   ]
  },
  {
   "cell_type": "code",
   "execution_count": 18,
   "metadata": {},
   "outputs": [],
   "source": [
    "f = open('w2v_text.pkl', 'wb')\n",
    "pickle.dump(W2V_TEXT, f)\n",
    "f.close()"
   ]
  },
  {
   "cell_type": "code",
   "execution_count": 49,
   "metadata": {},
   "outputs": [],
   "source": [
    "f = open('w2v_text.pkl', 'rb')\n",
    "W2V_TEXT=pickle.load(f)\n",
    "f.close()"
   ]
  },
  {
   "cell_type": "markdown",
   "metadata": {},
   "source": [
    "The variable W2V_TEXT contains vector representation for all questions. See what a sample looks like below."
   ]
  },
  {
   "cell_type": "code",
   "execution_count": 50,
   "metadata": {},
   "outputs": [
    {
     "data": {
      "text/plain": [
       "(500000, 100)"
      ]
     },
     "execution_count": 50,
     "metadata": {},
     "output_type": "execute_result"
    }
   ],
   "source": [
    "W2V_TEXT.shape"
   ]
  },
  {
   "cell_type": "code",
   "execution_count": 51,
   "metadata": {},
   "outputs": [
    {
     "data": {
      "text/plain": [
       "array([[-1.08248734, -1.58735621,  2.09673238,  0.08124694,  2.05746269,\n",
       "         1.83899295,  0.92319667, -1.72436392, -0.2293857 , -1.68444633,\n",
       "        -0.62759823, -0.19271587,  0.41270536,  1.128811  , -1.65209389,\n",
       "         0.26752809, -0.30686691, -0.70414066, -0.05635738,  0.23651868,\n",
       "         0.26425895,  1.32704318,  1.29477012, -0.51820558,  0.22328408,\n",
       "         1.37652349, -0.73710811,  1.18206728,  0.0601128 , -0.5959323 ,\n",
       "        -0.97667009, -0.01882866,  0.24213322,  1.51821387,  0.31799397,\n",
       "         1.18063045,  1.99193716, -1.27584887,  0.61653262, -0.15088022,\n",
       "        -0.65190303, -0.6102373 ,  0.54023045,  2.64754677,  0.67357302,\n",
       "         0.97591341,  0.37472454,  1.57128382,  0.13061056,  0.36538306,\n",
       "         0.54700059, -0.27501675,  0.36055252, -0.99835449, -0.93458152,\n",
       "         1.89719093,  0.099395  , -0.98377633,  1.46768427, -1.15966249,\n",
       "         0.30434272,  0.70649886, -0.06157122,  0.58606976, -1.25841653,\n",
       "         0.3801575 , -0.79595828, -0.01095787,  0.11404828, -2.07350945,\n",
       "         0.00564525, -0.29665953, -0.46054804,  0.12716822, -0.21263592,\n",
       "        -0.03863379,  0.20958735, -2.40661407,  0.38721123, -0.61691087,\n",
       "        -1.49969292, -1.2675364 ,  0.3409135 , -0.61088461, -1.06926692,\n",
       "         0.46426946,  0.64179021,  1.83039594, -1.1476984 , -1.90561378,\n",
       "        -0.19599661,  0.38346338, -0.17458099, -0.74215561,  1.59784734,\n",
       "         0.46831122,  1.35244668,  0.33787203, -0.99147624,  0.47470477]])"
      ]
     },
     "execution_count": 51,
     "metadata": {},
     "output_type": "execute_result"
    }
   ],
   "source": [
    "W2V_TEXT[:1]"
   ]
  },
  {
   "cell_type": "markdown",
   "metadata": {},
   "source": [
    "## Get X data of W2V format"
   ]
  },
  {
   "cell_type": "code",
   "execution_count": 52,
   "metadata": {},
   "outputs": [],
   "source": [
    "split_upto = int(0.80*df.shape[0])\n",
    "X_train_w2v = W2V_TEXT[:split_upto]\n",
    "X_test_w2v = W2V_TEXT[split_upto:]"
   ]
  },
  {
   "cell_type": "markdown",
   "metadata": {},
   "source": [
    "Standardize the data"
   ]
  },
  {
   "cell_type": "code",
   "execution_count": 53,
   "metadata": {},
   "outputs": [],
   "source": [
    "from sklearn.preprocessing import StandardScaler\n",
    "scaler = StandardScaler()\n",
    "\n",
    "X_train_w2v = scaler.fit_transform(X_train_w2v)\n",
    "X_test_w2v = scaler.transform(X_test_w2v)"
   ]
  },
  {
   "cell_type": "markdown",
   "metadata": {},
   "source": [
    "## Model 6: Binary Relevance (Logistic Regression | D2V X)"
   ]
  },
  {
   "cell_type": "code",
   "execution_count": null,
   "metadata": {
    "scrolled": true
   },
   "outputs": [],
   "source": [
    "%%notify\n",
    "%%time\n",
    "\n",
    "base_estimator = LogisticRegression()\n",
    "\n",
    "OvsR_model = OneVsRestClassifier(base_estimator)\n",
    "\n",
    "hyp_par = {\n",
    "    \n",
    "    \"estimator__C\" : [ 0.5, 1.0]\n",
    "}\n",
    "\n",
    "clf = GridSearchCV(estimator=OvsR_model, cv=2,param_grid=hyp_par, verbose=True, n_jobs=-1)\n",
    "\n",
    "clf.fit(X_train_w2v, y_train)"
   ]
  },
  {
   "cell_type": "code",
   "execution_count": 55,
   "metadata": {},
   "outputs": [],
   "source": [
    "# predict\n",
    "predictions = clf.predict(X_test_w2v)\n",
    "x, y = predictions.nonzero()"
   ]
  },
  {
   "cell_type": "code",
   "execution_count": 57,
   "metadata": {},
   "outputs": [
    {
     "name": "stdout",
     "output_type": "stream",
     "text": [
      "***** Binary Relevance | Logistic Regression | Tri-gram Tfidf ***** \n",
      "\n",
      "Accuracy: 0.20905\n",
      "F1 Score(macro) 0.2264208065355019\n",
      "F1 Score(micro) 0.4090530280194197\n",
      "Precision (macro) 0.4577959907154326\n",
      "Precision (micro) 0.6782664941785252\n",
      "Recall (micro) 0.2928262072677238\n",
      "Recall (macro) 0.1685259618407828\n",
      "Hamming loss 0.005554566666666667\n"
     ]
    },
    {
     "name": "stderr",
     "output_type": "stream",
     "text": [
      "/home/ucanreachtvk/anaconda3/lib/python3.6/site-packages/sklearn/metrics/classification.py:1143: UndefinedMetricWarning: F-score is ill-defined and being set to 0.0 in labels with no predicted samples.\n",
      "  'precision', 'predicted', average, warn_for)\n",
      "/home/ucanreachtvk/anaconda3/lib/python3.6/site-packages/sklearn/metrics/classification.py:1143: UndefinedMetricWarning: Precision is ill-defined and being set to 0.0 in labels with no predicted samples.\n",
      "  'precision', 'predicted', average, warn_for)\n"
     ]
    }
   ],
   "source": [
    "print('***** Binary Relevance | Logistic Regression | Tri-gram Tfidf ***** ', end='\\n\\n')\n",
    "print('Accuracy:',accuracy_score(y_test,predictions))\n",
    "print('F1 Score(macro)',f1_score(y_test, predictions, average = 'macro'))\n",
    "print('F1 Score(micro)',f1_score(y_test, predictions, average = 'micro'))\n",
    "print('Precision (macro)',precision_score(y_test, predictions, average='macro'))\n",
    "print('Precision (micro)',precision_score(y_test, predictions, average='micro'))\n",
    "print('Recall (micro)',recall_score(y_test, predictions, average='micro'))\n",
    "print('Recall (macro)',recall_score(y_test, predictions, average='macro'))\n",
    "\n",
    "print('Hamming loss',hamming_loss(y_test,predictions))"
   ]
  },
  {
   "cell_type": "markdown",
   "metadata": {},
   "source": [
    "Add results to table"
   ]
  },
  {
   "cell_type": "code",
   "execution_count": 31,
   "metadata": {},
   "outputs": [],
   "source": [
    "table.add_row([6, 'Binary Relevance', 'Logistic Regression', 'Doc2Vec', '0.40', '0.67', '0.005'])"
   ]
  },
  {
   "cell_type": "markdown",
   "metadata": {},
   "source": [
    "### Sample Predictions | Binary Relevance, Logistic Regression , Doc2Vec"
   ]
  },
  {
   "cell_type": "code",
   "execution_count": 58,
   "metadata": {
    "scrolled": false
   },
   "outputs": [
    {
     "name": "stdout",
     "output_type": "stream",
     "text": [
      "Question:\n",
      "effici way make ajax request particular element effici way make ajax request particular element effici way make ajax request particular element play jqueri load function grab particular div page result load ajax test html variabl work howev take forev respons still contain complet document even though return result div defin exampl variabl anoth way accomplish respons contain actual div fastest way return result clarifi search generat foreach loop page img name php echo product getid onclick event make ajax request relat div img click function result load ajax test html attr name page test html also foreach loop generat div block pass name david juan suggest sever side solut someon pleas explain bit\n",
      "\n",
      "Actual Tags:\n",
      "['php', 'javascript', 'jquery', 'ajax']\n",
      "\n",
      "Predicted Tags:\n",
      "javascript | jquery | php | \n",
      "--------------------------------------------------\n",
      "\n",
      "Question:\n",
      "effici way make ajax request particular element effici way make ajax request particular element effici way make ajax request particular element play jqueri load function grab particular div page result load ajax test html variabl work howev take forev respons still contain complet document even though return result div defin exampl variabl anoth way accomplish respons contain actual div fastest way return result clarifi search generat foreach loop page img name php echo product getid onclick event make ajax request relat div img click function result load ajax test html attr name page test html also foreach loop generat div block pass name david juan suggest sever side solut someon pleas explain bit\n",
      "\n",
      "Actual Tags:\n",
      "['php', 'javascript', 'jquery', 'ajax']\n",
      "\n",
      "Predicted Tags:\n",
      "jquery | php | \n",
      "--------------------------------------------------\n",
      "\n",
      "Question:\n",
      "jqueri get full css properti set string element jqueri get full css properti set string element jqueri get full css properti set string element possibl duplic jqueri get css style associ element get full css properti set string element jqueri javascript var myelement css tostr\n",
      "\n",
      "Actual Tags:\n",
      "['javascript', 'jquery']\n",
      "\n",
      "Predicted Tags:\n",
      "javascript | jquery | \n",
      "--------------------------------------------------\n",
      "\n",
      "Question:\n",
      "select data sql tabl convert json select data sql tabl convert json select data sql tabl convert json get data mysql convert json give error use follow code variabl flu catalog titl match select record search php script code function exist json encod function json encod fals null return null fals return fals true return true scalar float alway use float return floatval str replac strval string static jsonreplac array array array return str replac jsonreplac jsonreplac els return islist true reset count next key islist fals break result array islist foreach result json encod return join result els foreach result json encod json encod return join result flu post searchcod queri mysql queri select catalog master categori titl flu row array row mysql fetch assoc queri row row echo json encod row error warn mysql fetch assoc suppli argument valid mysql result resourc home content ihus html pah brd productivo searchcatalog php line\n",
      "\n",
      "Actual Tags:\n",
      "['php', 'mysql']\n",
      "\n",
      "Predicted Tags:\n",
      "mysql | php | \n",
      "--------------------------------------------------\n",
      "\n",
      "Question:\n",
      "disabl readon form process submit disabl readon form process submit disabl readon form process submit use ajax submit form use follow code submit form via ajax jqueri form ajaxform submit function ajax url attr action type attr method datatyp json data serial success function data var data jqueri html data return fals question want disabl readon server process form data submit form normal submit error time user press submit button one time get unwant duplic entri databas idea thank\n",
      "\n",
      "Actual Tags:\n",
      "['javascript', 'jquery', 'html', 'forms', 'jquery-ajax']\n",
      "\n",
      "Predicted Tags:\n",
      "javascript | jquery | \n",
      "--------------------------------------------------\n",
      "\n"
     ]
    }
   ],
   "source": [
    "compare_Tags(predictions, tag_vectorizer, df)"
   ]
  },
  {
   "cell_type": "markdown",
   "metadata": {},
   "source": [
    "## Model 7: Multi Layered Perceptron | W2V X"
   ]
  },
  {
   "cell_type": "code",
   "execution_count": null,
   "metadata": {
    "scrolled": false
   },
   "outputs": [],
   "source": [
    "%%notify\n",
    "%%time\n",
    "\n",
    "hp = { \n",
    "        'activation': ['logistic', 'relu']\n",
    "     }\n",
    "\n",
    "mlp = MLPClassifier(verbose=True, hidden_layer_sizes=(50,50))\n",
    "\n",
    "clf = GridSearchCV(mlp, hp, n_jobs=-1, verbose=True, cv=2)\n",
    "\n",
    "clf.fit(X_train_w2v, y_train)"
   ]
  },
  {
   "cell_type": "code",
   "execution_count": 71,
   "metadata": {},
   "outputs": [
    {
     "data": {
      "text/plain": [
       "{'activation': 'logistic'}"
      ]
     },
     "execution_count": 71,
     "metadata": {},
     "output_type": "execute_result"
    }
   ],
   "source": [
    "clf.best_params_"
   ]
  },
  {
   "cell_type": "code",
   "execution_count": 72,
   "metadata": {},
   "outputs": [],
   "source": [
    "# predict\n",
    "predictions = clf.predict(X_test_w2v)\n",
    "x, y = predictions.nonzero()"
   ]
  },
  {
   "cell_type": "code",
   "execution_count": 73,
   "metadata": {
    "scrolled": true
   },
   "outputs": [
    {
     "data": {
      "text/plain": [
       "(100000, 300)"
      ]
     },
     "execution_count": 73,
     "metadata": {},
     "output_type": "execute_result"
    }
   ],
   "source": [
    "predictions.shape"
   ]
  },
  {
   "cell_type": "code",
   "execution_count": 74,
   "metadata": {},
   "outputs": [
    {
     "name": "stdout",
     "output_type": "stream",
     "text": [
      "***** Binary Relevance | Linear SVC | Tri-gram Tfidf ***** \n",
      "\n",
      "Accuracy: 0.22133\n",
      "F1 Score(macro) 0.20304772925093403\n",
      "F1 Score(micro) 0.4224842638033521\n",
      "Precision (macro) 0.45111973665741717\n",
      "Precision (micro) 0.7136181414219475\n",
      "Recall (micro) 0.3000665133305916\n",
      "Recall (macro) 0.1515254423035254\n",
      "Hamming loss 0.0053857\n"
     ]
    },
    {
     "name": "stderr",
     "output_type": "stream",
     "text": [
      "/home/ucanreachtvk/anaconda3/lib/python3.6/site-packages/sklearn/metrics/classification.py:1143: UndefinedMetricWarning: F-score is ill-defined and being set to 0.0 in labels with no predicted samples.\n",
      "  'precision', 'predicted', average, warn_for)\n",
      "/home/ucanreachtvk/anaconda3/lib/python3.6/site-packages/sklearn/metrics/classification.py:1143: UndefinedMetricWarning: Precision is ill-defined and being set to 0.0 in labels with no predicted samples.\n",
      "  'precision', 'predicted', average, warn_for)\n"
     ]
    }
   ],
   "source": [
    "print('***** Binary Relevance | Linear SVC | Tri-gram Tfidf ***** ', end='\\n\\n')\n",
    "print('Accuracy:',accuracy_score(y_test,predictions))\n",
    "print('F1 Score(macro)',f1_score(y_test, predictions, average = 'macro'))\n",
    "print('F1 Score(micro)',f1_score(y_test, predictions, average = 'micro'))\n",
    "print('Precision (macro)',precision_score(y_test, predictions, average='macro'))\n",
    "print('Precision (micro)',precision_score(y_test, predictions, average='micro'))\n",
    "print('Recall (micro)',recall_score(y_test, predictions, average='micro'))\n",
    "print('Recall (macro)',recall_score(y_test, predictions, average='macro'))\n",
    "\n",
    "print('Hamming loss',hamming_loss(y_test,predictions))"
   ]
  },
  {
   "cell_type": "markdown",
   "metadata": {},
   "source": [
    "Add results to the table"
   ]
  },
  {
   "cell_type": "code",
   "execution_count": 32,
   "metadata": {},
   "outputs": [],
   "source": [
    "table.add_row([7, 'Neural Network', 'MLP', 'Doc2Vec', '0.42', '0.71', '0.005'])"
   ]
  },
  {
   "cell_type": "markdown",
   "metadata": {},
   "source": [
    "### Sample Predictions | Multi Layered Perceptron (MLP) , D2V"
   ]
  },
  {
   "cell_type": "code",
   "execution_count": 75,
   "metadata": {},
   "outputs": [
    {
     "name": "stdout",
     "output_type": "stream",
     "text": [
      "Question:\n",
      "effici way make ajax request particular element effici way make ajax request particular element effici way make ajax request particular element play jqueri load function grab particular div page result load ajax test html variabl work howev take forev respons still contain complet document even though return result div defin exampl variabl anoth way accomplish respons contain actual div fastest way return result clarifi search generat foreach loop page img name php echo product getid onclick event make ajax request relat div img click function result load ajax test html attr name page test html also foreach loop generat div block pass name david juan suggest sever side solut someon pleas explain bit\n",
      "\n",
      "Actual Tags:\n",
      "['php', 'javascript', 'jquery', 'ajax']\n",
      "\n",
      "Predicted Tags:\n",
      "ajax | javascript | jquery | php | \n",
      "--------------------------------------------------\n",
      "\n",
      "Question:\n",
      "effici way make ajax request particular element effici way make ajax request particular element effici way make ajax request particular element play jqueri load function grab particular div page result load ajax test html variabl work howev take forev respons still contain complet document even though return result div defin exampl variabl anoth way accomplish respons contain actual div fastest way return result clarifi search generat foreach loop page img name php echo product getid onclick event make ajax request relat div img click function result load ajax test html attr name page test html also foreach loop generat div block pass name david juan suggest sever side solut someon pleas explain bit\n",
      "\n",
      "Actual Tags:\n",
      "['php', 'javascript', 'jquery', 'ajax']\n",
      "\n",
      "Predicted Tags:\n",
      "javascript | jquery | php | \n",
      "--------------------------------------------------\n",
      "\n",
      "Question:\n",
      "effici way make ajax request particular element effici way make ajax request particular element effici way make ajax request particular element play jqueri load function grab particular div page result load ajax test html variabl work howev take forev respons still contain complet document even though return result div defin exampl variabl anoth way accomplish respons contain actual div fastest way return result clarifi search generat foreach loop page img name php echo product getid onclick event make ajax request relat div img click function result load ajax test html attr name page test html also foreach loop generat div block pass name david juan suggest sever side solut someon pleas explain bit\n",
      "\n",
      "Actual Tags:\n",
      "['php', 'javascript', 'jquery', 'ajax']\n",
      "\n",
      "Predicted Tags:\n",
      "jquery | php | \n",
      "--------------------------------------------------\n",
      "\n",
      "Question:\n",
      "add button new top toolbar add button new top toolbar add button new top toolbar tri add button new top toolbar alreadi toolbar top search filter place new toolbar add button menu menu one bottom left grid juse make easier user row list set high dont scroll bottom best way exampl welcom pritti new code creat toolbar button toolbar custom grid jqgrid filtertoolbar searchonent fals bottom left button custom grid jqgrid navbuttonadd custom grid pager caption add custom titl add custom buttonicon icon plus onclickbutton function custom grid jqgrid navbuttonadd custom grid pager caption clear titl clear search buttonicon icon refresh onclickbutton function custom grid cleartoolbar custom grid jqgrid navbuttonadd custom grid pager caption close titl close search buttonicon icon close onclickbutton function mani thank\n",
      "\n",
      "Actual Tags:\n",
      "['javascript', 'jquery', 'jqgrid']\n",
      "\n",
      "Predicted Tags:\n",
      "javascript | jquery | \n",
      "--------------------------------------------------\n",
      "\n",
      "Question:\n",
      "add element certain place add element certain place add element certain place use document createel javascript add element bottom bodi nhow add element certain place document createel properti mean store new variabl\n",
      "\n",
      "Actual Tags:\n",
      "['javascript', 'jquery']\n",
      "\n",
      "Predicted Tags:\n",
      "html | javascript | jquery | \n",
      "--------------------------------------------------\n",
      "\n"
     ]
    }
   ],
   "source": [
    "compare_Tags(predictions, tag_vectorizer, df)"
   ]
  },
  {
   "cell_type": "markdown",
   "metadata": {},
   "source": [
    "# Conclusion:\n"
   ]
  },
  {
   "cell_type": "markdown",
   "metadata": {},
   "source": [
    "1. We tried 7 different models, mostly with the binary relevance technique for multilabel classification. `Linear SVC` on 3-gram Tfidf performed the best with an F1 score of `0.56` and precision of `0.80`.\n",
    "\n",
    "2. The results obtained are satisfactorily good considering that we used only the top 300 tags which covered about 85% of the questions."
   ]
  },
  {
   "cell_type": "code",
   "execution_count": 33,
   "metadata": {},
   "outputs": [
    {
     "name": "stdout",
     "output_type": "stream",
     "text": [
      "+---+------------------+---------------------+--------------+------+-----------+-------+\n",
      "| # |     Approach     |        Model        |     Data     |  F1  | Precision |   HL  |\n",
      "+---+------------------+---------------------+--------------+------+-----------+-------+\n",
      "| 1 | Binary Relevance | Logistic Regression | 1-gram Tfidf | 0.54 |    0.77   | 0.004 |\n",
      "| 2 | Binary Relevance |      Linear SVC     | 1-gram Tfidf | 0.55 |    0.80   | 0.004 |\n",
      "| 3 | Classifier Chain |     Naive Bayes     | 1-gram Tfidf | 0.32 |    0.30   | 0.009 |\n",
      "| 4 | Binary Relevance |      Linear SVC     | 3-gram Tfidf | 0.56 |    0.80   | 0.004 |\n",
      "| 5 | Binary Relevance | Logistic Regression | 3-gram Tfidf | 0.54 |    0.78   | 0.004 |\n",
      "| 6 | Binary Relevance | Logistic Regression |   Doc2Vec    | 0.40 |    0.67   | 0.005 |\n",
      "| 7 |  Neural Network  |         MLP         |   Doc2Vec    | 0.42 |    0.71   | 0.005 |\n",
      "+---+------------------+---------------------+--------------+------+-----------+-------+\n"
     ]
    }
   ],
   "source": [
    "print(table)"
   ]
  }
 ],
 "metadata": {
  "kernelspec": {
   "display_name": "Python 3",
   "language": "python",
   "name": "python3"
  },
  "language_info": {
   "codemirror_mode": {
    "name": "ipython",
    "version": 3
   },
   "file_extension": ".py",
   "mimetype": "text/x-python",
   "name": "python",
   "nbconvert_exporter": "python",
   "pygments_lexer": "ipython3",
   "version": "3.7.3"
  },
  "toc": {
   "base_numbering": 1,
   "nav_menu": {},
   "number_sections": true,
   "sideBar": true,
   "skip_h1_title": false,
   "title_cell": "Table of Contents",
   "title_sidebar": "Contents",
   "toc_cell": false,
   "toc_position": {},
   "toc_section_display": true,
   "toc_window_display": false
  },
  "varInspector": {
   "cols": {
    "lenName": 16,
    "lenType": 16,
    "lenVar": 40
   },
   "kernels_config": {
    "python": {
     "delete_cmd_postfix": "",
     "delete_cmd_prefix": "del ",
     "library": "var_list.py",
     "varRefreshCmd": "print(var_dic_list())"
    },
    "r": {
     "delete_cmd_postfix": ") ",
     "delete_cmd_prefix": "rm(",
     "library": "var_list.r",
     "varRefreshCmd": "cat(var_dic_list()) "
    }
   },
   "types_to_exclude": [
    "module",
    "function",
    "builtin_function_or_method",
    "instance",
    "_Feature"
   ],
   "window_display": false
  }
 },
 "nbformat": 4,
 "nbformat_minor": 2
}
