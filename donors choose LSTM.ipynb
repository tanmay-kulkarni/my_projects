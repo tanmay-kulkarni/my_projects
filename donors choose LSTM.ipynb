{
 "cells": [
  {
   "cell_type": "markdown",
   "metadata": {},
   "source": [
    "<h1 align=\"center\"> The Donor's Choose challenge</h1>\n",
    "\n",
    "\n",
    "![](https://cdn.donorschoose.net/images/logo/dc-logo.png)\n",
    "\n",
    "\n",
    "Founded in 2000 by a high school teacher in the Bronx, DonorsChoose.org empowers public school teachers from across the country to request much-needed materials and experiences for their students. At any given time, there are thousands of classroom requests that can be brought to life with a gift of any amount.\n",
    "\n",
    "DonorsChoose.org receives hundreds of thousands of project proposals each year for classroom projects in need of funding. Right now, a large number of volunteers is needed to manually screen each submission before it's approved to be posted on the DonorsChoose.org website.\n",
    "\n",
    "The goal of this problem originally posted on [Kaggle](https://www.kaggle.com/c/donorschoose-application-screening) is to predict whether or not a DonorsChoose.org project proposal submitted by a teacher will be approved, using the text of project descriptions as well as additional metadata about the project, teacher, and school. DonorsChoose.org can then use this information to identify projects most likely to need further review before approval.\n",
    "\n",
    "I will be doing some text cleaning, feature engineering and Neural Networks, particularly the LSTM to try and give a solution for this problem. Let's begin."
   ]
  },
  {
   "cell_type": "code",
   "execution_count": 1,
   "metadata": {
    "ExecuteTime": {
     "end_time": "2019-09-12T14:29:13.346013Z",
     "start_time": "2019-09-12T14:29:08.258729Z"
    }
   },
   "outputs": [
    {
     "name": "stderr",
     "output_type": "stream",
     "text": [
      "Using TensorFlow backend.\n"
     ]
    }
   ],
   "source": [
    "import warnings\n",
    "warnings.filterwarnings('ignore')\n",
    "import pickle\n",
    "import matplotlib.pyplot as plt\n",
    "import pandas as pd\n",
    "from keras.optimizers import adam, RMSprop\n",
    "from keras import regularizers\n",
    "import numpy as np\n",
    "from sklearn.preprocessing import StandardScaler\n",
    "from numpy import asarray\n",
    "from keras.models import Model, Sequential\n",
    "from keras.layers import Concatenate, Dense, LSTM, Input, concatenate, Embedding, Flatten, concatenate, Dropout, Conv1D\n",
    "from keras.preprocessing.text import Tokenizer \n",
    "from keras.preprocessing.sequence import pad_sequences\n",
    "from time import time\n",
    "from keras.callbacks import TensorBoard"
   ]
  },
  {
   "cell_type": "code",
   "execution_count": 2,
   "metadata": {
    "ExecuteTime": {
     "end_time": "2019-09-12T14:29:13.411477Z",
     "start_time": "2019-09-12T14:29:13.348390Z"
    },
    "scrolled": true
   },
   "outputs": [
    {
     "data": {
      "application/javascript": [
       "if (!(\"Notification\" in window)) {\n",
       "    alert(\"This browser does not support desktop notifications, so the %%notify magic will not work.\");\n",
       "} else if (Notification.permission !== 'granted' && Notification.permission !== 'denied') {\n",
       "    Notification.requestPermission(function (permission) {\n",
       "        if(!('permission' in Notification)) {\n",
       "            Notification.permission = permission;\n",
       "        }\n",
       "    })\n",
       "}\n"
      ],
      "text/plain": [
       "<IPython.core.display.Javascript object>"
      ]
     },
     "metadata": {},
     "output_type": "display_data"
    }
   ],
   "source": [
    "%load_ext jupyternotify"
   ]
  },
  {
   "cell_type": "markdown",
   "metadata": {},
   "source": [
    "# Processing text data\n",
    "\n",
    "I will be using a processed csv file already available with me. But it still needs to be further changed.\n",
    "\n",
    "Keras or any other ML library cannot accept raw text data of `essay`, or categorical variables like `school_state`. Before we build our neural net models, we need to bring this data into a format that is suitable for feeding into a model. i.e. we need to convert them into numbers."
   ]
  },
  {
   "cell_type": "code",
   "execution_count": 3,
   "metadata": {
    "ExecuteTime": {
     "end_time": "2019-09-12T14:29:16.730134Z",
     "start_time": "2019-09-12T14:29:13.414009Z"
    }
   },
   "outputs": [],
   "source": [
    "df_donors = pd.read_csv('./preprocessed_data.csv')"
   ]
  },
  {
   "cell_type": "markdown",
   "metadata": {},
   "source": [
    "In this data, **project_is_approved** is the target variable"
   ]
  },
  {
   "cell_type": "code",
   "execution_count": 4,
   "metadata": {
    "ExecuteTime": {
     "end_time": "2019-09-12T14:29:16.754460Z",
     "start_time": "2019-09-12T14:29:16.734894Z"
    }
   },
   "outputs": [
    {
     "data": {
      "text/html": [
       "<div>\n",
       "<style scoped>\n",
       "    .dataframe tbody tr th:only-of-type {\n",
       "        vertical-align: middle;\n",
       "    }\n",
       "\n",
       "    .dataframe tbody tr th {\n",
       "        vertical-align: top;\n",
       "    }\n",
       "\n",
       "    .dataframe thead th {\n",
       "        text-align: right;\n",
       "    }\n",
       "</style>\n",
       "<table border=\"1\" class=\"dataframe\">\n",
       "  <thead>\n",
       "    <tr style=\"text-align: right;\">\n",
       "      <th></th>\n",
       "      <th>school_state</th>\n",
       "      <th>teacher_prefix</th>\n",
       "      <th>project_grade_category</th>\n",
       "      <th>teacher_number_of_previously_posted_projects</th>\n",
       "      <th>project_is_approved</th>\n",
       "      <th>clean_categories</th>\n",
       "      <th>clean_subcategories</th>\n",
       "      <th>essay</th>\n",
       "      <th>price</th>\n",
       "    </tr>\n",
       "  </thead>\n",
       "  <tbody>\n",
       "    <tr>\n",
       "      <th>0</th>\n",
       "      <td>ca</td>\n",
       "      <td>mrs</td>\n",
       "      <td>grades_prek_2</td>\n",
       "      <td>53</td>\n",
       "      <td>1</td>\n",
       "      <td>math_science</td>\n",
       "      <td>appliedsciences health_lifescience</td>\n",
       "      <td>i fortunate enough use fairy tale stem kits cl...</td>\n",
       "      <td>725.05</td>\n",
       "    </tr>\n",
       "    <tr>\n",
       "      <th>1</th>\n",
       "      <td>ut</td>\n",
       "      <td>ms</td>\n",
       "      <td>grades_3_5</td>\n",
       "      <td>4</td>\n",
       "      <td>1</td>\n",
       "      <td>specialneeds</td>\n",
       "      <td>specialneeds</td>\n",
       "      <td>imagine 8 9 years old you third grade classroo...</td>\n",
       "      <td>213.03</td>\n",
       "    </tr>\n",
       "    <tr>\n",
       "      <th>2</th>\n",
       "      <td>ca</td>\n",
       "      <td>mrs</td>\n",
       "      <td>grades_prek_2</td>\n",
       "      <td>10</td>\n",
       "      <td>1</td>\n",
       "      <td>literacy_language</td>\n",
       "      <td>literacy</td>\n",
       "      <td>having class 24 students comes diverse learner...</td>\n",
       "      <td>329.00</td>\n",
       "    </tr>\n",
       "    <tr>\n",
       "      <th>3</th>\n",
       "      <td>ga</td>\n",
       "      <td>mrs</td>\n",
       "      <td>grades_prek_2</td>\n",
       "      <td>2</td>\n",
       "      <td>1</td>\n",
       "      <td>appliedlearning</td>\n",
       "      <td>earlydevelopment</td>\n",
       "      <td>i recently read article giving students choice...</td>\n",
       "      <td>481.04</td>\n",
       "    </tr>\n",
       "    <tr>\n",
       "      <th>4</th>\n",
       "      <td>wa</td>\n",
       "      <td>mrs</td>\n",
       "      <td>grades_3_5</td>\n",
       "      <td>2</td>\n",
       "      <td>1</td>\n",
       "      <td>literacy_language</td>\n",
       "      <td>literacy</td>\n",
       "      <td>my students crave challenge eat obstacles brea...</td>\n",
       "      <td>17.74</td>\n",
       "    </tr>\n",
       "  </tbody>\n",
       "</table>\n",
       "</div>"
      ],
      "text/plain": [
       "  school_state teacher_prefix project_grade_category  \\\n",
       "0           ca            mrs          grades_prek_2   \n",
       "1           ut             ms             grades_3_5   \n",
       "2           ca            mrs          grades_prek_2   \n",
       "3           ga            mrs          grades_prek_2   \n",
       "4           wa            mrs             grades_3_5   \n",
       "\n",
       "   teacher_number_of_previously_posted_projects  project_is_approved  \\\n",
       "0                                            53                    1   \n",
       "1                                             4                    1   \n",
       "2                                            10                    1   \n",
       "3                                             2                    1   \n",
       "4                                             2                    1   \n",
       "\n",
       "    clean_categories                 clean_subcategories  \\\n",
       "0       math_science  appliedsciences health_lifescience   \n",
       "1       specialneeds                        specialneeds   \n",
       "2  literacy_language                            literacy   \n",
       "3    appliedlearning                    earlydevelopment   \n",
       "4  literacy_language                            literacy   \n",
       "\n",
       "                                               essay   price  \n",
       "0  i fortunate enough use fairy tale stem kits cl...  725.05  \n",
       "1  imagine 8 9 years old you third grade classroo...  213.03  \n",
       "2  having class 24 students comes diverse learner...  329.00  \n",
       "3  i recently read article giving students choice...  481.04  \n",
       "4  my students crave challenge eat obstacles brea...   17.74  "
      ]
     },
     "execution_count": 4,
     "metadata": {},
     "output_type": "execute_result"
    }
   ],
   "source": [
    "df_donors.head()"
   ]
  },
  {
   "cell_type": "markdown",
   "metadata": {},
   "source": [
    "**Create Train test, CV, test sets**"
   ]
  },
  {
   "cell_type": "code",
   "execution_count": 5,
   "metadata": {
    "ExecuteTime": {
     "end_time": "2019-09-12T14:29:16.857112Z",
     "start_time": "2019-09-12T14:29:16.756347Z"
    }
   },
   "outputs": [],
   "source": [
    "from sklearn.model_selection import train_test_split\n",
    "\n",
    "df_X_train_CV, df_X_test, y_train_CV, y_test = train_test_split(\n",
    "    df_donors.drop('project_is_approved', axis=1),\n",
    "    df_donors['project_is_approved'],\n",
    "    test_size=.20)\n",
    "\n",
    "df_X_train, df_X_CV, y_train, y_CV = train_test_split(df_X_train_CV,\n",
    "                                                   y_train_CV,\n",
    "                                                   test_size=0.20)"
   ]
  },
  {
   "cell_type": "code",
   "execution_count": 6,
   "metadata": {
    "ExecuteTime": {
     "end_time": "2019-09-12T14:29:16.867231Z",
     "start_time": "2019-09-12T14:29:16.861067Z"
    },
    "scrolled": true
   },
   "outputs": [
    {
     "data": {
      "text/plain": [
       "Index(['school_state', 'teacher_prefix', 'project_grade_category',\n",
       "       'teacher_number_of_previously_posted_projects', 'project_is_approved',\n",
       "       'clean_categories', 'clean_subcategories', 'essay', 'price'],\n",
       "      dtype='object')"
      ]
     },
     "execution_count": 6,
     "metadata": {},
     "output_type": "execute_result"
    }
   ],
   "source": [
    "df_donors.columns"
   ]
  },
  {
   "cell_type": "markdown",
   "metadata": {},
   "source": [
    "**Features**\n",
    "\n",
    "Our data has these features. We'll process each one of them in some way.\n",
    "\n",
    "    1 essay --> Embedding using pretrained Glove. Trainable = False\n",
    "    2 school_state --> Categorical --> Embedding. Trainable = True\n",
    "    3 grade_category --> Categorical --> Embedding. Trainable = True\n",
    "    4 clean_category --> Categorical --> Embedding. Trainable = True\n",
    "    5 clean_subcategory --> Categorical --> Embedding. Trainable = True\n",
    "    6 teacher_prefix --> Categorical --> Embedding. Trainable = True\n",
    "    7 teacher_number_of_previously_posted_projects --> Numerical feature.\n",
    "    \n",
    "Let's begin with the first and the most important feature - essay."
   ]
  },
  {
   "cell_type": "code",
   "execution_count": 7,
   "metadata": {
    "ExecuteTime": {
     "end_time": "2019-09-12T14:29:16.874761Z",
     "start_time": "2019-09-12T14:29:16.869713Z"
    }
   },
   "outputs": [
    {
     "data": {
      "text/plain": [
       "((69918, 8), (17480, 8), (21850, 8))"
      ]
     },
     "execution_count": 7,
     "metadata": {},
     "output_type": "execute_result"
    }
   ],
   "source": [
    "df_X_train.shape, df_X_CV.shape, df_X_test.shape"
   ]
  },
  {
   "cell_type": "code",
   "execution_count": 8,
   "metadata": {
    "ExecuteTime": {
     "end_time": "2019-09-12T14:29:16.883012Z",
     "start_time": "2019-09-12T14:29:16.878771Z"
    }
   },
   "outputs": [
    {
     "data": {
      "text/plain": [
       "((69918,), (17480,), (21850,))"
      ]
     },
     "execution_count": 8,
     "metadata": {},
     "output_type": "execute_result"
    }
   ],
   "source": [
    "y_train.shape, y_CV.shape, y_test.shape"
   ]
  },
  {
   "cell_type": "markdown",
   "metadata": {},
   "source": [
    "## 1. Essay\n",
    "\n",
    "    step 1. Tokenize the essays\n",
    "    step 2. Pad the tokenized essays so that each one of them has a fixed length\n",
    "    step 3. Load the pretrained GloVe embeddings for words from the 300 dimensional version\n",
    "    step 4. create an embedding matrix, which stores the 300 dim vetor for each word in the vocabulary\n",
    "    step 5. Define the embedding and the LSTM layer "
   ]
  },
  {
   "cell_type": "code",
   "execution_count": 9,
   "metadata": {
    "ExecuteTime": {
     "end_time": "2019-09-12T14:29:28.289798Z",
     "start_time": "2019-09-12T14:29:16.885810Z"
    }
   },
   "outputs": [],
   "source": [
    "t_essays = Tokenizer()\n",
    "t_essays.fit_on_texts(df_X_train.essay.tolist())\n",
    "encoded_docs_train = t_essays.texts_to_sequences(df_X_train.essay.tolist())"
   ]
  },
  {
   "cell_type": "markdown",
   "metadata": {},
   "source": [
    "There are 47189 words in the vocabulary"
   ]
  },
  {
   "cell_type": "code",
   "execution_count": 10,
   "metadata": {
    "ExecuteTime": {
     "end_time": "2019-09-12T14:29:28.296047Z",
     "start_time": "2019-09-12T14:29:28.292136Z"
    }
   },
   "outputs": [
    {
     "name": "stdout",
     "output_type": "stream",
     "text": [
      "47517\n"
     ]
    }
   ],
   "source": [
    "vocab_size_essays = len(t_essays.word_index) + 1\n",
    "print(vocab_size_essays)"
   ]
  },
  {
   "cell_type": "markdown",
   "metadata": {},
   "source": [
    "**obtain the tokenized essay representation for CV and Test sets**"
   ]
  },
  {
   "cell_type": "code",
   "execution_count": 11,
   "metadata": {
    "ExecuteTime": {
     "end_time": "2019-09-12T14:29:30.911565Z",
     "start_time": "2019-09-12T14:29:28.298466Z"
    }
   },
   "outputs": [],
   "source": [
    "encoded_docs_CV = t_essays.texts_to_sequences(df_X_CV.essay.tolist())\n",
    "encoded_docs_test = t_essays.texts_to_sequences(df_X_test.essay.tolist())"
   ]
  },
  {
   "cell_type": "markdown",
   "metadata": {},
   "source": [
    "**Pad the inputs**\n",
    "\n",
    "Instead of padding all the essays (docs) with the same maximum length, let's see how the number of words in essays are distributed."
   ]
  },
  {
   "cell_type": "code",
   "execution_count": 12,
   "metadata": {
    "ExecuteTime": {
     "end_time": "2019-09-12T14:29:33.937079Z",
     "start_time": "2019-09-12T14:29:30.914046Z"
    }
   },
   "outputs": [
    {
     "data": {
      "image/png": "[encoded data removed]",
      "text/plain": [
       "<Figure size 1080x288 with 1 Axes>"
      ]
     },
     "metadata": {
      "needs_background": "light"
     },
     "output_type": "display_data"
    }
   ],
   "source": [
    "df_donors.essay.str.split().apply(len).plot.hist(figsize=(15,4))\n",
    "plt.title('Distribution of number of words in essays', fontsize=16)\n",
    "plt.xlabel('Number of words', fontsize=14)\n",
    "plt.ylabel('Number of Essays', fontsize=14)\n",
    "plt.show()"
   ]
  },
  {
   "cell_type": "markdown",
   "metadata": {},
   "source": [
    "**The 95th percentile of #words in essays is 231**. Which means most of the essays have much lower word count than the essay with maximum word count(339) in the dataset. If we pad the lengths to `339`, most of the other essays would have redundant 0 inputs. Instead, let's keep the max length of essay inputs to 231. Doing this would also improve the training time because fewer parameters would have to be trained."
   ]
  },
  {
   "cell_type": "code",
   "execution_count": 13,
   "metadata": {
    "ExecuteTime": {
     "end_time": "2019-09-12T14:29:38.993050Z",
     "start_time": "2019-09-12T14:29:33.939740Z"
    }
   },
   "outputs": [
    {
     "name": "stdout",
     "output_type": "stream",
     "text": [
      "95th Percentile word count in Essays: 231.0\n",
      "Maximum word count in essays: 339\n"
     ]
    }
   ],
   "source": [
    "pctile_95_wc = df_donors.essay.str.split().apply(len).quantile(.95)\n",
    "max_wc = df_donors.essay.str.split().apply(len).max()\n",
    "\n",
    "print('95th Percentile word count in Essays:', pctile_95_wc)\n",
    "print('Maximum word count in essays:', max_wc)"
   ]
  },
  {
   "cell_type": "code",
   "execution_count": 14,
   "metadata": {
    "ExecuteTime": {
     "end_time": "2019-09-12T14:29:40.416103Z",
     "start_time": "2019-09-12T14:29:38.996081Z"
    }
   },
   "outputs": [],
   "source": [
    "padded_docs_train = pad_sequences(encoded_docs_train,\n",
    "                                  maxlen=int(pctile_95_wc),\n",
    "                                  padding='post',\n",
    "                                  truncating='post')\n",
    "padded_docs_CV = pad_sequences(encoded_docs_CV,\n",
    "                               maxlen=int(pctile_95_wc),\n",
    "                               padding='post',\n",
    "                               truncating='post')\n",
    "padded_docs_test = pad_sequences(encoded_docs_test,\n",
    "                                 maxlen=int(pctile_95_wc),\n",
    "                                 padding='post',\n",
    "                                 truncating='post')"
   ]
  },
  {
   "cell_type": "markdown",
   "metadata": {},
   "source": [
    "As expected, the each essay in each of the sets has an input length of 231."
   ]
  },
  {
   "cell_type": "code",
   "execution_count": 15,
   "metadata": {
    "ExecuteTime": {
     "end_time": "2019-09-12T14:29:40.423580Z",
     "start_time": "2019-09-12T14:29:40.418710Z"
    }
   },
   "outputs": [
    {
     "data": {
      "text/plain": [
       "((69918, 231), (17480, 231), (21850, 231))"
      ]
     },
     "execution_count": 15,
     "metadata": {},
     "output_type": "execute_result"
    }
   ],
   "source": [
    "padded_docs_train.shape ,padded_docs_CV.shape, padded_docs_test.shape"
   ]
  },
  {
   "cell_type": "markdown",
   "metadata": {},
   "source": [
    "**Load pretrained Glove embedding for essays**"
   ]
  },
  {
   "cell_type": "code",
   "execution_count": 16,
   "metadata": {
    "ExecuteTime": {
     "end_time": "2019-09-12T14:29:40.429438Z",
     "start_time": "2019-09-12T14:29:40.426418Z"
    }
   },
   "outputs": [],
   "source": [
    "# load the whole embedding into memory\n",
    "embeddings_index = dict()\n",
    "errors = 0\n",
    "\n",
    "f = open('glove.840B.300d.txt')\n",
    "for line in f:\n",
    "    try:\n",
    "        values = line.split()\n",
    "        word = values[0]\n",
    "        coefs = asarray(values[1:], dtype='float32')\n",
    "        embeddings_index[word] = coefs\n",
    "    except:\n",
    "        errors += 1\n",
    "        print(errors, end='\\r')\n",
    "        continue\n",
    "    \n",
    "f.close()\n",
    "\n",
    "print('Loaded %s word vectors.' % len(embeddings_index))"
   ]
  },
  {
   "cell_type": "code",
   "execution_count": 17,
   "metadata": {
    "ExecuteTime": {
     "end_time": "2019-09-12T14:30:09.323027Z",
     "start_time": "2019-09-12T14:29:40.432446Z"
    }
   },
   "outputs": [],
   "source": [
    "# f = open('embeddings_index.pkl', 'rb')\n",
    "# embeddings_index = pickle.load(f)\n",
    "# f.close()"
   ]
  },
  {
   "cell_type": "code",
   "execution_count": 18,
   "metadata": {
    "ExecuteTime": {
     "end_time": "2019-09-12T14:30:09.330490Z",
     "start_time": "2019-09-12T14:30:09.325643Z"
    }
   },
   "outputs": [
    {
     "data": {
      "text/plain": [
       "2195884"
      ]
     },
     "execution_count": 18,
     "metadata": {},
     "output_type": "execute_result"
    }
   ],
   "source": [
    "len(embeddings_index)"
   ]
  },
  {
   "cell_type": "code",
   "execution_count": 19,
   "metadata": {
    "ExecuteTime": {
     "end_time": "2019-09-12T14:30:09.337381Z",
     "start_time": "2019-09-12T14:30:09.333271Z"
    }
   },
   "outputs": [
    {
     "data": {
      "text/plain": [
       "dict"
      ]
     },
     "execution_count": 19,
     "metadata": {},
     "output_type": "execute_result"
    }
   ],
   "source": [
    "type(embeddings_index)"
   ]
  },
  {
   "cell_type": "markdown",
   "metadata": {},
   "source": [
    "Save the embedding_index to the disk for fast retrieval"
   ]
  },
  {
   "cell_type": "code",
   "execution_count": 20,
   "metadata": {
    "ExecuteTime": {
     "end_time": "2019-09-12T14:30:09.342509Z",
     "start_time": "2019-09-12T14:30:09.340077Z"
    }
   },
   "outputs": [],
   "source": [
    "import pickle\n",
    "f = open('embeddings_index.pkl', 'wb')\n",
    "pickle.dump(embeddings_index, f)\n",
    "f.close()"
   ]
  },
  {
   "cell_type": "markdown",
   "metadata": {},
   "source": [
    "**create a weight matrix**\n",
    "\n",
    "Such that for each word in the essay vocabulary along the index, we get a 300 dimensional Glove vector along columns"
   ]
  },
  {
   "cell_type": "code",
   "execution_count": 21,
   "metadata": {
    "ExecuteTime": {
     "end_time": "2019-09-12T14:30:09.497473Z",
     "start_time": "2019-09-12T14:30:09.345242Z"
    }
   },
   "outputs": [],
   "source": [
    "# create a weight matrix for words in training docs\n",
    "embedding_matrix = np.zeros((vocab_size_essays, 300))\n",
    "for word, i in t_essays.word_index.items():\n",
    "    embedding_vector = embeddings_index.get(word)\n",
    "    if embedding_vector is not None:\n",
    "        embedding_matrix[i] = embedding_vector"
   ]
  },
  {
   "cell_type": "code",
   "execution_count": 22,
   "metadata": {
    "ExecuteTime": {
     "end_time": "2019-09-12T14:30:09.504249Z",
     "start_time": "2019-09-12T14:30:09.499881Z"
    },
    "scrolled": true
   },
   "outputs": [
    {
     "data": {
      "text/plain": [
       "(47517, 300)"
      ]
     },
     "execution_count": 22,
     "metadata": {},
     "output_type": "execute_result"
    }
   ],
   "source": [
    "embedding_matrix.shape"
   ]
  },
  {
   "cell_type": "markdown",
   "metadata": {},
   "source": [
    "**Define the embedding layer for essays**"
   ]
  },
  {
   "cell_type": "code",
   "execution_count": 23,
   "metadata": {
    "ExecuteTime": {
     "end_time": "2019-09-12T14:30:36.220607Z",
     "start_time": "2019-09-12T14:30:09.511240Z"
    }
   },
   "outputs": [
    {
     "name": "stderr",
     "output_type": "stream",
     "text": [
      "WARNING: Logging before flag parsing goes to stderr.\n",
      "W0912 14:30:09.515259 140176581261056 deprecation_wrapper.py:119] From /usr/local/lib/python3.5/dist-packages/keras/backend/tensorflow_backend.py:74: The name tf.get_default_graph is deprecated. Please use tf.compat.v1.get_default_graph instead.\n",
      "\n",
      "W0912 14:30:09.738810 140176581261056 deprecation_wrapper.py:119] From /usr/local/lib/python3.5/dist-packages/keras/backend/tensorflow_backend.py:517: The name tf.placeholder is deprecated. Please use tf.compat.v1.placeholder instead.\n",
      "\n",
      "W0912 14:30:09.810947 140176581261056 deprecation_wrapper.py:119] From /usr/local/lib/python3.5/dist-packages/keras/backend/tensorflow_backend.py:4138: The name tf.random_uniform is deprecated. Please use tf.random.uniform instead.\n",
      "\n",
      "W0912 14:30:09.839965 140176581261056 deprecation_wrapper.py:119] From /usr/local/lib/python3.5/dist-packages/keras/backend/tensorflow_backend.py:174: The name tf.get_default_session is deprecated. Please use tf.compat.v1.get_default_session instead.\n",
      "\n",
      "W0912 14:30:09.840799 140176581261056 deprecation_wrapper.py:119] From /usr/local/lib/python3.5/dist-packages/keras/backend/tensorflow_backend.py:181: The name tf.ConfigProto is deprecated. Please use tf.compat.v1.ConfigProto instead.\n",
      "\n",
      "W0912 14:30:36.027189 140176581261056 deprecation.py:506] From /usr/local/lib/python3.5/dist-packages/keras/backend/tensorflow_backend.py:3445: calling dropout (from tensorflow.python.ops.nn_ops) with keep_prob is deprecated and will be removed in a future version.\n",
      "Instructions for updating:\n",
      "Please use `rate` instead of `keep_prob`. Rate should be set to `rate = 1 - keep_prob`.\n"
     ]
    }
   ],
   "source": [
    "essay_input = Input(shape=(padded_docs_train.shape[1],))\n",
    "\n",
    "e = Embedding(vocab_size_essays,\n",
    "              300,\n",
    "              weights=[embedding_matrix],\n",
    "              input_length=padded_docs_train.shape[1],\n",
    "              trainable=False,\n",
    "              batch_size=64)(essay_input)\n",
    "\n",
    "lstm_out_essay = LSTM(units=128,\n",
    "                      recurrent_dropout=0.3, kernel_regularizer=regularizers.l2(0.001),\n",
    "                      input_shape=(padded_docs_train.shape[1], 300),\n",
    "                      return_sequences=True)(e)\n",
    "\n",
    "lstm_out_flattened = Flatten()(lstm_out_essay)"
   ]
  },
  {
   "cell_type": "markdown",
   "metadata": {},
   "source": [
    "## 2. School state\n",
    "\n",
    "This is a categorical variable and needs to be converted into tokens"
   ]
  },
  {
   "cell_type": "code",
   "execution_count": 24,
   "metadata": {
    "ExecuteTime": {
     "end_time": "2019-09-12T14:30:38.033490Z",
     "start_time": "2019-09-12T14:30:36.224471Z"
    }
   },
   "outputs": [],
   "source": [
    "t_school_state = Tokenizer()\n",
    "t_school_state.fit_on_texts(df_X_train.school_state.tolist())\n",
    "\n",
    "vocab_size_school_state = len(t_school_state.word_index) + 1\n",
    "\n",
    "encoded_school_states_train = t_school_state.texts_to_sequences(df_X_train.school_state)\n",
    "encoded_school_states_CV = t_school_state.texts_to_sequences(df_X_CV.school_state)\n",
    "encoded_school_states_test = t_school_state.texts_to_sequences(df_X_test.school_state)\n",
    "\n",
    "# Convert the above lists to numPy arrays and assign them to \"padded\" arrays so that it doesn't break the \n",
    "# following code\n",
    "\n",
    "padded_school_states_train = np.array(encoded_school_states_train)\n",
    "padded_school_states_CV = np.array(encoded_school_states_CV)\n",
    "padded_school_states_test = np.array(encoded_school_states_test)"
   ]
  },
  {
   "cell_type": "code",
   "execution_count": 25,
   "metadata": {
    "ExecuteTime": {
     "end_time": "2019-09-12T14:30:38.072027Z",
     "start_time": "2019-09-12T14:30:38.035679Z"
    }
   },
   "outputs": [
    {
     "data": {
      "text/plain": [
       "((69918, 1), (17480, 1), (21850, 1))"
      ]
     },
     "execution_count": 25,
     "metadata": {},
     "output_type": "execute_result"
    }
   ],
   "source": [
    "np.array(encoded_school_states_train).shape, np.array(encoded_school_states_CV).shape, np.array(encoded_school_states_test).shape"
   ]
  },
  {
   "cell_type": "code",
   "execution_count": 26,
   "metadata": {
    "ExecuteTime": {
     "end_time": "2019-09-12T14:30:38.079194Z",
     "start_time": "2019-09-12T14:30:38.074902Z"
    }
   },
   "outputs": [
    {
     "data": {
      "text/plain": [
       "((69918, 1), (17480, 1), (21850, 1))"
      ]
     },
     "execution_count": 26,
     "metadata": {},
     "output_type": "execute_result"
    }
   ],
   "source": [
    "padded_school_states_train.shape, padded_school_states_CV.shape, padded_school_states_test.shape"
   ]
  },
  {
   "cell_type": "code",
   "execution_count": 27,
   "metadata": {
    "ExecuteTime": {
     "end_time": "2019-09-12T14:30:38.085680Z",
     "start_time": "2019-09-12T14:30:38.081755Z"
    }
   },
   "outputs": [
    {
     "data": {
      "text/plain": [
       "52"
      ]
     },
     "execution_count": 27,
     "metadata": {},
     "output_type": "execute_result"
    }
   ],
   "source": [
    "vocab_size_school_state"
   ]
  },
  {
   "cell_type": "markdown",
   "metadata": {},
   "source": [
    "**Define the input and embedding for the school_states variable**"
   ]
  },
  {
   "cell_type": "code",
   "execution_count": 28,
   "metadata": {
    "ExecuteTime": {
     "end_time": "2019-09-12T14:30:38.110365Z",
     "start_time": "2019-09-12T14:30:38.088055Z"
    }
   },
   "outputs": [],
   "source": [
    "input_layer_school_state = Input(shape=(1, ))\n",
    "embedding_school_state = Embedding(vocab_size_school_state,\n",
    "                                   8,\n",
    "                                   input_length=1,\n",
    "                                   trainable=True)(input_layer_school_state)\n",
    "flatten_school_state_out = Flatten()(embedding_school_state)"
   ]
  },
  {
   "cell_type": "markdown",
   "metadata": {},
   "source": [
    "## 3. project_grade_category\n",
    "\n",
    "**Categorical variable to be converted into tokens**"
   ]
  },
  {
   "cell_type": "code",
   "execution_count": 29,
   "metadata": {
    "ExecuteTime": {
     "end_time": "2019-09-12T14:30:38.122421Z",
     "start_time": "2019-09-12T14:30:38.112166Z"
    }
   },
   "outputs": [
    {
     "data": {
      "text/plain": [
       "array(['grades_prek_2', 'grades_3_5', 'grades_9_12', 'grades_6_8'],\n",
       "      dtype=object)"
      ]
     },
     "execution_count": 29,
     "metadata": {},
     "output_type": "execute_result"
    }
   ],
   "source": [
    "df_donors.project_grade_category.unique()"
   ]
  },
  {
   "cell_type": "code",
   "execution_count": 30,
   "metadata": {
    "ExecuteTime": {
     "end_time": "2019-09-12T14:30:39.065382Z",
     "start_time": "2019-09-12T14:30:38.124666Z"
    }
   },
   "outputs": [],
   "source": [
    "t_project_grade_cat = Tokenizer(filters='')\n",
    "t_project_grade_cat.fit_on_texts(df_X_train.project_grade_category.tolist())\n",
    "\n",
    "vocab_size_project_grade_cat = len(t_project_grade_cat.word_index) + 1\n",
    "\n",
    "encoded_project_grade_cats_train = t_project_grade_cat.texts_to_sequences(df_X_train.project_grade_category)\n",
    "encoded_project_grade_cats_CV = t_project_grade_cat.texts_to_sequences(df_X_CV.project_grade_category)\n",
    "encoded_project_grade_cats_test = t_project_grade_cat.texts_to_sequences(df_X_test.project_grade_category)\n",
    "\n",
    "padded_project_grade_cats_train = np.array(encoded_project_grade_cats_train)\n",
    "padded_project_grade_cats_CV = np.array(encoded_project_grade_cats_CV)\n",
    "padded_project_grade_cats_test = np.array(encoded_project_grade_cats_test)"
   ]
  },
  {
   "cell_type": "code",
   "execution_count": 31,
   "metadata": {
    "ExecuteTime": {
     "end_time": "2019-09-12T14:30:39.072122Z",
     "start_time": "2019-09-12T14:30:39.067734Z"
    }
   },
   "outputs": [
    {
     "data": {
      "text/plain": [
       "OrderedDict([('grades_3_5', 23882),\n",
       "             ('grades_prek_2', 28291),\n",
       "             ('grades_9_12', 6901),\n",
       "             ('grades_6_8', 10844)])"
      ]
     },
     "execution_count": 31,
     "metadata": {},
     "output_type": "execute_result"
    }
   ],
   "source": [
    "t_project_grade_cat.word_counts"
   ]
  },
  {
   "cell_type": "code",
   "execution_count": 32,
   "metadata": {
    "ExecuteTime": {
     "end_time": "2019-09-12T14:30:39.078893Z",
     "start_time": "2019-09-12T14:30:39.074532Z"
    }
   },
   "outputs": [
    {
     "data": {
      "text/plain": [
       "((69918, 1), (17480, 1), (21850, 1))"
      ]
     },
     "execution_count": 32,
     "metadata": {},
     "output_type": "execute_result"
    }
   ],
   "source": [
    "padded_project_grade_cats_train.shape, padded_project_grade_cats_CV.shape, padded_project_grade_cats_test.shape"
   ]
  },
  {
   "cell_type": "code",
   "execution_count": 33,
   "metadata": {
    "ExecuteTime": {
     "end_time": "2019-09-12T14:30:39.086946Z",
     "start_time": "2019-09-12T14:30:39.081170Z"
    }
   },
   "outputs": [
    {
     "data": {
      "text/plain": [
       "([[2], [1], [1], [1], [4], [2], [1], [2], [1], [1]],\n",
       " array(['grades_3_5', 'grades_prek_2', 'grades_prek_2', 'grades_prek_2',\n",
       "        'grades_9_12', 'grades_3_5', 'grades_prek_2', 'grades_3_5',\n",
       "        'grades_prek_2', 'grades_prek_2'], dtype=object))"
      ]
     },
     "execution_count": 33,
     "metadata": {},
     "output_type": "execute_result"
    }
   ],
   "source": [
    "encoded_project_grade_cats_train[:10], df_X_train.project_grade_category.head(10).values"
   ]
  },
  {
   "cell_type": "markdown",
   "metadata": {},
   "source": [
    "**Define the input and the embedding for project_grade_category**"
   ]
  },
  {
   "cell_type": "code",
   "execution_count": 34,
   "metadata": {
    "ExecuteTime": {
     "end_time": "2019-09-12T14:30:39.092984Z",
     "start_time": "2019-09-12T14:30:39.089307Z"
    }
   },
   "outputs": [
    {
     "data": {
      "text/plain": [
       "5"
      ]
     },
     "execution_count": 34,
     "metadata": {},
     "output_type": "execute_result"
    }
   ],
   "source": [
    "vocab_size_project_grade_cat"
   ]
  },
  {
   "cell_type": "code",
   "execution_count": 35,
   "metadata": {
    "ExecuteTime": {
     "end_time": "2019-09-12T14:30:39.119628Z",
     "start_time": "2019-09-12T14:30:39.095344Z"
    }
   },
   "outputs": [],
   "source": [
    "input_layer_project_grade_cat = Input(shape=(1, ))\n",
    "embedding_project_grade_cat = Embedding(\n",
    "    vocab_size_project_grade_cat, 4,\n",
    "    input_length=1)(input_layer_project_grade_cat)\n",
    "flatten_project_grade_cat_out = Flatten()(embedding_project_grade_cat)"
   ]
  },
  {
   "cell_type": "markdown",
   "metadata": {},
   "source": [
    "## 4. Clean categories"
   ]
  },
  {
   "cell_type": "code",
   "execution_count": 36,
   "metadata": {
    "ExecuteTime": {
     "end_time": "2019-09-12T14:30:39.132825Z",
     "start_time": "2019-09-12T14:30:39.121718Z"
    }
   },
   "outputs": [
    {
     "data": {
      "text/plain": [
       "51"
      ]
     },
     "execution_count": 36,
     "metadata": {},
     "output_type": "execute_result"
    }
   ],
   "source": [
    "df_donors.clean_categories.nunique()"
   ]
  },
  {
   "cell_type": "code",
   "execution_count": 37,
   "metadata": {
    "ExecuteTime": {
     "end_time": "2019-09-12T14:30:39.140410Z",
     "start_time": "2019-09-12T14:30:39.135146Z"
    }
   },
   "outputs": [
    {
     "data": {
      "text/plain": [
       "0         math_science\n",
       "1         specialneeds\n",
       "2    literacy_language\n",
       "3      appliedlearning\n",
       "4    literacy_language\n",
       "Name: clean_categories, dtype: object"
      ]
     },
     "execution_count": 37,
     "metadata": {},
     "output_type": "execute_result"
    }
   ],
   "source": [
    "df_donors.clean_categories.head()"
   ]
  },
  {
   "cell_type": "code",
   "execution_count": 38,
   "metadata": {
    "ExecuteTime": {
     "end_time": "2019-09-12T14:30:41.762543Z",
     "start_time": "2019-09-12T14:30:39.142503Z"
    }
   },
   "outputs": [],
   "source": [
    "t_clean_category = Tokenizer()\n",
    "t_clean_category.fit_on_texts(df_X_train.clean_categories.tolist())\n",
    "\n",
    "vocab_size_clean_category = len(t_clean_category.word_index) + 1\n",
    "\n",
    "encoded_clean_category_train = t_clean_category.texts_to_sequences(df_X_train.clean_categories)\n",
    "encoded_clean_category_CV = t_clean_category.texts_to_sequences(df_X_CV.clean_categories)\n",
    "encoded_clean_category_test = t_clean_category.texts_to_sequences(df_X_test.clean_categories)\n",
    "\n",
    "max_length_clean_category = df_donors.clean_categories.str.split(' ').apply(\n",
    "    len).max()\n",
    "\n",
    "padded_clean_category_train = pad_sequences(encoded_clean_category_train,\n",
    "                                           maxlen=max_length_clean_category,\n",
    "                                           padding='post')\n",
    "padded_clean_category_CV = pad_sequences(encoded_clean_category_CV,\n",
    "                                           maxlen=max_length_clean_category,\n",
    "                                           padding='post')\n",
    "padded_clean_category_test = pad_sequences(encoded_clean_category_test,\n",
    "                                           maxlen=max_length_clean_category,\n",
    "                                           padding='post')"
   ]
  },
  {
   "cell_type": "code",
   "execution_count": 39,
   "metadata": {
    "ExecuteTime": {
     "end_time": "2019-09-12T14:30:41.769424Z",
     "start_time": "2019-09-12T14:30:41.764879Z"
    }
   },
   "outputs": [
    {
     "data": {
      "text/plain": [
       "((69918, 3), (17480, 3), (21850, 3))"
      ]
     },
     "execution_count": 39,
     "metadata": {},
     "output_type": "execute_result"
    }
   ],
   "source": [
    "padded_clean_category_train.shape, padded_clean_category_CV.shape, padded_clean_category_test.shape"
   ]
  },
  {
   "cell_type": "markdown",
   "metadata": {},
   "source": [
    "**Define the input and the embedding for clean_category**"
   ]
  },
  {
   "cell_type": "code",
   "execution_count": 40,
   "metadata": {
    "ExecuteTime": {
     "end_time": "2019-09-12T14:30:41.792860Z",
     "start_time": "2019-09-12T14:30:41.771977Z"
    }
   },
   "outputs": [],
   "source": [
    "input_layer_clean_category = Input(shape=(3,))\n",
    "embedding_clean_category = Embedding(vocab_size_clean_category, 8, input_length=3)(input_layer_clean_category)\n",
    "flatten_clean_category = Flatten()(embedding_clean_category)"
   ]
  },
  {
   "cell_type": "markdown",
   "metadata": {},
   "source": [
    "## 5. Clean subcategories"
   ]
  },
  {
   "cell_type": "code",
   "execution_count": 41,
   "metadata": {
    "ExecuteTime": {
     "end_time": "2019-09-12T14:30:41.806334Z",
     "start_time": "2019-09-12T14:30:41.794801Z"
    }
   },
   "outputs": [
    {
     "data": {
      "text/plain": [
       "401"
      ]
     },
     "execution_count": 41,
     "metadata": {},
     "output_type": "execute_result"
    }
   ],
   "source": [
    "df_donors.clean_subcategories.nunique()"
   ]
  },
  {
   "cell_type": "code",
   "execution_count": 42,
   "metadata": {
    "ExecuteTime": {
     "end_time": "2019-09-12T14:30:41.814077Z",
     "start_time": "2019-09-12T14:30:41.808765Z"
    }
   },
   "outputs": [
    {
     "data": {
      "text/plain": [
       "0    appliedsciences health_lifescience\n",
       "1                          specialneeds\n",
       "2                              literacy\n",
       "3                      earlydevelopment\n",
       "4                              literacy\n",
       "Name: clean_subcategories, dtype: object"
      ]
     },
     "execution_count": 42,
     "metadata": {},
     "output_type": "execute_result"
    }
   ],
   "source": [
    "df_donors.clean_subcategories.head()"
   ]
  },
  {
   "cell_type": "code",
   "execution_count": 43,
   "metadata": {
    "ExecuteTime": {
     "end_time": "2019-09-12T14:30:44.372579Z",
     "start_time": "2019-09-12T14:30:41.816634Z"
    }
   },
   "outputs": [],
   "source": [
    "t_clean_subcategory = Tokenizer()\n",
    "t_clean_subcategory.fit_on_texts(df_X_train.clean_subcategories.tolist())\n",
    "\n",
    "vocab_size_clean_subcategory = len(t_clean_subcategory.word_index) + 1\n",
    "\n",
    "encoded_clean_subcategory_train = t_clean_subcategory.texts_to_sequences(df_X_train.clean_subcategories)\n",
    "encoded_clean_subcategory_CV = t_clean_subcategory.texts_to_sequences(df_X_CV.clean_subcategories)\n",
    "encoded_clean_subcategory_test = t_clean_subcategory.texts_to_sequences(df_X_test.clean_subcategories)\n",
    "\n",
    "max_length_clean_subcategory = df_donors.clean_subcategories.str.split(' ').apply(\n",
    "    len).max()\n",
    "\n",
    "padded_clean_subcategory_train = pad_sequences(encoded_clean_subcategory_train,\n",
    "                                           maxlen=max_length_clean_subcategory,\n",
    "                                           padding='post')\n",
    "padded_clean_subcategory_CV = pad_sequences(encoded_clean_subcategory_CV,\n",
    "                                           maxlen=max_length_clean_subcategory,\n",
    "                                           padding='post')\n",
    "padded_clean_subcategory_test = pad_sequences(encoded_clean_subcategory_test,\n",
    "                                           maxlen=max_length_clean_subcategory,\n",
    "                                           padding='post')"
   ]
  },
  {
   "cell_type": "code",
   "execution_count": 44,
   "metadata": {
    "ExecuteTime": {
     "end_time": "2019-09-12T14:30:44.379751Z",
     "start_time": "2019-09-12T14:30:44.374905Z"
    }
   },
   "outputs": [
    {
     "data": {
      "text/plain": [
       "((69918, 3), (17480, 3), (21850, 3))"
      ]
     },
     "execution_count": 44,
     "metadata": {},
     "output_type": "execute_result"
    }
   ],
   "source": [
    "padded_clean_subcategory_train.shape, padded_clean_subcategory_CV.shape, padded_clean_subcategory_test.shape"
   ]
  },
  {
   "cell_type": "markdown",
   "metadata": {},
   "source": [
    "**Define the input and the embedding for clean_subcategories**"
   ]
  },
  {
   "cell_type": "code",
   "execution_count": 45,
   "metadata": {
    "ExecuteTime": {
     "end_time": "2019-09-12T14:30:44.404991Z",
     "start_time": "2019-09-12T14:30:44.382157Z"
    }
   },
   "outputs": [],
   "source": [
    "input_layer_clean_subcategory = Input(shape=(3, ))\n",
    "embedding_clean_subcategory = Embedding(\n",
    "    vocab_size_clean_subcategory, 8,\n",
    "    input_length=3)(input_layer_clean_subcategory)\n",
    "flatten_clean_subcategory = Flatten()(embedding_clean_subcategory)"
   ]
  },
  {
   "cell_type": "markdown",
   "metadata": {},
   "source": [
    "## 6. Teacher Prefix"
   ]
  },
  {
   "cell_type": "code",
   "execution_count": 46,
   "metadata": {
    "ExecuteTime": {
     "end_time": "2019-09-12T14:30:44.415313Z",
     "start_time": "2019-09-12T14:30:44.406796Z"
    },
    "scrolled": true
   },
   "outputs": [
    {
     "data": {
      "text/plain": [
       "5"
      ]
     },
     "execution_count": 46,
     "metadata": {},
     "output_type": "execute_result"
    }
   ],
   "source": [
    "df_donors.teacher_prefix.nunique()"
   ]
  },
  {
   "cell_type": "code",
   "execution_count": 47,
   "metadata": {
    "ExecuteTime": {
     "end_time": "2019-09-12T14:30:44.422674Z",
     "start_time": "2019-09-12T14:30:44.417412Z"
    }
   },
   "outputs": [
    {
     "data": {
      "text/plain": [
       "0    mrs\n",
       "1     ms\n",
       "2    mrs\n",
       "3    mrs\n",
       "4    mrs\n",
       "Name: teacher_prefix, dtype: object"
      ]
     },
     "execution_count": 47,
     "metadata": {},
     "output_type": "execute_result"
    }
   ],
   "source": [
    "df_donors.teacher_prefix.head()"
   ]
  },
  {
   "cell_type": "code",
   "execution_count": 48,
   "metadata": {
    "ExecuteTime": {
     "end_time": "2019-09-12T14:30:46.477692Z",
     "start_time": "2019-09-12T14:30:44.425197Z"
    }
   },
   "outputs": [],
   "source": [
    "t_teacher_prefix = Tokenizer()\n",
    "t_teacher_prefix.fit_on_texts(df_X_train.teacher_prefix.tolist())\n",
    "\n",
    "vocab_size_teacher_prefix = len(t_teacher_prefix.word_index) + 1\n",
    "\n",
    "encoded_teacher_prefix_train = t_teacher_prefix.texts_to_sequences(df_X_train.teacher_prefix)\n",
    "encoded_teacher_prefix_CV = t_teacher_prefix.texts_to_sequences(df_X_CV.teacher_prefix)\n",
    "encoded_teacher_prefix_test = t_teacher_prefix.texts_to_sequences(df_X_test.teacher_prefix)\n",
    "\n",
    "max_length_teacher_prefix = df_donors.teacher_prefix.str.split(' ').apply(\n",
    "    len).max()\n",
    "\n",
    "padded_teacher_prefix_train = np.array(encoded_teacher_prefix_train)\n",
    "padded_teacher_prefix_CV = np.array(encoded_teacher_prefix_CV)\n",
    "padded_teacher_prefix_test = np.array(encoded_teacher_prefix_test)"
   ]
  },
  {
   "cell_type": "code",
   "execution_count": 49,
   "metadata": {
    "ExecuteTime": {
     "end_time": "2019-09-12T14:30:46.484492Z",
     "start_time": "2019-09-12T14:30:46.479933Z"
    }
   },
   "outputs": [
    {
     "data": {
      "text/plain": [
       "((69918, 1), (17480, 1), (21850, 1))"
      ]
     },
     "execution_count": 49,
     "metadata": {},
     "output_type": "execute_result"
    }
   ],
   "source": [
    "padded_teacher_prefix_train.shape, padded_teacher_prefix_CV.shape, padded_teacher_prefix_test.shape"
   ]
  },
  {
   "cell_type": "markdown",
   "metadata": {},
   "source": [
    "**Define the input and embedding for teacher_prefix** "
   ]
  },
  {
   "cell_type": "code",
   "execution_count": 50,
   "metadata": {
    "ExecuteTime": {
     "end_time": "2019-09-12T14:30:46.510510Z",
     "start_time": "2019-09-12T14:30:46.486997Z"
    }
   },
   "outputs": [],
   "source": [
    "input_layer_teacher_prefix = Input(shape=(1,))\n",
    "embedding_teacher_prefix = Embedding(vocab_size_teacher_prefix, 8, input_length=1)(input_layer_teacher_prefix)\n",
    "flatten_teacher_prefix = Flatten()(embedding_teacher_prefix)"
   ]
  },
  {
   "cell_type": "markdown",
   "metadata": {},
   "source": [
    "## 7. Other features"
   ]
  },
  {
   "cell_type": "code",
   "execution_count": 51,
   "metadata": {
    "ExecuteTime": {
     "end_time": "2019-09-12T14:30:46.524000Z",
     "start_time": "2019-09-12T14:30:46.512423Z"
    }
   },
   "outputs": [
    {
     "data": {
      "text/html": [
       "<div>\n",
       "<style scoped>\n",
       "    .dataframe tbody tr th:only-of-type {\n",
       "        vertical-align: middle;\n",
       "    }\n",
       "\n",
       "    .dataframe tbody tr th {\n",
       "        vertical-align: top;\n",
       "    }\n",
       "\n",
       "    .dataframe thead th {\n",
       "        text-align: right;\n",
       "    }\n",
       "</style>\n",
       "<table border=\"1\" class=\"dataframe\">\n",
       "  <thead>\n",
       "    <tr style=\"text-align: right;\">\n",
       "      <th></th>\n",
       "      <th>teacher_number_of_previously_posted_projects</th>\n",
       "      <th>price</th>\n",
       "    </tr>\n",
       "  </thead>\n",
       "  <tbody>\n",
       "    <tr>\n",
       "      <th>0</th>\n",
       "      <td>53</td>\n",
       "      <td>725.05</td>\n",
       "    </tr>\n",
       "    <tr>\n",
       "      <th>1</th>\n",
       "      <td>4</td>\n",
       "      <td>213.03</td>\n",
       "    </tr>\n",
       "    <tr>\n",
       "      <th>2</th>\n",
       "      <td>10</td>\n",
       "      <td>329.00</td>\n",
       "    </tr>\n",
       "    <tr>\n",
       "      <th>3</th>\n",
       "      <td>2</td>\n",
       "      <td>481.04</td>\n",
       "    </tr>\n",
       "    <tr>\n",
       "      <th>4</th>\n",
       "      <td>2</td>\n",
       "      <td>17.74</td>\n",
       "    </tr>\n",
       "  </tbody>\n",
       "</table>\n",
       "</div>"
      ],
      "text/plain": [
       "   teacher_number_of_previously_posted_projects   price\n",
       "0                                            53  725.05\n",
       "1                                             4  213.03\n",
       "2                                            10  329.00\n",
       "3                                             2  481.04\n",
       "4                                             2   17.74"
      ]
     },
     "execution_count": 51,
     "metadata": {},
     "output_type": "execute_result"
    }
   ],
   "source": [
    "df_donors[['teacher_number_of_previously_posted_projects', 'price']].head()"
   ]
  },
  {
   "cell_type": "code",
   "execution_count": 52,
   "metadata": {
    "ExecuteTime": {
     "end_time": "2019-09-12T14:30:46.542520Z",
     "start_time": "2019-09-12T14:30:46.526166Z"
    }
   },
   "outputs": [],
   "source": [
    "input_layer_pp_price = Input(shape=(2,))\n",
    "out_other_features = Dense(2)(input_layer_pp_price)"
   ]
  },
  {
   "cell_type": "code",
   "execution_count": 53,
   "metadata": {
    "ExecuteTime": {
     "end_time": "2019-09-12T14:30:46.548433Z",
     "start_time": "2019-09-12T14:30:46.544431Z"
    }
   },
   "outputs": [
    {
     "data": {
      "text/plain": [
       "tensorflow.python.framework.ops.Tensor"
      ]
     },
     "execution_count": 53,
     "metadata": {},
     "output_type": "execute_result"
    }
   ],
   "source": [
    "type(out_other_features)"
   ]
  },
  {
   "cell_type": "markdown",
   "metadata": {},
   "source": [
    "**Get input data arrays for other features**"
   ]
  },
  {
   "cell_type": "code",
   "execution_count": 54,
   "metadata": {
    "ExecuteTime": {
     "end_time": "2019-09-12T14:30:46.561157Z",
     "start_time": "2019-09-12T14:30:46.550882Z"
    }
   },
   "outputs": [],
   "source": [
    "other_features_train = df_X_train[['teacher_number_of_previously_posted_projects', 'price']].values\n",
    "other_features_CV = df_X_CV[['teacher_number_of_previously_posted_projects', 'price']].values\n",
    "other_features_test = df_X_test[['teacher_number_of_previously_posted_projects', 'price']].values"
   ]
  },
  {
   "cell_type": "markdown",
   "metadata": {},
   "source": [
    "# Model 1"
   ]
  },
  {
   "cell_type": "markdown",
   "metadata": {
    "ExecuteTime": {
     "end_time": "2019-09-12T05:48:44.467986Z",
     "start_time": "2019-09-12T05:48:44.464068Z"
    }
   },
   "source": [
    "<img src='https://i.imgur.com/w395Yk9.png'>"
   ]
  },
  {
   "cell_type": "markdown",
   "metadata": {},
   "source": [
    "**Concatenate the flattened vectors**"
   ]
  },
  {
   "cell_type": "code",
   "execution_count": 55,
   "metadata": {
    "ExecuteTime": {
     "end_time": "2019-09-12T14:30:46.618329Z",
     "start_time": "2019-09-12T14:30:46.563046Z"
    },
    "scrolled": true
   },
   "outputs": [],
   "source": [
    "merged = concatenate([\n",
    "    lstm_out_flattened, flatten_school_state_out,\n",
    "    flatten_project_grade_cat_out, flatten_clean_category,\n",
    "    flatten_clean_subcategory, flatten_teacher_prefix, out_other_features\n",
    "])"
   ]
  },
  {
   "cell_type": "code",
   "execution_count": 56,
   "metadata": {
    "ExecuteTime": {
     "end_time": "2019-09-12T14:30:46.624507Z",
     "start_time": "2019-09-12T14:30:46.620480Z"
    }
   },
   "outputs": [
    {
     "data": {
      "text/plain": [
       "tensorflow.python.framework.ops.Tensor"
      ]
     },
     "execution_count": 56,
     "metadata": {},
     "output_type": "execute_result"
    }
   ],
   "source": [
    "type(merged)"
   ]
  },
  {
   "cell_type": "markdown",
   "metadata": {},
   "source": [
    "**Add the following Dense and Dropout layers**"
   ]
  },
  {
   "cell_type": "code",
   "execution_count": 57,
   "metadata": {
    "ExecuteTime": {
     "end_time": "2019-09-12T14:30:46.732465Z",
     "start_time": "2019-09-12T14:30:46.626844Z"
    }
   },
   "outputs": [
    {
     "name": "stderr",
     "output_type": "stream",
     "text": [
      "W0912 14:30:46.651278 140176581261056 deprecation.py:323] From /usr/local/lib/python3.5/dist-packages/keras/backend/tensorflow_backend.py:3217: add_dispatch_support.<locals>.wrapper (from tensorflow.python.ops.array_ops) is deprecated and will be removed in a future version.\n",
      "Instructions for updating:\n",
      "Use tf.where in 2.0, which has the same broadcast rule as np.where\n"
     ]
    }
   ],
   "source": [
    "x = Dense(128, activation='selu', kernel_regularizer=regularizers.l2(0.001))(merged)\n",
    "x = Dropout(.5)(x)\n",
    "x = Dense(64, activation='selu', kernel_regularizer=regularizers.l2(0.001))(x)\n",
    "x = Dropout(.5)(x)\n",
    "x = Dense(32, activation='selu', kernel_regularizer=regularizers.l2(0.001))(x)\n",
    "\n",
    "main_output = Dense(1, activation='sigmoid', name='main_output')(x)"
   ]
  },
  {
   "cell_type": "markdown",
   "metadata": {},
   "source": [
    "**Create a final model of the whole architecture**"
   ]
  },
  {
   "cell_type": "code",
   "execution_count": 58,
   "metadata": {
    "ExecuteTime": {
     "end_time": "2019-09-12T14:30:46.738702Z",
     "start_time": "2019-09-12T14:30:46.734676Z"
    }
   },
   "outputs": [],
   "source": [
    "final_model = Model(inputs=[\n",
    "    essay_input, input_layer_school_state, input_layer_project_grade_cat,\n",
    "    input_layer_clean_category, input_layer_clean_subcategory,\n",
    "    input_layer_teacher_prefix, input_layer_pp_price\n",
    "],\n",
    "                    outputs=[main_output])"
   ]
  },
  {
   "cell_type": "code",
   "execution_count": 59,
   "metadata": {
    "ExecuteTime": {
     "end_time": "2019-09-12T14:30:46.754619Z",
     "start_time": "2019-09-12T14:30:46.741603Z"
    }
   },
   "outputs": [
    {
     "name": "stdout",
     "output_type": "stream",
     "text": [
      "__________________________________________________________________________________________________\n",
      "Layer (type)                    Output Shape         Param #     Connected to                     \n",
      "==================================================================================================\n",
      "input_1 (InputLayer)            (None, 231)          0                                            \n",
      "__________________________________________________________________________________________________\n",
      "embedding_1 (Embedding)         (None, 231, 300)     14255100    input_1[0][0]                    \n",
      "__________________________________________________________________________________________________\n",
      "input_2 (InputLayer)            (None, 1)            0                                            \n",
      "__________________________________________________________________________________________________\n",
      "input_3 (InputLayer)            (None, 1)            0                                            \n",
      "__________________________________________________________________________________________________\n",
      "input_4 (InputLayer)            (None, 3)            0                                            \n",
      "__________________________________________________________________________________________________\n",
      "input_5 (InputLayer)            (None, 3)            0                                            \n",
      "__________________________________________________________________________________________________\n",
      "input_6 (InputLayer)            (None, 1)            0                                            \n",
      "__________________________________________________________________________________________________\n",
      "lstm_1 (LSTM)                   (None, 231, 128)     219648      embedding_1[0][0]                \n",
      "__________________________________________________________________________________________________\n",
      "embedding_2 (Embedding)         (None, 1, 8)         416         input_2[0][0]                    \n",
      "__________________________________________________________________________________________________\n",
      "embedding_3 (Embedding)         (None, 1, 4)         20          input_3[0][0]                    \n",
      "__________________________________________________________________________________________________\n",
      "embedding_4 (Embedding)         (None, 3, 8)         128         input_4[0][0]                    \n",
      "__________________________________________________________________________________________________\n",
      "embedding_5 (Embedding)         (None, 3, 8)         304         input_5[0][0]                    \n",
      "__________________________________________________________________________________________________\n",
      "embedding_6 (Embedding)         (None, 1, 8)         48          input_6[0][0]                    \n",
      "__________________________________________________________________________________________________\n",
      "input_7 (InputLayer)            (None, 2)            0                                            \n",
      "__________________________________________________________________________________________________\n",
      "flatten_1 (Flatten)             (None, 29568)        0           lstm_1[0][0]                     \n",
      "__________________________________________________________________________________________________\n",
      "flatten_2 (Flatten)             (None, 8)            0           embedding_2[0][0]                \n",
      "__________________________________________________________________________________________________\n",
      "flatten_3 (Flatten)             (None, 4)            0           embedding_3[0][0]                \n",
      "__________________________________________________________________________________________________\n",
      "flatten_4 (Flatten)             (None, 24)           0           embedding_4[0][0]                \n",
      "__________________________________________________________________________________________________\n",
      "flatten_5 (Flatten)             (None, 24)           0           embedding_5[0][0]                \n",
      "__________________________________________________________________________________________________\n",
      "flatten_6 (Flatten)             (None, 8)            0           embedding_6[0][0]                \n",
      "__________________________________________________________________________________________________\n",
      "dense_1 (Dense)                 (None, 2)            6           input_7[0][0]                    \n",
      "__________________________________________________________________________________________________\n",
      "concatenate_1 (Concatenate)     (None, 29638)        0           flatten_1[0][0]                  \n",
      "                                                                 flatten_2[0][0]                  \n",
      "                                                                 flatten_3[0][0]                  \n",
      "                                                                 flatten_4[0][0]                  \n",
      "                                                                 flatten_5[0][0]                  \n",
      "                                                                 flatten_6[0][0]                  \n",
      "                                                                 dense_1[0][0]                    \n",
      "__________________________________________________________________________________________________\n",
      "dense_2 (Dense)                 (None, 128)          3793792     concatenate_1[0][0]              \n",
      "__________________________________________________________________________________________________\n",
      "dropout_1 (Dropout)             (None, 128)          0           dense_2[0][0]                    \n",
      "__________________________________________________________________________________________________\n",
      "dense_3 (Dense)                 (None, 64)           8256        dropout_1[0][0]                  \n",
      "__________________________________________________________________________________________________\n",
      "dropout_2 (Dropout)             (None, 64)           0           dense_3[0][0]                    \n",
      "__________________________________________________________________________________________________\n",
      "dense_4 (Dense)                 (None, 32)           2080        dropout_2[0][0]                  \n",
      "__________________________________________________________________________________________________\n",
      "main_output (Dense)             (None, 1)            33          dense_4[0][0]                    \n",
      "==================================================================================================\n",
      "Total params: 18,279,831\n",
      "Trainable params: 4,024,731\n",
      "Non-trainable params: 14,255,100\n",
      "__________________________________________________________________________________________________\n"
     ]
    }
   ],
   "source": [
    "final_model.summary()"
   ]
  },
  {
   "cell_type": "markdown",
   "metadata": {},
   "source": [
    "**Compile the model**"
   ]
  },
  {
   "cell_type": "code",
   "execution_count": 60,
   "metadata": {
    "ExecuteTime": {
     "end_time": "2019-09-12T14:30:46.805463Z",
     "start_time": "2019-09-12T14:30:46.759767Z"
    },
    "scrolled": true
   },
   "outputs": [
    {
     "name": "stderr",
     "output_type": "stream",
     "text": [
      "W0912 14:30:46.777848 140176581261056 deprecation_wrapper.py:119] From /usr/local/lib/python3.5/dist-packages/keras/optimizers.py:790: The name tf.train.Optimizer is deprecated. Please use tf.compat.v1.train.Optimizer instead.\n",
      "\n"
     ]
    }
   ],
   "source": [
    "adm = adam(lr=0.001, beta_1=0.9, beta_2=0.999, epsilon=None, decay=0.0, amsgrad=False)\n",
    "final_model.compile(optimizer=adm, loss='binary_crossentropy', metrics=['accuracy'])"
   ]
  },
  {
   "cell_type": "code",
   "execution_count": 61,
   "metadata": {
    "ExecuteTime": {
     "end_time": "2019-09-12T14:30:46.812848Z",
     "start_time": "2019-09-12T14:30:46.807593Z"
    }
   },
   "outputs": [
    {
     "data": {
      "text/plain": [
       "((69918, 231), (69918, 1), (69918, 1))"
      ]
     },
     "execution_count": 61,
     "metadata": {},
     "output_type": "execute_result"
    }
   ],
   "source": [
    "padded_docs_train.shape, padded_school_states_train.shape, padded_project_grade_cats_train.shape"
   ]
  },
  {
   "cell_type": "markdown",
   "metadata": {},
   "source": [
    "**Train the model by passing the training data**"
   ]
  },
  {
   "cell_type": "code",
   "execution_count": 62,
   "metadata": {
    "ExecuteTime": {
     "end_time": "2019-09-12T14:30:46.826230Z",
     "start_time": "2019-09-12T14:30:46.815499Z"
    },
    "scrolled": false
   },
   "outputs": [
    {
     "data": {
      "text/plain": [
       "True"
      ]
     },
     "execution_count": 62,
     "metadata": {},
     "output_type": "execute_result"
    }
   ],
   "source": [
    "from tensorflow.test import is_gpu_available\n",
    "is_gpu_available()"
   ]
  },
  {
   "cell_type": "markdown",
   "metadata": {},
   "source": [
    "**standardize the numerical features**"
   ]
  },
  {
   "cell_type": "code",
   "execution_count": 63,
   "metadata": {
    "ExecuteTime": {
     "end_time": "2019-09-12T14:30:46.837335Z",
     "start_time": "2019-09-12T14:30:46.828784Z"
    }
   },
   "outputs": [],
   "source": [
    "def stdscale(X_train, X_CV, X_test):\n",
    "\n",
    "    scaler = StandardScaler().fit(X_train)\n",
    "    return (scaler.transform(X_train), scaler.transform(X_CV),\n",
    "            scaler.transform(X_test))\n",
    "other_features_train, other_features_CV, other_features_test = stdscale(\n",
    "    other_features_train, other_features_CV, other_features_test)"
   ]
  },
  {
   "cell_type": "markdown",
   "metadata": {},
   "source": [
    "**Function to print AUC after each epoch**\n",
    "\n",
    "I've referred to [this](https://gist.github.com/smly/d29d079100f8d81b905e) code on GitHub and modified it slightly to work with my code."
   ]
  },
  {
   "cell_type": "code",
   "execution_count": 64,
   "metadata": {
    "ExecuteTime": {
     "end_time": "2019-09-12T14:30:46.847652Z",
     "start_time": "2019-09-12T14:30:46.839369Z"
    }
   },
   "outputs": [],
   "source": [
    "import logging as l\n",
    "\n",
    "from sklearn.metrics import roc_auc_score\n",
    "from keras.callbacks import Callback\n",
    "\n",
    "\n",
    "class IntervalEvaluation(Callback):\n",
    "    def __init__(self, validation_data=(), interval=10):\n",
    "        super(Callback, self).__init__()\n",
    "\n",
    "        self.interval = interval\n",
    "        self.X_val, self.y_val = validation_data\n",
    "\n",
    "    def on_epoch_end(self, epoch, logs={}):\n",
    "        #if epoch % self.interval == 0:\n",
    "            y_pred = self.model.predict(self.X_val, verbose=0)\n",
    "            score = roc_auc_score(self.y_val, y_pred)\n",
    "            print('**********************','Epoch:', epoch+1, 'AUC: ', score, '*********************')\n",
    "            #logging.info(\"interval evaluation - epoch: {:d} - score: {:.6f}\".format(epoch, score))\n",
    "\n",
    "\n",
    "if __name__ == '__main__':\n",
    "    l.basicConfig(format='%(asctime)s %(message)s', level=l.INFO)\n",
    "    ival = IntervalEvaluation(validation_data=([\n",
    "                    padded_docs_CV, padded_school_states_CV,\n",
    "                    padded_project_grade_cats_CV, padded_clean_category_CV,\n",
    "                    padded_clean_subcategory_CV, padded_teacher_prefix_CV, other_features_CV\n",
    "                ], y_CV), interval=None)"
   ]
  },
  {
   "cell_type": "markdown",
   "metadata": {},
   "source": [
    "**Create a tensorboard object**"
   ]
  },
  {
   "cell_type": "code",
   "execution_count": 65,
   "metadata": {
    "ExecuteTime": {
     "end_time": "2019-09-12T14:30:53.040066Z",
     "start_time": "2019-09-12T14:30:46.849981Z"
    }
   },
   "outputs": [],
   "source": [
    "tb_1 = TensorBoard(log_dir=\"logs/{}\".format(time()))"
   ]
  },
  {
   "cell_type": "code",
   "execution_count": 66,
   "metadata": {
    "ExecuteTime": {
     "end_time": "2019-09-12T14:30:53.045640Z",
     "start_time": "2019-09-12T14:30:53.042412Z"
    }
   },
   "outputs": [],
   "source": [
    "warnings.filterwarnings('ignore')"
   ]
  },
  {
   "cell_type": "markdown",
   "metadata": {},
   "source": [
    "**Finally, we are ready to train the model**"
   ]
  },
  {
   "cell_type": "code",
   "execution_count": 67,
   "metadata": {
    "ExecuteTime": {
     "end_time": "2019-09-12T15:01:14.848156Z",
     "start_time": "2019-09-12T14:30:53.048377Z"
    },
    "scrolled": false
   },
   "outputs": [
    {
     "name": "stdout",
     "output_type": "stream",
     "text": [
      "Train on 69918 samples, validate on 17480 samples\n"
     ]
    },
    {
     "name": "stderr",
     "output_type": "stream",
     "text": [
      "W0912 14:30:55.552245 140176581261056 deprecation_wrapper.py:119] From /usr/local/lib/python3.5/dist-packages/keras/callbacks.py:850: The name tf.summary.merge_all is deprecated. Please use tf.compat.v1.summary.merge_all instead.\n",
      "\n",
      "W0912 14:30:55.553541 140176581261056 deprecation_wrapper.py:119] From /usr/local/lib/python3.5/dist-packages/keras/callbacks.py:853: The name tf.summary.FileWriter is deprecated. Please use tf.compat.v1.summary.FileWriter instead.\n",
      "\n"
     ]
    },
    {
     "name": "stdout",
     "output_type": "stream",
     "text": [
      "Epoch 1/20\n",
      "69918/69918 [==============================] - 33s 467us/step - loss: 1.1415 - acc: 0.8250 - val_loss: 0.8521 - val_acc: 0.8432\n",
      "********************** Epoch: 1 AUC:  0.6995609656464212 *********************\n",
      "Epoch 2/20\n",
      "69918/69918 [==============================] - 29s 414us/step - loss: 0.7663 - acc: 0.8491 - val_loss: 0.7207 - val_acc: 0.8445\n",
      "********************** Epoch: 2 AUC:  0.7163529835206441 *********************\n",
      "Epoch 3/20\n",
      "69918/69918 [==============================] - 29s 415us/step - loss: 0.6499 - acc: 0.8516 - val_loss: 0.6172 - val_acc: 0.8447\n",
      "********************** Epoch: 3 AUC:  0.7321154775426431 *********************\n",
      "Epoch 4/20\n",
      "69918/69918 [==============================] - 29s 416us/step - loss: 0.5882 - acc: 0.8537 - val_loss: 0.5753 - val_acc: 0.8438\n",
      "********************** Epoch: 4 AUC:  0.7372978563884904 *********************\n",
      "Epoch 5/20\n",
      "69918/69918 [==============================] - 29s 415us/step - loss: 0.5496 - acc: 0.8567 - val_loss: 0.5436 - val_acc: 0.8463\n",
      "********************** Epoch: 5 AUC:  0.7409309241989479 *********************\n",
      "Epoch 6/20\n",
      "69918/69918 [==============================] - 29s 416us/step - loss: 0.5196 - acc: 0.8584 - val_loss: 0.5208 - val_acc: 0.8494\n",
      "********************** Epoch: 6 AUC:  0.7464720827355331 *********************\n",
      "Epoch 7/20\n",
      "69918/69918 [==============================] - 29s 419us/step - loss: 0.4951 - acc: 0.8618 - val_loss: 0.5082 - val_acc: 0.8499\n",
      "********************** Epoch: 7 AUC:  0.7489182931810936 *********************\n",
      "Epoch 8/20\n",
      "69918/69918 [==============================] - 29s 417us/step - loss: 0.4782 - acc: 0.8628 - val_loss: 0.4908 - val_acc: 0.8489\n",
      "********************** Epoch: 8 AUC:  0.7510271824685159 *********************\n",
      "Epoch 9/20\n",
      "69918/69918 [==============================] - 29s 418us/step - loss: 0.4622 - acc: 0.8659 - val_loss: 0.4906 - val_acc: 0.8493\n",
      "********************** Epoch: 9 AUC:  0.7415277279611032 *********************\n",
      "Epoch 10/20\n",
      "69918/69918 [==============================] - 29s 414us/step - loss: 0.4510 - acc: 0.8647 - val_loss: 0.4765 - val_acc: 0.8460\n",
      "********************** Epoch: 10 AUC:  0.7489904152717998 *********************\n",
      "Epoch 11/20\n",
      "69918/69918 [==============================] - 29s 419us/step - loss: 0.4412 - acc: 0.8669 - val_loss: 0.4738 - val_acc: 0.8449\n",
      "********************** Epoch: 11 AUC:  0.7477900202255698 *********************\n",
      "Epoch 12/20\n",
      "69918/69918 [==============================] - 29s 412us/step - loss: 0.4345 - acc: 0.8678 - val_loss: 0.4694 - val_acc: 0.8478\n",
      "********************** Epoch: 12 AUC:  0.7501530866411605 *********************\n",
      "Epoch 13/20\n",
      "69918/69918 [==============================] - 29s 415us/step - loss: 0.4262 - acc: 0.8697 - val_loss: 0.4637 - val_acc: 0.8486\n",
      "********************** Epoch: 13 AUC:  0.7485973243464052 *********************\n",
      "Epoch 14/20\n",
      "69918/69918 [==============================] - 29s 415us/step - loss: 0.4223 - acc: 0.8705 - val_loss: 0.4671 - val_acc: 0.8479\n",
      "********************** Epoch: 14 AUC:  0.7478389526542324 *********************\n",
      "Epoch 15/20\n",
      "69918/69918 [==============================] - 29s 416us/step - loss: 0.4145 - acc: 0.8728 - val_loss: 0.4712 - val_acc: 0.8454\n",
      "********************** Epoch: 15 AUC:  0.740321242826399 *********************\n",
      "Epoch 16/20\n",
      "69918/69918 [==============================] - 29s 416us/step - loss: 0.4132 - acc: 0.8731 - val_loss: 0.4655 - val_acc: 0.8467\n",
      "********************** Epoch: 16 AUC:  0.7416743135262234 *********************\n",
      "Epoch 17/20\n",
      "69918/69918 [==============================] - 29s 412us/step - loss: 0.4097 - acc: 0.8728 - val_loss: 0.4668 - val_acc: 0.8471\n",
      "********************** Epoch: 17 AUC:  0.7412759171249801 *********************\n",
      "Epoch 18/20\n",
      "69918/69918 [==============================] - 29s 409us/step - loss: 0.4063 - acc: 0.8740 - val_loss: 0.4727 - val_acc: 0.8477\n",
      "********************** Epoch: 18 AUC:  0.7391473004344014 *********************\n",
      "Epoch 19/20\n",
      "69918/69918 [==============================] - 29s 409us/step - loss: 0.4019 - acc: 0.8767 - val_loss: 0.4715 - val_acc: 0.8418\n",
      "********************** Epoch: 19 AUC:  0.7290685527259684 *********************\n",
      "Epoch 20/20\n",
      "69918/69918 [==============================] - 29s 408us/step - loss: 0.4033 - acc: 0.8763 - val_loss: 0.4639 - val_acc: 0.8447\n",
      "********************** Epoch: 20 AUC:  0.7424761502670174 *********************\n"
     ]
    },
    {
     "data": {
      "text/plain": [
       "<keras.callbacks.History at 0x7f7ce5a3b198>"
      ]
     },
     "execution_count": 67,
     "metadata": {},
     "output_type": "execute_result"
    },
    {
     "data": {
      "application/javascript": [
       "$(document).ready(\n",
       "    function() {\n",
       "        function appendUniqueDiv(){\n",
       "            // append a div with our uuid so we can check that it's already\n",
       "            // been sent and avoid duplicates on page reload\n",
       "            var notifiedDiv = document.createElement(\"div\")\n",
       "            notifiedDiv.id = \"8c57ee72-9860-400d-9f88-956246e39e74\"\n",
       "            element.append(notifiedDiv)\n",
       "        }\n",
       "\n",
       "        // only send notifications if the pageload is complete; this will\n",
       "        // help stop extra notifications when a saved notebook is loaded,\n",
       "        // which during testing gives us state \"interactive\", not \"complete\"\n",
       "        if (document.readyState === 'complete') {\n",
       "            // check for the div that signifies that the notification\n",
       "            // was already sent\n",
       "            if (document.getElementById(\"8c57ee72-9860-400d-9f88-956246e39e74\") === null) {\n",
       "                var notificationPayload = {\"body\": \"Cell execution has finished!\", \"requireInteraction\": false, \"icon\": \"/static/base/images/favicon.ico\"};\n",
       "                if (Notification.permission !== 'denied') {\n",
       "                    if (Notification.permission !== 'granted') { \n",
       "                        Notification.requestPermission(function (permission) {\n",
       "                            if(!('permission' in Notification)) {\n",
       "                                Notification.permission = permission\n",
       "                            }\n",
       "                        })\n",
       "                    }\n",
       "                    if (Notification.permission === 'granted') {\n",
       "                    var notification = new Notification(\"Jupyter Notebook\", notificationPayload)\n",
       "                    appendUniqueDiv()\n",
       "                    notification.onclick = function () {\n",
       "                        window.focus();\n",
       "                        this.close();\n",
       "                        };\n",
       "                    } \n",
       "                }     \n",
       "            }\n",
       "        }\n",
       "    }\n",
       ")\n"
      ],
      "text/plain": [
       "<IPython.core.display.Javascript object>"
      ]
     },
     "metadata": {},
     "output_type": "display_data"
    }
   ],
   "source": [
    "%%notify\n",
    "\n",
    "final_model.fit([\n",
    "    padded_docs_train, padded_school_states_train,\n",
    "    padded_project_grade_cats_train, padded_clean_category_train,\n",
    "    padded_clean_subcategory_train, padded_teacher_prefix_train,\n",
    "    other_features_train\n",
    "], [y_train],\n",
    "                epochs=20,\n",
    "                batch_size=1024,validation_data=([\n",
    "                    padded_docs_CV, padded_school_states_CV,\n",
    "                    padded_project_grade_cats_CV, padded_clean_category_CV,\n",
    "                    padded_clean_subcategory_CV, padded_teacher_prefix_CV, other_features_CV\n",
    "                ], [y_CV]),\n",
    "                 callbacks=[ tb_1, ival])"
   ]
  },
  {
   "cell_type": "markdown",
   "metadata": {},
   "source": [
    "**Model 1: Train loss**"
   ]
  },
  {
   "cell_type": "code",
   "execution_count": 266,
   "metadata": {
    "ExecuteTime": {
     "end_time": "2019-09-12T10:44:57.743897Z",
     "start_time": "2019-09-12T10:44:57.731414Z"
    }
   },
   "outputs": [
    {
     "data": {
      "image/png": "[encoded data removed]",
      "text/plain": [
       "<IPython.core.display.Image object>"
      ]
     },
     "execution_count": 266,
     "metadata": {},
     "output_type": "execute_result"
    }
   ],
   "source": [
    "from IPython.display import Image\n",
    "Image('model_1_training_loss.png')"
   ]
  },
  {
   "cell_type": "markdown",
   "metadata": {},
   "source": [
    "**model 1: Validation loss**"
   ]
  },
  {
   "cell_type": "code",
   "execution_count": 267,
   "metadata": {
    "ExecuteTime": {
     "end_time": "2019-09-12T10:44:57.757575Z",
     "start_time": "2019-09-12T10:44:57.746192Z"
    }
   },
   "outputs": [
    {
     "data": {
      "image/png": "[encoded data removed]",
      "text/plain": [
       "<IPython.core.display.Image object>"
      ]
     },
     "execution_count": 267,
     "metadata": {},
     "output_type": "execute_result"
    }
   ],
   "source": [
    "Image('model_1_validation_loss.png')"
   ]
  },
  {
   "cell_type": "markdown",
   "metadata": {},
   "source": [
    "# Model 2\n",
    "\n",
    "In this model, the architecture of the neural net remains the same, but the words in the Essays are filtered based on their IDF values."
   ]
  },
  {
   "cell_type": "code",
   "execution_count": 48,
   "metadata": {
    "ExecuteTime": {
     "end_time": "2019-09-12T12:27:09.321443Z",
     "start_time": "2019-09-12T12:27:09.316990Z"
    }
   },
   "outputs": [],
   "source": [
    "from sklearn.feature_extraction.text import TfidfVectorizer"
   ]
  },
  {
   "cell_type": "code",
   "execution_count": 49,
   "metadata": {
    "ExecuteTime": {
     "end_time": "2019-09-12T12:27:11.543547Z",
     "start_time": "2019-09-12T12:27:11.537103Z"
    }
   },
   "outputs": [
    {
     "data": {
      "text/plain": [
       "85561     how close achievement gap students not necessa...\n",
       "86620     my fourth grade students innovative creative g...\n",
       "7546      the students room 61 amazing group exceptional...\n",
       "102214    my students awesome despite high poverty low i...\n",
       "48281     the students school arrive various degree educ...\n",
       "Name: essay, dtype: object"
      ]
     },
     "execution_count": 49,
     "metadata": {},
     "output_type": "execute_result"
    }
   ],
   "source": [
    "df_X_train.essay.head()"
   ]
  },
  {
   "cell_type": "markdown",
   "metadata": {},
   "source": [
    "Create a TFIDF object and fit it on the train data"
   ]
  },
  {
   "cell_type": "code",
   "execution_count": 50,
   "metadata": {
    "ExecuteTime": {
     "end_time": "2019-09-12T12:27:21.254865Z",
     "start_time": "2019-09-12T12:27:14.056740Z"
    }
   },
   "outputs": [],
   "source": [
    "tfidf = TfidfVectorizer()\n",
    "tfidf_essay_fit = tfidf.fit_transform(df_X_train.essay)"
   ]
  },
  {
   "cell_type": "code",
   "execution_count": 51,
   "metadata": {
    "ExecuteTime": {
     "end_time": "2019-09-12T12:27:24.680642Z",
     "start_time": "2019-09-12T12:27:24.628176Z"
    }
   },
   "outputs": [
    {
     "data": {
      "text/plain": [
       "((47165,), 47165)"
      ]
     },
     "execution_count": 51,
     "metadata": {},
     "output_type": "execute_result"
    }
   ],
   "source": [
    "tfidf.idf_.shape, len(tfidf.get_feature_names())"
   ]
  },
  {
   "cell_type": "code",
   "execution_count": 272,
   "metadata": {
    "ExecuteTime": {
     "end_time": "2019-09-12T10:45:05.724538Z",
     "start_time": "2019-09-12T10:45:05.361407Z"
    }
   },
   "outputs": [
    {
     "data": {
      "image/png": "[encoded data removed]",
      "text/plain": [
       "<Figure size 1080x360 with 1 Axes>"
      ]
     },
     "metadata": {
      "needs_background": "light"
     },
     "output_type": "display_data"
    }
   ],
   "source": [
    "plt.figure(figsize=(15,5))\n",
    "plt.hist(tfidf.idf_, bins=50)\n",
    "plt.grid()\n",
    "plt.title('Distribution of IDF values', fontsize=16)\n",
    "plt.show()"
   ]
  },
  {
   "cell_type": "markdown",
   "metadata": {},
   "source": [
    "The bottom 5 percentile and the last 5 percentile IDF values"
   ]
  },
  {
   "cell_type": "code",
   "execution_count": 52,
   "metadata": {
    "ExecuteTime": {
     "end_time": "2019-09-12T12:27:29.200330Z",
     "start_time": "2019-09-12T12:27:29.191427Z"
    }
   },
   "outputs": [
    {
     "data": {
      "text/plain": [
       "(6.173678496913165, 11.4619455276077)"
      ]
     },
     "execution_count": 52,
     "metadata": {},
     "output_type": "execute_result"
    }
   ],
   "source": [
    "np.percentile(tfidf.idf_, 5),np.percentile(tfidf.idf_, 95)"
   ]
  },
  {
   "cell_type": "markdown",
   "metadata": {},
   "source": [
    "How the IDF values are distributed across all the words in the training corpus"
   ]
  },
  {
   "cell_type": "code",
   "execution_count": 274,
   "metadata": {
    "ExecuteTime": {
     "end_time": "2019-09-12T10:45:05.984207Z",
     "start_time": "2019-09-12T10:45:05.739500Z"
    }
   },
   "outputs": [
    {
     "data": {
      "image/png": "[encoded data removed]",
      "text/plain": [
       "<Figure size 1080x360 with 1 Axes>"
      ]
     },
     "metadata": {
      "needs_background": "light"
     },
     "output_type": "display_data"
    }
   ],
   "source": [
    "import seaborn as sbn\n",
    "plt.figure(figsize=(15,5))\n",
    "sbn.boxplot(tfidf.idf_)\n",
    "plt.title('Boxplot of IDF values', fontsize=16)\n",
    "plt.show()"
   ]
  },
  {
   "cell_type": "markdown",
   "metadata": {},
   "source": [
    "Create a mapping for words to their IDF values"
   ]
  },
  {
   "cell_type": "code",
   "execution_count": 53,
   "metadata": {
    "ExecuteTime": {
     "end_time": "2019-09-12T12:27:34.839933Z",
     "start_time": "2019-09-12T12:27:34.778684Z"
    }
   },
   "outputs": [],
   "source": [
    "dict_word_to_IDF_mapping = dict(zip(tfidf.get_feature_names(), tfidf.idf_.tolist()))"
   ]
  },
  {
   "cell_type": "markdown",
   "metadata": {},
   "source": [
    "**Function to remove the words with IDF values outside our thresholds (< 5 percentile and >95 percentile)**"
   ]
  },
  {
   "cell_type": "code",
   "execution_count": 54,
   "metadata": {
    "ExecuteTime": {
     "end_time": "2019-09-12T12:27:40.523758Z",
     "start_time": "2019-09-12T12:27:40.517813Z"
    }
   },
   "outputs": [],
   "source": [
    "def remove_extremeIDFwords(x):\n",
    "    lowIDF=6.173678496913165\n",
    "    highIDF=11.4619455276077\n",
    "    \n",
    "    filtered_words = []\n",
    "    for word in x.split():\n",
    "        \n",
    "        try:\n",
    "            idf_value = dict_word_to_IDF_mapping[word]\n",
    "        except:\n",
    "            continue\n",
    "        \n",
    "        if  (idf_value > lowIDF) and (idf_value < highIDF):\n",
    "            filtered_words.append(word)\n",
    "                \n",
    "    return ' '.join(filtered_words)"
   ]
  },
  {
   "cell_type": "markdown",
   "metadata": {},
   "source": [
    "Filter all the datasets on the IDF values using the above function "
   ]
  },
  {
   "cell_type": "code",
   "execution_count": 55,
   "metadata": {
    "ExecuteTime": {
     "end_time": "2019-09-12T12:27:52.518311Z",
     "start_time": "2019-09-12T12:27:47.199266Z"
    }
   },
   "outputs": [],
   "source": [
    "df_X_train['essay_IDF'] = df_X_train.essay.map(remove_extremeIDFwords)\n",
    "df_X_CV['essay_IDF'] = df_X_CV.essay.map(remove_extremeIDFwords)\n",
    "df_X_test['essay_IDF'] = df_X_test.essay.map(remove_extremeIDFwords)"
   ]
  },
  {
   "cell_type": "code",
   "execution_count": 56,
   "metadata": {
    "ExecuteTime": {
     "end_time": "2019-09-12T12:27:56.324437Z",
     "start_time": "2019-09-12T12:27:56.273441Z"
    }
   },
   "outputs": [
    {
     "data": {
      "text/html": [
       "<div>\n",
       "<style scoped>\n",
       "    .dataframe tbody tr th:only-of-type {\n",
       "        vertical-align: middle;\n",
       "    }\n",
       "\n",
       "    .dataframe tbody tr th {\n",
       "        vertical-align: top;\n",
       "    }\n",
       "\n",
       "    .dataframe thead th {\n",
       "        text-align: right;\n",
       "    }\n",
       "</style>\n",
       "<table border=\"1\" class=\"dataframe\">\n",
       "  <thead>\n",
       "    <tr style=\"text-align: right;\">\n",
       "      <th></th>\n",
       "      <th>school_state</th>\n",
       "      <th>teacher_prefix</th>\n",
       "      <th>project_grade_category</th>\n",
       "      <th>teacher_number_of_previously_posted_projects</th>\n",
       "      <th>clean_categories</th>\n",
       "      <th>clean_subcategories</th>\n",
       "      <th>essay</th>\n",
       "      <th>price</th>\n",
       "      <th>essay_IDF</th>\n",
       "    </tr>\n",
       "  </thead>\n",
       "  <tbody>\n",
       "    <tr>\n",
       "      <th>85561</th>\n",
       "      <td>in</td>\n",
       "      <td>mrs</td>\n",
       "      <td>grades_6_8</td>\n",
       "      <td>2</td>\n",
       "      <td>math_science</td>\n",
       "      <td>mathematics</td>\n",
       "      <td>how close achievement gap students not necessa...</td>\n",
       "      <td>15.99</td>\n",
       "      <td>indicate disabled mildly handicapped disturban...</td>\n",
       "    </tr>\n",
       "    <tr>\n",
       "      <th>86620</th>\n",
       "      <td>ca</td>\n",
       "      <td>mrs</td>\n",
       "      <td>grades_3_5</td>\n",
       "      <td>0</td>\n",
       "      <td>health_sports literacy_language</td>\n",
       "      <td>health_wellness literacy</td>\n",
       "      <td>my fourth grade students innovative creative g...</td>\n",
       "      <td>49.99</td>\n",
       "      <td>collaborates beings enormous relies solely lov...</td>\n",
       "    </tr>\n",
       "    <tr>\n",
       "      <th>7546</th>\n",
       "      <td>ca</td>\n",
       "      <td>mr</td>\n",
       "      <td>grades_9_12</td>\n",
       "      <td>1</td>\n",
       "      <td>appliedlearning specialneeds</td>\n",
       "      <td>parentinvolvement specialneeds</td>\n",
       "      <td>the students room 61 amazing group exceptional...</td>\n",
       "      <td>393.98</td>\n",
       "      <td>61 ties ambition 61 embedded exceptionality pr...</td>\n",
       "    </tr>\n",
       "    <tr>\n",
       "      <th>102214</th>\n",
       "      <td>wi</td>\n",
       "      <td>mrs</td>\n",
       "      <td>grades_6_8</td>\n",
       "      <td>15</td>\n",
       "      <td>math_science</td>\n",
       "      <td>appliedsciences</td>\n",
       "      <td>my students awesome despite high poverty low i...</td>\n",
       "      <td>277.93</td>\n",
       "      <td>hey</td>\n",
       "    </tr>\n",
       "    <tr>\n",
       "      <th>48281</th>\n",
       "      <td>mn</td>\n",
       "      <td>mrs</td>\n",
       "      <td>grades_3_5</td>\n",
       "      <td>8</td>\n",
       "      <td>literacy_language</td>\n",
       "      <td>literacy</td>\n",
       "      <td>the students school arrive various degree educ...</td>\n",
       "      <td>132.99</td>\n",
       "      <td>degree orchestra formation</td>\n",
       "    </tr>\n",
       "    <tr>\n",
       "      <th>16814</th>\n",
       "      <td>ca</td>\n",
       "      <td>mrs</td>\n",
       "      <td>grades_prek_2</td>\n",
       "      <td>57</td>\n",
       "      <td>math_science</td>\n",
       "      <td>mathematics</td>\n",
       "      <td>our school diverse student population majority...</td>\n",
       "      <td>138.94</td>\n",
       "      <td>narrative frames rekenreks grouping</td>\n",
       "    </tr>\n",
       "    <tr>\n",
       "      <th>9222</th>\n",
       "      <td>la</td>\n",
       "      <td>mrs</td>\n",
       "      <td>grades_6_8</td>\n",
       "      <td>0</td>\n",
       "      <td>literacy_language history_civics</td>\n",
       "      <td>literature_writing socialsciences</td>\n",
       "      <td>my students academically gifted class students...</td>\n",
       "      <td>1156.47</td>\n",
       "      <td>aptitude iq tailored tap mode stifle mode comp...</td>\n",
       "    </tr>\n",
       "    <tr>\n",
       "      <th>31250</th>\n",
       "      <td>or</td>\n",
       "      <td>mrs</td>\n",
       "      <td>grades_3_5</td>\n",
       "      <td>2</td>\n",
       "      <td>health_sports</td>\n",
       "      <td>health_wellness</td>\n",
       "      <td>third grade special year our students no longe...</td>\n",
       "      <td>284.94</td>\n",
       "      <td>immensely vivacious failures keys jfk intellec...</td>\n",
       "    </tr>\n",
       "    <tr>\n",
       "      <th>38432</th>\n",
       "      <td>ga</td>\n",
       "      <td>mrs</td>\n",
       "      <td>grades_3_5</td>\n",
       "      <td>2</td>\n",
       "      <td>math_science</td>\n",
       "      <td>appliedsciences mathematics</td>\n",
       "      <td>our students live low income neighborhoods in ...</td>\n",
       "      <td>289.99</td>\n",
       "      <td>72 rising permeate minis minis minis prezi ble...</td>\n",
       "    </tr>\n",
       "    <tr>\n",
       "      <th>72235</th>\n",
       "      <td>mi</td>\n",
       "      <td>mrs</td>\n",
       "      <td>grades_3_5</td>\n",
       "      <td>3</td>\n",
       "      <td>literacy_language math_science</td>\n",
       "      <td>literacy mathematics</td>\n",
       "      <td>my students active lot energy they love read l...</td>\n",
       "      <td>159.43</td>\n",
       "      <td>slowly ratio globally timely fashion ratio end...</td>\n",
       "    </tr>\n",
       "    <tr>\n",
       "      <th>101835</th>\n",
       "      <td>fl</td>\n",
       "      <td>ms</td>\n",
       "      <td>grades_prek_2</td>\n",
       "      <td>32</td>\n",
       "      <td>literacy_language</td>\n",
       "      <td>literacy</td>\n",
       "      <td>we five six seven year olds kindergarten first...</td>\n",
       "      <td>105.28</td>\n",
       "      <td>mentors esol shelving tubs tubs cracked tear t...</td>\n",
       "    </tr>\n",
       "    <tr>\n",
       "      <th>24863</th>\n",
       "      <td>co</td>\n",
       "      <td>mrs</td>\n",
       "      <td>grades_6_8</td>\n",
       "      <td>2</td>\n",
       "      <td>math_science</td>\n",
       "      <td>appliedsciences environmentalscience</td>\n",
       "      <td>at vineland unique population students eager l...</td>\n",
       "      <td>53.35</td>\n",
       "      <td>vineland essentials technologies attempting ob...</td>\n",
       "    </tr>\n",
       "    <tr>\n",
       "      <th>3221</th>\n",
       "      <td>ga</td>\n",
       "      <td>mrs</td>\n",
       "      <td>grades_prek_2</td>\n",
       "      <td>2</td>\n",
       "      <td>literacy_language</td>\n",
       "      <td>literacy</td>\n",
       "      <td>my students extremely intelligent intelligent ...</td>\n",
       "      <td>326.00</td>\n",
       "      <td>shopping bin bin</td>\n",
       "    </tr>\n",
       "    <tr>\n",
       "      <th>42668</th>\n",
       "      <td>id</td>\n",
       "      <td>mr</td>\n",
       "      <td>grades_9_12</td>\n",
       "      <td>0</td>\n",
       "      <td>math_science</td>\n",
       "      <td>environmentalscience health_lifescience</td>\n",
       "      <td>our students come blue collar community parent...</td>\n",
       "      <td>619.99</td>\n",
       "      <td>collar endeavors technologies technologies app...</td>\n",
       "    </tr>\n",
       "    <tr>\n",
       "      <th>68276</th>\n",
       "      <td>la</td>\n",
       "      <td>mrs</td>\n",
       "      <td>grades_prek_2</td>\n",
       "      <td>0</td>\n",
       "      <td>literacy_language</td>\n",
       "      <td>literacy</td>\n",
       "      <td>our students school special rural community li...</td>\n",
       "      <td>551.71</td>\n",
       "      <td>farming migrant holidays uniforms christmas gi...</td>\n",
       "    </tr>\n",
       "    <tr>\n",
       "      <th>59327</th>\n",
       "      <td>il</td>\n",
       "      <td>mrs</td>\n",
       "      <td>grades_prek_2</td>\n",
       "      <td>2</td>\n",
       "      <td>literacy_language</td>\n",
       "      <td>literacy literature_writing</td>\n",
       "      <td>wiggle jiggle squiggle jump my first grade stu...</td>\n",
       "      <td>122.03</td>\n",
       "      <td>jiggle squiggle diversely eastern illinois rug...</td>\n",
       "    </tr>\n",
       "    <tr>\n",
       "      <th>42497</th>\n",
       "      <td>ga</td>\n",
       "      <td>ms</td>\n",
       "      <td>grades_prek_2</td>\n",
       "      <td>5</td>\n",
       "      <td>appliedlearning specialneeds</td>\n",
       "      <td>earlydevelopment specialneeds</td>\n",
       "      <td>students today come special challenges comes l...</td>\n",
       "      <td>79.92</td>\n",
       "      <td>medical defects employs reduces muscle tone mu...</td>\n",
       "    </tr>\n",
       "    <tr>\n",
       "      <th>2011</th>\n",
       "      <td>mi</td>\n",
       "      <td>mr</td>\n",
       "      <td>grades_6_8</td>\n",
       "      <td>8</td>\n",
       "      <td>history_civics</td>\n",
       "      <td>history_geography</td>\n",
       "      <td>my students eager learners want explore learn ...</td>\n",
       "      <td>345.83</td>\n",
       "      <td>fired participants ride ricoh 360 panorama 360...</td>\n",
       "    </tr>\n",
       "    <tr>\n",
       "      <th>58238</th>\n",
       "      <td>ia</td>\n",
       "      <td>mrs</td>\n",
       "      <td>grades_6_8</td>\n",
       "      <td>6</td>\n",
       "      <td>music_arts</td>\n",
       "      <td>music</td>\n",
       "      <td>music change world change people bono the stud...</td>\n",
       "      <td>62.58</td>\n",
       "      <td>bono decide directors director doubled enrollm...</td>\n",
       "    </tr>\n",
       "    <tr>\n",
       "      <th>36748</th>\n",
       "      <td>ut</td>\n",
       "      <td>ms</td>\n",
       "      <td>grades_prek_2</td>\n",
       "      <td>1</td>\n",
       "      <td>literacy_language</td>\n",
       "      <td>esl literacy</td>\n",
       "      <td>creating love learning one main goals classroo...</td>\n",
       "      <td>211.38</td>\n",
       "      <td>subtract prison sleep bed abused remove</td>\n",
       "    </tr>\n",
       "    <tr>\n",
       "      <th>39920</th>\n",
       "      <td>ca</td>\n",
       "      <td>ms</td>\n",
       "      <td>grades_prek_2</td>\n",
       "      <td>7</td>\n",
       "      <td>math_science</td>\n",
       "      <td>appliedsciences mathematics</td>\n",
       "      <td>teaching students become problem solvers creat...</td>\n",
       "      <td>1126.55</td>\n",
       "      <td>collaborators lakeshore equip lakeshore fairy ...</td>\n",
       "    </tr>\n",
       "    <tr>\n",
       "      <th>64282</th>\n",
       "      <td>ks</td>\n",
       "      <td>mrs</td>\n",
       "      <td>grades_3_5</td>\n",
       "      <td>0</td>\n",
       "      <td>literacy_language math_science</td>\n",
       "      <td>literature_writing mathematics</td>\n",
       "      <td>your best always enough that class motto consi...</td>\n",
       "      <td>107.06</td>\n",
       "      <td>president image forced wiggly releasing lettin...</td>\n",
       "    </tr>\n",
       "    <tr>\n",
       "      <th>13922</th>\n",
       "      <td>la</td>\n",
       "      <td>mrs</td>\n",
       "      <td>grades_prek_2</td>\n",
       "      <td>3</td>\n",
       "      <td>math_science health_sports</td>\n",
       "      <td>health_lifescience health_wellness</td>\n",
       "      <td>pick box crayons what see you probably notice ...</td>\n",
       "      <td>351.85</td>\n",
       "      <td>probably notice screaming me me subdued colori...</td>\n",
       "    </tr>\n",
       "    <tr>\n",
       "      <th>67896</th>\n",
       "      <td>pa</td>\n",
       "      <td>ms</td>\n",
       "      <td>grades_3_5</td>\n",
       "      <td>4</td>\n",
       "      <td>literacy_language</td>\n",
       "      <td>esl literacy</td>\n",
       "      <td>my students live high poverty neighborhood nor...</td>\n",
       "      <td>46.23</td>\n",
       "      <td>philadelphia philadelphia puerto rico dominica...</td>\n",
       "    </tr>\n",
       "    <tr>\n",
       "      <th>78939</th>\n",
       "      <td>ny</td>\n",
       "      <td>mrs</td>\n",
       "      <td>grades_prek_2</td>\n",
       "      <td>1</td>\n",
       "      <td>literacy_language</td>\n",
       "      <td>esl literacy</td>\n",
       "      <td>i teach students around world they kindergarte...</td>\n",
       "      <td>444.14</td>\n",
       "      <td>buffalo ny refugees interrupted formal slife z...</td>\n",
       "    </tr>\n",
       "    <tr>\n",
       "      <th>105626</th>\n",
       "      <td>tx</td>\n",
       "      <td>mrs</td>\n",
       "      <td>grades_prek_2</td>\n",
       "      <td>0</td>\n",
       "      <td>literacy_language math_science</td>\n",
       "      <td>literacy mathematics</td>\n",
       "      <td>my classroom students eager learn come various...</td>\n",
       "      <td>543.42</td>\n",
       "      <td>awarded purposeful pad sights knowledgeable ex...</td>\n",
       "    </tr>\n",
       "    <tr>\n",
       "      <th>70436</th>\n",
       "      <td>ca</td>\n",
       "      <td>mrs</td>\n",
       "      <td>grades_prek_2</td>\n",
       "      <td>15</td>\n",
       "      <td>literacy_language music_arts</td>\n",
       "      <td>literacy visualarts</td>\n",
       "      <td>do know like stare blank screen that students ...</td>\n",
       "      <td>1999.99</td>\n",
       "      <td>stare blank shelter unemployed macbook pro net...</td>\n",
       "    </tr>\n",
       "    <tr>\n",
       "      <th>146</th>\n",
       "      <td>ca</td>\n",
       "      <td>ms</td>\n",
       "      <td>grades_prek_2</td>\n",
       "      <td>4</td>\n",
       "      <td>literacy_language</td>\n",
       "      <td>literacy literature_writing</td>\n",
       "      <td>my students excited eager always look forward ...</td>\n",
       "      <td>120.07</td>\n",
       "      <td>monday sad friday afternoons sponge transition...</td>\n",
       "    </tr>\n",
       "    <tr>\n",
       "      <th>32532</th>\n",
       "      <td>tx</td>\n",
       "      <td>mrs</td>\n",
       "      <td>grades_6_8</td>\n",
       "      <td>8</td>\n",
       "      <td>music_arts</td>\n",
       "      <td>music</td>\n",
       "      <td>our campus stem charter school campus highly r...</td>\n",
       "      <td>697.96</td>\n",
       "      <td>recognized ethnicity choir instrumental ensemb...</td>\n",
       "    </tr>\n",
       "    <tr>\n",
       "      <th>43760</th>\n",
       "      <td>mi</td>\n",
       "      <td>mrs</td>\n",
       "      <td>grades_prek_2</td>\n",
       "      <td>0</td>\n",
       "      <td>appliedlearning</td>\n",
       "      <td>other</td>\n",
       "      <td>my students small community low socioeconomic ...</td>\n",
       "      <td>275.47</td>\n",
       "      <td>update conductive rows burning calories metabo...</td>\n",
       "    </tr>\n",
       "    <tr>\n",
       "      <th>...</th>\n",
       "      <td>...</td>\n",
       "      <td>...</td>\n",
       "      <td>...</td>\n",
       "      <td>...</td>\n",
       "      <td>...</td>\n",
       "      <td>...</td>\n",
       "      <td>...</td>\n",
       "      <td>...</td>\n",
       "      <td>...</td>\n",
       "    </tr>\n",
       "    <tr>\n",
       "      <th>43843</th>\n",
       "      <td>tx</td>\n",
       "      <td>mrs</td>\n",
       "      <td>grades_prek_2</td>\n",
       "      <td>2</td>\n",
       "      <td>math_science literacy_language</td>\n",
       "      <td>appliedsciences literacy</td>\n",
       "      <td>the make classes diverse i teach ell low incom...</td>\n",
       "      <td>539.00</td>\n",
       "      <td>joys closely ppcd puzzle tie</td>\n",
       "    </tr>\n",
       "    <tr>\n",
       "      <th>83666</th>\n",
       "      <td>ma</td>\n",
       "      <td>mrs</td>\n",
       "      <td>grades_9_12</td>\n",
       "      <td>1</td>\n",
       "      <td>literacy_language</td>\n",
       "      <td>literacy</td>\n",
       "      <td>three times week words sustained silent readin...</td>\n",
       "      <td>232.51</td>\n",
       "      <td>sustained silent simultaneously invoke utter d...</td>\n",
       "    </tr>\n",
       "    <tr>\n",
       "      <th>88603</th>\n",
       "      <td>va</td>\n",
       "      <td>mrs</td>\n",
       "      <td>grades_prek_2</td>\n",
       "      <td>35</td>\n",
       "      <td>literacy_language math_science</td>\n",
       "      <td>literacy mathematics</td>\n",
       "      <td>my students typical eager learners love learn ...</td>\n",
       "      <td>397.98</td>\n",
       "      <td>grows mom dad mom dad</td>\n",
       "    </tr>\n",
       "    <tr>\n",
       "      <th>74627</th>\n",
       "      <td>ny</td>\n",
       "      <td>mr</td>\n",
       "      <td>grades_6_8</td>\n",
       "      <td>126</td>\n",
       "      <td>warmth care_hunger</td>\n",
       "      <td>warmth care_hunger</td>\n",
       "      <td>our students learn new york city middle school...</td>\n",
       "      <td>350.69</td>\n",
       "      <td>wrong became replied mid</td>\n",
       "    </tr>\n",
       "    <tr>\n",
       "      <th>38001</th>\n",
       "      <td>mi</td>\n",
       "      <td>mrs</td>\n",
       "      <td>grades_prek_2</td>\n",
       "      <td>3</td>\n",
       "      <td>literacy_language</td>\n",
       "      <td>literacy</td>\n",
       "      <td>my students excited school they beginning kind...</td>\n",
       "      <td>407.15</td>\n",
       "      <td>beaming</td>\n",
       "    </tr>\n",
       "    <tr>\n",
       "      <th>5301</th>\n",
       "      <td>md</td>\n",
       "      <td>ms</td>\n",
       "      <td>grades_9_12</td>\n",
       "      <td>11</td>\n",
       "      <td>math_science</td>\n",
       "      <td>environmentalscience health_lifescience</td>\n",
       "      <td>my students eager know world around many never...</td>\n",
       "      <td>141.40</td>\n",
       "      <td>woods splashed creek outlets expressing biolog...</td>\n",
       "    </tr>\n",
       "    <tr>\n",
       "      <th>100458</th>\n",
       "      <td>wa</td>\n",
       "      <td>mrs</td>\n",
       "      <td>grades_3_5</td>\n",
       "      <td>0</td>\n",
       "      <td>specialneeds</td>\n",
       "      <td>specialneeds</td>\n",
       "      <td>i teach urban school washington state my schoo...</td>\n",
       "      <td>310.99</td>\n",
       "      <td>zip codes 29 superpowers accommodation</td>\n",
       "    </tr>\n",
       "    <tr>\n",
       "      <th>82905</th>\n",
       "      <td>ne</td>\n",
       "      <td>mrs</td>\n",
       "      <td>grades_prek_2</td>\n",
       "      <td>0</td>\n",
       "      <td>literacy_language math_science</td>\n",
       "      <td>literature_writing mathematics</td>\n",
       "      <td>my energetic eager learn 2nd graders rural com...</td>\n",
       "      <td>191.99</td>\n",
       "      <td>mile radius ride projecting workbook</td>\n",
       "    </tr>\n",
       "    <tr>\n",
       "      <th>2697</th>\n",
       "      <td>tx</td>\n",
       "      <td>mrs</td>\n",
       "      <td>grades_6_8</td>\n",
       "      <td>0</td>\n",
       "      <td>appliedlearning</td>\n",
       "      <td>other</td>\n",
       "      <td>each day varies class learn new things daily w...</td>\n",
       "      <td>509.15</td>\n",
       "      <td>varies keyboarding citizenship keyboarding sur...</td>\n",
       "    </tr>\n",
       "    <tr>\n",
       "      <th>78895</th>\n",
       "      <td>ma</td>\n",
       "      <td>mrs</td>\n",
       "      <td>grades_prek_2</td>\n",
       "      <td>10</td>\n",
       "      <td>appliedlearning</td>\n",
       "      <td>other</td>\n",
       "      <td>my students special several autism behavioral ...</td>\n",
       "      <td>179.99</td>\n",
       "      <td>puts lock file cabinet lock locking file cabin...</td>\n",
       "    </tr>\n",
       "    <tr>\n",
       "      <th>18208</th>\n",
       "      <td>tn</td>\n",
       "      <td>mrs</td>\n",
       "      <td>grades_prek_2</td>\n",
       "      <td>14</td>\n",
       "      <td>appliedlearning music_arts</td>\n",
       "      <td>earlydevelopment visualarts</td>\n",
       "      <td>my students precious kindergarten kids startin...</td>\n",
       "      <td>179.98</td>\n",
       "      <td>differing magna tiles magna tiles</td>\n",
       "    </tr>\n",
       "    <tr>\n",
       "      <th>49082</th>\n",
       "      <td>ca</td>\n",
       "      <td>mrs</td>\n",
       "      <td>grades_prek_2</td>\n",
       "      <td>27</td>\n",
       "      <td>literacy_language</td>\n",
       "      <td>literacy</td>\n",
       "      <td>students excited learning love picking book on...</td>\n",
       "      <td>333.96</td>\n",
       "      <td>picking aims composed enthused buddies willing...</td>\n",
       "    </tr>\n",
       "    <tr>\n",
       "      <th>64731</th>\n",
       "      <td>nd</td>\n",
       "      <td>ms</td>\n",
       "      <td>grades_prek_2</td>\n",
       "      <td>0</td>\n",
       "      <td>literacy_language math_science</td>\n",
       "      <td>literacy mathematics</td>\n",
       "      <td>i teach title one elementary school there wide...</td>\n",
       "      <td>80.35</td>\n",
       "      <td>confined grader</td>\n",
       "    </tr>\n",
       "    <tr>\n",
       "      <th>88008</th>\n",
       "      <td>mo</td>\n",
       "      <td>mrs</td>\n",
       "      <td>grades_6_8</td>\n",
       "      <td>2</td>\n",
       "      <td>math_science music_arts</td>\n",
       "      <td>appliedsciences visualarts</td>\n",
       "      <td>my school high poverty rate 70 qualifying free...</td>\n",
       "      <td>548.73</td>\n",
       "      <td>qualifying missouri 800 250 deficit counterpar...</td>\n",
       "    </tr>\n",
       "    <tr>\n",
       "      <th>26161</th>\n",
       "      <td>ar</td>\n",
       "      <td>mrs</td>\n",
       "      <td>grades_3_5</td>\n",
       "      <td>1</td>\n",
       "      <td>health_sports</td>\n",
       "      <td>gym_fitness</td>\n",
       "      <td>i 630 students i see twice week i see grades k...</td>\n",
       "      <td>127.79</td>\n",
       "      <td>630 hey reply hey coach warmed session star wh...</td>\n",
       "    </tr>\n",
       "    <tr>\n",
       "      <th>86235</th>\n",
       "      <td>in</td>\n",
       "      <td>mrs</td>\n",
       "      <td>grades_3_5</td>\n",
       "      <td>0</td>\n",
       "      <td>math_science literacy_language</td>\n",
       "      <td>appliedsciences literature_writing</td>\n",
       "      <td>lively sweet eager these ways describe student...</td>\n",
       "      <td>101.53</td>\n",
       "      <td>ear ear explorative flocabulary played hooked ...</td>\n",
       "    </tr>\n",
       "    <tr>\n",
       "      <th>16462</th>\n",
       "      <td>fl</td>\n",
       "      <td>mrs</td>\n",
       "      <td>grades_6_8</td>\n",
       "      <td>0</td>\n",
       "      <td>math_science</td>\n",
       "      <td>appliedsciences</td>\n",
       "      <td>my students low income area 70 qualifying free...</td>\n",
       "      <td>344.60</td>\n",
       "      <td>qualifying hotels ai grandma acer wondered pur...</td>\n",
       "    </tr>\n",
       "    <tr>\n",
       "      <th>19159</th>\n",
       "      <td>ca</td>\n",
       "      <td>mrs</td>\n",
       "      <td>grades_3_5</td>\n",
       "      <td>0</td>\n",
       "      <td>math_science</td>\n",
       "      <td>appliedsciences environmentalscience</td>\n",
       "      <td>the students classroom good kids little expect...</td>\n",
       "      <td>396.73</td>\n",
       "      <td>substitute substitute docs microsoft powerpoin...</td>\n",
       "    </tr>\n",
       "    <tr>\n",
       "      <th>17215</th>\n",
       "      <td>oh</td>\n",
       "      <td>mrs</td>\n",
       "      <td>grades_prek_2</td>\n",
       "      <td>0</td>\n",
       "      <td>literacy_language math_science</td>\n",
       "      <td>literature_writing mathematics</td>\n",
       "      <td>my class part elementary school serves pre k k...</td>\n",
       "      <td>59.99</td>\n",
       "      <td>250 fostoria ohio 38 racial 27 me genius geniu...</td>\n",
       "    </tr>\n",
       "    <tr>\n",
       "      <th>54006</th>\n",
       "      <td>va</td>\n",
       "      <td>mr</td>\n",
       "      <td>grades_9_12</td>\n",
       "      <td>0</td>\n",
       "      <td>health_sports</td>\n",
       "      <td>teamsports</td>\n",
       "      <td>the majority student athletes come low income ...</td>\n",
       "      <td>191.96</td>\n",
       "      <td>bills embraces athletics witnessed remaining r...</td>\n",
       "    </tr>\n",
       "    <tr>\n",
       "      <th>76651</th>\n",
       "      <td>nv</td>\n",
       "      <td>mrs</td>\n",
       "      <td>grades_prek_2</td>\n",
       "      <td>8</td>\n",
       "      <td>literacy_language math_science</td>\n",
       "      <td>literacy mathematics</td>\n",
       "      <td>my students come diverse backgrounds ranging l...</td>\n",
       "      <td>250.49</td>\n",
       "      <td>hotels apartments mountains lakes kindergartne...</td>\n",
       "    </tr>\n",
       "    <tr>\n",
       "      <th>109008</th>\n",
       "      <td>ca</td>\n",
       "      <td>teacher</td>\n",
       "      <td>grades_prek_2</td>\n",
       "      <td>5</td>\n",
       "      <td>specialneeds</td>\n",
       "      <td>specialneeds</td>\n",
       "      <td>my students kids severely handicapped this mea...</td>\n",
       "      <td>1009.07</td>\n",
       "      <td>severely handicapped affected launch smoothly ...</td>\n",
       "    </tr>\n",
       "    <tr>\n",
       "      <th>70220</th>\n",
       "      <td>ny</td>\n",
       "      <td>mr</td>\n",
       "      <td>grades_6_8</td>\n",
       "      <td>3</td>\n",
       "      <td>appliedlearning music_arts</td>\n",
       "      <td>college_careerprep visualarts</td>\n",
       "      <td>my students eager ready learn art we come rura...</td>\n",
       "      <td>1915.99</td>\n",
       "      <td>behaved glass glass kiln glass fusing glass ki...</td>\n",
       "    </tr>\n",
       "    <tr>\n",
       "      <th>21826</th>\n",
       "      <td>ca</td>\n",
       "      <td>ms</td>\n",
       "      <td>grades_3_5</td>\n",
       "      <td>5</td>\n",
       "      <td>literacy_language</td>\n",
       "      <td>literature_writing</td>\n",
       "      <td>my students come room excited learn they come ...</td>\n",
       "      <td>210.04</td>\n",
       "      <td>steady ad reply lynwood percents</td>\n",
       "    </tr>\n",
       "    <tr>\n",
       "      <th>57360</th>\n",
       "      <td>ca</td>\n",
       "      <td>mr</td>\n",
       "      <td>grades_3_5</td>\n",
       "      <td>0</td>\n",
       "      <td>music_arts specialneeds</td>\n",
       "      <td>music specialneeds</td>\n",
       "      <td>my students diverse group musicians south san ...</td>\n",
       "      <td>89.99</td>\n",
       "      <td>diego 1300 wind orchestra stringed cultivates ...</td>\n",
       "    </tr>\n",
       "    <tr>\n",
       "      <th>44386</th>\n",
       "      <td>dc</td>\n",
       "      <td>ms</td>\n",
       "      <td>grades_3_5</td>\n",
       "      <td>0</td>\n",
       "      <td>math_science</td>\n",
       "      <td>mathematics</td>\n",
       "      <td>my students come ward 8 washington d c we titl...</td>\n",
       "      <td>214.17</td>\n",
       "      <td>ward expressing dojo beauty</td>\n",
       "    </tr>\n",
       "    <tr>\n",
       "      <th>73735</th>\n",
       "      <td>ca</td>\n",
       "      <td>ms</td>\n",
       "      <td>grades_prek_2</td>\n",
       "      <td>29</td>\n",
       "      <td>literacy_language specialneeds</td>\n",
       "      <td>literature_writing specialneeds</td>\n",
       "      <td>my students heroes my students inspiring peopl...</td>\n",
       "      <td>96.42</td>\n",
       "      <td>heroes brave serious medical cancer battling c...</td>\n",
       "    </tr>\n",
       "    <tr>\n",
       "      <th>107045</th>\n",
       "      <td>fl</td>\n",
       "      <td>mrs</td>\n",
       "      <td>grades_3_5</td>\n",
       "      <td>13</td>\n",
       "      <td>literacy_language math_science</td>\n",
       "      <td>literacy mathematics</td>\n",
       "      <td>my 3rd graders eager excited learn they motiva...</td>\n",
       "      <td>215.91</td>\n",
       "      <td>elated conducting tedious kidney relaxed benef...</td>\n",
       "    </tr>\n",
       "    <tr>\n",
       "      <th>93311</th>\n",
       "      <td>il</td>\n",
       "      <td>mrs</td>\n",
       "      <td>grades_3_5</td>\n",
       "      <td>0</td>\n",
       "      <td>literacy_language math_science</td>\n",
       "      <td>literacy mathematics</td>\n",
       "      <td>can keep working recess this group students as...</td>\n",
       "      <td>118.11</td>\n",
       "      <td>solar restraints effecting toner buying toner</td>\n",
       "    </tr>\n",
       "    <tr>\n",
       "      <th>50803</th>\n",
       "      <td>wi</td>\n",
       "      <td>mrs</td>\n",
       "      <td>grades_3_5</td>\n",
       "      <td>68</td>\n",
       "      <td>appliedlearning music_arts</td>\n",
       "      <td>charactereducation visualarts</td>\n",
       "      <td>my students bring joy life i thankful teacher ...</td>\n",
       "      <td>21.97</td>\n",
       "      <td>thankful seriously says partnering glass plate...</td>\n",
       "    </tr>\n",
       "  </tbody>\n",
       "</table>\n",
       "<p>69918 rows × 9 columns</p>\n",
       "</div>"
      ],
      "text/plain": [
       "       school_state teacher_prefix project_grade_category  \\\n",
       "85561            in            mrs             grades_6_8   \n",
       "86620            ca            mrs             grades_3_5   \n",
       "7546             ca             mr            grades_9_12   \n",
       "102214           wi            mrs             grades_6_8   \n",
       "48281            mn            mrs             grades_3_5   \n",
       "16814            ca            mrs          grades_prek_2   \n",
       "9222             la            mrs             grades_6_8   \n",
       "31250            or            mrs             grades_3_5   \n",
       "38432            ga            mrs             grades_3_5   \n",
       "72235            mi            mrs             grades_3_5   \n",
       "101835           fl             ms          grades_prek_2   \n",
       "24863            co            mrs             grades_6_8   \n",
       "3221             ga            mrs          grades_prek_2   \n",
       "42668            id             mr            grades_9_12   \n",
       "68276            la            mrs          grades_prek_2   \n",
       "59327            il            mrs          grades_prek_2   \n",
       "42497            ga             ms          grades_prek_2   \n",
       "2011             mi             mr             grades_6_8   \n",
       "58238            ia            mrs             grades_6_8   \n",
       "36748            ut             ms          grades_prek_2   \n",
       "39920            ca             ms          grades_prek_2   \n",
       "64282            ks            mrs             grades_3_5   \n",
       "13922            la            mrs          grades_prek_2   \n",
       "67896            pa             ms             grades_3_5   \n",
       "78939            ny            mrs          grades_prek_2   \n",
       "105626           tx            mrs          grades_prek_2   \n",
       "70436            ca            mrs          grades_prek_2   \n",
       "146              ca             ms          grades_prek_2   \n",
       "32532            tx            mrs             grades_6_8   \n",
       "43760            mi            mrs          grades_prek_2   \n",
       "...             ...            ...                    ...   \n",
       "43843            tx            mrs          grades_prek_2   \n",
       "83666            ma            mrs            grades_9_12   \n",
       "88603            va            mrs          grades_prek_2   \n",
       "74627            ny             mr             grades_6_8   \n",
       "38001            mi            mrs          grades_prek_2   \n",
       "5301             md             ms            grades_9_12   \n",
       "100458           wa            mrs             grades_3_5   \n",
       "82905            ne            mrs          grades_prek_2   \n",
       "2697             tx            mrs             grades_6_8   \n",
       "78895            ma            mrs          grades_prek_2   \n",
       "18208            tn            mrs          grades_prek_2   \n",
       "49082            ca            mrs          grades_prek_2   \n",
       "64731            nd             ms          grades_prek_2   \n",
       "88008            mo            mrs             grades_6_8   \n",
       "26161            ar            mrs             grades_3_5   \n",
       "86235            in            mrs             grades_3_5   \n",
       "16462            fl            mrs             grades_6_8   \n",
       "19159            ca            mrs             grades_3_5   \n",
       "17215            oh            mrs          grades_prek_2   \n",
       "54006            va             mr            grades_9_12   \n",
       "76651            nv            mrs          grades_prek_2   \n",
       "109008           ca        teacher          grades_prek_2   \n",
       "70220            ny             mr             grades_6_8   \n",
       "21826            ca             ms             grades_3_5   \n",
       "57360            ca             mr             grades_3_5   \n",
       "44386            dc             ms             grades_3_5   \n",
       "73735            ca             ms          grades_prek_2   \n",
       "107045           fl            mrs             grades_3_5   \n",
       "93311            il            mrs             grades_3_5   \n",
       "50803            wi            mrs             grades_3_5   \n",
       "\n",
       "        teacher_number_of_previously_posted_projects  \\\n",
       "85561                                              2   \n",
       "86620                                              0   \n",
       "7546                                               1   \n",
       "102214                                            15   \n",
       "48281                                              8   \n",
       "16814                                             57   \n",
       "9222                                               0   \n",
       "31250                                              2   \n",
       "38432                                              2   \n",
       "72235                                              3   \n",
       "101835                                            32   \n",
       "24863                                              2   \n",
       "3221                                               2   \n",
       "42668                                              0   \n",
       "68276                                              0   \n",
       "59327                                              2   \n",
       "42497                                              5   \n",
       "2011                                               8   \n",
       "58238                                              6   \n",
       "36748                                              1   \n",
       "39920                                              7   \n",
       "64282                                              0   \n",
       "13922                                              3   \n",
       "67896                                              4   \n",
       "78939                                              1   \n",
       "105626                                             0   \n",
       "70436                                             15   \n",
       "146                                                4   \n",
       "32532                                              8   \n",
       "43760                                              0   \n",
       "...                                              ...   \n",
       "43843                                              2   \n",
       "83666                                              1   \n",
       "88603                                             35   \n",
       "74627                                            126   \n",
       "38001                                              3   \n",
       "5301                                              11   \n",
       "100458                                             0   \n",
       "82905                                              0   \n",
       "2697                                               0   \n",
       "78895                                             10   \n",
       "18208                                             14   \n",
       "49082                                             27   \n",
       "64731                                              0   \n",
       "88008                                              2   \n",
       "26161                                              1   \n",
       "86235                                              0   \n",
       "16462                                              0   \n",
       "19159                                              0   \n",
       "17215                                              0   \n",
       "54006                                              0   \n",
       "76651                                              8   \n",
       "109008                                             5   \n",
       "70220                                              3   \n",
       "21826                                              5   \n",
       "57360                                              0   \n",
       "44386                                              0   \n",
       "73735                                             29   \n",
       "107045                                            13   \n",
       "93311                                              0   \n",
       "50803                                             68   \n",
       "\n",
       "                        clean_categories  \\\n",
       "85561                       math_science   \n",
       "86620    health_sports literacy_language   \n",
       "7546        appliedlearning specialneeds   \n",
       "102214                      math_science   \n",
       "48281                  literacy_language   \n",
       "16814                       math_science   \n",
       "9222    literacy_language history_civics   \n",
       "31250                      health_sports   \n",
       "38432                       math_science   \n",
       "72235     literacy_language math_science   \n",
       "101835                 literacy_language   \n",
       "24863                       math_science   \n",
       "3221                   literacy_language   \n",
       "42668                       math_science   \n",
       "68276                  literacy_language   \n",
       "59327                  literacy_language   \n",
       "42497       appliedlearning specialneeds   \n",
       "2011                      history_civics   \n",
       "58238                         music_arts   \n",
       "36748                  literacy_language   \n",
       "39920                       math_science   \n",
       "64282     literacy_language math_science   \n",
       "13922         math_science health_sports   \n",
       "67896                  literacy_language   \n",
       "78939                  literacy_language   \n",
       "105626    literacy_language math_science   \n",
       "70436       literacy_language music_arts   \n",
       "146                    literacy_language   \n",
       "32532                         music_arts   \n",
       "43760                    appliedlearning   \n",
       "...                                  ...   \n",
       "43843     math_science literacy_language   \n",
       "83666                  literacy_language   \n",
       "88603     literacy_language math_science   \n",
       "74627                 warmth care_hunger   \n",
       "38001                  literacy_language   \n",
       "5301                        math_science   \n",
       "100458                      specialneeds   \n",
       "82905     literacy_language math_science   \n",
       "2697                     appliedlearning   \n",
       "78895                    appliedlearning   \n",
       "18208         appliedlearning music_arts   \n",
       "49082                  literacy_language   \n",
       "64731     literacy_language math_science   \n",
       "88008            math_science music_arts   \n",
       "26161                      health_sports   \n",
       "86235     math_science literacy_language   \n",
       "16462                       math_science   \n",
       "19159                       math_science   \n",
       "17215     literacy_language math_science   \n",
       "54006                      health_sports   \n",
       "76651     literacy_language math_science   \n",
       "109008                      specialneeds   \n",
       "70220         appliedlearning music_arts   \n",
       "21826                  literacy_language   \n",
       "57360            music_arts specialneeds   \n",
       "44386                       math_science   \n",
       "73735     literacy_language specialneeds   \n",
       "107045    literacy_language math_science   \n",
       "93311     literacy_language math_science   \n",
       "50803         appliedlearning music_arts   \n",
       "\n",
       "                            clean_subcategories  \\\n",
       "85561                               mathematics   \n",
       "86620                  health_wellness literacy   \n",
       "7546             parentinvolvement specialneeds   \n",
       "102214                          appliedsciences   \n",
       "48281                                  literacy   \n",
       "16814                               mathematics   \n",
       "9222          literature_writing socialsciences   \n",
       "31250                           health_wellness   \n",
       "38432               appliedsciences mathematics   \n",
       "72235                      literacy mathematics   \n",
       "101835                                 literacy   \n",
       "24863      appliedsciences environmentalscience   \n",
       "3221                                   literacy   \n",
       "42668   environmentalscience health_lifescience   \n",
       "68276                                  literacy   \n",
       "59327               literacy literature_writing   \n",
       "42497             earlydevelopment specialneeds   \n",
       "2011                          history_geography   \n",
       "58238                                     music   \n",
       "36748                              esl literacy   \n",
       "39920               appliedsciences mathematics   \n",
       "64282            literature_writing mathematics   \n",
       "13922        health_lifescience health_wellness   \n",
       "67896                              esl literacy   \n",
       "78939                              esl literacy   \n",
       "105626                     literacy mathematics   \n",
       "70436                       literacy visualarts   \n",
       "146                 literacy literature_writing   \n",
       "32532                                     music   \n",
       "43760                                     other   \n",
       "...                                         ...   \n",
       "43843                  appliedsciences literacy   \n",
       "83666                                  literacy   \n",
       "88603                      literacy mathematics   \n",
       "74627                        warmth care_hunger   \n",
       "38001                                  literacy   \n",
       "5301    environmentalscience health_lifescience   \n",
       "100458                             specialneeds   \n",
       "82905            literature_writing mathematics   \n",
       "2697                                      other   \n",
       "78895                                     other   \n",
       "18208               earlydevelopment visualarts   \n",
       "49082                                  literacy   \n",
       "64731                      literacy mathematics   \n",
       "88008                appliedsciences visualarts   \n",
       "26161                               gym_fitness   \n",
       "86235        appliedsciences literature_writing   \n",
       "16462                           appliedsciences   \n",
       "19159      appliedsciences environmentalscience   \n",
       "17215            literature_writing mathematics   \n",
       "54006                                teamsports   \n",
       "76651                      literacy mathematics   \n",
       "109008                             specialneeds   \n",
       "70220             college_careerprep visualarts   \n",
       "21826                        literature_writing   \n",
       "57360                        music specialneeds   \n",
       "44386                               mathematics   \n",
       "73735           literature_writing specialneeds   \n",
       "107045                     literacy mathematics   \n",
       "93311                      literacy mathematics   \n",
       "50803             charactereducation visualarts   \n",
       "\n",
       "                                                    essay    price  \\\n",
       "85561   how close achievement gap students not necessa...    15.99   \n",
       "86620   my fourth grade students innovative creative g...    49.99   \n",
       "7546    the students room 61 amazing group exceptional...   393.98   \n",
       "102214  my students awesome despite high poverty low i...   277.93   \n",
       "48281   the students school arrive various degree educ...   132.99   \n",
       "16814   our school diverse student population majority...   138.94   \n",
       "9222    my students academically gifted class students...  1156.47   \n",
       "31250   third grade special year our students no longe...   284.94   \n",
       "38432   our students live low income neighborhoods in ...   289.99   \n",
       "72235   my students active lot energy they love read l...   159.43   \n",
       "101835  we five six seven year olds kindergarten first...   105.28   \n",
       "24863   at vineland unique population students eager l...    53.35   \n",
       "3221    my students extremely intelligent intelligent ...   326.00   \n",
       "42668   our students come blue collar community parent...   619.99   \n",
       "68276   our students school special rural community li...   551.71   \n",
       "59327   wiggle jiggle squiggle jump my first grade stu...   122.03   \n",
       "42497   students today come special challenges comes l...    79.92   \n",
       "2011    my students eager learners want explore learn ...   345.83   \n",
       "58238   music change world change people bono the stud...    62.58   \n",
       "36748   creating love learning one main goals classroo...   211.38   \n",
       "39920   teaching students become problem solvers creat...  1126.55   \n",
       "64282   your best always enough that class motto consi...   107.06   \n",
       "13922   pick box crayons what see you probably notice ...   351.85   \n",
       "67896   my students live high poverty neighborhood nor...    46.23   \n",
       "78939   i teach students around world they kindergarte...   444.14   \n",
       "105626  my classroom students eager learn come various...   543.42   \n",
       "70436   do know like stare blank screen that students ...  1999.99   \n",
       "146     my students excited eager always look forward ...   120.07   \n",
       "32532   our campus stem charter school campus highly r...   697.96   \n",
       "43760   my students small community low socioeconomic ...   275.47   \n",
       "...                                                   ...      ...   \n",
       "43843   the make classes diverse i teach ell low incom...   539.00   \n",
       "83666   three times week words sustained silent readin...   232.51   \n",
       "88603   my students typical eager learners love learn ...   397.98   \n",
       "74627   our students learn new york city middle school...   350.69   \n",
       "38001   my students excited school they beginning kind...   407.15   \n",
       "5301    my students eager know world around many never...   141.40   \n",
       "100458  i teach urban school washington state my schoo...   310.99   \n",
       "82905   my energetic eager learn 2nd graders rural com...   191.99   \n",
       "2697    each day varies class learn new things daily w...   509.15   \n",
       "78895   my students special several autism behavioral ...   179.99   \n",
       "18208   my students precious kindergarten kids startin...   179.98   \n",
       "49082   students excited learning love picking book on...   333.96   \n",
       "64731   i teach title one elementary school there wide...    80.35   \n",
       "88008   my school high poverty rate 70 qualifying free...   548.73   \n",
       "26161   i 630 students i see twice week i see grades k...   127.79   \n",
       "86235   lively sweet eager these ways describe student...   101.53   \n",
       "16462   my students low income area 70 qualifying free...   344.60   \n",
       "19159   the students classroom good kids little expect...   396.73   \n",
       "17215   my class part elementary school serves pre k k...    59.99   \n",
       "54006   the majority student athletes come low income ...   191.96   \n",
       "76651   my students come diverse backgrounds ranging l...   250.49   \n",
       "109008  my students kids severely handicapped this mea...  1009.07   \n",
       "70220   my students eager ready learn art we come rura...  1915.99   \n",
       "21826   my students come room excited learn they come ...   210.04   \n",
       "57360   my students diverse group musicians south san ...    89.99   \n",
       "44386   my students come ward 8 washington d c we titl...   214.17   \n",
       "73735   my students heroes my students inspiring peopl...    96.42   \n",
       "107045  my 3rd graders eager excited learn they motiva...   215.91   \n",
       "93311   can keep working recess this group students as...   118.11   \n",
       "50803   my students bring joy life i thankful teacher ...    21.97   \n",
       "\n",
       "                                                essay_IDF  \n",
       "85561   indicate disabled mildly handicapped disturban...  \n",
       "86620   collaborates beings enormous relies solely lov...  \n",
       "7546    61 ties ambition 61 embedded exceptionality pr...  \n",
       "102214                                                hey  \n",
       "48281                          degree orchestra formation  \n",
       "16814                 narrative frames rekenreks grouping  \n",
       "9222    aptitude iq tailored tap mode stifle mode comp...  \n",
       "31250   immensely vivacious failures keys jfk intellec...  \n",
       "38432   72 rising permeate minis minis minis prezi ble...  \n",
       "72235   slowly ratio globally timely fashion ratio end...  \n",
       "101835  mentors esol shelving tubs tubs cracked tear t...  \n",
       "24863   vineland essentials technologies attempting ob...  \n",
       "3221                                     shopping bin bin  \n",
       "42668   collar endeavors technologies technologies app...  \n",
       "68276   farming migrant holidays uniforms christmas gi...  \n",
       "59327   jiggle squiggle diversely eastern illinois rug...  \n",
       "42497   medical defects employs reduces muscle tone mu...  \n",
       "2011    fired participants ride ricoh 360 panorama 360...  \n",
       "58238   bono decide directors director doubled enrollm...  \n",
       "36748             subtract prison sleep bed abused remove  \n",
       "39920   collaborators lakeshore equip lakeshore fairy ...  \n",
       "64282   president image forced wiggly releasing lettin...  \n",
       "13922   probably notice screaming me me subdued colori...  \n",
       "67896   philadelphia philadelphia puerto rico dominica...  \n",
       "78939   buffalo ny refugees interrupted formal slife z...  \n",
       "105626  awarded purposeful pad sights knowledgeable ex...  \n",
       "70436   stare blank shelter unemployed macbook pro net...  \n",
       "146     monday sad friday afternoons sponge transition...  \n",
       "32532   recognized ethnicity choir instrumental ensemb...  \n",
       "43760   update conductive rows burning calories metabo...  \n",
       "...                                                   ...  \n",
       "43843                        joys closely ppcd puzzle tie  \n",
       "83666   sustained silent simultaneously invoke utter d...  \n",
       "88603                               grows mom dad mom dad  \n",
       "74627                            wrong became replied mid  \n",
       "38001                                             beaming  \n",
       "5301    woods splashed creek outlets expressing biolog...  \n",
       "100458             zip codes 29 superpowers accommodation  \n",
       "82905                mile radius ride projecting workbook  \n",
       "2697    varies keyboarding citizenship keyboarding sur...  \n",
       "78895   puts lock file cabinet lock locking file cabin...  \n",
       "18208                   differing magna tiles magna tiles  \n",
       "49082   picking aims composed enthused buddies willing...  \n",
       "64731                                     confined grader  \n",
       "88008   qualifying missouri 800 250 deficit counterpar...  \n",
       "26161   630 hey reply hey coach warmed session star wh...  \n",
       "86235   ear ear explorative flocabulary played hooked ...  \n",
       "16462   qualifying hotels ai grandma acer wondered pur...  \n",
       "19159   substitute substitute docs microsoft powerpoin...  \n",
       "17215   250 fostoria ohio 38 racial 27 me genius geniu...  \n",
       "54006   bills embraces athletics witnessed remaining r...  \n",
       "76651   hotels apartments mountains lakes kindergartne...  \n",
       "109008  severely handicapped affected launch smoothly ...  \n",
       "70220   behaved glass glass kiln glass fusing glass ki...  \n",
       "21826                    steady ad reply lynwood percents  \n",
       "57360   diego 1300 wind orchestra stringed cultivates ...  \n",
       "44386                         ward expressing dojo beauty  \n",
       "73735   heroes brave serious medical cancer battling c...  \n",
       "107045  elated conducting tedious kidney relaxed benef...  \n",
       "93311       solar restraints effecting toner buying toner  \n",
       "50803   thankful seriously says partnering glass plate...  \n",
       "\n",
       "[69918 rows x 9 columns]"
      ]
     },
     "execution_count": 56,
     "metadata": {},
     "output_type": "execute_result"
    }
   ],
   "source": [
    "df_X_train"
   ]
  },
  {
   "cell_type": "markdown",
   "metadata": {},
   "source": [
    "**Tokenize the essays**\n",
    "\n",
    "Earlier, for the previous model, we did this on the entire essay. This time, we've already filtered the words based on IDF."
   ]
  },
  {
   "cell_type": "code",
   "execution_count": 57,
   "metadata": {
    "ExecuteTime": {
     "end_time": "2019-09-12T12:28:14.125609Z",
     "start_time": "2019-09-12T12:28:11.587541Z"
    }
   },
   "outputs": [],
   "source": [
    "t_essays = Tokenizer()\n",
    "t_essays.fit_on_texts(df_X_train.essay_IDF.tolist())\n",
    "encoded_docs_train = t_essays.texts_to_sequences(df_X_train.essay_IDF.tolist())"
   ]
  },
  {
   "cell_type": "code",
   "execution_count": 58,
   "metadata": {
    "ExecuteTime": {
     "end_time": "2019-09-12T12:28:16.244482Z",
     "start_time": "2019-09-12T12:28:16.240506Z"
    }
   },
   "outputs": [
    {
     "name": "stdout",
     "output_type": "stream",
     "text": [
      "26561\n"
     ]
    }
   ],
   "source": [
    "vocab_size_essays = len(t_essays.word_index) + 1\n",
    "print(vocab_size_essays)"
   ]
  },
  {
   "cell_type": "markdown",
   "metadata": {},
   "source": [
    "**obtain the tokenized essay representation for CV and Test sets**"
   ]
  },
  {
   "cell_type": "code",
   "execution_count": 59,
   "metadata": {
    "ExecuteTime": {
     "end_time": "2019-09-12T12:28:33.123993Z",
     "start_time": "2019-09-12T12:28:32.425670Z"
    }
   },
   "outputs": [],
   "source": [
    "encoded_docs_CV = t_essays.texts_to_sequences(df_X_CV.essay_IDF.tolist())\n",
    "encoded_docs_test = t_essays.texts_to_sequences(df_X_test.essay_IDF.tolist())"
   ]
  },
  {
   "cell_type": "markdown",
   "metadata": {},
   "source": [
    "**Pad the inputs**\n",
    "\n",
    "Instead of padding all the essays (docs) with the same maximum length, let's see how the number of words in essays are distributed."
   ]
  },
  {
   "cell_type": "code",
   "execution_count": 282,
   "metadata": {
    "ExecuteTime": {
     "end_time": "2019-09-12T10:45:16.287434Z",
     "start_time": "2019-09-12T10:45:15.776273Z"
    }
   },
   "outputs": [
    {
     "data": {
      "image/png": "[encoded data removed]",
      "text/plain": [
       "<Figure size 1080x288 with 1 Axes>"
      ]
     },
     "metadata": {
      "needs_background": "light"
     },
     "output_type": "display_data"
    }
   ],
   "source": [
    "df_X_train.essay_IDF.str.split().apply(len).plot.hist(figsize=(15,4))\n",
    "plt.title('Distribution of number of words in essays', fontsize=16)\n",
    "plt.xlabel('Number of words', fontsize=14)\n",
    "plt.ylabel('Number of Essays', fontsize=14)\n",
    "plt.show()"
   ]
  },
  {
   "cell_type": "markdown",
   "metadata": {},
   "source": [
    "**The 95th percentile of #words in essay_IDF is 33**. Which means most of the essays have much lower word count than the essay with maximum word count(101) in the dataset. If we pad the lengths to `101`, most of the other essays would have redundant 0 inputs. Instead, let's keep the max length of essay inputs to 33. Doing this would also improve the training time because less number of parameters would have to be trained."
   ]
  },
  {
   "cell_type": "code",
   "execution_count": 60,
   "metadata": {
    "ExecuteTime": {
     "end_time": "2019-09-12T12:28:51.409862Z",
     "start_time": "2019-09-12T12:28:50.495474Z"
    }
   },
   "outputs": [
    {
     "name": "stdout",
     "output_type": "stream",
     "text": [
      "95th Percentile word count in Essays: 33.0\n",
      "Maximum word count in essays: 102\n"
     ]
    }
   ],
   "source": [
    "pctile_95_wc = df_X_train.essay_IDF.str.split().apply(len).quantile(.95)\n",
    "max_wc = df_X_train.essay_IDF.str.split().apply(len).max()\n",
    "\n",
    "print('95th Percentile word count in Essays:', pctile_95_wc)\n",
    "print('Maximum word count in essays:', max_wc)"
   ]
  },
  {
   "cell_type": "code",
   "execution_count": 61,
   "metadata": {
    "ExecuteTime": {
     "end_time": "2019-09-12T12:29:04.287759Z",
     "start_time": "2019-09-12T12:29:03.801420Z"
    }
   },
   "outputs": [],
   "source": [
    "padded_docs_train = pad_sequences(encoded_docs_train,\n",
    "                                  maxlen=int(pctile_95_wc),\n",
    "                                  padding='post',\n",
    "                                  truncating='post')\n",
    "padded_docs_CV = pad_sequences(encoded_docs_CV,\n",
    "                               maxlen=int(pctile_95_wc),\n",
    "                               padding='post',\n",
    "                               truncating='post')\n",
    "padded_docs_test = pad_sequences(encoded_docs_test,\n",
    "                                 maxlen=int(pctile_95_wc),\n",
    "                                 padding='post',\n",
    "                                 truncating='post')"
   ]
  },
  {
   "cell_type": "code",
   "execution_count": 62,
   "metadata": {
    "ExecuteTime": {
     "end_time": "2019-09-12T12:29:13.356985Z",
     "start_time": "2019-09-12T12:29:13.352704Z"
    }
   },
   "outputs": [
    {
     "data": {
      "text/plain": [
       "((69918, 33), (17480, 33), (21850, 33))"
      ]
     },
     "execution_count": 62,
     "metadata": {},
     "output_type": "execute_result"
    }
   ],
   "source": [
    "padded_docs_train.shape ,padded_docs_CV.shape, padded_docs_test.shape"
   ]
  },
  {
   "cell_type": "markdown",
   "metadata": {},
   "source": [
    "Generate the embedding matrix again, since we've retrained the `t_essays` TFIDF object."
   ]
  },
  {
   "cell_type": "code",
   "execution_count": 63,
   "metadata": {
    "ExecuteTime": {
     "end_time": "2019-09-12T12:29:21.759148Z",
     "start_time": "2019-09-12T12:29:21.666095Z"
    }
   },
   "outputs": [],
   "source": [
    "# create a weight matrix for words in training docs\n",
    "embedding_matrix = np.zeros((vocab_size_essays, 300))\n",
    "for word, i in t_essays.word_index.items():\n",
    "    embedding_vector = embeddings_index.get(word)\n",
    "    if embedding_vector is not None:\n",
    "        embedding_matrix[i] = embedding_vector"
   ]
  },
  {
   "cell_type": "markdown",
   "metadata": {},
   "source": [
    "**Define the embedding layer for essays**"
   ]
  },
  {
   "cell_type": "code",
   "execution_count": 64,
   "metadata": {
    "ExecuteTime": {
     "end_time": "2019-09-12T12:30:50.773723Z",
     "start_time": "2019-09-12T12:30:49.624941Z"
    }
   },
   "outputs": [],
   "source": [
    "essay_input = Input(shape=(padded_docs_train.shape[1], ))\n",
    "\n",
    "e = Embedding(vocab_size_essays,\n",
    "              300,\n",
    "              weights=[embedding_matrix],\n",
    "              input_length=padded_docs_train.shape[1],\n",
    "              trainable=False,\n",
    "              batch_size=64)(essay_input)\n",
    "\n",
    "lstm_out_essay = LSTM(units=128,\n",
    "                      recurrent_dropout=0.45, kernel_regularizer=regularizers.l2(0.001),\n",
    "                      input_shape=(padded_docs_train.shape[1], 300),\n",
    "                      return_sequences=True)(e)\n",
    "\n",
    "lstm_out_flattened = Flatten()(lstm_out_essay)"
   ]
  },
  {
   "cell_type": "markdown",
   "metadata": {},
   "source": [
    "**Concatenate the flattened vectors for model 2**\n",
    "\n",
    "Here, note that we've only created `lstm_out_flattened` tensor again. Because the others have remained unchanged since model 1. We can use them directly as they are."
   ]
  },
  {
   "cell_type": "code",
   "execution_count": 81,
   "metadata": {
    "ExecuteTime": {
     "end_time": "2019-09-12T12:34:39.997865Z",
     "start_time": "2019-09-12T12:34:39.989738Z"
    },
    "scrolled": true
   },
   "outputs": [],
   "source": [
    "merged = concatenate([\n",
    "    lstm_out_flattened, flatten_school_state_out,\n",
    "    flatten_project_grade_cat_out, flatten_clean_category,\n",
    "    flatten_clean_subcategory, flatten_teacher_prefix, out_other_features\n",
    "])"
   ]
  },
  {
   "cell_type": "code",
   "execution_count": 289,
   "metadata": {
    "ExecuteTime": {
     "end_time": "2019-09-12T10:45:19.491886Z",
     "start_time": "2019-09-12T10:45:19.487589Z"
    }
   },
   "outputs": [
    {
     "data": {
      "text/plain": [
       "tensorflow.python.framework.ops.Tensor"
      ]
     },
     "execution_count": 289,
     "metadata": {},
     "output_type": "execute_result"
    }
   ],
   "source": [
    "type(merged)"
   ]
  },
  {
   "cell_type": "markdown",
   "metadata": {},
   "source": [
    "# Add the following Dense and Dropout layers"
   ]
  },
  {
   "cell_type": "code",
   "execution_count": 82,
   "metadata": {
    "ExecuteTime": {
     "end_time": "2019-09-12T12:34:47.073547Z",
     "start_time": "2019-09-12T12:34:46.966833Z"
    }
   },
   "outputs": [],
   "source": [
    "x = Dense(128, activation='selu', kernel_regularizer=regularizers.l2(0.001))(merged)\n",
    "x = Dropout(.5)(x)\n",
    "x = Dense(64, activation='selu', kernel_regularizer=regularizers.l2(0.001))(x)\n",
    "x = Dropout(.5)(x)\n",
    "x = Dense(32, activation='selu', kernel_regularizer=regularizers.l2(0.001))(x)\n",
    "\n",
    "main_output = Dense(1, activation='sigmoid', name='main_output')(x)"
   ]
  },
  {
   "cell_type": "markdown",
   "metadata": {},
   "source": [
    "**Create a final model of the whole architecture**"
   ]
  },
  {
   "cell_type": "code",
   "execution_count": 83,
   "metadata": {
    "ExecuteTime": {
     "end_time": "2019-09-12T12:35:01.882624Z",
     "start_time": "2019-09-12T12:35:01.875590Z"
    }
   },
   "outputs": [],
   "source": [
    "final_model_2 = Model(inputs=[\n",
    "    essay_input, input_layer_school_state, input_layer_project_grade_cat,\n",
    "    input_layer_clean_category, input_layer_clean_subcategory,\n",
    "    input_layer_teacher_prefix, input_layer_pp_price\n",
    "],\n",
    "                    outputs=[main_output])"
   ]
  },
  {
   "cell_type": "code",
   "execution_count": 84,
   "metadata": {
    "ExecuteTime": {
     "end_time": "2019-09-12T12:35:05.241208Z",
     "start_time": "2019-09-12T12:35:05.229214Z"
    },
    "scrolled": true
   },
   "outputs": [
    {
     "name": "stdout",
     "output_type": "stream",
     "text": [
      "__________________________________________________________________________________________________\n",
      "Layer (type)                    Output Shape         Param #     Connected to                     \n",
      "==================================================================================================\n",
      "input_2 (InputLayer)            (None, 33)           0                                            \n",
      "__________________________________________________________________________________________________\n",
      "embedding_2 (Embedding)         (None, 33, 300)      7968300     input_2[0][0]                    \n",
      "__________________________________________________________________________________________________\n",
      "input_3 (InputLayer)            (None, 1)            0                                            \n",
      "__________________________________________________________________________________________________\n",
      "input_4 (InputLayer)            (None, 1)            0                                            \n",
      "__________________________________________________________________________________________________\n",
      "input_5 (InputLayer)            (None, 3)            0                                            \n",
      "__________________________________________________________________________________________________\n",
      "input_6 (InputLayer)            (None, 3)            0                                            \n",
      "__________________________________________________________________________________________________\n",
      "input_7 (InputLayer)            (None, 1)            0                                            \n",
      "__________________________________________________________________________________________________\n",
      "lstm_2 (LSTM)                   (None, 33, 128)      219648      embedding_2[0][0]                \n",
      "__________________________________________________________________________________________________\n",
      "embedding_3 (Embedding)         (None, 1, 8)         416         input_3[0][0]                    \n",
      "__________________________________________________________________________________________________\n",
      "embedding_4 (Embedding)         (None, 1, 4)         20          input_4[0][0]                    \n",
      "__________________________________________________________________________________________________\n",
      "embedding_5 (Embedding)         (None, 3, 8)         128         input_5[0][0]                    \n",
      "__________________________________________________________________________________________________\n",
      "embedding_6 (Embedding)         (None, 3, 8)         304         input_6[0][0]                    \n",
      "__________________________________________________________________________________________________\n",
      "embedding_7 (Embedding)         (None, 1, 8)         48          input_7[0][0]                    \n",
      "__________________________________________________________________________________________________\n",
      "input_8 (InputLayer)            (None, 2)            0                                            \n",
      "__________________________________________________________________________________________________\n",
      "flatten_3 (Flatten)             (None, 4224)         0           lstm_2[0][0]                     \n",
      "__________________________________________________________________________________________________\n",
      "flatten_4 (Flatten)             (None, 8)            0           embedding_3[0][0]                \n",
      "__________________________________________________________________________________________________\n",
      "flatten_5 (Flatten)             (None, 4)            0           embedding_4[0][0]                \n",
      "__________________________________________________________________________________________________\n",
      "flatten_6 (Flatten)             (None, 24)           0           embedding_5[0][0]                \n",
      "__________________________________________________________________________________________________\n",
      "flatten_7 (Flatten)             (None, 24)           0           embedding_6[0][0]                \n",
      "__________________________________________________________________________________________________\n",
      "flatten_8 (Flatten)             (None, 8)            0           embedding_7[0][0]                \n",
      "__________________________________________________________________________________________________\n",
      "dense_7 (Dense)                 (None, 2)            6           input_8[0][0]                    \n",
      "__________________________________________________________________________________________________\n",
      "concatenate_3 (Concatenate)     (None, 4294)         0           flatten_3[0][0]                  \n",
      "                                                                 flatten_4[0][0]                  \n",
      "                                                                 flatten_5[0][0]                  \n",
      "                                                                 flatten_6[0][0]                  \n",
      "                                                                 flatten_7[0][0]                  \n",
      "                                                                 flatten_8[0][0]                  \n",
      "                                                                 dense_7[0][0]                    \n",
      "__________________________________________________________________________________________________\n",
      "dense_8 (Dense)                 (None, 128)          549760      concatenate_3[0][0]              \n",
      "__________________________________________________________________________________________________\n",
      "dropout_5 (Dropout)             (None, 128)          0           dense_8[0][0]                    \n",
      "__________________________________________________________________________________________________\n",
      "dense_9 (Dense)                 (None, 64)           8256        dropout_5[0][0]                  \n",
      "__________________________________________________________________________________________________\n",
      "dropout_6 (Dropout)             (None, 64)           0           dense_9[0][0]                    \n",
      "__________________________________________________________________________________________________\n",
      "dense_10 (Dense)                (None, 32)           2080        dropout_6[0][0]                  \n",
      "__________________________________________________________________________________________________\n",
      "main_output (Dense)             (None, 1)            33          dense_10[0][0]                   \n",
      "==================================================================================================\n",
      "Total params: 8,748,999\n",
      "Trainable params: 780,699\n",
      "Non-trainable params: 7,968,300\n",
      "__________________________________________________________________________________________________\n"
     ]
    }
   ],
   "source": [
    "final_model_2.summary()"
   ]
  },
  {
   "cell_type": "markdown",
   "metadata": {},
   "source": [
    "## Compile the model"
   ]
  },
  {
   "cell_type": "code",
   "execution_count": 85,
   "metadata": {
    "ExecuteTime": {
     "end_time": "2019-09-12T12:35:16.816569Z",
     "start_time": "2019-09-12T12:35:16.769438Z"
    },
    "scrolled": false
   },
   "outputs": [],
   "source": [
    "#from keras.optimizers import Adam\n",
    "adm = Adam(lr=0.001, beta_1=0.9, beta_2=0.999, epsilon=None, decay=0.0, amsgrad=False)\n",
    "final_model_2.compile(optimizer=adm, loss='binary_crossentropy', metrics=['accuracy'])"
   ]
  },
  {
   "cell_type": "code",
   "execution_count": 86,
   "metadata": {
    "ExecuteTime": {
     "end_time": "2019-09-12T12:36:40.246087Z",
     "start_time": "2019-09-12T12:36:40.242479Z"
    }
   },
   "outputs": [],
   "source": [
    "ival = IntervalEvaluation(validation_data=([\n",
    "    padded_docs_CV, padded_school_states_CV, padded_project_grade_cats_CV,\n",
    "    padded_clean_category_CV, padded_clean_subcategory_CV,\n",
    "    padded_teacher_prefix_CV, other_features_CV\n",
    "], y_CV),\n",
    "                          interval=None)"
   ]
  },
  {
   "cell_type": "code",
   "execution_count": 87,
   "metadata": {
    "ExecuteTime": {
     "end_time": "2019-09-12T12:36:55.010554Z",
     "start_time": "2019-09-12T12:36:55.006371Z"
    }
   },
   "outputs": [],
   "source": [
    "tb_2 = TensorBoard(log_dir=\"logs/{}\".format(time()))"
   ]
  },
  {
   "cell_type": "code",
   "execution_count": 88,
   "metadata": {
    "ExecuteTime": {
     "end_time": "2019-09-12T12:42:14.414886Z",
     "start_time": "2019-09-12T12:37:14.491407Z"
    }
   },
   "outputs": [
    {
     "name": "stdout",
     "output_type": "stream",
     "text": [
      "Train on 69918 samples, validate on 17480 samples\n",
      "Epoch 1/20\n",
      "69918/69918 [==============================] - 6s 93us/step - loss: 1.5400 - acc: 0.7749 - val_loss: 0.7318 - val_acc: 0.8423\n",
      "********************** Epoch: 1 AUC:  0.5851247560934565 *********************\n",
      "Epoch 2/20\n",
      "69918/69918 [==============================] - 5s 67us/step - loss: 0.7167 - acc: 0.8235 - val_loss: 0.5911 - val_acc: 0.8495\n",
      "********************** Epoch: 2 AUC:  0.5855240671216032 *********************\n",
      "Epoch 3/20\n",
      "69918/69918 [==============================] - 5s 67us/step - loss: 0.6195 - acc: 0.8377 - val_loss: 0.5518 - val_acc: 0.8499\n",
      "********************** Epoch: 3 AUC:  0.5973967850511249 *********************\n",
      "Epoch 4/20\n",
      "69918/69918 [==============================] - 5s 67us/step - loss: 0.5758 - acc: 0.8422 - val_loss: 0.5326 - val_acc: 0.8499\n",
      "********************** Epoch: 4 AUC:  0.5937262711871363 *********************\n",
      "Epoch 5/20\n",
      "69918/69918 [==============================] - 5s 67us/step - loss: 0.5500 - acc: 0.8456 - val_loss: 0.5212 - val_acc: 0.8499\n",
      "********************** Epoch: 5 AUC:  0.6167222998304045 *********************\n",
      "Epoch 6/20\n",
      "69918/69918 [==============================] - 5s 67us/step - loss: 0.5339 - acc: 0.8462 - val_loss: 0.5118 - val_acc: 0.8499\n",
      "********************** Epoch: 6 AUC:  0.628783899110321 *********************\n",
      "Epoch 7/20\n",
      "69918/69918 [==============================] - 5s 66us/step - loss: 0.5225 - acc: 0.8469 - val_loss: 0.5065 - val_acc: 0.8499\n",
      "********************** Epoch: 7 AUC:  0.636256897516976 *********************\n",
      "Epoch 8/20\n",
      "69918/69918 [==============================] - 5s 67us/step - loss: 0.5122 - acc: 0.8470 - val_loss: 0.4972 - val_acc: 0.8499\n",
      "********************** Epoch: 8 AUC:  0.645122328315241 *********************\n",
      "Epoch 9/20\n",
      "69918/69918 [==============================] - 5s 66us/step - loss: 0.5052 - acc: 0.8471 - val_loss: 0.4926 - val_acc: 0.8499\n",
      "********************** Epoch: 9 AUC:  0.6484466580391268 *********************\n",
      "Epoch 10/20\n",
      "69918/69918 [==============================] - 5s 67us/step - loss: 0.4988 - acc: 0.8476 - val_loss: 0.4840 - val_acc: 0.8499\n",
      "********************** Epoch: 10 AUC:  0.6523945040067576 *********************\n",
      "Epoch 11/20\n",
      "69918/69918 [==============================] - 5s 67us/step - loss: 0.4907 - acc: 0.8474 - val_loss: 0.4816 - val_acc: 0.8499\n",
      "********************** Epoch: 11 AUC:  0.6531745791098611 *********************\n",
      "Epoch 12/20\n",
      "69918/69918 [==============================] - 5s 68us/step - loss: 0.4863 - acc: 0.8476 - val_loss: 0.4771 - val_acc: 0.8499\n",
      "********************** Epoch: 12 AUC:  0.6584372450114596 *********************\n",
      "Epoch 13/20\n",
      "69918/69918 [==============================] - 5s 69us/step - loss: 0.4802 - acc: 0.8475 - val_loss: 0.4713 - val_acc: 0.8499\n",
      "********************** Epoch: 13 AUC:  0.6567396087808819 *********************\n",
      "Epoch 14/20\n",
      "69918/69918 [==============================] - 5s 68us/step - loss: 0.4754 - acc: 0.8477 - val_loss: 0.4718 - val_acc: 0.8499\n",
      "********************** Epoch: 14 AUC:  0.657145358654465 *********************\n",
      "Epoch 15/20\n",
      "69918/69918 [==============================] - 5s 67us/step - loss: 0.4714 - acc: 0.8476 - val_loss: 0.4642 - val_acc: 0.8499\n",
      "********************** Epoch: 15 AUC:  0.6570289335548091 *********************\n",
      "Epoch 16/20\n",
      "69918/69918 [==============================] - 5s 67us/step - loss: 0.4676 - acc: 0.8475 - val_loss: 0.4595 - val_acc: 0.8499\n",
      "********************** Epoch: 16 AUC:  0.6594513759940962 *********************\n",
      "Epoch 17/20\n",
      "69918/69918 [==============================] - 5s 66us/step - loss: 0.4634 - acc: 0.8478 - val_loss: 0.4560 - val_acc: 0.8499\n",
      "********************** Epoch: 17 AUC:  0.661727764383611 *********************\n",
      "Epoch 18/20\n",
      "69918/69918 [==============================] - 5s 68us/step - loss: 0.4607 - acc: 0.8476 - val_loss: 0.4527 - val_acc: 0.8499\n",
      "********************** Epoch: 18 AUC:  0.6605586137078556 *********************\n",
      "Epoch 19/20\n",
      "69918/69918 [==============================] - 5s 67us/step - loss: 0.4564 - acc: 0.8478 - val_loss: 0.4502 - val_acc: 0.8499\n",
      "********************** Epoch: 19 AUC:  0.6626482755797115 *********************\n",
      "Epoch 20/20\n",
      "69918/69918 [==============================] - 5s 67us/step - loss: 0.4521 - acc: 0.8476 - val_loss: 0.4493 - val_acc: 0.8499\n",
      "********************** Epoch: 20 AUC:  0.6565712368206326 *********************\n"
     ]
    },
    {
     "data": {
      "text/plain": [
       "<keras.callbacks.History at 0x7fdd46183d30>"
      ]
     },
     "execution_count": 88,
     "metadata": {},
     "output_type": "execute_result"
    },
    {
     "data": {
      "application/javascript": [
       "$(document).ready(\n",
       "    function() {\n",
       "        function appendUniqueDiv(){\n",
       "            // append a div with our uuid so we can check that it's already\n",
       "            // been sent and avoid duplicates on page reload\n",
       "            var notifiedDiv = document.createElement(\"div\")\n",
       "            notifiedDiv.id = \"ad98b6e6-c04d-4bf9-9ef1-ed49138794c6\"\n",
       "            element.append(notifiedDiv)\n",
       "        }\n",
       "\n",
       "        // only send notifications if the pageload is complete; this will\n",
       "        // help stop extra notifications when a saved notebook is loaded,\n",
       "        // which during testing gives us state \"interactive\", not \"complete\"\n",
       "        if (document.readyState === 'complete') {\n",
       "            // check for the div that signifies that the notification\n",
       "            // was already sent\n",
       "            if (document.getElementById(\"ad98b6e6-c04d-4bf9-9ef1-ed49138794c6\") === null) {\n",
       "                var notificationPayload = {\"requireInteraction\": false, \"body\": \"Cell execution has finished!\", \"icon\": \"/static/base/images/favicon.ico\"};\n",
       "                if (Notification.permission !== 'denied') {\n",
       "                    if (Notification.permission !== 'granted') { \n",
       "                        Notification.requestPermission(function (permission) {\n",
       "                            if(!('permission' in Notification)) {\n",
       "                                Notification.permission = permission\n",
       "                            }\n",
       "                        })\n",
       "                    }\n",
       "                    if (Notification.permission === 'granted') {\n",
       "                    var notification = new Notification(\"Jupyter Notebook\", notificationPayload)\n",
       "                    appendUniqueDiv()\n",
       "                    notification.onclick = function () {\n",
       "                        window.focus();\n",
       "                        this.close();\n",
       "                        };\n",
       "                    } \n",
       "                }     \n",
       "            }\n",
       "        }\n",
       "    }\n",
       ")\n"
      ],
      "text/plain": [
       "<IPython.core.display.Javascript object>"
      ]
     },
     "metadata": {},
     "output_type": "display_data"
    }
   ],
   "source": [
    "%%notify\n",
    "\n",
    "final_model_2.fit([\n",
    "    padded_docs_train, padded_school_states_train,\n",
    "    padded_project_grade_cats_train, padded_clean_category_train,\n",
    "    padded_clean_subcategory_train, padded_teacher_prefix_train,\n",
    "    other_features_train\n",
    "], [y_train],\n",
    "                epochs=20,\n",
    "                batch_size=1024,validation_data=([\n",
    "                    padded_docs_CV, padded_school_states_CV,\n",
    "                    padded_project_grade_cats_CV, padded_clean_category_CV,\n",
    "                    padded_clean_subcategory_CV, padded_teacher_prefix_CV, other_features_CV\n",
    "                ], [y_CV]),\n",
    "                 callbacks=[ival, tb_2])"
   ]
  },
  {
   "cell_type": "markdown",
   "metadata": {},
   "source": [
    "**Model 2: Training loss**"
   ]
  },
  {
   "cell_type": "code",
   "execution_count": 89,
   "metadata": {
    "ExecuteTime": {
     "end_time": "2019-09-12T12:45:13.896524Z",
     "start_time": "2019-09-12T12:45:13.891010Z"
    }
   },
   "outputs": [
    {
     "data": {
      "image/png": "[encoded data removed]",
      "text/plain": [
       "<IPython.core.display.Image object>"
      ]
     },
     "execution_count": 89,
     "metadata": {},
     "output_type": "execute_result"
    }
   ],
   "source": [
    "Image('model_2_train_loss.png')"
   ]
  },
  {
   "cell_type": "markdown",
   "metadata": {},
   "source": [
    "**Model 2: validation loss**"
   ]
  },
  {
   "cell_type": "code",
   "execution_count": 90,
   "metadata": {
    "ExecuteTime": {
     "end_time": "2019-09-12T12:45:24.417663Z",
     "start_time": "2019-09-12T12:45:24.409943Z"
    }
   },
   "outputs": [
    {
     "data": {
      "image/png": "[encoded data removed]",
      "text/plain": [
       "<IPython.core.display.Image object>"
      ]
     },
     "execution_count": 90,
     "metadata": {},
     "output_type": "execute_result"
    }
   ],
   "source": [
    "Image('model_2_validation_loss.png')"
   ]
  },
  {
   "cell_type": "code",
   "execution_count": 95,
   "metadata": {
    "ExecuteTime": {
     "end_time": "2019-09-12T12:55:32.156033Z",
     "start_time": "2019-09-12T12:55:31.038415Z"
    }
   },
   "outputs": [
    {
     "data": {
      "image/png": "[encoded data removed]",
      "text/plain": [
       "<IPython.core.display.Image object>"
      ]
     },
     "execution_count": 95,
     "metadata": {
      "image/png": {
       "height": 590,
       "width": 1435
      }
     },
     "output_type": "execute_result"
    }
   ],
   "source": [
    "from keras.utils import plot_model\n",
    "import pydot_ng as pydot\n",
    "plot_model(final_model_2, show_shapes=True, show_layer_names=True, to_file='model_2.png')\n",
    "from IPython.display import Image\n",
    "Image(retina=True, filename='model_2.png')"
   ]
  },
  {
   "cell_type": "markdown",
   "metadata": {},
   "source": [
    "# Model 3"
   ]
  },
  {
   "cell_type": "code",
   "execution_count": 15,
   "metadata": {
    "ExecuteTime": {
     "end_time": "2019-09-12T11:10:10.065698Z",
     "start_time": "2019-09-12T11:10:10.048008Z"
    }
   },
   "outputs": [],
   "source": [
    "from sklearn.feature_extraction.text import CountVectorizer\n",
    "from scipy.sparse import hstack"
   ]
  },
  {
   "cell_type": "code",
   "execution_count": 16,
   "metadata": {
    "ExecuteTime": {
     "end_time": "2019-09-12T11:10:12.240039Z",
     "start_time": "2019-09-12T11:10:12.235204Z"
    }
   },
   "outputs": [
    {
     "data": {
      "text/plain": [
       "Index(['school_state', 'teacher_prefix', 'project_grade_category',\n",
       "       'teacher_number_of_previously_posted_projects', 'clean_categories',\n",
       "       'clean_subcategories', 'essay', 'price'],\n",
       "      dtype='object')"
      ]
     },
     "execution_count": 16,
     "metadata": {},
     "output_type": "execute_result"
    }
   ],
   "source": [
    "df_X_train.columns"
   ]
  },
  {
   "cell_type": "code",
   "execution_count": 47,
   "metadata": {
    "ExecuteTime": {
     "end_time": "2019-09-11T14:37:37.826561Z",
     "start_time": "2019-09-11T14:37:37.822053Z"
    }
   },
   "outputs": [
    {
     "data": {
      "text/plain": [
       "Index(['school_state', 'teacher_prefix', 'project_grade_category',\n",
       "       'teacher_number_of_previously_posted_projects', 'project_is_approved',\n",
       "       'clean_categories', 'clean_subcategories', 'essay', 'price'],\n",
       "      dtype='object')"
      ]
     },
     "execution_count": 47,
     "metadata": {},
     "output_type": "execute_result"
    }
   ],
   "source": [
    "df_donors.columns"
   ]
  },
  {
   "cell_type": "markdown",
   "metadata": {},
   "source": [
    "**School state 1 hot encoded**"
   ]
  },
  {
   "cell_type": "code",
   "execution_count": 17,
   "metadata": {
    "ExecuteTime": {
     "end_time": "2019-09-12T11:10:15.417063Z",
     "start_time": "2019-09-12T11:10:15.122936Z"
    }
   },
   "outputs": [],
   "source": [
    "vec = CountVectorizer(binary=False)\n",
    "\n",
    "school_state_train_1hot = vec.fit_transform(df_X_train['school_state'])\n",
    "school_state_CV_1hot = vec.transform(df_X_CV['school_state'])\n",
    "school_state_test_1hot = vec.transform(df_X_test['school_state'])"
   ]
  },
  {
   "cell_type": "markdown",
   "metadata": {},
   "source": [
    "**Teacher prefix 1 hot encoded**"
   ]
  },
  {
   "cell_type": "code",
   "execution_count": 18,
   "metadata": {
    "ExecuteTime": {
     "end_time": "2019-09-12T11:10:17.598866Z",
     "start_time": "2019-09-12T11:10:17.311948Z"
    }
   },
   "outputs": [],
   "source": [
    "vec = CountVectorizer(binary=False)\n",
    "\n",
    "teacher_prefix_train_1hot = vec.fit_transform(df_X_train['teacher_prefix'])\n",
    "teacher_prefix_CV_1hot = vec.transform(df_X_CV['teacher_prefix'])\n",
    "teacher_prefix_test_1hot = vec.transform(df_X_test['teacher_prefix'])"
   ]
  },
  {
   "cell_type": "code",
   "execution_count": 301,
   "metadata": {
    "ExecuteTime": {
     "end_time": "2019-09-12T10:51:45.604924Z",
     "start_time": "2019-09-12T10:51:45.599530Z"
    }
   },
   "outputs": [
    {
     "data": {
      "text/plain": [
       "(69918, 5)"
      ]
     },
     "execution_count": 301,
     "metadata": {},
     "output_type": "execute_result"
    }
   ],
   "source": [
    "teacher_prefix_train_1hot.toarray().shape"
   ]
  },
  {
   "cell_type": "markdown",
   "metadata": {
    "ExecuteTime": {
     "end_time": "2019-09-11T14:44:59.198971Z",
     "start_time": "2019-09-11T14:44:59.189665Z"
    }
   },
   "source": [
    "**Project grade category 1 hot encoded**"
   ]
  },
  {
   "cell_type": "code",
   "execution_count": 19,
   "metadata": {
    "ExecuteTime": {
     "end_time": "2019-09-12T11:10:22.018316Z",
     "start_time": "2019-09-12T11:10:21.715696Z"
    }
   },
   "outputs": [],
   "source": [
    "vec = CountVectorizer(binary=False)\n",
    "\n",
    "project_grade_category_train_1hot = vec.fit_transform(df_X_train['project_grade_category'])\n",
    "project_grade_category_CV_1hot = vec.transform(df_X_CV['project_grade_category'])\n",
    "project_grade_category_test_1hot = vec.transform(df_X_test['project_grade_category'])"
   ]
  },
  {
   "cell_type": "code",
   "execution_count": 303,
   "metadata": {
    "ExecuteTime": {
     "end_time": "2019-09-12T10:51:57.528319Z",
     "start_time": "2019-09-12T10:51:57.521957Z"
    }
   },
   "outputs": [
    {
     "data": {
      "text/plain": [
       "(69918, 4)"
      ]
     },
     "execution_count": 303,
     "metadata": {},
     "output_type": "execute_result"
    }
   ],
   "source": [
    "project_grade_category_train_1hot.toarray().shape"
   ]
  },
  {
   "cell_type": "markdown",
   "metadata": {},
   "source": [
    "**clean_categories 1 hot encoded**"
   ]
  },
  {
   "cell_type": "code",
   "execution_count": 20,
   "metadata": {
    "ExecuteTime": {
     "end_time": "2019-09-12T11:10:25.684801Z",
     "start_time": "2019-09-12T11:10:25.337644Z"
    }
   },
   "outputs": [],
   "source": [
    "vec = CountVectorizer(binary=False)\n",
    "\n",
    "clean_categories_train_1hot = vec.fit_transform(\n",
    "    df_X_train['clean_categories'])\n",
    "\n",
    "clean_categories_CV_1hot = vec.transform(\n",
    "    df_X_CV['clean_categories'])\n",
    "\n",
    "clean_categories_test_1hot = vec.transform(\n",
    "    df_X_test['clean_categories'])"
   ]
  },
  {
   "cell_type": "markdown",
   "metadata": {},
   "source": [
    "**Clean subcategories**"
   ]
  },
  {
   "cell_type": "code",
   "execution_count": 21,
   "metadata": {
    "ExecuteTime": {
     "end_time": "2019-09-12T11:10:27.902876Z",
     "start_time": "2019-09-12T11:10:27.543415Z"
    }
   },
   "outputs": [],
   "source": [
    "vec = CountVectorizer(binary=False)\n",
    "\n",
    "clean_subcategories_train_1hot = vec.fit_transform(\n",
    "    df_X_train['clean_subcategories'])\n",
    "\n",
    "clean_subcategories_CV_1hot = vec.transform(\n",
    "    df_X_CV['clean_subcategories'])\n",
    "\n",
    "clean_subcategories_test_1hot = vec.transform(\n",
    "    df_X_test['clean_subcategories'])"
   ]
  },
  {
   "cell_type": "markdown",
   "metadata": {},
   "source": [
    "**Stack all 1 hot encoded features together**"
   ]
  },
  {
   "cell_type": "code",
   "execution_count": 22,
   "metadata": {
    "ExecuteTime": {
     "end_time": "2019-09-12T11:10:30.519613Z",
     "start_time": "2019-09-12T11:10:30.434954Z"
    }
   },
   "outputs": [],
   "source": [
    "other_features_train = hstack([\n",
    "    school_state_train_1hot, teacher_prefix_train_1hot,\n",
    "    project_grade_category_train_1hot, clean_categories_train_1hot,\n",
    "    clean_subcategories_train_1hot\n",
    "]).todense()\n",
    "\n",
    "other_features_CV = hstack([\n",
    "    school_state_CV_1hot, teacher_prefix_CV_1hot,\n",
    "    project_grade_category_CV_1hot, clean_categories_CV_1hot,\n",
    "    clean_subcategories_CV_1hot\n",
    "]).todense()\n",
    "\n",
    "\n",
    "other_features_test = hstack([\n",
    "    school_state_test_1hot, teacher_prefix_test_1hot,\n",
    "    project_grade_category_test_1hot, clean_categories_test_1hot,\n",
    "    clean_subcategories_test_1hot\n",
    "]).todense()\n"
   ]
  },
  {
   "cell_type": "code",
   "execution_count": 23,
   "metadata": {
    "ExecuteTime": {
     "end_time": "2019-09-12T11:10:33.394397Z",
     "start_time": "2019-09-12T11:10:33.388214Z"
    }
   },
   "outputs": [
    {
     "data": {
      "text/plain": [
       "((69918, 99), (17480, 99), (21850, 99))"
      ]
     },
     "execution_count": 23,
     "metadata": {},
     "output_type": "execute_result"
    }
   ],
   "source": [
    "other_features_train.shape, other_features_CV.shape, other_features_test.shape"
   ]
  },
  {
   "cell_type": "markdown",
   "metadata": {},
   "source": [
    "**Numerical features**"
   ]
  },
  {
   "cell_type": "code",
   "execution_count": 24,
   "metadata": {
    "ExecuteTime": {
     "end_time": "2019-09-12T11:10:36.060368Z",
     "start_time": "2019-09-12T11:10:36.047338Z"
    }
   },
   "outputs": [],
   "source": [
    "X_train_ppp = df_X_train[[\n",
    "    'teacher_number_of_previously_posted_projects', 'price'\n",
    "]].values.reshape(-1, 2)\n",
    "\n",
    "X_CV_ppp = df_X_CV[['teacher_number_of_previously_posted_projects',\n",
    "                    'price']].values.reshape(-1, 2)\n",
    "\n",
    "X_test_ppp = df_X_test[[\n",
    "    'teacher_number_of_previously_posted_projects', 'price'\n",
    "]].values.reshape(-1, 2)"
   ]
  },
  {
   "cell_type": "code",
   "execution_count": 25,
   "metadata": {
    "ExecuteTime": {
     "end_time": "2019-09-12T11:10:38.040165Z",
     "start_time": "2019-09-12T11:10:38.030743Z"
    }
   },
   "outputs": [],
   "source": [
    "scaler = StandardScaler()\n",
    "\n",
    "X_train_ppp = scaler.fit_transform(X_train_ppp)\n",
    "X_CV_ppp = scaler.transform(X_CV_ppp)\n",
    "X_test_ppp = scaler.transform(X_test_ppp)"
   ]
  },
  {
   "cell_type": "markdown",
   "metadata": {},
   "source": [
    "**Stack all features together**"
   ]
  },
  {
   "cell_type": "code",
   "execution_count": 26,
   "metadata": {
    "ExecuteTime": {
     "end_time": "2019-09-12T11:10:40.291991Z",
     "start_time": "2019-09-12T11:10:40.245359Z"
    }
   },
   "outputs": [],
   "source": [
    "X_train = np.hstack([other_features_train, X_train_ppp])\n",
    "X_CV = np.hstack([other_features_CV, X_CV_ppp])\n",
    "X_test = np.hstack([other_features_test, X_test_ppp])"
   ]
  },
  {
   "cell_type": "code",
   "execution_count": 27,
   "metadata": {
    "ExecuteTime": {
     "end_time": "2019-09-12T11:10:42.941320Z",
     "start_time": "2019-09-12T11:10:42.937725Z"
    }
   },
   "outputs": [],
   "source": [
    "X_train = np.expand_dims(X_train,2)\n",
    "X_CV = np.expand_dims(X_CV,2)\n",
    "X_test = np.expand_dims(X_test,2)"
   ]
  },
  {
   "cell_type": "code",
   "execution_count": 28,
   "metadata": {
    "ExecuteTime": {
     "end_time": "2019-09-12T11:10:45.937204Z",
     "start_time": "2019-09-12T11:10:45.932970Z"
    }
   },
   "outputs": [
    {
     "data": {
      "text/plain": [
       "(69918, 101, 1)"
      ]
     },
     "execution_count": 28,
     "metadata": {},
     "output_type": "execute_result"
    }
   ],
   "source": [
    "X_train.shape"
   ]
  },
  {
   "cell_type": "code",
   "execution_count": 29,
   "metadata": {
    "ExecuteTime": {
     "end_time": "2019-09-12T11:10:50.911557Z",
     "start_time": "2019-09-12T11:10:50.865927Z"
    }
   },
   "outputs": [],
   "source": [
    "inp_conv =  Input(shape=(101,1),name='all_features')\n",
    "x1 = Conv1D(filters=128, kernel_size=(3), activation='relu',kernel_initializer=\"he_normal\")(inp_conv)\n",
    "x1 = Conv1D(filters=128, kernel_size=(3), activation='relu',kernel_initializer=\"he_normal\")(x1)\n",
    "x3 = Flatten()(x1)"
   ]
  },
  {
   "cell_type": "markdown",
   "metadata": {},
   "source": [
    "**concatenate the outputs**"
   ]
  },
  {
   "cell_type": "code",
   "execution_count": 37,
   "metadata": {
    "ExecuteTime": {
     "end_time": "2019-09-12T11:46:22.689856Z",
     "start_time": "2019-09-12T11:46:22.594366Z"
    }
   },
   "outputs": [],
   "source": [
    "merged = concatenate([lstm_out_flattened, x3])\n",
    "\n",
    "x = Dense(128,\n",
    "          activation=\"relu\",\n",
    "          kernel_initializer=\"he_normal\",\n",
    "          kernel_regularizer=regularizers.l2(0.001))(merged)\n",
    "\n",
    "x=Dropout(0.5)(x)\n",
    "\n",
    "x = Dense(64,activation=\"relu\",kernel_initializer=\"he_normal\",kernel_regularizer=regularizers.l2(0.001))(x)\n",
    "\n",
    "x=Dropout(0.3)(x)\n",
    "\n",
    "x = Dense(32,activation=\"relu\",kernel_initializer=\"he_normal\",kernel_regularizer=regularizers.l2(0.001))(x)\n",
    "\n",
    "output = Dense(1, activation='sigmoid', name='output')(x)\n",
    "model_3 = Model(inputs=[essay_input,inp_conv],outputs=[output])"
   ]
  },
  {
   "cell_type": "code",
   "execution_count": 38,
   "metadata": {
    "ExecuteTime": {
     "end_time": "2019-09-12T11:46:26.014810Z",
     "start_time": "2019-09-12T11:46:26.010575Z"
    }
   },
   "outputs": [],
   "source": [
    "ival = IntervalEvaluation(validation_data=([\n",
    "                padded_docs_CV, X_CV\n",
    "            ], y_CV), interval=10)"
   ]
  },
  {
   "cell_type": "code",
   "execution_count": 39,
   "metadata": {
    "ExecuteTime": {
     "end_time": "2019-09-12T11:46:29.037633Z",
     "start_time": "2019-09-12T11:46:28.990220Z"
    }
   },
   "outputs": [],
   "source": [
    "from keras.optimizers import Adam\n",
    "adam = Adam(lr=0.001, beta_1=0.9, beta_2=0.999, epsilon=None, decay=0.0, amsgrad=False)\n",
    "model_3.compile(optimizer=adam, loss='binary_crossentropy', metrics=['accuracy'])"
   ]
  },
  {
   "cell_type": "code",
   "execution_count": 40,
   "metadata": {
    "ExecuteTime": {
     "end_time": "2019-09-12T11:46:31.360986Z",
     "start_time": "2019-09-12T11:46:31.352949Z"
    },
    "scrolled": true
   },
   "outputs": [
    {
     "name": "stdout",
     "output_type": "stream",
     "text": [
      "__________________________________________________________________________________________________\n",
      "Layer (type)                    Output Shape         Param #     Connected to                     \n",
      "==================================================================================================\n",
      "input_1 (InputLayer)            (None, 231)          0                                            \n",
      "__________________________________________________________________________________________________\n",
      "all_features (InputLayer)       (None, 101, 1)       0                                            \n",
      "__________________________________________________________________________________________________\n",
      "embedding_1 (Embedding)         (None, 231, 300)     14160600    input_1[0][0]                    \n",
      "__________________________________________________________________________________________________\n",
      "conv1d_1 (Conv1D)               (None, 99, 128)      512         all_features[0][0]               \n",
      "__________________________________________________________________________________________________\n",
      "lstm_1 (LSTM)                   (None, 231, 128)     219648      embedding_1[0][0]                \n",
      "__________________________________________________________________________________________________\n",
      "conv1d_2 (Conv1D)               (None, 97, 128)      49280       conv1d_1[0][0]                   \n",
      "__________________________________________________________________________________________________\n",
      "flatten_1 (Flatten)             (None, 29568)        0           lstm_1[0][0]                     \n",
      "__________________________________________________________________________________________________\n",
      "flatten_2 (Flatten)             (None, 12416)        0           conv1d_2[0][0]                   \n",
      "__________________________________________________________________________________________________\n",
      "concatenate_2 (Concatenate)     (None, 41984)        0           flatten_1[0][0]                  \n",
      "                                                                 flatten_2[0][0]                  \n",
      "__________________________________________________________________________________________________\n",
      "dense_4 (Dense)                 (None, 128)          5374080     concatenate_2[0][0]              \n",
      "__________________________________________________________________________________________________\n",
      "dropout_3 (Dropout)             (None, 128)          0           dense_4[0][0]                    \n",
      "__________________________________________________________________________________________________\n",
      "dense_5 (Dense)                 (None, 64)           8256        dropout_3[0][0]                  \n",
      "__________________________________________________________________________________________________\n",
      "dropout_4 (Dropout)             (None, 64)           0           dense_5[0][0]                    \n",
      "__________________________________________________________________________________________________\n",
      "dense_6 (Dense)                 (None, 32)           2080        dropout_4[0][0]                  \n",
      "__________________________________________________________________________________________________\n",
      "output (Dense)                  (None, 1)            33          dense_6[0][0]                    \n",
      "==================================================================================================\n",
      "Total params: 19,814,489\n",
      "Trainable params: 5,653,889\n",
      "Non-trainable params: 14,160,600\n",
      "__________________________________________________________________________________________________\n"
     ]
    }
   ],
   "source": [
    "model_3.summary()"
   ]
  },
  {
   "cell_type": "code",
   "execution_count": 41,
   "metadata": {
    "ExecuteTime": {
     "end_time": "2019-09-12T11:46:40.093221Z",
     "start_time": "2019-09-12T11:46:40.087294Z"
    }
   },
   "outputs": [],
   "source": [
    "tb = TensorBoard(log_dir=\"logs/{}\".format(time()))"
   ]
  },
  {
   "cell_type": "markdown",
   "metadata": {},
   "source": [
    "**Display the built model**"
   ]
  },
  {
   "cell_type": "code",
   "execution_count": 96,
   "metadata": {
    "ExecuteTime": {
     "end_time": "2019-09-12T12:57:48.990152Z",
     "start_time": "2019-09-12T12:57:48.528241Z"
    }
   },
   "outputs": [
    {
     "data": {
      "image/png": "[encoded data removed]",
      "text/plain": [
       "<IPython.core.display.Image object>"
      ]
     },
     "execution_count": 96,
     "metadata": {
      "image/png": {
       "height": 590,
       "width": 428
      }
     },
     "output_type": "execute_result"
    }
   ],
   "source": [
    "plot_model(model_3, show_shapes=True, show_layer_names=True, to_file='model_3.png')\n",
    "Image(retina=True, filename='model_3.png')"
   ]
  },
  {
   "cell_type": "code",
   "execution_count": 42,
   "metadata": {
    "ExecuteTime": {
     "end_time": "2019-09-12T12:18:15.712523Z",
     "start_time": "2019-09-12T11:46:43.832819Z"
    }
   },
   "outputs": [
    {
     "name": "stdout",
     "output_type": "stream",
     "text": [
      "Train on 69918 samples, validate on 17480 samples\n",
      "Epoch 1/20\n",
      "69918/69918 [==============================] - 33s 468us/step - loss: 0.6333 - acc: 0.8498 - val_loss: 0.5330 - val_acc: 0.8559\n",
      "********************** Epoch: 1 AUC:  0.7512240604313607 *********************\n",
      "Epoch 2/20\n",
      "69918/69918 [==============================] - 31s 444us/step - loss: 0.4995 - acc: 0.8575 - val_loss: 0.4862 - val_acc: 0.8551\n",
      "********************** Epoch: 2 AUC:  0.7503047164363255 *********************\n",
      "Epoch 3/20\n",
      "69918/69918 [==============================] - 31s 440us/step - loss: 0.4616 - acc: 0.8579 - val_loss: 0.4622 - val_acc: 0.8581\n",
      "********************** Epoch: 3 AUC:  0.7485465011878258 *********************\n",
      "Epoch 4/20\n",
      "69918/69918 [==============================] - 31s 442us/step - loss: 0.4398 - acc: 0.8590 - val_loss: 0.4443 - val_acc: 0.8550\n",
      "********************** Epoch: 4 AUC:  0.749396082473042 *********************\n",
      "Epoch 5/20\n",
      "69918/69918 [==============================] - 31s 440us/step - loss: 0.4261 - acc: 0.8600 - val_loss: 0.4345 - val_acc: 0.8549\n",
      "********************** Epoch: 5 AUC:  0.7503933467589674 *********************\n",
      "Epoch 6/20\n",
      "69918/69918 [==============================] - 31s 439us/step - loss: 0.4156 - acc: 0.8606 - val_loss: 0.4320 - val_acc: 0.8537\n",
      "********************** Epoch: 6 AUC:  0.7536790305838489 *********************\n",
      "Epoch 7/20\n",
      "69918/69918 [==============================] - 31s 438us/step - loss: 0.4103 - acc: 0.8609 - val_loss: 0.4320 - val_acc: 0.8539\n",
      "********************** Epoch: 7 AUC:  0.7406874285826864 *********************\n",
      "Epoch 8/20\n",
      "69918/69918 [==============================] - 31s 442us/step - loss: 0.4068 - acc: 0.8608 - val_loss: 0.4363 - val_acc: 0.8553\n",
      "********************** Epoch: 8 AUC:  0.748075952415547 *********************\n",
      "Epoch 9/20\n",
      "69918/69918 [==============================] - 31s 440us/step - loss: 0.4032 - acc: 0.8625 - val_loss: 0.4274 - val_acc: 0.8482\n",
      "********************** Epoch: 9 AUC:  0.7507430966341923 *********************\n",
      "Epoch 10/20\n",
      "69918/69918 [==============================] - 31s 440us/step - loss: 0.4004 - acc: 0.8617 - val_loss: 0.4266 - val_acc: 0.8530\n",
      "********************** Epoch: 10 AUC:  0.7495711754592052 *********************\n",
      "Epoch 11/20\n",
      "69918/69918 [==============================] - 31s 439us/step - loss: 0.4015 - acc: 0.8622 - val_loss: 0.4316 - val_acc: 0.8467\n",
      "********************** Epoch: 11 AUC:  0.7465507669357541 *********************\n",
      "Epoch 12/20\n",
      "69918/69918 [==============================] - 31s 438us/step - loss: 0.3993 - acc: 0.8612 - val_loss: 0.4363 - val_acc: 0.8413\n",
      "********************** Epoch: 12 AUC:  0.7520233879388469 *********************\n",
      "Epoch 13/20\n",
      "69918/69918 [==============================] - 31s 443us/step - loss: 0.3983 - acc: 0.8623 - val_loss: 0.4236 - val_acc: 0.8545\n",
      "********************** Epoch: 13 AUC:  0.7429140890762704 *********************\n",
      "Epoch 14/20\n",
      "69918/69918 [==============================] - 31s 440us/step - loss: 0.3960 - acc: 0.8634 - val_loss: 0.4272 - val_acc: 0.8574\n",
      "********************** Epoch: 14 AUC:  0.744264515055919 *********************\n",
      "Epoch 15/20\n",
      "69918/69918 [==============================] - 31s 444us/step - loss: 0.3964 - acc: 0.8649 - val_loss: 0.4325 - val_acc: 0.8582\n",
      "********************** Epoch: 15 AUC:  0.7397330685556958 *********************\n",
      "Epoch 16/20\n",
      "69918/69918 [==============================] - 31s 440us/step - loss: 0.3969 - acc: 0.8645 - val_loss: 0.4284 - val_acc: 0.8565\n",
      "********************** Epoch: 16 AUC:  0.7449217262139303 *********************\n",
      "Epoch 17/20\n",
      "69918/69918 [==============================] - 31s 439us/step - loss: 0.3943 - acc: 0.8648 - val_loss: 0.4318 - val_acc: 0.8470\n",
      "********************** Epoch: 17 AUC:  0.750926257416729 *********************\n",
      "Epoch 18/20\n",
      "69918/69918 [==============================] - 31s 438us/step - loss: 0.3932 - acc: 0.8663 - val_loss: 0.4284 - val_acc: 0.8552\n",
      "********************** Epoch: 18 AUC:  0.742286994271018 *********************\n",
      "Epoch 19/20\n",
      "69918/69918 [==============================] - 31s 439us/step - loss: 0.3950 - acc: 0.8671 - val_loss: 0.4376 - val_acc: 0.8530\n",
      "********************** Epoch: 19 AUC:  0.7437019754480411 *********************\n",
      "Epoch 20/20\n",
      "69918/69918 [==============================] - 31s 440us/step - loss: 0.3954 - acc: 0.8683 - val_loss: 0.4366 - val_acc: 0.8511\n",
      "********************** Epoch: 20 AUC:  0.7415173598455744 *********************\n"
     ]
    },
    {
     "data": {
      "text/plain": [
       "<keras.callbacks.History at 0x7fdd477c8ac8>"
      ]
     },
     "execution_count": 42,
     "metadata": {},
     "output_type": "execute_result"
    },
    {
     "data": {
      "application/javascript": [
       "$(document).ready(\n",
       "    function() {\n",
       "        function appendUniqueDiv(){\n",
       "            // append a div with our uuid so we can check that it's already\n",
       "            // been sent and avoid duplicates on page reload\n",
       "            var notifiedDiv = document.createElement(\"div\")\n",
       "            notifiedDiv.id = \"6bf8d17d-88c3-4bea-8825-31287b90fd88\"\n",
       "            element.append(notifiedDiv)\n",
       "        }\n",
       "\n",
       "        // only send notifications if the pageload is complete; this will\n",
       "        // help stop extra notifications when a saved notebook is loaded,\n",
       "        // which during testing gives us state \"interactive\", not \"complete\"\n",
       "        if (document.readyState === 'complete') {\n",
       "            // check for the div that signifies that the notification\n",
       "            // was already sent\n",
       "            if (document.getElementById(\"6bf8d17d-88c3-4bea-8825-31287b90fd88\") === null) {\n",
       "                var notificationPayload = {\"requireInteraction\": false, \"body\": \"Cell execution has finished!\", \"icon\": \"/static/base/images/favicon.ico\"};\n",
       "                if (Notification.permission !== 'denied') {\n",
       "                    if (Notification.permission !== 'granted') { \n",
       "                        Notification.requestPermission(function (permission) {\n",
       "                            if(!('permission' in Notification)) {\n",
       "                                Notification.permission = permission\n",
       "                            }\n",
       "                        })\n",
       "                    }\n",
       "                    if (Notification.permission === 'granted') {\n",
       "                    var notification = new Notification(\"Jupyter Notebook\", notificationPayload)\n",
       "                    appendUniqueDiv()\n",
       "                    notification.onclick = function () {\n",
       "                        window.focus();\n",
       "                        this.close();\n",
       "                        };\n",
       "                    } \n",
       "                }     \n",
       "            }\n",
       "        }\n",
       "    }\n",
       ")\n"
      ],
      "text/plain": [
       "<IPython.core.display.Javascript object>"
      ]
     },
     "metadata": {},
     "output_type": "display_data"
    }
   ],
   "source": [
    "%%notify\n",
    "\n",
    "model_3.fit([padded_docs_train, X_train], [y_train],\n",
    "            epochs=20,\n",
    "            batch_size=1024,\n",
    "            validation_data=([padded_docs_CV, X_CV], [y_CV]),\n",
    "            callbacks=[ival, tb])"
   ]
  },
  {
   "cell_type": "markdown",
   "metadata": {},
   "source": [
    "**Model 2: Training loss**"
   ]
  },
  {
   "cell_type": "code",
   "execution_count": 43,
   "metadata": {
    "ExecuteTime": {
     "end_time": "2019-09-12T12:23:42.533659Z",
     "start_time": "2019-09-12T12:23:42.524432Z"
    }
   },
   "outputs": [
    {
     "data": {
      "image/png": "[encoded data removed]",
      "text/plain": [
       "<IPython.core.display.Image object>"
      ]
     },
     "execution_count": 43,
     "metadata": {},
     "output_type": "execute_result"
    }
   ],
   "source": [
    "from IPython.display import Image\n",
    "Image('model_3_training_loss.png')"
   ]
  },
  {
   "cell_type": "markdown",
   "metadata": {},
   "source": [
    "**Model 3: validation loss**"
   ]
  },
  {
   "cell_type": "code",
   "execution_count": 46,
   "metadata": {
    "ExecuteTime": {
     "end_time": "2019-09-12T12:25:31.712429Z",
     "start_time": "2019-09-12T12:25:31.706576Z"
    }
   },
   "outputs": [
    {
     "data": {
      "image/png": "[encoded data removed]",
      "text/plain": [
       "<IPython.core.display.Image object>"
      ]
     },
     "execution_count": 46,
     "metadata": {},
     "output_type": "execute_result"
    }
   ],
   "source": [
    "Image('model_3_validation_loss.png')"
   ]
  },
  {
   "cell_type": "markdown",
   "metadata": {},
   "source": [
    "# Concluding Remarks\n",
    "\n",
    "* We tried out 3 different Neaural net models for this classification problem. The first two models had the same architecture, but varying number of essay features and used LSTMs.\n",
    "\n",
    "* We used Tensorboard to analyze how the loss function varies with each epoch.\n",
    "\n",
    "* Used Keras callbacks to print a custom metric (AUC) after each epoch. \n",
    "\n",
    "* The best AUC observed was ~0.76."
   ]
  }
 ],
 "metadata": {
  "kernelspec": {
   "display_name": "Python 3",
   "language": "python",
   "name": "python3"
  },
  "language_info": {
   "codemirror_mode": {
    "name": "ipython",
    "version": 3
   },
   "file_extension": ".py",
   "mimetype": "text/x-python",
   "name": "python",
   "nbconvert_exporter": "python",
   "pygments_lexer": "ipython3",
   "version": "3.5.3"
  },
  "toc": {
   "base_numbering": 1,
   "nav_menu": {},
   "number_sections": true,
   "sideBar": true,
   "skip_h1_title": false,
   "title_cell": "Table of Contents",
   "title_sidebar": "Contents",
   "toc_cell": false,
   "toc_position": {},
   "toc_section_display": true,
   "toc_window_display": false
  }
 },
 "nbformat": 4,
 "nbformat_minor": 2
}
