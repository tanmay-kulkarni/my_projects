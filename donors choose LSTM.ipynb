{
 "cells": [
  {
   "cell_type": "markdown",
   "metadata": {},
   "source": [
    "<h1 align=\"center\"> The Donor's Choose challenge</h1>\n",
    "\n",
    "\n",
    "![](https://cdn.donorschoose.net/images/logo/dc-logo.png)\n",
    "\n",
    "\n",
    "Founded in 2000 by a high school teacher in the Bronx, DonorsChoose.org empowers public school teachers from across the country to request much-needed materials and experiences for their students. At any given time, there are thousands of classroom requests that can be brought to life with a gift of any amount.\n",
    "\n",
    "DonorsChoose.org receives hundreds of thousands of project proposals each year for classroom projects in need of funding. Right now, a large number of volunteers is needed to manually screen each submission before it's approved to be posted on the DonorsChoose.org website.\n",
    "\n",
    "The goal of this problem originally posted on [Kaggle](https://www.kaggle.com/c/donorschoose-application-screening) is to predict whether or not a DonorsChoose.org project proposal submitted by a teacher will be approved, using the text of project descriptions as well as additional metadata about the project, teacher, and school. DonorsChoose.org can then use this information to identify projects most likely to need further review before approval.\n",
    "\n",
    "I will be doing some text cleaning, feature engineering and Neural Networks, particularly the LSTM to try and give a solution for this problem. Let's begin."
   ]
  },
  {
   "cell_type": "code",
   "execution_count": 59,
   "metadata": {
    "ExecuteTime": {
     "end_time": "2019-09-15T07:26:25.123992Z",
     "start_time": "2019-09-15T07:26:25.118089Z"
    }
   },
   "outputs": [],
   "source": [
    "import warnings\n",
    "warnings.filterwarnings('ignore')\n",
    "import pickle\n",
    "import matplotlib.pyplot as plt\n",
    "from sklearn.metrics import roc_auc_score, log_loss\n",
    "import pandas as pd\n",
    "from keras.optimizers import adam, RMSprop\n",
    "from keras import regularizers\n",
    "import numpy as np\n",
    "from sklearn.preprocessing import StandardScaler\n",
    "from numpy import asarray\n",
    "from keras.models import Model, Sequential\n",
    "from keras.layers import Concatenate, Dense, LSTM, Input, concatenate, Embedding, Flatten, concatenate, Dropout, Conv1D\n",
    "from keras.preprocessing.text import Tokenizer \n",
    "from keras.preprocessing.sequence import pad_sequences\n",
    "from time import time\n",
    "from keras.callbacks import TensorBoard"
   ]
  },
  {
   "cell_type": "code",
   "execution_count": 2,
   "metadata": {
    "ExecuteTime": {
     "end_time": "2019-09-15T06:52:45.297317Z",
     "start_time": "2019-09-15T06:52:45.249819Z"
    },
    "scrolled": true
   },
   "outputs": [
    {
     "data": {
      "application/javascript": [
       "if (!(\"Notification\" in window)) {\n",
       "    alert(\"This browser does not support desktop notifications, so the %%notify magic will not work.\");\n",
       "} else if (Notification.permission !== 'granted' && Notification.permission !== 'denied') {\n",
       "    Notification.requestPermission(function (permission) {\n",
       "        if(!('permission' in Notification)) {\n",
       "            Notification.permission = permission;\n",
       "        }\n",
       "    })\n",
       "}\n"
      ],
      "text/plain": [
       "<IPython.core.display.Javascript object>"
      ]
     },
     "metadata": {},
     "output_type": "display_data"
    }
   ],
   "source": [
    "%load_ext jupyternotify"
   ]
  },
  {
   "cell_type": "markdown",
   "metadata": {},
   "source": [
    "# Processing text data\n",
    "\n",
    "I will be using a processed csv file already available with me. But it still needs to be further changed.\n",
    "\n",
    "Keras or any other ML library cannot accept raw text data of `essay`, or categorical variables like `school_state`. Before we build our neural net models, we need to bring this data into a format that is suitable for feeding into a model. i.e. we need to convert them into numbers."
   ]
  },
  {
   "cell_type": "code",
   "execution_count": 3,
   "metadata": {
    "ExecuteTime": {
     "end_time": "2019-09-15T06:52:55.211267Z",
     "start_time": "2019-09-15T06:52:52.031922Z"
    }
   },
   "outputs": [],
   "source": [
    "df_donors = pd.read_csv('./preprocessed_data.csv')"
   ]
  },
  {
   "cell_type": "markdown",
   "metadata": {},
   "source": [
    "In this data, **project_is_approved** is the target variable"
   ]
  },
  {
   "cell_type": "code",
   "execution_count": 4,
   "metadata": {
    "ExecuteTime": {
     "end_time": "2019-09-15T06:52:55.235701Z",
     "start_time": "2019-09-15T06:52:55.214055Z"
    }
   },
   "outputs": [
    {
     "data": {
      "text/html": [
       "<div>\n",
       "<style scoped>\n",
       "    .dataframe tbody tr th:only-of-type {\n",
       "        vertical-align: middle;\n",
       "    }\n",
       "\n",
       "    .dataframe tbody tr th {\n",
       "        vertical-align: top;\n",
       "    }\n",
       "\n",
       "    .dataframe thead th {\n",
       "        text-align: right;\n",
       "    }\n",
       "</style>\n",
       "<table border=\"1\" class=\"dataframe\">\n",
       "  <thead>\n",
       "    <tr style=\"text-align: right;\">\n",
       "      <th></th>\n",
       "      <th>school_state</th>\n",
       "      <th>teacher_prefix</th>\n",
       "      <th>project_grade_category</th>\n",
       "      <th>teacher_number_of_previously_posted_projects</th>\n",
       "      <th>project_is_approved</th>\n",
       "      <th>clean_categories</th>\n",
       "      <th>clean_subcategories</th>\n",
       "      <th>essay</th>\n",
       "      <th>price</th>\n",
       "    </tr>\n",
       "  </thead>\n",
       "  <tbody>\n",
       "    <tr>\n",
       "      <th>0</th>\n",
       "      <td>ca</td>\n",
       "      <td>mrs</td>\n",
       "      <td>grades_prek_2</td>\n",
       "      <td>53</td>\n",
       "      <td>1</td>\n",
       "      <td>math_science</td>\n",
       "      <td>appliedsciences health_lifescience</td>\n",
       "      <td>i fortunate enough use fairy tale stem kits cl...</td>\n",
       "      <td>725.05</td>\n",
       "    </tr>\n",
       "    <tr>\n",
       "      <th>1</th>\n",
       "      <td>ut</td>\n",
       "      <td>ms</td>\n",
       "      <td>grades_3_5</td>\n",
       "      <td>4</td>\n",
       "      <td>1</td>\n",
       "      <td>specialneeds</td>\n",
       "      <td>specialneeds</td>\n",
       "      <td>imagine 8 9 years old you third grade classroo...</td>\n",
       "      <td>213.03</td>\n",
       "    </tr>\n",
       "    <tr>\n",
       "      <th>2</th>\n",
       "      <td>ca</td>\n",
       "      <td>mrs</td>\n",
       "      <td>grades_prek_2</td>\n",
       "      <td>10</td>\n",
       "      <td>1</td>\n",
       "      <td>literacy_language</td>\n",
       "      <td>literacy</td>\n",
       "      <td>having class 24 students comes diverse learner...</td>\n",
       "      <td>329.00</td>\n",
       "    </tr>\n",
       "    <tr>\n",
       "      <th>3</th>\n",
       "      <td>ga</td>\n",
       "      <td>mrs</td>\n",
       "      <td>grades_prek_2</td>\n",
       "      <td>2</td>\n",
       "      <td>1</td>\n",
       "      <td>appliedlearning</td>\n",
       "      <td>earlydevelopment</td>\n",
       "      <td>i recently read article giving students choice...</td>\n",
       "      <td>481.04</td>\n",
       "    </tr>\n",
       "    <tr>\n",
       "      <th>4</th>\n",
       "      <td>wa</td>\n",
       "      <td>mrs</td>\n",
       "      <td>grades_3_5</td>\n",
       "      <td>2</td>\n",
       "      <td>1</td>\n",
       "      <td>literacy_language</td>\n",
       "      <td>literacy</td>\n",
       "      <td>my students crave challenge eat obstacles brea...</td>\n",
       "      <td>17.74</td>\n",
       "    </tr>\n",
       "  </tbody>\n",
       "</table>\n",
       "</div>"
      ],
      "text/plain": [
       "  school_state teacher_prefix project_grade_category  \\\n",
       "0           ca            mrs          grades_prek_2   \n",
       "1           ut             ms             grades_3_5   \n",
       "2           ca            mrs          grades_prek_2   \n",
       "3           ga            mrs          grades_prek_2   \n",
       "4           wa            mrs             grades_3_5   \n",
       "\n",
       "   teacher_number_of_previously_posted_projects  project_is_approved  \\\n",
       "0                                            53                    1   \n",
       "1                                             4                    1   \n",
       "2                                            10                    1   \n",
       "3                                             2                    1   \n",
       "4                                             2                    1   \n",
       "\n",
       "    clean_categories                 clean_subcategories  \\\n",
       "0       math_science  appliedsciences health_lifescience   \n",
       "1       specialneeds                        specialneeds   \n",
       "2  literacy_language                            literacy   \n",
       "3    appliedlearning                    earlydevelopment   \n",
       "4  literacy_language                            literacy   \n",
       "\n",
       "                                               essay   price  \n",
       "0  i fortunate enough use fairy tale stem kits cl...  725.05  \n",
       "1  imagine 8 9 years old you third grade classroo...  213.03  \n",
       "2  having class 24 students comes diverse learner...  329.00  \n",
       "3  i recently read article giving students choice...  481.04  \n",
       "4  my students crave challenge eat obstacles brea...   17.74  "
      ]
     },
     "execution_count": 4,
     "metadata": {},
     "output_type": "execute_result"
    }
   ],
   "source": [
    "df_donors.head()"
   ]
  },
  {
   "cell_type": "markdown",
   "metadata": {},
   "source": [
    "**Create Train test, CV, test sets**"
   ]
  },
  {
   "cell_type": "code",
   "execution_count": 5,
   "metadata": {
    "ExecuteTime": {
     "end_time": "2019-09-15T06:53:00.610526Z",
     "start_time": "2019-09-15T06:53:00.520331Z"
    }
   },
   "outputs": [],
   "source": [
    "from sklearn.model_selection import train_test_split\n",
    "\n",
    "df_X_train_CV, df_X_test, y_train_CV, y_test = train_test_split(\n",
    "    df_donors.drop('project_is_approved', axis=1),\n",
    "    df_donors['project_is_approved'],\n",
    "    test_size=.20)\n",
    "\n",
    "df_X_train, df_X_CV, y_train, y_CV = train_test_split(df_X_train_CV,\n",
    "                                                   y_train_CV,\n",
    "                                                   test_size=0.20)"
   ]
  },
  {
   "cell_type": "code",
   "execution_count": 6,
   "metadata": {
    "ExecuteTime": {
     "end_time": "2019-09-15T06:30:06.740933Z",
     "start_time": "2019-09-15T06:30:06.736780Z"
    },
    "scrolled": true
   },
   "outputs": [
    {
     "data": {
      "text/plain": [
       "Index(['school_state', 'teacher_prefix', 'project_grade_category',\n",
       "       'teacher_number_of_previously_posted_projects', 'project_is_approved',\n",
       "       'clean_categories', 'clean_subcategories', 'essay', 'price'],\n",
       "      dtype='object')"
      ]
     },
     "execution_count": 6,
     "metadata": {},
     "output_type": "execute_result"
    }
   ],
   "source": [
    "df_donors.columns"
   ]
  },
  {
   "cell_type": "markdown",
   "metadata": {},
   "source": [
    "**Features**\n",
    "\n",
    "Our data has these features. We'll process each one of them in some way.\n",
    "\n",
    "    1 essay --> Embedding using pretrained Glove. Trainable = False\n",
    "    2 school_state --> Categorical --> Embedding. Trainable = True\n",
    "    3 grade_category --> Categorical --> Embedding. Trainable = True\n",
    "    4 clean_category --> Categorical --> Embedding. Trainable = True\n",
    "    5 clean_subcategory --> Categorical --> Embedding. Trainable = True\n",
    "    6 teacher_prefix --> Categorical --> Embedding. Trainable = True\n",
    "    7 teacher_number_of_previously_posted_projects --> Numerical feature.\n",
    "    \n",
    "Let's begin with the first and the most important feature - essay."
   ]
  },
  {
   "cell_type": "code",
   "execution_count": 7,
   "metadata": {
    "ExecuteTime": {
     "end_time": "2019-09-15T06:30:09.567450Z",
     "start_time": "2019-09-15T06:30:09.563200Z"
    },
    "scrolled": true
   },
   "outputs": [
    {
     "data": {
      "text/plain": [
       "((69918, 8), (17480, 8), (21850, 8))"
      ]
     },
     "execution_count": 7,
     "metadata": {},
     "output_type": "execute_result"
    }
   ],
   "source": [
    "df_X_train.shape, df_X_CV.shape, df_X_test.shape"
   ]
  },
  {
   "cell_type": "code",
   "execution_count": 8,
   "metadata": {
    "ExecuteTime": {
     "end_time": "2019-09-15T06:30:11.043780Z",
     "start_time": "2019-09-15T06:30:11.039773Z"
    }
   },
   "outputs": [
    {
     "data": {
      "text/plain": [
       "((69918,), (17480,), (21850,))"
      ]
     },
     "execution_count": 8,
     "metadata": {},
     "output_type": "execute_result"
    }
   ],
   "source": [
    "y_train.shape, y_CV.shape, y_test.shape"
   ]
  },
  {
   "cell_type": "markdown",
   "metadata": {},
   "source": [
    "## 1. Essay\n",
    "\n",
    "    step 1. Tokenize the essays\n",
    "    step 2. Pad the tokenized essays so that each one of them has a fixed length\n",
    "    step 3. Load the pretrained GloVe embeddings for words from the 300 dimensional version\n",
    "    step 4. create an embedding matrix, which stores the 300 dim vetor for each word in the vocabulary\n",
    "    step 5. Define the embedding and the LSTM layer "
   ]
  },
  {
   "cell_type": "code",
   "execution_count": 6,
   "metadata": {
    "ExecuteTime": {
     "end_time": "2019-09-15T06:53:18.816667Z",
     "start_time": "2019-09-15T06:53:06.875933Z"
    }
   },
   "outputs": [],
   "source": [
    "t_essays = Tokenizer()\n",
    "t_essays.fit_on_texts(df_X_train.essay.tolist())\n",
    "encoded_docs_train = t_essays.texts_to_sequences(df_X_train.essay.tolist())"
   ]
  },
  {
   "cell_type": "markdown",
   "metadata": {},
   "source": [
    "There are 47189 words in the vocabulary"
   ]
  },
  {
   "cell_type": "code",
   "execution_count": 7,
   "metadata": {
    "ExecuteTime": {
     "end_time": "2019-09-15T06:53:18.822838Z",
     "start_time": "2019-09-15T06:53:18.819499Z"
    }
   },
   "outputs": [
    {
     "name": "stdout",
     "output_type": "stream",
     "text": [
      "47453\n"
     ]
    }
   ],
   "source": [
    "vocab_size_essays = len(t_essays.word_index) + 1\n",
    "print(vocab_size_essays)"
   ]
  },
  {
   "cell_type": "markdown",
   "metadata": {},
   "source": [
    "**obtain the tokenized essay representation for CV and Test sets**"
   ]
  },
  {
   "cell_type": "code",
   "execution_count": 8,
   "metadata": {
    "ExecuteTime": {
     "end_time": "2019-09-15T06:53:21.545589Z",
     "start_time": "2019-09-15T06:53:18.825386Z"
    }
   },
   "outputs": [],
   "source": [
    "encoded_docs_CV = t_essays.texts_to_sequences(df_X_CV.essay.tolist())\n",
    "encoded_docs_test = t_essays.texts_to_sequences(df_X_test.essay.tolist())"
   ]
  },
  {
   "cell_type": "markdown",
   "metadata": {},
   "source": [
    "**Pad the inputs**\n",
    "\n",
    "Instead of padding all the essays (docs) with the same maximum length, let's see how the number of words in essays are distributed."
   ]
  },
  {
   "cell_type": "code",
   "execution_count": 12,
   "metadata": {
    "ExecuteTime": {
     "end_time": "2019-09-15T06:30:40.836988Z",
     "start_time": "2019-09-15T06:30:37.823555Z"
    }
   },
   "outputs": [
    {
     "data": {
      "image/png": "[encoded data removed]",
      "text/plain": [
       "<Figure size 1080x288 with 1 Axes>"
      ]
     },
     "metadata": {
      "needs_background": "light"
     },
     "output_type": "display_data"
    }
   ],
   "source": [
    "df_donors.essay.str.split().apply(len).plot.hist(figsize=(15,4))\n",
    "plt.title('Distribution of number of words in essays', fontsize=16)\n",
    "plt.xlabel('Number of words', fontsize=14)\n",
    "plt.ylabel('Number of Essays', fontsize=14)\n",
    "plt.show()"
   ]
  },
  {
   "cell_type": "markdown",
   "metadata": {},
   "source": [
    "**The 95th percentile of #words in essays is 231**. Which means most of the essays have much lower word count than the essay with maximum word count(339) in the dataset. If we pad the lengths to `339`, most of the other essays would have redundant 0 inputs. Instead, let's keep the max length of essay inputs to 231. Doing this would also improve the training time because fewer parameters would have to be trained."
   ]
  },
  {
   "cell_type": "code",
   "execution_count": 9,
   "metadata": {
    "ExecuteTime": {
     "end_time": "2019-09-15T06:53:31.164416Z",
     "start_time": "2019-09-15T06:53:24.800740Z"
    }
   },
   "outputs": [
    {
     "name": "stdout",
     "output_type": "stream",
     "text": [
      "95th Percentile word count in Essays: 231.0\n",
      "Maximum word count in essays: 339\n"
     ]
    }
   ],
   "source": [
    "pctile_95_wc = df_donors.essay.str.split().apply(len).quantile(.95)\n",
    "max_wc = df_donors.essay.str.split().apply(len).max()\n",
    "\n",
    "print('95th Percentile word count in Essays:', pctile_95_wc)\n",
    "print('Maximum word count in essays:', max_wc)"
   ]
  },
  {
   "cell_type": "code",
   "execution_count": 10,
   "metadata": {
    "ExecuteTime": {
     "end_time": "2019-09-15T06:53:32.563142Z",
     "start_time": "2019-09-15T06:53:31.168400Z"
    }
   },
   "outputs": [],
   "source": [
    "padded_docs_train = pad_sequences(encoded_docs_train,\n",
    "                                  maxlen=int(pctile_95_wc),\n",
    "                                  padding='post',\n",
    "                                  truncating='post')\n",
    "padded_docs_CV = pad_sequences(encoded_docs_CV,\n",
    "                               maxlen=int(pctile_95_wc),\n",
    "                               padding='post',\n",
    "                               truncating='post')\n",
    "padded_docs_test = pad_sequences(encoded_docs_test,\n",
    "                                 maxlen=int(pctile_95_wc),\n",
    "                                 padding='post',\n",
    "                                 truncating='post')"
   ]
  },
  {
   "cell_type": "markdown",
   "metadata": {},
   "source": [
    "As expected, the each essay in each of the sets has an input length of 231."
   ]
  },
  {
   "cell_type": "code",
   "execution_count": 15,
   "metadata": {
    "ExecuteTime": {
     "end_time": "2019-09-15T06:31:17.408935Z",
     "start_time": "2019-09-15T06:31:17.404108Z"
    }
   },
   "outputs": [
    {
     "data": {
      "text/plain": [
       "((69918, 231), (17480, 231), (21850, 231))"
      ]
     },
     "execution_count": 15,
     "metadata": {},
     "output_type": "execute_result"
    }
   ],
   "source": [
    "padded_docs_train.shape ,padded_docs_CV.shape, padded_docs_test.shape"
   ]
  },
  {
   "cell_type": "markdown",
   "metadata": {},
   "source": [
    "**Load pretrained Glove embedding for essays**"
   ]
  },
  {
   "cell_type": "code",
   "execution_count": 16,
   "metadata": {
    "ExecuteTime": {
     "end_time": "2019-09-12T14:29:40.429438Z",
     "start_time": "2019-09-12T14:29:40.426418Z"
    }
   },
   "outputs": [],
   "source": [
    "# load the whole embedding into memory\n",
    "embeddings_index = dict()\n",
    "errors = 0\n",
    "\n",
    "f = open('glove.840B.300d.txt')\n",
    "for line in f:\n",
    "    try:\n",
    "        values = line.split()\n",
    "        word = values[0]\n",
    "        coefs = asarray(values[1:], dtype='float32')\n",
    "        embeddings_index[word] = coefs\n",
    "    except:\n",
    "        errors += 1\n",
    "        print(errors, end='\\r')\n",
    "        continue\n",
    "    \n",
    "f.close()\n",
    "\n",
    "print('Loaded %s word vectors.' % len(embeddings_index))"
   ]
  },
  {
   "cell_type": "code",
   "execution_count": 11,
   "metadata": {
    "ExecuteTime": {
     "end_time": "2019-09-15T06:54:08.604593Z",
     "start_time": "2019-09-15T06:53:37.513155Z"
    }
   },
   "outputs": [],
   "source": [
    "# f = open('embeddings_index.pkl', 'rb')\n",
    "# embeddings_index = pickle.load(f)\n",
    "# f.close()"
   ]
  },
  {
   "cell_type": "code",
   "execution_count": 18,
   "metadata": {
    "ExecuteTime": {
     "end_time": "2019-09-12T14:30:09.330490Z",
     "start_time": "2019-09-12T14:30:09.325643Z"
    }
   },
   "outputs": [
    {
     "data": {
      "text/plain": [
       "2195884"
      ]
     },
     "execution_count": 18,
     "metadata": {},
     "output_type": "execute_result"
    }
   ],
   "source": [
    "len(embeddings_index)"
   ]
  },
  {
   "cell_type": "code",
   "execution_count": 19,
   "metadata": {
    "ExecuteTime": {
     "end_time": "2019-09-12T14:30:09.337381Z",
     "start_time": "2019-09-12T14:30:09.333271Z"
    }
   },
   "outputs": [
    {
     "data": {
      "text/plain": [
       "dict"
      ]
     },
     "execution_count": 19,
     "metadata": {},
     "output_type": "execute_result"
    }
   ],
   "source": [
    "type(embeddings_index)"
   ]
  },
  {
   "cell_type": "markdown",
   "metadata": {},
   "source": [
    "Save the embedding_index to the disk for fast retrieval"
   ]
  },
  {
   "cell_type": "code",
   "execution_count": 20,
   "metadata": {
    "ExecuteTime": {
     "end_time": "2019-09-12T14:30:09.342509Z",
     "start_time": "2019-09-12T14:30:09.340077Z"
    }
   },
   "outputs": [],
   "source": [
    "# import pickle\n",
    "# f = open('embeddings_index.pkl', 'wb')\n",
    "# pickle.dump(embeddings_index, f)\n",
    "# f.close()"
   ]
  },
  {
   "cell_type": "markdown",
   "metadata": {},
   "source": [
    "**create a weight matrix**\n",
    "\n",
    "Such that for each word in the essay vocabulary along the index, we get a 300 dimensional Glove vector along columns"
   ]
  },
  {
   "cell_type": "code",
   "execution_count": 12,
   "metadata": {
    "ExecuteTime": {
     "end_time": "2019-09-15T06:54:14.660277Z",
     "start_time": "2019-09-15T06:54:14.451718Z"
    }
   },
   "outputs": [],
   "source": [
    "# create a weight matrix for words in training docs\n",
    "embedding_matrix = np.zeros((vocab_size_essays, 300))\n",
    "for word, i in t_essays.word_index.items():\n",
    "    embedding_vector = embeddings_index.get(word)\n",
    "    if embedding_vector is not None:\n",
    "        embedding_matrix[i] = embedding_vector"
   ]
  },
  {
   "cell_type": "code",
   "execution_count": 22,
   "metadata": {
    "ExecuteTime": {
     "end_time": "2019-09-12T14:30:09.504249Z",
     "start_time": "2019-09-12T14:30:09.499881Z"
    },
    "scrolled": true
   },
   "outputs": [
    {
     "data": {
      "text/plain": [
       "(47517, 300)"
      ]
     },
     "execution_count": 22,
     "metadata": {},
     "output_type": "execute_result"
    }
   ],
   "source": [
    "embedding_matrix.shape"
   ]
  },
  {
   "cell_type": "markdown",
   "metadata": {},
   "source": [
    "**Define the embedding layer for essays**"
   ]
  },
  {
   "cell_type": "code",
   "execution_count": 13,
   "metadata": {
    "ExecuteTime": {
     "end_time": "2019-09-15T06:54:40.335016Z",
     "start_time": "2019-09-15T06:54:17.713347Z"
    }
   },
   "outputs": [
    {
     "name": "stderr",
     "output_type": "stream",
     "text": [
      "WARNING: Logging before flag parsing goes to stderr.\n",
      "W0915 06:54:17.716395 140234679891712 deprecation_wrapper.py:119] From /usr/local/lib/python3.5/dist-packages/keras/backend/tensorflow_backend.py:74: The name tf.get_default_graph is deprecated. Please use tf.compat.v1.get_default_graph instead.\n",
      "\n",
      "W0915 06:54:17.945641 140234679891712 deprecation_wrapper.py:119] From /usr/local/lib/python3.5/dist-packages/keras/backend/tensorflow_backend.py:517: The name tf.placeholder is deprecated. Please use tf.compat.v1.placeholder instead.\n",
      "\n",
      "W0915 06:54:18.012447 140234679891712 deprecation_wrapper.py:119] From /usr/local/lib/python3.5/dist-packages/keras/backend/tensorflow_backend.py:4138: The name tf.random_uniform is deprecated. Please use tf.random.uniform instead.\n",
      "\n",
      "W0915 06:54:18.031484 140234679891712 deprecation_wrapper.py:119] From /usr/local/lib/python3.5/dist-packages/keras/backend/tensorflow_backend.py:174: The name tf.get_default_session is deprecated. Please use tf.compat.v1.get_default_session instead.\n",
      "\n",
      "W0915 06:54:18.032191 140234679891712 deprecation_wrapper.py:119] From /usr/local/lib/python3.5/dist-packages/keras/backend/tensorflow_backend.py:181: The name tf.ConfigProto is deprecated. Please use tf.compat.v1.ConfigProto instead.\n",
      "\n",
      "W0915 06:54:40.136567 140234679891712 deprecation.py:506] From /usr/local/lib/python3.5/dist-packages/keras/backend/tensorflow_backend.py:3445: calling dropout (from tensorflow.python.ops.nn_ops) with keep_prob is deprecated and will be removed in a future version.\n",
      "Instructions for updating:\n",
      "Please use `rate` instead of `keep_prob`. Rate should be set to `rate = 1 - keep_prob`.\n"
     ]
    }
   ],
   "source": [
    "essay_input = Input(shape=(padded_docs_train.shape[1],))\n",
    "\n",
    "e = Embedding(vocab_size_essays,\n",
    "              300,\n",
    "              weights=[embedding_matrix],\n",
    "              input_length=padded_docs_train.shape[1],\n",
    "              trainable=False,\n",
    "              batch_size=64)(essay_input)\n",
    "\n",
    "lstm_out_essay = LSTM(units=128,\n",
    "                      recurrent_dropout=0.3, kernel_regularizer=regularizers.l2(0.001),\n",
    "                      input_shape=(padded_docs_train.shape[1], 300),\n",
    "                      return_sequences=True)(e)\n",
    "\n",
    "lstm_out_flattened = Flatten()(lstm_out_essay)"
   ]
  },
  {
   "cell_type": "markdown",
   "metadata": {},
   "source": [
    "## 2. School state\n",
    "\n",
    "This is a categorical variable and needs to be converted into tokens"
   ]
  },
  {
   "cell_type": "code",
   "execution_count": 14,
   "metadata": {
    "ExecuteTime": {
     "end_time": "2019-09-15T06:54:44.516485Z",
     "start_time": "2019-09-15T06:54:42.527937Z"
    }
   },
   "outputs": [],
   "source": [
    "t_school_state = Tokenizer()\n",
    "t_school_state.fit_on_texts(df_X_train.school_state.tolist())\n",
    "\n",
    "vocab_size_school_state = len(t_school_state.word_index) + 1\n",
    "\n",
    "encoded_school_states_train = t_school_state.texts_to_sequences(df_X_train.school_state)\n",
    "encoded_school_states_CV = t_school_state.texts_to_sequences(df_X_CV.school_state)\n",
    "encoded_school_states_test = t_school_state.texts_to_sequences(df_X_test.school_state)\n",
    "\n",
    "# Convert the above lists to numPy arrays and assign them to \"padded\" arrays so that it doesn't break the \n",
    "# following code\n",
    "\n",
    "padded_school_states_train = np.array(encoded_school_states_train)\n",
    "padded_school_states_CV = np.array(encoded_school_states_CV)\n",
    "padded_school_states_test = np.array(encoded_school_states_test)"
   ]
  },
  {
   "cell_type": "code",
   "execution_count": 25,
   "metadata": {
    "ExecuteTime": {
     "end_time": "2019-09-12T14:30:38.072027Z",
     "start_time": "2019-09-12T14:30:38.035679Z"
    }
   },
   "outputs": [
    {
     "data": {
      "text/plain": [
       "((69918, 1), (17480, 1), (21850, 1))"
      ]
     },
     "execution_count": 25,
     "metadata": {},
     "output_type": "execute_result"
    }
   ],
   "source": [
    "np.array(encoded_school_states_train).shape, np.array(encoded_school_states_CV).shape, np.array(encoded_school_states_test).shape"
   ]
  },
  {
   "cell_type": "code",
   "execution_count": 26,
   "metadata": {
    "ExecuteTime": {
     "end_time": "2019-09-12T14:30:38.079194Z",
     "start_time": "2019-09-12T14:30:38.074902Z"
    }
   },
   "outputs": [
    {
     "data": {
      "text/plain": [
       "((69918, 1), (17480, 1), (21850, 1))"
      ]
     },
     "execution_count": 26,
     "metadata": {},
     "output_type": "execute_result"
    }
   ],
   "source": [
    "padded_school_states_train.shape, padded_school_states_CV.shape, padded_school_states_test.shape"
   ]
  },
  {
   "cell_type": "code",
   "execution_count": 27,
   "metadata": {
    "ExecuteTime": {
     "end_time": "2019-09-12T14:30:38.085680Z",
     "start_time": "2019-09-12T14:30:38.081755Z"
    }
   },
   "outputs": [
    {
     "data": {
      "text/plain": [
       "52"
      ]
     },
     "execution_count": 27,
     "metadata": {},
     "output_type": "execute_result"
    }
   ],
   "source": [
    "vocab_size_school_state"
   ]
  },
  {
   "cell_type": "markdown",
   "metadata": {},
   "source": [
    "**Define the input and embedding for the school_states variable**"
   ]
  },
  {
   "cell_type": "code",
   "execution_count": 15,
   "metadata": {
    "ExecuteTime": {
     "end_time": "2019-09-15T06:54:47.852784Z",
     "start_time": "2019-09-15T06:54:47.829303Z"
    }
   },
   "outputs": [],
   "source": [
    "input_layer_school_state = Input(shape=(1, ))\n",
    "embedding_school_state = Embedding(vocab_size_school_state,\n",
    "                                   8,\n",
    "                                   input_length=1,\n",
    "                                   trainable=True)(input_layer_school_state)\n",
    "flatten_school_state_out = Flatten()(embedding_school_state)"
   ]
  },
  {
   "cell_type": "markdown",
   "metadata": {},
   "source": [
    "## 3. project_grade_category\n",
    "\n",
    "**Categorical variable to be converted into tokens**"
   ]
  },
  {
   "cell_type": "code",
   "execution_count": 29,
   "metadata": {
    "ExecuteTime": {
     "end_time": "2019-09-12T14:30:38.122421Z",
     "start_time": "2019-09-12T14:30:38.112166Z"
    }
   },
   "outputs": [
    {
     "data": {
      "text/plain": [
       "array(['grades_prek_2', 'grades_3_5', 'grades_9_12', 'grades_6_8'],\n",
       "      dtype=object)"
      ]
     },
     "execution_count": 29,
     "metadata": {},
     "output_type": "execute_result"
    }
   ],
   "source": [
    "df_donors.project_grade_category.unique()"
   ]
  },
  {
   "cell_type": "code",
   "execution_count": 16,
   "metadata": {
    "ExecuteTime": {
     "end_time": "2019-09-15T06:54:52.176670Z",
     "start_time": "2019-09-15T06:54:51.102185Z"
    }
   },
   "outputs": [],
   "source": [
    "t_project_grade_cat = Tokenizer(filters='')\n",
    "t_project_grade_cat.fit_on_texts(df_X_train.project_grade_category.tolist())\n",
    "\n",
    "vocab_size_project_grade_cat = len(t_project_grade_cat.word_index) + 1\n",
    "\n",
    "encoded_project_grade_cats_train = t_project_grade_cat.texts_to_sequences(df_X_train.project_grade_category)\n",
    "encoded_project_grade_cats_CV = t_project_grade_cat.texts_to_sequences(df_X_CV.project_grade_category)\n",
    "encoded_project_grade_cats_test = t_project_grade_cat.texts_to_sequences(df_X_test.project_grade_category)\n",
    "\n",
    "padded_project_grade_cats_train = np.array(encoded_project_grade_cats_train)\n",
    "padded_project_grade_cats_CV = np.array(encoded_project_grade_cats_CV)\n",
    "padded_project_grade_cats_test = np.array(encoded_project_grade_cats_test)"
   ]
  },
  {
   "cell_type": "code",
   "execution_count": 31,
   "metadata": {
    "ExecuteTime": {
     "end_time": "2019-09-12T14:30:39.072122Z",
     "start_time": "2019-09-12T14:30:39.067734Z"
    }
   },
   "outputs": [
    {
     "data": {
      "text/plain": [
       "OrderedDict([('grades_3_5', 23882),\n",
       "             ('grades_prek_2', 28291),\n",
       "             ('grades_9_12', 6901),\n",
       "             ('grades_6_8', 10844)])"
      ]
     },
     "execution_count": 31,
     "metadata": {},
     "output_type": "execute_result"
    }
   ],
   "source": [
    "t_project_grade_cat.word_counts"
   ]
  },
  {
   "cell_type": "code",
   "execution_count": 32,
   "metadata": {
    "ExecuteTime": {
     "end_time": "2019-09-12T14:30:39.078893Z",
     "start_time": "2019-09-12T14:30:39.074532Z"
    }
   },
   "outputs": [
    {
     "data": {
      "text/plain": [
       "((69918, 1), (17480, 1), (21850, 1))"
      ]
     },
     "execution_count": 32,
     "metadata": {},
     "output_type": "execute_result"
    }
   ],
   "source": [
    "padded_project_grade_cats_train.shape, padded_project_grade_cats_CV.shape, padded_project_grade_cats_test.shape"
   ]
  },
  {
   "cell_type": "code",
   "execution_count": 33,
   "metadata": {
    "ExecuteTime": {
     "end_time": "2019-09-12T14:30:39.086946Z",
     "start_time": "2019-09-12T14:30:39.081170Z"
    }
   },
   "outputs": [
    {
     "data": {
      "text/plain": [
       "([[2], [1], [1], [1], [4], [2], [1], [2], [1], [1]],\n",
       " array(['grades_3_5', 'grades_prek_2', 'grades_prek_2', 'grades_prek_2',\n",
       "        'grades_9_12', 'grades_3_5', 'grades_prek_2', 'grades_3_5',\n",
       "        'grades_prek_2', 'grades_prek_2'], dtype=object))"
      ]
     },
     "execution_count": 33,
     "metadata": {},
     "output_type": "execute_result"
    }
   ],
   "source": [
    "encoded_project_grade_cats_train[:10], df_X_train.project_grade_category.head(10).values"
   ]
  },
  {
   "cell_type": "markdown",
   "metadata": {},
   "source": [
    "**Define the input and the embedding for project_grade_category**"
   ]
  },
  {
   "cell_type": "code",
   "execution_count": 34,
   "metadata": {
    "ExecuteTime": {
     "end_time": "2019-09-12T14:30:39.092984Z",
     "start_time": "2019-09-12T14:30:39.089307Z"
    }
   },
   "outputs": [
    {
     "data": {
      "text/plain": [
       "5"
      ]
     },
     "execution_count": 34,
     "metadata": {},
     "output_type": "execute_result"
    }
   ],
   "source": [
    "vocab_size_project_grade_cat"
   ]
  },
  {
   "cell_type": "code",
   "execution_count": 17,
   "metadata": {
    "ExecuteTime": {
     "end_time": "2019-09-15T06:54:56.798631Z",
     "start_time": "2019-09-15T06:54:56.773602Z"
    }
   },
   "outputs": [],
   "source": [
    "input_layer_project_grade_cat = Input(shape=(1, ))\n",
    "embedding_project_grade_cat = Embedding(\n",
    "    vocab_size_project_grade_cat, 4,\n",
    "    input_length=1)(input_layer_project_grade_cat)\n",
    "flatten_project_grade_cat_out = Flatten()(embedding_project_grade_cat)"
   ]
  },
  {
   "cell_type": "markdown",
   "metadata": {},
   "source": [
    "## 4. Clean categories"
   ]
  },
  {
   "cell_type": "code",
   "execution_count": 36,
   "metadata": {
    "ExecuteTime": {
     "end_time": "2019-09-12T14:30:39.132825Z",
     "start_time": "2019-09-12T14:30:39.121718Z"
    }
   },
   "outputs": [
    {
     "data": {
      "text/plain": [
       "51"
      ]
     },
     "execution_count": 36,
     "metadata": {},
     "output_type": "execute_result"
    }
   ],
   "source": [
    "df_donors.clean_categories.nunique()"
   ]
  },
  {
   "cell_type": "code",
   "execution_count": 37,
   "metadata": {
    "ExecuteTime": {
     "end_time": "2019-09-12T14:30:39.140410Z",
     "start_time": "2019-09-12T14:30:39.135146Z"
    }
   },
   "outputs": [
    {
     "data": {
      "text/plain": [
       "0         math_science\n",
       "1         specialneeds\n",
       "2    literacy_language\n",
       "3      appliedlearning\n",
       "4    literacy_language\n",
       "Name: clean_categories, dtype: object"
      ]
     },
     "execution_count": 37,
     "metadata": {},
     "output_type": "execute_result"
    }
   ],
   "source": [
    "df_donors.clean_categories.head()"
   ]
  },
  {
   "cell_type": "code",
   "execution_count": 18,
   "metadata": {
    "ExecuteTime": {
     "end_time": "2019-09-15T06:55:03.754353Z",
     "start_time": "2019-09-15T06:55:00.982452Z"
    }
   },
   "outputs": [],
   "source": [
    "t_clean_category = Tokenizer()\n",
    "t_clean_category.fit_on_texts(df_X_train.clean_categories.tolist())\n",
    "\n",
    "vocab_size_clean_category = len(t_clean_category.word_index) + 1\n",
    "\n",
    "encoded_clean_category_train = t_clean_category.texts_to_sequences(df_X_train.clean_categories)\n",
    "encoded_clean_category_CV = t_clean_category.texts_to_sequences(df_X_CV.clean_categories)\n",
    "encoded_clean_category_test = t_clean_category.texts_to_sequences(df_X_test.clean_categories)\n",
    "\n",
    "max_length_clean_category = df_donors.clean_categories.str.split(' ').apply(\n",
    "    len).max()\n",
    "\n",
    "padded_clean_category_train = pad_sequences(encoded_clean_category_train,\n",
    "                                           maxlen=max_length_clean_category,\n",
    "                                           padding='post')\n",
    "padded_clean_category_CV = pad_sequences(encoded_clean_category_CV,\n",
    "                                           maxlen=max_length_clean_category,\n",
    "                                           padding='post')\n",
    "padded_clean_category_test = pad_sequences(encoded_clean_category_test,\n",
    "                                           maxlen=max_length_clean_category,\n",
    "                                           padding='post')"
   ]
  },
  {
   "cell_type": "code",
   "execution_count": 39,
   "metadata": {
    "ExecuteTime": {
     "end_time": "2019-09-12T14:30:41.769424Z",
     "start_time": "2019-09-12T14:30:41.764879Z"
    }
   },
   "outputs": [
    {
     "data": {
      "text/plain": [
       "((69918, 3), (17480, 3), (21850, 3))"
      ]
     },
     "execution_count": 39,
     "metadata": {},
     "output_type": "execute_result"
    }
   ],
   "source": [
    "padded_clean_category_train.shape, padded_clean_category_CV.shape, padded_clean_category_test.shape"
   ]
  },
  {
   "cell_type": "markdown",
   "metadata": {},
   "source": [
    "**Define the input and the embedding for clean_category**"
   ]
  },
  {
   "cell_type": "code",
   "execution_count": 19,
   "metadata": {
    "ExecuteTime": {
     "end_time": "2019-09-15T06:55:08.135032Z",
     "start_time": "2019-09-15T06:55:08.109597Z"
    }
   },
   "outputs": [],
   "source": [
    "input_layer_clean_category = Input(shape=(3,))\n",
    "embedding_clean_category = Embedding(vocab_size_clean_category, 8, input_length=3)(input_layer_clean_category)\n",
    "flatten_clean_category = Flatten()(embedding_clean_category)"
   ]
  },
  {
   "cell_type": "markdown",
   "metadata": {},
   "source": [
    "## 5. Clean subcategories"
   ]
  },
  {
   "cell_type": "code",
   "execution_count": 41,
   "metadata": {
    "ExecuteTime": {
     "end_time": "2019-09-12T14:30:41.806334Z",
     "start_time": "2019-09-12T14:30:41.794801Z"
    }
   },
   "outputs": [
    {
     "data": {
      "text/plain": [
       "401"
      ]
     },
     "execution_count": 41,
     "metadata": {},
     "output_type": "execute_result"
    }
   ],
   "source": [
    "df_donors.clean_subcategories.nunique()"
   ]
  },
  {
   "cell_type": "code",
   "execution_count": 42,
   "metadata": {
    "ExecuteTime": {
     "end_time": "2019-09-12T14:30:41.814077Z",
     "start_time": "2019-09-12T14:30:41.808765Z"
    }
   },
   "outputs": [
    {
     "data": {
      "text/plain": [
       "0    appliedsciences health_lifescience\n",
       "1                          specialneeds\n",
       "2                              literacy\n",
       "3                      earlydevelopment\n",
       "4                              literacy\n",
       "Name: clean_subcategories, dtype: object"
      ]
     },
     "execution_count": 42,
     "metadata": {},
     "output_type": "execute_result"
    }
   ],
   "source": [
    "df_donors.clean_subcategories.head()"
   ]
  },
  {
   "cell_type": "code",
   "execution_count": 20,
   "metadata": {
    "ExecuteTime": {
     "end_time": "2019-09-15T06:55:14.748595Z",
     "start_time": "2019-09-15T06:55:11.951336Z"
    }
   },
   "outputs": [],
   "source": [
    "t_clean_subcategory = Tokenizer()\n",
    "t_clean_subcategory.fit_on_texts(df_X_train.clean_subcategories.tolist())\n",
    "\n",
    "vocab_size_clean_subcategory = len(t_clean_subcategory.word_index) + 1\n",
    "\n",
    "encoded_clean_subcategory_train = t_clean_subcategory.texts_to_sequences(df_X_train.clean_subcategories)\n",
    "encoded_clean_subcategory_CV = t_clean_subcategory.texts_to_sequences(df_X_CV.clean_subcategories)\n",
    "encoded_clean_subcategory_test = t_clean_subcategory.texts_to_sequences(df_X_test.clean_subcategories)\n",
    "\n",
    "max_length_clean_subcategory = df_donors.clean_subcategories.str.split(' ').apply(\n",
    "    len).max()\n",
    "\n",
    "padded_clean_subcategory_train = pad_sequences(encoded_clean_subcategory_train,\n",
    "                                           maxlen=max_length_clean_subcategory,\n",
    "                                           padding='post')\n",
    "padded_clean_subcategory_CV = pad_sequences(encoded_clean_subcategory_CV,\n",
    "                                           maxlen=max_length_clean_subcategory,\n",
    "                                           padding='post')\n",
    "padded_clean_subcategory_test = pad_sequences(encoded_clean_subcategory_test,\n",
    "                                           maxlen=max_length_clean_subcategory,\n",
    "                                           padding='post')"
   ]
  },
  {
   "cell_type": "code",
   "execution_count": 44,
   "metadata": {
    "ExecuteTime": {
     "end_time": "2019-09-12T14:30:44.379751Z",
     "start_time": "2019-09-12T14:30:44.374905Z"
    }
   },
   "outputs": [
    {
     "data": {
      "text/plain": [
       "((69918, 3), (17480, 3), (21850, 3))"
      ]
     },
     "execution_count": 44,
     "metadata": {},
     "output_type": "execute_result"
    }
   ],
   "source": [
    "padded_clean_subcategory_train.shape, padded_clean_subcategory_CV.shape, padded_clean_subcategory_test.shape"
   ]
  },
  {
   "cell_type": "markdown",
   "metadata": {},
   "source": [
    "**Define the input and the embedding for clean_subcategories**"
   ]
  },
  {
   "cell_type": "code",
   "execution_count": 21,
   "metadata": {
    "ExecuteTime": {
     "end_time": "2019-09-15T06:55:17.737503Z",
     "start_time": "2019-09-15T06:55:17.713806Z"
    }
   },
   "outputs": [],
   "source": [
    "input_layer_clean_subcategory = Input(shape=(3, ))\n",
    "embedding_clean_subcategory = Embedding(\n",
    "    vocab_size_clean_subcategory, 8,\n",
    "    input_length=3)(input_layer_clean_subcategory)\n",
    "flatten_clean_subcategory = Flatten()(embedding_clean_subcategory)"
   ]
  },
  {
   "cell_type": "markdown",
   "metadata": {},
   "source": [
    "## 6. Teacher Prefix"
   ]
  },
  {
   "cell_type": "code",
   "execution_count": 46,
   "metadata": {
    "ExecuteTime": {
     "end_time": "2019-09-12T14:30:44.415313Z",
     "start_time": "2019-09-12T14:30:44.406796Z"
    },
    "scrolled": true
   },
   "outputs": [
    {
     "data": {
      "text/plain": [
       "5"
      ]
     },
     "execution_count": 46,
     "metadata": {},
     "output_type": "execute_result"
    }
   ],
   "source": [
    "df_donors.teacher_prefix.nunique()"
   ]
  },
  {
   "cell_type": "code",
   "execution_count": 47,
   "metadata": {
    "ExecuteTime": {
     "end_time": "2019-09-12T14:30:44.422674Z",
     "start_time": "2019-09-12T14:30:44.417412Z"
    }
   },
   "outputs": [
    {
     "data": {
      "text/plain": [
       "0    mrs\n",
       "1     ms\n",
       "2    mrs\n",
       "3    mrs\n",
       "4    mrs\n",
       "Name: teacher_prefix, dtype: object"
      ]
     },
     "execution_count": 47,
     "metadata": {},
     "output_type": "execute_result"
    }
   ],
   "source": [
    "df_donors.teacher_prefix.head()"
   ]
  },
  {
   "cell_type": "code",
   "execution_count": 22,
   "metadata": {
    "ExecuteTime": {
     "end_time": "2019-09-15T06:55:23.999377Z",
     "start_time": "2019-09-15T06:55:21.785438Z"
    }
   },
   "outputs": [],
   "source": [
    "t_teacher_prefix = Tokenizer()\n",
    "t_teacher_prefix.fit_on_texts(df_X_train.teacher_prefix.tolist())\n",
    "\n",
    "vocab_size_teacher_prefix = len(t_teacher_prefix.word_index) + 1\n",
    "\n",
    "encoded_teacher_prefix_train = t_teacher_prefix.texts_to_sequences(df_X_train.teacher_prefix)\n",
    "encoded_teacher_prefix_CV = t_teacher_prefix.texts_to_sequences(df_X_CV.teacher_prefix)\n",
    "encoded_teacher_prefix_test = t_teacher_prefix.texts_to_sequences(df_X_test.teacher_prefix)\n",
    "\n",
    "max_length_teacher_prefix = df_donors.teacher_prefix.str.split(' ').apply(\n",
    "    len).max()\n",
    "\n",
    "padded_teacher_prefix_train = np.array(encoded_teacher_prefix_train)\n",
    "padded_teacher_prefix_CV = np.array(encoded_teacher_prefix_CV)\n",
    "padded_teacher_prefix_test = np.array(encoded_teacher_prefix_test)"
   ]
  },
  {
   "cell_type": "code",
   "execution_count": 49,
   "metadata": {
    "ExecuteTime": {
     "end_time": "2019-09-12T14:30:46.484492Z",
     "start_time": "2019-09-12T14:30:46.479933Z"
    }
   },
   "outputs": [
    {
     "data": {
      "text/plain": [
       "((69918, 1), (17480, 1), (21850, 1))"
      ]
     },
     "execution_count": 49,
     "metadata": {},
     "output_type": "execute_result"
    }
   ],
   "source": [
    "padded_teacher_prefix_train.shape, padded_teacher_prefix_CV.shape, padded_teacher_prefix_test.shape"
   ]
  },
  {
   "cell_type": "markdown",
   "metadata": {},
   "source": [
    "**Define the input and embedding for teacher_prefix** "
   ]
  },
  {
   "cell_type": "code",
   "execution_count": 23,
   "metadata": {
    "ExecuteTime": {
     "end_time": "2019-09-15T06:55:25.827551Z",
     "start_time": "2019-09-15T06:55:25.803463Z"
    }
   },
   "outputs": [],
   "source": [
    "input_layer_teacher_prefix = Input(shape=(1,))\n",
    "embedding_teacher_prefix = Embedding(vocab_size_teacher_prefix, 8, input_length=1)(input_layer_teacher_prefix)\n",
    "flatten_teacher_prefix = Flatten()(embedding_teacher_prefix)"
   ]
  },
  {
   "cell_type": "markdown",
   "metadata": {},
   "source": [
    "## 7. Other features"
   ]
  },
  {
   "cell_type": "code",
   "execution_count": 51,
   "metadata": {
    "ExecuteTime": {
     "end_time": "2019-09-12T14:30:46.524000Z",
     "start_time": "2019-09-12T14:30:46.512423Z"
    }
   },
   "outputs": [
    {
     "data": {
      "text/html": [
       "<div>\n",
       "<style scoped>\n",
       "    .dataframe tbody tr th:only-of-type {\n",
       "        vertical-align: middle;\n",
       "    }\n",
       "\n",
       "    .dataframe tbody tr th {\n",
       "        vertical-align: top;\n",
       "    }\n",
       "\n",
       "    .dataframe thead th {\n",
       "        text-align: right;\n",
       "    }\n",
       "</style>\n",
       "<table border=\"1\" class=\"dataframe\">\n",
       "  <thead>\n",
       "    <tr style=\"text-align: right;\">\n",
       "      <th></th>\n",
       "      <th>teacher_number_of_previously_posted_projects</th>\n",
       "      <th>price</th>\n",
       "    </tr>\n",
       "  </thead>\n",
       "  <tbody>\n",
       "    <tr>\n",
       "      <th>0</th>\n",
       "      <td>53</td>\n",
       "      <td>725.05</td>\n",
       "    </tr>\n",
       "    <tr>\n",
       "      <th>1</th>\n",
       "      <td>4</td>\n",
       "      <td>213.03</td>\n",
       "    </tr>\n",
       "    <tr>\n",
       "      <th>2</th>\n",
       "      <td>10</td>\n",
       "      <td>329.00</td>\n",
       "    </tr>\n",
       "    <tr>\n",
       "      <th>3</th>\n",
       "      <td>2</td>\n",
       "      <td>481.04</td>\n",
       "    </tr>\n",
       "    <tr>\n",
       "      <th>4</th>\n",
       "      <td>2</td>\n",
       "      <td>17.74</td>\n",
       "    </tr>\n",
       "  </tbody>\n",
       "</table>\n",
       "</div>"
      ],
      "text/plain": [
       "   teacher_number_of_previously_posted_projects   price\n",
       "0                                            53  725.05\n",
       "1                                             4  213.03\n",
       "2                                            10  329.00\n",
       "3                                             2  481.04\n",
       "4                                             2   17.74"
      ]
     },
     "execution_count": 51,
     "metadata": {},
     "output_type": "execute_result"
    }
   ],
   "source": [
    "df_donors[['teacher_number_of_previously_posted_projects', 'price']].head()"
   ]
  },
  {
   "cell_type": "code",
   "execution_count": 24,
   "metadata": {
    "ExecuteTime": {
     "end_time": "2019-09-15T06:55:29.686164Z",
     "start_time": "2019-09-15T06:55:29.667569Z"
    }
   },
   "outputs": [],
   "source": [
    "input_layer_pp_price = Input(shape=(2,))\n",
    "out_other_features = Dense(2)(input_layer_pp_price)"
   ]
  },
  {
   "cell_type": "code",
   "execution_count": 53,
   "metadata": {
    "ExecuteTime": {
     "end_time": "2019-09-12T14:30:46.548433Z",
     "start_time": "2019-09-12T14:30:46.544431Z"
    }
   },
   "outputs": [
    {
     "data": {
      "text/plain": [
       "tensorflow.python.framework.ops.Tensor"
      ]
     },
     "execution_count": 53,
     "metadata": {},
     "output_type": "execute_result"
    }
   ],
   "source": [
    "type(out_other_features)"
   ]
  },
  {
   "cell_type": "markdown",
   "metadata": {},
   "source": [
    "**Get input data arrays for other features**"
   ]
  },
  {
   "cell_type": "code",
   "execution_count": 25,
   "metadata": {
    "ExecuteTime": {
     "end_time": "2019-09-15T06:55:32.169188Z",
     "start_time": "2019-09-15T06:55:32.159781Z"
    }
   },
   "outputs": [],
   "source": [
    "other_features_train = df_X_train[['teacher_number_of_previously_posted_projects', 'price']].values\n",
    "other_features_CV = df_X_CV[['teacher_number_of_previously_posted_projects', 'price']].values\n",
    "other_features_test = df_X_test[['teacher_number_of_previously_posted_projects', 'price']].values"
   ]
  },
  {
   "cell_type": "markdown",
   "metadata": {},
   "source": [
    "# Model 1"
   ]
  },
  {
   "cell_type": "markdown",
   "metadata": {
    "ExecuteTime": {
     "end_time": "2019-09-12T05:48:44.467986Z",
     "start_time": "2019-09-12T05:48:44.464068Z"
    }
   },
   "source": [
    "<img src='https://i.imgur.com/w395Yk9.png'>"
   ]
  },
  {
   "cell_type": "markdown",
   "metadata": {},
   "source": [
    "**Concatenate the flattened vectors**"
   ]
  },
  {
   "cell_type": "code",
   "execution_count": 26,
   "metadata": {
    "ExecuteTime": {
     "end_time": "2019-09-15T06:55:37.069998Z",
     "start_time": "2019-09-15T06:55:37.040009Z"
    },
    "scrolled": true
   },
   "outputs": [],
   "source": [
    "merged = concatenate([\n",
    "    lstm_out_flattened, flatten_school_state_out,\n",
    "    flatten_project_grade_cat_out, flatten_clean_category,\n",
    "    flatten_clean_subcategory, flatten_teacher_prefix, out_other_features\n",
    "])"
   ]
  },
  {
   "cell_type": "code",
   "execution_count": 32,
   "metadata": {
    "ExecuteTime": {
     "end_time": "2019-09-15T06:33:50.096270Z",
     "start_time": "2019-09-15T06:33:50.092316Z"
    }
   },
   "outputs": [
    {
     "data": {
      "text/plain": [
       "tensorflow.python.framework.ops.Tensor"
      ]
     },
     "execution_count": 32,
     "metadata": {},
     "output_type": "execute_result"
    }
   ],
   "source": [
    "type(merged)"
   ]
  },
  {
   "cell_type": "markdown",
   "metadata": {},
   "source": [
    "**Add the following Dense and Dropout layers**"
   ]
  },
  {
   "cell_type": "code",
   "execution_count": 27,
   "metadata": {
    "ExecuteTime": {
     "end_time": "2019-09-15T06:55:40.349605Z",
     "start_time": "2019-09-15T06:55:40.234140Z"
    }
   },
   "outputs": [
    {
     "name": "stderr",
     "output_type": "stream",
     "text": [
      "W0915 06:55:40.260428 140234679891712 deprecation.py:323] From /usr/local/lib/python3.5/dist-packages/keras/backend/tensorflow_backend.py:3217: add_dispatch_support.<locals>.wrapper (from tensorflow.python.ops.array_ops) is deprecated and will be removed in a future version.\n",
      "Instructions for updating:\n",
      "Use tf.where in 2.0, which has the same broadcast rule as np.where\n"
     ]
    }
   ],
   "source": [
    "x = Dense(128, activation='selu', kernel_regularizer=regularizers.l2(0.001))(merged)\n",
    "x = Dropout(.5)(x)\n",
    "x = Dense(64, activation='selu', kernel_regularizer=regularizers.l2(0.001))(x)\n",
    "x = Dropout(.5)(x)\n",
    "x = Dense(32, activation='selu', kernel_regularizer=regularizers.l2(0.001))(x)\n",
    "\n",
    "main_output = Dense(1, activation='sigmoid', name='main_output')(x)"
   ]
  },
  {
   "cell_type": "markdown",
   "metadata": {},
   "source": [
    "**Create a final model of the whole architecture**"
   ]
  },
  {
   "cell_type": "code",
   "execution_count": 28,
   "metadata": {
    "ExecuteTime": {
     "end_time": "2019-09-15T06:55:43.022759Z",
     "start_time": "2019-09-15T06:55:43.018377Z"
    }
   },
   "outputs": [],
   "source": [
    "final_model = Model(inputs=[\n",
    "    essay_input, input_layer_school_state, input_layer_project_grade_cat,\n",
    "    input_layer_clean_category, input_layer_clean_subcategory,\n",
    "    input_layer_teacher_prefix, input_layer_pp_price\n",
    "],\n",
    "                    outputs=[main_output])"
   ]
  },
  {
   "cell_type": "code",
   "execution_count": 35,
   "metadata": {
    "ExecuteTime": {
     "end_time": "2019-09-15T06:34:00.490986Z",
     "start_time": "2019-09-15T06:34:00.477004Z"
    }
   },
   "outputs": [
    {
     "name": "stdout",
     "output_type": "stream",
     "text": [
      "__________________________________________________________________________________________________\n",
      "Layer (type)                    Output Shape         Param #     Connected to                     \n",
      "==================================================================================================\n",
      "input_1 (InputLayer)            (None, 231)          0                                            \n",
      "__________________________________________________________________________________________________\n",
      "embedding_1 (Embedding)         (None, 231, 300)     14217300    input_1[0][0]                    \n",
      "__________________________________________________________________________________________________\n",
      "input_2 (InputLayer)            (None, 1)            0                                            \n",
      "__________________________________________________________________________________________________\n",
      "input_3 (InputLayer)            (None, 1)            0                                            \n",
      "__________________________________________________________________________________________________\n",
      "input_4 (InputLayer)            (None, 3)            0                                            \n",
      "__________________________________________________________________________________________________\n",
      "input_5 (InputLayer)            (None, 3)            0                                            \n",
      "__________________________________________________________________________________________________\n",
      "input_6 (InputLayer)            (None, 1)            0                                            \n",
      "__________________________________________________________________________________________________\n",
      "lstm_1 (LSTM)                   (None, 231, 128)     219648      embedding_1[0][0]                \n",
      "__________________________________________________________________________________________________\n",
      "embedding_2 (Embedding)         (None, 1, 8)         416         input_2[0][0]                    \n",
      "__________________________________________________________________________________________________\n",
      "embedding_3 (Embedding)         (None, 1, 4)         20          input_3[0][0]                    \n",
      "__________________________________________________________________________________________________\n",
      "embedding_4 (Embedding)         (None, 3, 8)         128         input_4[0][0]                    \n",
      "__________________________________________________________________________________________________\n",
      "embedding_5 (Embedding)         (None, 3, 8)         304         input_5[0][0]                    \n",
      "__________________________________________________________________________________________________\n",
      "embedding_6 (Embedding)         (None, 1, 8)         48          input_6[0][0]                    \n",
      "__________________________________________________________________________________________________\n",
      "input_7 (InputLayer)            (None, 2)            0                                            \n",
      "__________________________________________________________________________________________________\n",
      "flatten_1 (Flatten)             (None, 29568)        0           lstm_1[0][0]                     \n",
      "__________________________________________________________________________________________________\n",
      "flatten_2 (Flatten)             (None, 8)            0           embedding_2[0][0]                \n",
      "__________________________________________________________________________________________________\n",
      "flatten_3 (Flatten)             (None, 4)            0           embedding_3[0][0]                \n",
      "__________________________________________________________________________________________________\n",
      "flatten_4 (Flatten)             (None, 24)           0           embedding_4[0][0]                \n",
      "__________________________________________________________________________________________________\n",
      "flatten_5 (Flatten)             (None, 24)           0           embedding_5[0][0]                \n",
      "__________________________________________________________________________________________________\n",
      "flatten_6 (Flatten)             (None, 8)            0           embedding_6[0][0]                \n",
      "__________________________________________________________________________________________________\n",
      "dense_1 (Dense)                 (None, 2)            6           input_7[0][0]                    \n",
      "__________________________________________________________________________________________________\n",
      "concatenate_1 (Concatenate)     (None, 29638)        0           flatten_1[0][0]                  \n",
      "                                                                 flatten_2[0][0]                  \n",
      "                                                                 flatten_3[0][0]                  \n",
      "                                                                 flatten_4[0][0]                  \n",
      "                                                                 flatten_5[0][0]                  \n",
      "                                                                 flatten_6[0][0]                  \n",
      "                                                                 dense_1[0][0]                    \n",
      "__________________________________________________________________________________________________\n",
      "dense_2 (Dense)                 (None, 128)          3793792     concatenate_1[0][0]              \n",
      "__________________________________________________________________________________________________\n",
      "dropout_1 (Dropout)             (None, 128)          0           dense_2[0][0]                    \n",
      "__________________________________________________________________________________________________\n",
      "dense_3 (Dense)                 (None, 64)           8256        dropout_1[0][0]                  \n",
      "__________________________________________________________________________________________________\n",
      "dropout_2 (Dropout)             (None, 64)           0           dense_3[0][0]                    \n",
      "__________________________________________________________________________________________________\n",
      "dense_4 (Dense)                 (None, 32)           2080        dropout_2[0][0]                  \n",
      "__________________________________________________________________________________________________\n",
      "main_output (Dense)             (None, 1)            33          dense_4[0][0]                    \n",
      "==================================================================================================\n",
      "Total params: 18,242,031\n",
      "Trainable params: 4,024,731\n",
      "Non-trainable params: 14,217,300\n",
      "__________________________________________________________________________________________________\n"
     ]
    }
   ],
   "source": [
    "final_model.summary()"
   ]
  },
  {
   "cell_type": "markdown",
   "metadata": {},
   "source": [
    "**Function to calculate AUC after each epoch**"
   ]
  },
  {
   "cell_type": "code",
   "execution_count": 29,
   "metadata": {
    "ExecuteTime": {
     "end_time": "2019-09-15T06:55:54.163303Z",
     "start_time": "2019-09-15T06:55:54.159546Z"
    }
   },
   "outputs": [],
   "source": [
    "import tensorflow as tf\n",
    "\n",
    "def auc(y_true, y_pred):\n",
    "    return tf.py_func(roc_auc_score, (y_true, y_pred), tf.double)"
   ]
  },
  {
   "cell_type": "markdown",
   "metadata": {},
   "source": [
    "**Compile the model**"
   ]
  },
  {
   "cell_type": "code",
   "execution_count": 30,
   "metadata": {
    "ExecuteTime": {
     "end_time": "2019-09-15T06:55:57.550305Z",
     "start_time": "2019-09-15T06:55:57.492747Z"
    },
    "scrolled": true
   },
   "outputs": [
    {
     "name": "stderr",
     "output_type": "stream",
     "text": [
      "W0915 06:55:57.513287 140234679891712 deprecation_wrapper.py:119] From /usr/local/lib/python3.5/dist-packages/keras/optimizers.py:790: The name tf.train.Optimizer is deprecated. Please use tf.compat.v1.train.Optimizer instead.\n",
      "\n",
      "W0915 06:55:57.543723 140234679891712 deprecation.py:323] From <ipython-input-29-9e920a0b789f>:4: py_func (from tensorflow.python.ops.script_ops) is deprecated and will be removed in a future version.\n",
      "Instructions for updating:\n",
      "tf.py_func is deprecated in TF V2. Instead, there are two\n",
      "    options available in V2.\n",
      "    - tf.py_function takes a python function which manipulates tf eager\n",
      "    tensors instead of numpy arrays. It's easy to convert a tf eager tensor to\n",
      "    an ndarray (just call tensor.numpy()) but having access to eager tensors\n",
      "    means `tf.py_function`s can use accelerators such as GPUs as well as\n",
      "    being differentiable using a gradient tape.\n",
      "    - tf.numpy_function maintains the semantics of the deprecated tf.py_func\n",
      "    (it is not differentiable, and manipulates numpy arrays). It drops the\n",
      "    stateful argument making all functions stateful.\n",
      "    \n"
     ]
    }
   ],
   "source": [
    "adm = adam(lr=0.001, beta_1=0.9, beta_2=0.999, epsilon=None, decay=0.0, amsgrad=False)\n",
    "final_model.compile(optimizer=adm, loss='binary_crossentropy', metrics=['accuracy', auc])"
   ]
  },
  {
   "cell_type": "code",
   "execution_count": 61,
   "metadata": {
    "ExecuteTime": {
     "end_time": "2019-09-12T14:30:46.812848Z",
     "start_time": "2019-09-12T14:30:46.807593Z"
    }
   },
   "outputs": [
    {
     "data": {
      "text/plain": [
       "((69918, 231), (69918, 1), (69918, 1))"
      ]
     },
     "execution_count": 61,
     "metadata": {},
     "output_type": "execute_result"
    }
   ],
   "source": [
    "padded_docs_train.shape, padded_school_states_train.shape, padded_project_grade_cats_train.shape"
   ]
  },
  {
   "cell_type": "markdown",
   "metadata": {},
   "source": [
    "**Train the model by passing the training data**"
   ]
  },
  {
   "cell_type": "code",
   "execution_count": 31,
   "metadata": {
    "ExecuteTime": {
     "end_time": "2019-09-15T06:56:01.893742Z",
     "start_time": "2019-09-15T06:56:01.883360Z"
    },
    "scrolled": false
   },
   "outputs": [
    {
     "data": {
      "text/plain": [
       "True"
      ]
     },
     "execution_count": 31,
     "metadata": {},
     "output_type": "execute_result"
    }
   ],
   "source": [
    "from tensorflow.test import is_gpu_available\n",
    "is_gpu_available()"
   ]
  },
  {
   "cell_type": "markdown",
   "metadata": {},
   "source": [
    "**standardize the numerical features**"
   ]
  },
  {
   "cell_type": "code",
   "execution_count": 32,
   "metadata": {
    "ExecuteTime": {
     "end_time": "2019-09-15T06:56:04.773006Z",
     "start_time": "2019-09-15T06:56:04.762228Z"
    }
   },
   "outputs": [],
   "source": [
    "def stdscale(X_train, X_CV, X_test):\n",
    "\n",
    "    scaler = StandardScaler().fit(X_train)\n",
    "    return (scaler.transform(X_train), scaler.transform(X_CV),\n",
    "            scaler.transform(X_test))\n",
    "other_features_train, other_features_CV, other_features_test = stdscale(\n",
    "    other_features_train, other_features_CV, other_features_test)"
   ]
  },
  {
   "cell_type": "markdown",
   "metadata": {},
   "source": [
    "**Create a tensorboard object**"
   ]
  },
  {
   "cell_type": "code",
   "execution_count": 33,
   "metadata": {
    "ExecuteTime": {
     "end_time": "2019-09-15T06:56:15.037332Z",
     "start_time": "2019-09-15T06:56:09.584552Z"
    }
   },
   "outputs": [],
   "source": [
    "tb_1 = TensorBoard(log_dir=\"logs/{}\".format(time()))"
   ]
  },
  {
   "cell_type": "code",
   "execution_count": 34,
   "metadata": {
    "ExecuteTime": {
     "end_time": "2019-09-15T06:56:38.630652Z",
     "start_time": "2019-09-15T06:56:38.627169Z"
    }
   },
   "outputs": [],
   "source": [
    "warnings.filterwarnings('ignore')"
   ]
  },
  {
   "cell_type": "markdown",
   "metadata": {},
   "source": [
    "**Finally, we are ready to train the model**"
   ]
  },
  {
   "cell_type": "code",
   "execution_count": 35,
   "metadata": {
    "ExecuteTime": {
     "end_time": "2019-09-15T07:07:25.933216Z",
     "start_time": "2019-09-15T06:56:45.189652Z"
    },
    "scrolled": false
   },
   "outputs": [
    {
     "name": "stdout",
     "output_type": "stream",
     "text": [
      "Train on 69918 samples, validate on 17480 samples\n"
     ]
    },
    {
     "name": "stderr",
     "output_type": "stream",
     "text": [
      "W0915 06:56:47.831324 140234679891712 deprecation_wrapper.py:119] From /usr/local/lib/python3.5/dist-packages/keras/callbacks.py:850: The name tf.summary.merge_all is deprecated. Please use tf.compat.v1.summary.merge_all instead.\n",
      "\n",
      "W0915 06:56:47.832840 140234679891712 deprecation_wrapper.py:119] From /usr/local/lib/python3.5/dist-packages/keras/callbacks.py:853: The name tf.summary.FileWriter is deprecated. Please use tf.compat.v1.summary.FileWriter instead.\n",
      "\n"
     ]
    },
    {
     "name": "stdout",
     "output_type": "stream",
     "text": [
      "Epoch 1/20\n",
      "69918/69918 [==============================] - 36s 511us/step - loss: 1.2394 - acc: 0.8159 - auc: 0.5497 - val_loss: 0.8940 - val_acc: 0.8477 - val_auc: 0.6867\n",
      "Epoch 2/20\n",
      "69918/69918 [==============================] - 32s 451us/step - loss: 0.8216 - acc: 0.8452 - auc: 0.6599 - val_loss: 0.7238 - val_acc: 0.8499 - val_auc: 0.7168\n",
      "Epoch 3/20\n",
      "69918/69918 [==============================] - 32s 452us/step - loss: 0.6894 - acc: 0.8489 - auc: 0.7075 - val_loss: 0.6449 - val_acc: 0.8500 - val_auc: 0.7295\n",
      "Epoch 4/20\n",
      "69918/69918 [==============================] - 32s 456us/step - loss: 0.6212 - acc: 0.8519 - auc: 0.7277 - val_loss: 0.5931 - val_acc: 0.8527 - val_auc: 0.7340\n",
      "Epoch 5/20\n",
      "69918/69918 [==============================] - 32s 453us/step - loss: 0.5744 - acc: 0.8532 - auc: 0.7436 - val_loss: 0.5611 - val_acc: 0.8518 - val_auc: 0.7372\n",
      "Epoch 6/20\n",
      "69918/69918 [==============================] - 32s 451us/step - loss: 0.5422 - acc: 0.8560 - auc: 0.7508 - val_loss: 0.5386 - val_acc: 0.8499 - val_auc: 0.7416\n",
      "Epoch 7/20\n",
      "69918/69918 [==============================] - 32s 452us/step - loss: 0.5218 - acc: 0.8571 - auc: 0.7561 - val_loss: 0.5207 - val_acc: 0.8513 - val_auc: 0.7407\n",
      "Epoch 8/20\n",
      "69918/69918 [==============================] - 32s 456us/step - loss: 0.4958 - acc: 0.8607 - auc: 0.7663 - val_loss: 0.5098 - val_acc: 0.8485 - val_auc: 0.7423\n",
      "Epoch 9/20\n",
      "69918/69918 [==============================] - 32s 454us/step - loss: 0.4818 - acc: 0.8619 - auc: 0.7730 - val_loss: 0.4937 - val_acc: 0.8522 - val_auc: 0.7452\n",
      "Epoch 10/20\n",
      "69918/69918 [==============================] - 32s 455us/step - loss: 0.4675 - acc: 0.8634 - auc: 0.7772 - val_loss: 0.4862 - val_acc: 0.8481 - val_auc: 0.7425\n",
      "Epoch 11/20\n",
      "69918/69918 [==============================] - 32s 455us/step - loss: 0.4565 - acc: 0.8652 - auc: 0.7827 - val_loss: 0.4801 - val_acc: 0.8515 - val_auc: 0.7418\n",
      "Epoch 12/20\n",
      "69918/69918 [==============================] - 32s 452us/step - loss: 0.4467 - acc: 0.8674 - auc: 0.7881 - val_loss: 0.4806 - val_acc: 0.8453 - val_auc: 0.7410\n",
      "Epoch 13/20\n",
      "69918/69918 [==============================] - 32s 452us/step - loss: 0.4409 - acc: 0.8674 - auc: 0.7920 - val_loss: 0.4697 - val_acc: 0.8509 - val_auc: 0.7438\n",
      "Epoch 14/20\n",
      "69918/69918 [==============================] - 32s 452us/step - loss: 0.4338 - acc: 0.8685 - auc: 0.7962 - val_loss: 0.4667 - val_acc: 0.8516 - val_auc: 0.7422\n",
      "Epoch 15/20\n",
      "69918/69918 [==============================] - 32s 453us/step - loss: 0.4275 - acc: 0.8700 - auc: 0.8002 - val_loss: 0.4645 - val_acc: 0.8479 - val_auc: 0.7437\n",
      "Epoch 16/20\n",
      "69918/69918 [==============================] - 32s 451us/step - loss: 0.4225 - acc: 0.8723 - auc: 0.8012 - val_loss: 0.4673 - val_acc: 0.8515 - val_auc: 0.7406\n",
      "Epoch 17/20\n",
      "69918/69918 [==============================] - 31s 450us/step - loss: 0.4204 - acc: 0.8713 - auc: 0.8045 - val_loss: 0.4671 - val_acc: 0.8434 - val_auc: 0.7411\n",
      "Epoch 18/20\n",
      "69918/69918 [==============================] - 32s 452us/step - loss: 0.4142 - acc: 0.8728 - auc: 0.8097 - val_loss: 0.4620 - val_acc: 0.8469 - val_auc: 0.7407\n",
      "Epoch 19/20\n",
      "69918/69918 [==============================] - 32s 455us/step - loss: 0.4099 - acc: 0.8749 - auc: 0.8147 - val_loss: 0.4703 - val_acc: 0.8511 - val_auc: 0.7329\n",
      "Epoch 20/20\n",
      "69918/69918 [==============================] - 32s 456us/step - loss: 0.4096 - acc: 0.8754 - auc: 0.8158 - val_loss: 0.4665 - val_acc: 0.8441 - val_auc: 0.7365\n"
     ]
    },
    {
     "data": {
      "text/plain": [
       "<keras.callbacks.History at 0x7f8a6c99a2e8>"
      ]
     },
     "execution_count": 35,
     "metadata": {},
     "output_type": "execute_result"
    },
    {
     "data": {
      "application/javascript": [
       "$(document).ready(\n",
       "    function() {\n",
       "        function appendUniqueDiv(){\n",
       "            // append a div with our uuid so we can check that it's already\n",
       "            // been sent and avoid duplicates on page reload\n",
       "            var notifiedDiv = document.createElement(\"div\")\n",
       "            notifiedDiv.id = \"0f89cc28-17f8-42cb-bee7-219a99bba7b2\"\n",
       "            element.append(notifiedDiv)\n",
       "        }\n",
       "\n",
       "        // only send notifications if the pageload is complete; this will\n",
       "        // help stop extra notifications when a saved notebook is loaded,\n",
       "        // which during testing gives us state \"interactive\", not \"complete\"\n",
       "        if (document.readyState === 'complete') {\n",
       "            // check for the div that signifies that the notification\n",
       "            // was already sent\n",
       "            if (document.getElementById(\"0f89cc28-17f8-42cb-bee7-219a99bba7b2\") === null) {\n",
       "                var notificationPayload = {\"requireInteraction\": false, \"body\": \"Cell execution has finished!\", \"icon\": \"/static/base/images/favicon.ico\"};\n",
       "                if (Notification.permission !== 'denied') {\n",
       "                    if (Notification.permission !== 'granted') { \n",
       "                        Notification.requestPermission(function (permission) {\n",
       "                            if(!('permission' in Notification)) {\n",
       "                                Notification.permission = permission\n",
       "                            }\n",
       "                        })\n",
       "                    }\n",
       "                    if (Notification.permission === 'granted') {\n",
       "                    var notification = new Notification(\"Jupyter Notebook\", notificationPayload)\n",
       "                    appendUniqueDiv()\n",
       "                    notification.onclick = function () {\n",
       "                        window.focus();\n",
       "                        this.close();\n",
       "                        };\n",
       "                    } \n",
       "                }     \n",
       "            }\n",
       "        }\n",
       "    }\n",
       ")\n"
      ],
      "text/plain": [
       "<IPython.core.display.Javascript object>"
      ]
     },
     "metadata": {},
     "output_type": "display_data"
    }
   ],
   "source": [
    "%%notify\n",
    "\n",
    "final_model.fit([\n",
    "    padded_docs_train, padded_school_states_train,\n",
    "    padded_project_grade_cats_train, padded_clean_category_train,\n",
    "    padded_clean_subcategory_train, padded_teacher_prefix_train,\n",
    "    other_features_train\n",
    "], [y_train],\n",
    "                epochs=20,\n",
    "                batch_size=1024,validation_data=([\n",
    "                    padded_docs_CV, padded_school_states_CV,\n",
    "                    padded_project_grade_cats_CV, padded_clean_category_CV,\n",
    "                    padded_clean_subcategory_CV, padded_teacher_prefix_CV, other_features_CV\n",
    "                ], [y_CV]),\n",
    "                 callbacks=[ tb_1])"
   ]
  },
  {
   "cell_type": "markdown",
   "metadata": {},
   "source": [
    "**Make predictions on test data**"
   ]
  },
  {
   "cell_type": "code",
   "execution_count": 49,
   "metadata": {
    "ExecuteTime": {
     "end_time": "2019-09-15T07:22:44.412708Z",
     "start_time": "2019-09-15T07:21:15.652634Z"
    }
   },
   "outputs": [],
   "source": [
    "predictions_model1 = final_model.predict([\n",
    "    padded_docs_test, padded_school_states_test,\n",
    "    padded_project_grade_cats_test, padded_clean_category_test,\n",
    "    padded_clean_subcategory_test, padded_teacher_prefix_test,\n",
    "    other_features_test\n",
    "])"
   ]
  },
  {
   "cell_type": "markdown",
   "metadata": {},
   "source": [
    "**AUC on test data: Model 1**"
   ]
  },
  {
   "cell_type": "code",
   "execution_count": 58,
   "metadata": {
    "ExecuteTime": {
     "end_time": "2019-09-15T07:25:37.134631Z",
     "start_time": "2019-09-15T07:25:37.120806Z"
    },
    "scrolled": true
   },
   "outputs": [
    {
     "data": {
      "text/plain": [
       "0.7372659807918772"
      ]
     },
     "execution_count": 58,
     "metadata": {},
     "output_type": "execute_result"
    }
   ],
   "source": [
    "roc_auc_score(y_test, predictions_model1)"
   ]
  },
  {
   "cell_type": "markdown",
   "metadata": {},
   "source": [
    "**Log loss on test data: Model 1**"
   ]
  },
  {
   "cell_type": "code",
   "execution_count": 60,
   "metadata": {
    "ExecuteTime": {
     "end_time": "2019-09-15T07:27:04.492566Z",
     "start_time": "2019-09-15T07:27:04.480785Z"
    }
   },
   "outputs": [
    {
     "data": {
      "text/plain": [
       "0.38075538718250307"
      ]
     },
     "execution_count": 60,
     "metadata": {},
     "output_type": "execute_result"
    }
   ],
   "source": [
    "log_loss(y_test, predictions_model1)"
   ]
  },
  {
   "cell_type": "markdown",
   "metadata": {},
   "source": [
    "**Model 1: Train loss**"
   ]
  },
  {
   "cell_type": "code",
   "execution_count": 65,
   "metadata": {
    "ExecuteTime": {
     "end_time": "2019-09-15T07:33:56.966209Z",
     "start_time": "2019-09-15T07:33:56.959438Z"
    }
   },
   "outputs": [
    {
     "data": {
      "image/png": "[encoded data removed]",
      "text/plain": [
       "<IPython.core.display.Image object>"
      ]
     },
     "execution_count": 65,
     "metadata": {},
     "output_type": "execute_result"
    }
   ],
   "source": [
    "from IPython.display import Image\n",
    "Image('./tensorboard pics/model_1_train_loss.png')"
   ]
  },
  {
   "cell_type": "markdown",
   "metadata": {},
   "source": [
    "**model 1: Train AUC**"
   ]
  },
  {
   "cell_type": "code",
   "execution_count": 66,
   "metadata": {
    "ExecuteTime": {
     "end_time": "2019-09-15T07:34:34.839071Z",
     "start_time": "2019-09-15T07:34:34.833139Z"
    }
   },
   "outputs": [
    {
     "data": {
      "image/png": "[encoded data removed]",
      "text/plain": [
       "<IPython.core.display.Image object>"
      ]
     },
     "execution_count": 66,
     "metadata": {},
     "output_type": "execute_result"
    }
   ],
   "source": [
    "Image('./tensorboard pics/model_1_train_AUC.png')"
   ]
  },
  {
   "cell_type": "markdown",
   "metadata": {},
   "source": [
    "**Model 1: Validation loss**"
   ]
  },
  {
   "cell_type": "code",
   "execution_count": 67,
   "metadata": {
    "ExecuteTime": {
     "end_time": "2019-09-15T07:35:24.518952Z",
     "start_time": "2019-09-15T07:35:24.513493Z"
    }
   },
   "outputs": [
    {
     "data": {
      "image/png": "[encoded data removed]",
      "text/plain": [
       "<IPython.core.display.Image object>"
      ]
     },
     "execution_count": 67,
     "metadata": {},
     "output_type": "execute_result"
    }
   ],
   "source": [
    "Image('./tensorboard pics/model_1_val_loss.png')"
   ]
  },
  {
   "cell_type": "markdown",
   "metadata": {},
   "source": [
    "**Model 1: Validation AUC**"
   ]
  },
  {
   "cell_type": "code",
   "execution_count": 68,
   "metadata": {
    "ExecuteTime": {
     "end_time": "2019-09-15T07:35:58.393215Z",
     "start_time": "2019-09-15T07:35:58.387866Z"
    }
   },
   "outputs": [
    {
     "data": {
      "image/png": "[encoded data removed]",
      "text/plain": [
       "<IPython.core.display.Image object>"
      ]
     },
     "execution_count": 68,
     "metadata": {},
     "output_type": "execute_result"
    }
   ],
   "source": [
    "Image('./tensorboard pics/model_1_val_AUC.png')"
   ]
  },
  {
   "cell_type": "code",
   "execution_count": 143,
   "metadata": {
    "ExecuteTime": {
     "end_time": "2019-09-15T08:15:03.529757Z",
     "start_time": "2019-09-15T08:15:03.525560Z"
    }
   },
   "outputs": [],
   "source": [
    "from prettytable import PrettyTable\n",
    "table = PrettyTable()\n",
    "table.field_names = ['#', 'Train Loss', 'Train AUC', 'Validation Loss', 'Validation AUC', 'Test Loss', 'Test AUC']\n",
    "table.add_row(['Model 1', '0.40', '0.81', '0.46', '0.73', '0.38', '0.74'])"
   ]
  },
  {
   "cell_type": "markdown",
   "metadata": {},
   "source": [
    "# Model 2\n",
    "\n",
    "In this model, the architecture of the neural net remains the same, but the words in the Essays are filtered based on their IDF values."
   ]
  },
  {
   "cell_type": "code",
   "execution_count": 69,
   "metadata": {
    "ExecuteTime": {
     "end_time": "2019-09-15T07:36:14.997633Z",
     "start_time": "2019-09-15T07:36:14.960756Z"
    }
   },
   "outputs": [],
   "source": [
    "from sklearn.feature_extraction.text import TfidfVectorizer"
   ]
  },
  {
   "cell_type": "code",
   "execution_count": 70,
   "metadata": {
    "ExecuteTime": {
     "end_time": "2019-09-15T07:36:17.679778Z",
     "start_time": "2019-09-15T07:36:17.673225Z"
    }
   },
   "outputs": [
    {
     "data": {
      "text/plain": [
       "39038     my students super learners they come diverse b...\n",
       "105236    as teacher low income high poverty school dist...\n",
       "11584     my second graders active energetic students lo...\n",
       "9664      my students five years old for second year sch...\n",
       "3696      the students class multisensory learners thriv...\n",
       "Name: essay, dtype: object"
      ]
     },
     "execution_count": 70,
     "metadata": {},
     "output_type": "execute_result"
    }
   ],
   "source": [
    "df_X_train.essay.head()"
   ]
  },
  {
   "cell_type": "markdown",
   "metadata": {},
   "source": [
    "Create a TFIDF object and fit it on the train data"
   ]
  },
  {
   "cell_type": "code",
   "execution_count": 71,
   "metadata": {
    "ExecuteTime": {
     "end_time": "2019-09-15T07:36:28.971760Z",
     "start_time": "2019-09-15T07:36:21.310022Z"
    }
   },
   "outputs": [],
   "source": [
    "tfidf = TfidfVectorizer()\n",
    "tfidf_essay_fit = tfidf.fit_transform(df_X_train.essay)"
   ]
  },
  {
   "cell_type": "code",
   "execution_count": 72,
   "metadata": {
    "ExecuteTime": {
     "end_time": "2019-09-15T07:36:31.417124Z",
     "start_time": "2019-09-15T07:36:31.359879Z"
    }
   },
   "outputs": [
    {
     "data": {
      "text/plain": [
       "((47416,), 47416)"
      ]
     },
     "execution_count": 72,
     "metadata": {},
     "output_type": "execute_result"
    }
   ],
   "source": [
    "tfidf.idf_.shape, len(tfidf.get_feature_names())"
   ]
  },
  {
   "cell_type": "code",
   "execution_count": 73,
   "metadata": {
    "ExecuteTime": {
     "end_time": "2019-09-15T07:36:35.519534Z",
     "start_time": "2019-09-15T07:36:35.120571Z"
    }
   },
   "outputs": [
    {
     "data": {
      "image/png": "[encoded data removed]",
      "text/plain": [
       "<Figure size 1080x360 with 1 Axes>"
      ]
     },
     "metadata": {
      "needs_background": "light"
     },
     "output_type": "display_data"
    }
   ],
   "source": [
    "plt.figure(figsize=(15,5))\n",
    "plt.hist(tfidf.idf_, bins=50)\n",
    "plt.grid()\n",
    "plt.title('Distribution of IDF values', fontsize=16)\n",
    "plt.show()"
   ]
  },
  {
   "cell_type": "markdown",
   "metadata": {},
   "source": [
    "The bottom 1 percentile and the last 1 percentile IDF values"
   ]
  },
  {
   "cell_type": "code",
   "execution_count": 75,
   "metadata": {
    "ExecuteTime": {
     "end_time": "2019-09-15T07:37:03.572608Z",
     "start_time": "2019-09-15T07:37:03.564302Z"
    }
   },
   "outputs": [
    {
     "data": {
      "text/plain": [
       "(4.052052837889417, 11.4619455276077)"
      ]
     },
     "execution_count": 75,
     "metadata": {},
     "output_type": "execute_result"
    }
   ],
   "source": [
    "np.percentile(tfidf.idf_, 1),np.percentile(tfidf.idf_, 99)"
   ]
  },
  {
   "cell_type": "markdown",
   "metadata": {},
   "source": [
    "How the IDF values are distributed across all the words in the training corpus"
   ]
  },
  {
   "cell_type": "code",
   "execution_count": 76,
   "metadata": {
    "ExecuteTime": {
     "end_time": "2019-09-15T07:37:11.830280Z",
     "start_time": "2019-09-15T07:37:11.348709Z"
    }
   },
   "outputs": [
    {
     "data": {
      "image/png": "[encoded data removed]",
      "text/plain": [
       "<Figure size 1080x360 with 1 Axes>"
      ]
     },
     "metadata": {
      "needs_background": "light"
     },
     "output_type": "display_data"
    }
   ],
   "source": [
    "import seaborn as sbn\n",
    "plt.figure(figsize=(15,5))\n",
    "sbn.boxplot(tfidf.idf_)\n",
    "plt.title('Boxplot of IDF values', fontsize=16)\n",
    "plt.show()"
   ]
  },
  {
   "cell_type": "markdown",
   "metadata": {},
   "source": [
    "Create a mapping for words to their IDF values"
   ]
  },
  {
   "cell_type": "code",
   "execution_count": 77,
   "metadata": {
    "ExecuteTime": {
     "end_time": "2019-09-15T07:37:17.055590Z",
     "start_time": "2019-09-15T07:37:16.993084Z"
    }
   },
   "outputs": [],
   "source": [
    "dict_word_to_IDF_mapping = dict(zip(tfidf.get_feature_names(), tfidf.idf_.tolist()))"
   ]
  },
  {
   "cell_type": "markdown",
   "metadata": {},
   "source": [
    "**Function to remove the words with IDF values outside our thresholds (< 1 percentile and >99 percentile)**"
   ]
  },
  {
   "cell_type": "code",
   "execution_count": 78,
   "metadata": {
    "ExecuteTime": {
     "end_time": "2019-09-15T07:37:50.440743Z",
     "start_time": "2019-09-15T07:37:50.435761Z"
    }
   },
   "outputs": [],
   "source": [
    "def remove_extremeIDFwords(x):\n",
    "    lowIDF=4.052052837889417\n",
    "    highIDF=11.4619455276077\n",
    "    \n",
    "    filtered_words = []\n",
    "    for word in x.split():\n",
    "        \n",
    "        try:\n",
    "            idf_value = dict_word_to_IDF_mapping[word]\n",
    "        except:\n",
    "            continue\n",
    "        \n",
    "        if  (idf_value > lowIDF) and (idf_value < highIDF):\n",
    "            filtered_words.append(word)\n",
    "                \n",
    "    return ' '.join(filtered_words)"
   ]
  },
  {
   "cell_type": "markdown",
   "metadata": {},
   "source": [
    "Filter all the datasets on the IDF values using the above function "
   ]
  },
  {
   "cell_type": "code",
   "execution_count": 79,
   "metadata": {
    "ExecuteTime": {
     "end_time": "2019-09-15T07:37:59.541564Z",
     "start_time": "2019-09-15T07:37:53.104930Z"
    }
   },
   "outputs": [],
   "source": [
    "df_X_train['essay_IDF'] = df_X_train.essay.map(remove_extremeIDFwords)\n",
    "df_X_CV['essay_IDF'] = df_X_CV.essay.map(remove_extremeIDFwords)\n",
    "df_X_test['essay_IDF'] = df_X_test.essay.map(remove_extremeIDFwords)"
   ]
  },
  {
   "cell_type": "code",
   "execution_count": 80,
   "metadata": {
    "ExecuteTime": {
     "end_time": "2019-09-15T07:38:07.977954Z",
     "start_time": "2019-09-15T07:38:07.960095Z"
    }
   },
   "outputs": [
    {
     "data": {
      "text/html": [
       "<div>\n",
       "<style scoped>\n",
       "    .dataframe tbody tr th:only-of-type {\n",
       "        vertical-align: middle;\n",
       "    }\n",
       "\n",
       "    .dataframe tbody tr th {\n",
       "        vertical-align: top;\n",
       "    }\n",
       "\n",
       "    .dataframe thead th {\n",
       "        text-align: right;\n",
       "    }\n",
       "</style>\n",
       "<table border=\"1\" class=\"dataframe\">\n",
       "  <thead>\n",
       "    <tr style=\"text-align: right;\">\n",
       "      <th></th>\n",
       "      <th>school_state</th>\n",
       "      <th>teacher_prefix</th>\n",
       "      <th>project_grade_category</th>\n",
       "      <th>teacher_number_of_previously_posted_projects</th>\n",
       "      <th>clean_categories</th>\n",
       "      <th>clean_subcategories</th>\n",
       "      <th>essay</th>\n",
       "      <th>price</th>\n",
       "      <th>essay_IDF</th>\n",
       "    </tr>\n",
       "  </thead>\n",
       "  <tbody>\n",
       "    <tr>\n",
       "      <th>39038</th>\n",
       "      <td>la</td>\n",
       "      <td>mrs</td>\n",
       "      <td>grades_3_5</td>\n",
       "      <td>2</td>\n",
       "      <td>appliedlearning history_civics</td>\n",
       "      <td>communityservice socialsciences</td>\n",
       "      <td>my students super learners they come diverse b...</td>\n",
       "      <td>680.47</td>\n",
       "      <td>super ultimately super leaders compassionate i...</td>\n",
       "    </tr>\n",
       "    <tr>\n",
       "      <th>105236</th>\n",
       "      <td>ny</td>\n",
       "      <td>teacher</td>\n",
       "      <td>grades_3_5</td>\n",
       "      <td>10</td>\n",
       "      <td>math_science</td>\n",
       "      <td>environmentalscience health_lifescience</td>\n",
       "      <td>as teacher low income high poverty school dist...</td>\n",
       "      <td>256.56</td>\n",
       "      <td>faced researching visual tactile color coded c...</td>\n",
       "    </tr>\n",
       "    <tr>\n",
       "      <th>11584</th>\n",
       "      <td>ca</td>\n",
       "      <td>mrs</td>\n",
       "      <td>grades_prek_2</td>\n",
       "      <td>4</td>\n",
       "      <td>health_sports specialneeds</td>\n",
       "      <td>gym_fitness specialneeds</td>\n",
       "      <td>my second graders active energetic students lo...</td>\n",
       "      <td>59.49</td>\n",
       "      <td>typical collaborate fellow simply spot warm in...</td>\n",
       "    </tr>\n",
       "    <tr>\n",
       "      <th>9664</th>\n",
       "      <td>va</td>\n",
       "      <td>ms</td>\n",
       "      <td>grades_prek_2</td>\n",
       "      <td>3</td>\n",
       "      <td>literacy_language math_science</td>\n",
       "      <td>literature_writing mathematics</td>\n",
       "      <td>my students five years old for second year sch...</td>\n",
       "      <td>197.13</td>\n",
       "      <td>five went virginia preschool initiative vpi fo...</td>\n",
       "    </tr>\n",
       "    <tr>\n",
       "      <th>3696</th>\n",
       "      <td>ny</td>\n",
       "      <td>ms</td>\n",
       "      <td>grades_prek_2</td>\n",
       "      <td>1</td>\n",
       "      <td>specialneeds</td>\n",
       "      <td>specialneeds</td>\n",
       "      <td>the students class multisensory learners thriv...</td>\n",
       "      <td>212.16</td>\n",
       "      <td>multisensory thrive according style sing dance...</td>\n",
       "    </tr>\n",
       "  </tbody>\n",
       "</table>\n",
       "</div>"
      ],
      "text/plain": [
       "       school_state teacher_prefix project_grade_category  \\\n",
       "39038            la            mrs             grades_3_5   \n",
       "105236           ny        teacher             grades_3_5   \n",
       "11584            ca            mrs          grades_prek_2   \n",
       "9664             va             ms          grades_prek_2   \n",
       "3696             ny             ms          grades_prek_2   \n",
       "\n",
       "        teacher_number_of_previously_posted_projects  \\\n",
       "39038                                              2   \n",
       "105236                                            10   \n",
       "11584                                              4   \n",
       "9664                                               3   \n",
       "3696                                               1   \n",
       "\n",
       "                      clean_categories  \\\n",
       "39038   appliedlearning history_civics   \n",
       "105236                    math_science   \n",
       "11584       health_sports specialneeds   \n",
       "9664    literacy_language math_science   \n",
       "3696                      specialneeds   \n",
       "\n",
       "                            clean_subcategories  \\\n",
       "39038           communityservice socialsciences   \n",
       "105236  environmentalscience health_lifescience   \n",
       "11584                  gym_fitness specialneeds   \n",
       "9664             literature_writing mathematics   \n",
       "3696                               specialneeds   \n",
       "\n",
       "                                                    essay   price  \\\n",
       "39038   my students super learners they come diverse b...  680.47   \n",
       "105236  as teacher low income high poverty school dist...  256.56   \n",
       "11584   my second graders active energetic students lo...   59.49   \n",
       "9664    my students five years old for second year sch...  197.13   \n",
       "3696    the students class multisensory learners thriv...  212.16   \n",
       "\n",
       "                                                essay_IDF  \n",
       "39038   super ultimately super leaders compassionate i...  \n",
       "105236  faced researching visual tactile color coded c...  \n",
       "11584   typical collaborate fellow simply spot warm in...  \n",
       "9664    five went virginia preschool initiative vpi fo...  \n",
       "3696    multisensory thrive according style sing dance...  "
      ]
     },
     "execution_count": 80,
     "metadata": {},
     "output_type": "execute_result"
    }
   ],
   "source": [
    "df_X_train.head()"
   ]
  },
  {
   "cell_type": "markdown",
   "metadata": {},
   "source": [
    "**Tokenize the essays**\n",
    "\n",
    "Earlier, for the previous model, we did this on the entire essay. This time, we've already filtered the words based on IDF."
   ]
  },
  {
   "cell_type": "code",
   "execution_count": 81,
   "metadata": {
    "ExecuteTime": {
     "end_time": "2019-09-15T07:38:17.827372Z",
     "start_time": "2019-09-15T07:38:12.079840Z"
    }
   },
   "outputs": [],
   "source": [
    "t_essays = Tokenizer()\n",
    "t_essays.fit_on_texts(df_X_train.essay_IDF.tolist())\n",
    "encoded_docs_train = t_essays.texts_to_sequences(df_X_train.essay_IDF.tolist())"
   ]
  },
  {
   "cell_type": "code",
   "execution_count": 82,
   "metadata": {
    "ExecuteTime": {
     "end_time": "2019-09-15T07:38:19.365419Z",
     "start_time": "2019-09-15T07:38:19.360758Z"
    }
   },
   "outputs": [
    {
     "name": "stdout",
     "output_type": "stream",
     "text": [
      "28607\n"
     ]
    }
   ],
   "source": [
    "vocab_size_essays = len(t_essays.word_index) + 1\n",
    "print(vocab_size_essays)"
   ]
  },
  {
   "cell_type": "markdown",
   "metadata": {},
   "source": [
    "**obtain the tokenized essay representation for CV and Test sets**"
   ]
  },
  {
   "cell_type": "code",
   "execution_count": 83,
   "metadata": {
    "ExecuteTime": {
     "end_time": "2019-09-15T07:38:26.020472Z",
     "start_time": "2019-09-15T07:38:24.545428Z"
    }
   },
   "outputs": [],
   "source": [
    "encoded_docs_CV = t_essays.texts_to_sequences(df_X_CV.essay_IDF.tolist())\n",
    "encoded_docs_test = t_essays.texts_to_sequences(df_X_test.essay_IDF.tolist())"
   ]
  },
  {
   "cell_type": "markdown",
   "metadata": {},
   "source": [
    "**Pad the inputs**\n",
    "\n",
    "Instead of padding all the essays (docs) with the same maximum length, let's see how the number of words in essays are distributed."
   ]
  },
  {
   "cell_type": "code",
   "execution_count": 84,
   "metadata": {
    "ExecuteTime": {
     "end_time": "2019-09-15T07:38:30.166250Z",
     "start_time": "2019-09-15T07:38:29.119755Z"
    }
   },
   "outputs": [
    {
     "data": {
      "image/png": "[encoded data removed]",
      "text/plain": [
       "<Figure size 1080x288 with 1 Axes>"
      ]
     },
     "metadata": {
      "needs_background": "light"
     },
     "output_type": "display_data"
    }
   ],
   "source": [
    "df_X_train.essay_IDF.str.split().apply(len).plot.hist(figsize=(15,4))\n",
    "plt.title('Distribution of number of words in essays', fontsize=16)\n",
    "plt.xlabel('Number of words', fontsize=14)\n",
    "plt.ylabel('Number of Essays', fontsize=14)\n",
    "plt.show()"
   ]
  },
  {
   "cell_type": "markdown",
   "metadata": {},
   "source": [
    "**The 95th percentile of #words in essay_IDF is 89**. Which means most of the essays have much lower word count than the essay with maximum word count(182) in the dataset. If we pad the lengths to `182`, most of the other essays would have redundant 0 inputs. Instead, let's keep the max length of essay inputs to 89. Doing this would also improve the training time because less number of parameters would have to be trained."
   ]
  },
  {
   "cell_type": "code",
   "execution_count": 85,
   "metadata": {
    "ExecuteTime": {
     "end_time": "2019-09-15T07:38:37.303613Z",
     "start_time": "2019-09-15T07:38:36.041304Z"
    }
   },
   "outputs": [
    {
     "name": "stdout",
     "output_type": "stream",
     "text": [
      "95th Percentile word count in Essays: 89.0\n",
      "Maximum word count in essays: 182\n"
     ]
    }
   ],
   "source": [
    "pctile_95_wc = df_X_train.essay_IDF.str.split().apply(len).quantile(.95)\n",
    "max_wc = df_X_train.essay_IDF.str.split().apply(len).max()\n",
    "\n",
    "print('95th Percentile word count in Essays:', pctile_95_wc)\n",
    "print('Maximum word count in essays:', max_wc)"
   ]
  },
  {
   "cell_type": "code",
   "execution_count": 88,
   "metadata": {
    "ExecuteTime": {
     "end_time": "2019-09-15T07:40:16.705297Z",
     "start_time": "2019-09-15T07:40:15.885585Z"
    }
   },
   "outputs": [],
   "source": [
    "padded_docs_train = pad_sequences(encoded_docs_train,\n",
    "                                  maxlen=int(pctile_95_wc),\n",
    "                                  padding='post',\n",
    "                                  truncating='post')\n",
    "padded_docs_CV = pad_sequences(encoded_docs_CV,\n",
    "                               maxlen=int(pctile_95_wc),\n",
    "                               padding='post',\n",
    "                               truncating='post')\n",
    "padded_docs_test = pad_sequences(encoded_docs_test,\n",
    "                                 maxlen=int(pctile_95_wc),\n",
    "                                 padding='post',\n",
    "                                 truncating='post')"
   ]
  },
  {
   "cell_type": "code",
   "execution_count": 89,
   "metadata": {
    "ExecuteTime": {
     "end_time": "2019-09-15T07:40:18.976047Z",
     "start_time": "2019-09-15T07:40:18.971432Z"
    }
   },
   "outputs": [
    {
     "data": {
      "text/plain": [
       "((69918, 89), (17480, 89), (21850, 89))"
      ]
     },
     "execution_count": 89,
     "metadata": {},
     "output_type": "execute_result"
    }
   ],
   "source": [
    "padded_docs_train.shape ,padded_docs_CV.shape, padded_docs_test.shape"
   ]
  },
  {
   "cell_type": "markdown",
   "metadata": {},
   "source": [
    "Generate the embedding matrix again, since we've retrained the `t_essays` TFIDF object."
   ]
  },
  {
   "cell_type": "code",
   "execution_count": 90,
   "metadata": {
    "ExecuteTime": {
     "end_time": "2019-09-15T07:40:22.428947Z",
     "start_time": "2019-09-15T07:40:22.277066Z"
    }
   },
   "outputs": [],
   "source": [
    "# create a weight matrix for words in training docs\n",
    "embedding_matrix = np.zeros((vocab_size_essays, 300))\n",
    "for word, i in t_essays.word_index.items():\n",
    "    embedding_vector = embeddings_index.get(word)\n",
    "    if embedding_vector is not None:\n",
    "        embedding_matrix[i] = embedding_vector"
   ]
  },
  {
   "cell_type": "markdown",
   "metadata": {},
   "source": [
    "**Define the embedding layer for essays**"
   ]
  },
  {
   "cell_type": "code",
   "execution_count": 91,
   "metadata": {
    "ExecuteTime": {
     "end_time": "2019-09-15T07:40:28.177997Z",
     "start_time": "2019-09-15T07:40:27.104561Z"
    }
   },
   "outputs": [],
   "source": [
    "essay_input = Input(shape=(padded_docs_train.shape[1], ))\n",
    "\n",
    "e = Embedding(vocab_size_essays,\n",
    "              300,\n",
    "              weights=[embedding_matrix],\n",
    "              input_length=padded_docs_train.shape[1],\n",
    "              trainable=False,\n",
    "              batch_size=64)(essay_input)\n",
    "\n",
    "lstm_out_essay = LSTM(units=128,\n",
    "                      recurrent_dropout=0.45, kernel_regularizer=regularizers.l2(0.001),\n",
    "                      input_shape=(padded_docs_train.shape[1], 300),\n",
    "                      return_sequences=True)(e)\n",
    "\n",
    "lstm_out_flattened = Flatten()(lstm_out_essay)"
   ]
  },
  {
   "cell_type": "markdown",
   "metadata": {},
   "source": [
    "**Concatenate the flattened vectors for model 2**\n",
    "\n",
    "Here, note that we've only created `lstm_out_flattened` tensor again. Because the others have remained unchanged since model 1. We can use them directly as they are."
   ]
  },
  {
   "cell_type": "code",
   "execution_count": 92,
   "metadata": {
    "ExecuteTime": {
     "end_time": "2019-09-15T07:40:40.640582Z",
     "start_time": "2019-09-15T07:40:40.632555Z"
    },
    "scrolled": true
   },
   "outputs": [],
   "source": [
    "merged = concatenate([\n",
    "    lstm_out_flattened, flatten_school_state_out,\n",
    "    flatten_project_grade_cat_out, flatten_clean_category,\n",
    "    flatten_clean_subcategory, flatten_teacher_prefix, out_other_features\n",
    "])"
   ]
  },
  {
   "cell_type": "code",
   "execution_count": 289,
   "metadata": {
    "ExecuteTime": {
     "end_time": "2019-09-12T10:45:19.491886Z",
     "start_time": "2019-09-12T10:45:19.487589Z"
    }
   },
   "outputs": [
    {
     "data": {
      "text/plain": [
       "tensorflow.python.framework.ops.Tensor"
      ]
     },
     "execution_count": 289,
     "metadata": {},
     "output_type": "execute_result"
    }
   ],
   "source": [
    "type(merged)"
   ]
  },
  {
   "cell_type": "markdown",
   "metadata": {},
   "source": [
    "# Add the following Dense and Dropout layers"
   ]
  },
  {
   "cell_type": "code",
   "execution_count": 93,
   "metadata": {
    "ExecuteTime": {
     "end_time": "2019-09-15T07:40:45.515431Z",
     "start_time": "2019-09-15T07:40:45.402732Z"
    }
   },
   "outputs": [],
   "source": [
    "x = Dense(128, activation='selu', kernel_regularizer=regularizers.l2(0.001))(merged)\n",
    "x = Dropout(.5)(x)\n",
    "x = Dense(64, activation='selu', kernel_regularizer=regularizers.l2(0.001))(x)\n",
    "x = Dropout(.5)(x)\n",
    "x = Dense(32, activation='selu', kernel_regularizer=regularizers.l2(0.001))(x)\n",
    "\n",
    "main_output = Dense(1, activation='sigmoid', name='main_output')(x)"
   ]
  },
  {
   "cell_type": "markdown",
   "metadata": {},
   "source": [
    "**Create a final model of the whole architecture**"
   ]
  },
  {
   "cell_type": "code",
   "execution_count": 94,
   "metadata": {
    "ExecuteTime": {
     "end_time": "2019-09-15T07:40:52.096299Z",
     "start_time": "2019-09-15T07:40:52.091273Z"
    }
   },
   "outputs": [],
   "source": [
    "final_model_2 = Model(inputs=[\n",
    "    essay_input, input_layer_school_state, input_layer_project_grade_cat,\n",
    "    input_layer_clean_category, input_layer_clean_subcategory,\n",
    "    input_layer_teacher_prefix, input_layer_pp_price\n",
    "],\n",
    "                    outputs=[main_output])"
   ]
  },
  {
   "cell_type": "code",
   "execution_count": 84,
   "metadata": {
    "ExecuteTime": {
     "end_time": "2019-09-12T12:35:05.241208Z",
     "start_time": "2019-09-12T12:35:05.229214Z"
    },
    "scrolled": true
   },
   "outputs": [
    {
     "name": "stdout",
     "output_type": "stream",
     "text": [
      "__________________________________________________________________________________________________\n",
      "Layer (type)                    Output Shape         Param #     Connected to                     \n",
      "==================================================================================================\n",
      "input_2 (InputLayer)            (None, 33)           0                                            \n",
      "__________________________________________________________________________________________________\n",
      "embedding_2 (Embedding)         (None, 33, 300)      7968300     input_2[0][0]                    \n",
      "__________________________________________________________________________________________________\n",
      "input_3 (InputLayer)            (None, 1)            0                                            \n",
      "__________________________________________________________________________________________________\n",
      "input_4 (InputLayer)            (None, 1)            0                                            \n",
      "__________________________________________________________________________________________________\n",
      "input_5 (InputLayer)            (None, 3)            0                                            \n",
      "__________________________________________________________________________________________________\n",
      "input_6 (InputLayer)            (None, 3)            0                                            \n",
      "__________________________________________________________________________________________________\n",
      "input_7 (InputLayer)            (None, 1)            0                                            \n",
      "__________________________________________________________________________________________________\n",
      "lstm_2 (LSTM)                   (None, 33, 128)      219648      embedding_2[0][0]                \n",
      "__________________________________________________________________________________________________\n",
      "embedding_3 (Embedding)         (None, 1, 8)         416         input_3[0][0]                    \n",
      "__________________________________________________________________________________________________\n",
      "embedding_4 (Embedding)         (None, 1, 4)         20          input_4[0][0]                    \n",
      "__________________________________________________________________________________________________\n",
      "embedding_5 (Embedding)         (None, 3, 8)         128         input_5[0][0]                    \n",
      "__________________________________________________________________________________________________\n",
      "embedding_6 (Embedding)         (None, 3, 8)         304         input_6[0][0]                    \n",
      "__________________________________________________________________________________________________\n",
      "embedding_7 (Embedding)         (None, 1, 8)         48          input_7[0][0]                    \n",
      "__________________________________________________________________________________________________\n",
      "input_8 (InputLayer)            (None, 2)            0                                            \n",
      "__________________________________________________________________________________________________\n",
      "flatten_3 (Flatten)             (None, 4224)         0           lstm_2[0][0]                     \n",
      "__________________________________________________________________________________________________\n",
      "flatten_4 (Flatten)             (None, 8)            0           embedding_3[0][0]                \n",
      "__________________________________________________________________________________________________\n",
      "flatten_5 (Flatten)             (None, 4)            0           embedding_4[0][0]                \n",
      "__________________________________________________________________________________________________\n",
      "flatten_6 (Flatten)             (None, 24)           0           embedding_5[0][0]                \n",
      "__________________________________________________________________________________________________\n",
      "flatten_7 (Flatten)             (None, 24)           0           embedding_6[0][0]                \n",
      "__________________________________________________________________________________________________\n",
      "flatten_8 (Flatten)             (None, 8)            0           embedding_7[0][0]                \n",
      "__________________________________________________________________________________________________\n",
      "dense_7 (Dense)                 (None, 2)            6           input_8[0][0]                    \n",
      "__________________________________________________________________________________________________\n",
      "concatenate_3 (Concatenate)     (None, 4294)         0           flatten_3[0][0]                  \n",
      "                                                                 flatten_4[0][0]                  \n",
      "                                                                 flatten_5[0][0]                  \n",
      "                                                                 flatten_6[0][0]                  \n",
      "                                                                 flatten_7[0][0]                  \n",
      "                                                                 flatten_8[0][0]                  \n",
      "                                                                 dense_7[0][0]                    \n",
      "__________________________________________________________________________________________________\n",
      "dense_8 (Dense)                 (None, 128)          549760      concatenate_3[0][0]              \n",
      "__________________________________________________________________________________________________\n",
      "dropout_5 (Dropout)             (None, 128)          0           dense_8[0][0]                    \n",
      "__________________________________________________________________________________________________\n",
      "dense_9 (Dense)                 (None, 64)           8256        dropout_5[0][0]                  \n",
      "__________________________________________________________________________________________________\n",
      "dropout_6 (Dropout)             (None, 64)           0           dense_9[0][0]                    \n",
      "__________________________________________________________________________________________________\n",
      "dense_10 (Dense)                (None, 32)           2080        dropout_6[0][0]                  \n",
      "__________________________________________________________________________________________________\n",
      "main_output (Dense)             (None, 1)            33          dense_10[0][0]                   \n",
      "==================================================================================================\n",
      "Total params: 8,748,999\n",
      "Trainable params: 780,699\n",
      "Non-trainable params: 7,968,300\n",
      "__________________________________________________________________________________________________\n"
     ]
    }
   ],
   "source": [
    "final_model_2.summary()"
   ]
  },
  {
   "cell_type": "markdown",
   "metadata": {},
   "source": [
    "**Tree representation of Model 2**"
   ]
  },
  {
   "cell_type": "code",
   "execution_count": 95,
   "metadata": {
    "ExecuteTime": {
     "end_time": "2019-09-12T12:55:32.156033Z",
     "start_time": "2019-09-12T12:55:31.038415Z"
    }
   },
   "outputs": [
    {
     "data": {
      "image/png": "[encoded data removed]",
      "text/plain": [
       "<IPython.core.display.Image object>"
      ]
     },
     "execution_count": 95,
     "metadata": {
      "image/png": {
       "height": 590,
       "width": 1435
      }
     },
     "output_type": "execute_result"
    }
   ],
   "source": [
    "from keras.utils import plot_model\n",
    "import pydot_ng as pydot\n",
    "plot_model(final_model_2, show_shapes=True, show_layer_names=True, to_file='model_2.png')\n",
    "from IPython.display import Image\n",
    "Image(retina=True, filename='model_2.png')"
   ]
  },
  {
   "cell_type": "markdown",
   "metadata": {},
   "source": [
    "## Compile the model"
   ]
  },
  {
   "cell_type": "code",
   "execution_count": 96,
   "metadata": {
    "ExecuteTime": {
     "end_time": "2019-09-15T07:41:13.012757Z",
     "start_time": "2019-09-15T07:41:12.957392Z"
    },
    "scrolled": false
   },
   "outputs": [],
   "source": [
    "from keras.optimizers import Adam\n",
    "adm = Adam(lr=0.001, beta_1=0.9, beta_2=0.999, epsilon=None, decay=0.0, amsgrad=False)\n",
    "final_model_2.compile(optimizer=adm, loss='binary_crossentropy', metrics=['accuracy', auc])"
   ]
  },
  {
   "cell_type": "code",
   "execution_count": 97,
   "metadata": {
    "ExecuteTime": {
     "end_time": "2019-09-15T07:41:20.300804Z",
     "start_time": "2019-09-15T07:41:20.297165Z"
    }
   },
   "outputs": [],
   "source": [
    "tb_2 = TensorBoard(log_dir=\"logs/{}\".format(time()))"
   ]
  },
  {
   "cell_type": "code",
   "execution_count": 98,
   "metadata": {
    "ExecuteTime": {
     "end_time": "2019-09-15T07:46:12.188925Z",
     "start_time": "2019-09-15T07:41:55.982314Z"
    }
   },
   "outputs": [
    {
     "name": "stdout",
     "output_type": "stream",
     "text": [
      "Train on 69918 samples, validate on 17480 samples\n",
      "Epoch 1/20\n",
      "69918/69918 [==============================] - 14s 200us/step - loss: 1.0394 - acc: 0.8277 - auc: 0.6077 - val_loss: 0.7865 - val_acc: 0.8481 - val_auc: 0.6937\n",
      "Epoch 2/20\n",
      "69918/69918 [==============================] - 12s 177us/step - loss: 0.7111 - acc: 0.8470 - auc: 0.6815 - val_loss: 0.6439 - val_acc: 0.8465 - val_auc: 0.7045\n",
      "Epoch 3/20\n",
      "69918/69918 [==============================] - 12s 179us/step - loss: 0.6072 - acc: 0.8486 - auc: 0.7043 - val_loss: 0.5746 - val_acc: 0.8494 - val_auc: 0.7053\n",
      "Epoch 4/20\n",
      "69918/69918 [==============================] - 13s 180us/step - loss: 0.5501 - acc: 0.8495 - auc: 0.7107 - val_loss: 0.5322 - val_acc: 0.8481 - val_auc: 0.7055\n",
      "Epoch 5/20\n",
      "69918/69918 [==============================] - 13s 180us/step - loss: 0.5113 - acc: 0.8499 - auc: 0.7181 - val_loss: 0.5069 - val_acc: 0.8476 - val_auc: 0.7056\n",
      "Epoch 6/20\n",
      "69918/69918 [==============================] - 13s 179us/step - loss: 0.4859 - acc: 0.8500 - auc: 0.7246 - val_loss: 0.4814 - val_acc: 0.8481 - val_auc: 0.7096\n",
      "Epoch 7/20\n",
      "69918/69918 [==============================] - 13s 184us/step - loss: 0.4647 - acc: 0.8520 - auc: 0.7282 - val_loss: 0.4689 - val_acc: 0.8478 - val_auc: 0.7068\n",
      "Epoch 8/20\n",
      "69918/69918 [==============================] - 13s 180us/step - loss: 0.4518 - acc: 0.8516 - auc: 0.7302 - val_loss: 0.4618 - val_acc: 0.8457 - val_auc: 0.7086\n",
      "Epoch 9/20\n",
      "69918/69918 [==============================] - 13s 182us/step - loss: 0.4413 - acc: 0.8523 - auc: 0.7347 - val_loss: 0.4486 - val_acc: 0.8489 - val_auc: 0.7107\n",
      "Epoch 10/20\n",
      "69918/69918 [==============================] - 13s 180us/step - loss: 0.4331 - acc: 0.8522 - auc: 0.7374 - val_loss: 0.4439 - val_acc: 0.8487 - val_auc: 0.7081\n",
      "Epoch 11/20\n",
      "69918/69918 [==============================] - 13s 181us/step - loss: 0.4264 - acc: 0.8532 - auc: 0.7383 - val_loss: 0.4391 - val_acc: 0.8491 - val_auc: 0.7058\n",
      "Epoch 12/20\n",
      "69918/69918 [==============================] - 13s 182us/step - loss: 0.4214 - acc: 0.8521 - auc: 0.7420 - val_loss: 0.4347 - val_acc: 0.8499 - val_auc: 0.7098\n",
      "Epoch 13/20\n",
      "69918/69918 [==============================] - 13s 179us/step - loss: 0.4169 - acc: 0.8532 - auc: 0.7445 - val_loss: 0.4314 - val_acc: 0.8495 - val_auc: 0.7104\n",
      "Epoch 14/20\n",
      "69918/69918 [==============================] - 12s 179us/step - loss: 0.4128 - acc: 0.8542 - auc: 0.7486 - val_loss: 0.4308 - val_acc: 0.8501 - val_auc: 0.7082\n",
      "Epoch 15/20\n",
      "69918/69918 [==============================] - 13s 180us/step - loss: 0.4105 - acc: 0.8542 - auc: 0.7492 - val_loss: 0.4303 - val_acc: 0.8493 - val_auc: 0.7117\n",
      "Epoch 16/20\n",
      "69918/69918 [==============================] - 13s 181us/step - loss: 0.4084 - acc: 0.8542 - auc: 0.7512 - val_loss: 0.4269 - val_acc: 0.8481 - val_auc: 0.7138\n",
      "Epoch 17/20\n",
      "69918/69918 [==============================] - 12s 178us/step - loss: 0.4062 - acc: 0.8548 - auc: 0.7532 - val_loss: 0.4274 - val_acc: 0.8487 - val_auc: 0.7065\n",
      "Epoch 18/20\n",
      "69918/69918 [==============================] - 13s 180us/step - loss: 0.4049 - acc: 0.8553 - auc: 0.7540 - val_loss: 0.4285 - val_acc: 0.8449 - val_auc: 0.7141\n",
      "Epoch 19/20\n",
      "69918/69918 [==============================] - 13s 179us/step - loss: 0.4029 - acc: 0.8553 - auc: 0.7565 - val_loss: 0.4282 - val_acc: 0.8486 - val_auc: 0.7101\n",
      "Epoch 20/20\n",
      "69918/69918 [==============================] - 13s 180us/step - loss: 0.4020 - acc: 0.8539 - auc: 0.7584 - val_loss: 0.4273 - val_acc: 0.8475 - val_auc: 0.7102\n"
     ]
    },
    {
     "data": {
      "text/plain": [
       "<keras.callbacks.History at 0x7f8a46ac2cc0>"
      ]
     },
     "execution_count": 98,
     "metadata": {},
     "output_type": "execute_result"
    },
    {
     "data": {
      "application/javascript": [
       "$(document).ready(\n",
       "    function() {\n",
       "        function appendUniqueDiv(){\n",
       "            // append a div with our uuid so we can check that it's already\n",
       "            // been sent and avoid duplicates on page reload\n",
       "            var notifiedDiv = document.createElement(\"div\")\n",
       "            notifiedDiv.id = \"5f09458d-cb6c-4544-aad2-bafb3b15091c\"\n",
       "            element.append(notifiedDiv)\n",
       "        }\n",
       "\n",
       "        // only send notifications if the pageload is complete; this will\n",
       "        // help stop extra notifications when a saved notebook is loaded,\n",
       "        // which during testing gives us state \"interactive\", not \"complete\"\n",
       "        if (document.readyState === 'complete') {\n",
       "            // check for the div that signifies that the notification\n",
       "            // was already sent\n",
       "            if (document.getElementById(\"5f09458d-cb6c-4544-aad2-bafb3b15091c\") === null) {\n",
       "                var notificationPayload = {\"requireInteraction\": false, \"body\": \"Cell execution has finished!\", \"icon\": \"/static/base/images/favicon.ico\"};\n",
       "                if (Notification.permission !== 'denied') {\n",
       "                    if (Notification.permission !== 'granted') { \n",
       "                        Notification.requestPermission(function (permission) {\n",
       "                            if(!('permission' in Notification)) {\n",
       "                                Notification.permission = permission\n",
       "                            }\n",
       "                        })\n",
       "                    }\n",
       "                    if (Notification.permission === 'granted') {\n",
       "                    var notification = new Notification(\"Jupyter Notebook\", notificationPayload)\n",
       "                    appendUniqueDiv()\n",
       "                    notification.onclick = function () {\n",
       "                        window.focus();\n",
       "                        this.close();\n",
       "                        };\n",
       "                    } \n",
       "                }     \n",
       "            }\n",
       "        }\n",
       "    }\n",
       ")\n"
      ],
      "text/plain": [
       "<IPython.core.display.Javascript object>"
      ]
     },
     "metadata": {},
     "output_type": "display_data"
    }
   ],
   "source": [
    "%%notify\n",
    "\n",
    "final_model_2.fit([\n",
    "    padded_docs_train, padded_school_states_train,\n",
    "    padded_project_grade_cats_train, padded_clean_category_train,\n",
    "    padded_clean_subcategory_train, padded_teacher_prefix_train,\n",
    "    other_features_train\n",
    "], [y_train],\n",
    "                epochs=20,\n",
    "                batch_size=1024,validation_data=([\n",
    "                    padded_docs_CV, padded_school_states_CV,\n",
    "                    padded_project_grade_cats_CV, padded_clean_category_CV,\n",
    "                    padded_clean_subcategory_CV, padded_teacher_prefix_CV, other_features_CV\n",
    "                ], [y_CV]),\n",
    "                 callbacks=[ tb_2])"
   ]
  },
  {
   "cell_type": "markdown",
   "metadata": {},
   "source": [
    "**Make predictions on test data**"
   ]
  },
  {
   "cell_type": "code",
   "execution_count": 99,
   "metadata": {
    "ExecuteTime": {
     "end_time": "2019-09-15T07:48:13.526017Z",
     "start_time": "2019-09-15T07:47:38.055061Z"
    }
   },
   "outputs": [],
   "source": [
    "predictions_model2 = final_model_2.predict([\n",
    "    padded_docs_test, padded_school_states_test,\n",
    "    padded_project_grade_cats_test, padded_clean_category_test,\n",
    "    padded_clean_subcategory_test, padded_teacher_prefix_test,\n",
    "    other_features_test\n",
    "])"
   ]
  },
  {
   "cell_type": "markdown",
   "metadata": {},
   "source": [
    "**Calculate the AUC on test data**"
   ]
  },
  {
   "cell_type": "code",
   "execution_count": 100,
   "metadata": {
    "ExecuteTime": {
     "end_time": "2019-09-15T07:48:30.655485Z",
     "start_time": "2019-09-15T07:48:30.642012Z"
    },
    "scrolled": true
   },
   "outputs": [
    {
     "data": {
      "text/plain": [
       "0.7113772330405796"
      ]
     },
     "execution_count": 100,
     "metadata": {},
     "output_type": "execute_result"
    }
   ],
   "source": [
    "roc_auc_score(y_test, predictions_model2)"
   ]
  },
  {
   "cell_type": "markdown",
   "metadata": {},
   "source": [
    "**Log loss on test data: Model 2**"
   ]
  },
  {
   "cell_type": "code",
   "execution_count": 101,
   "metadata": {
    "ExecuteTime": {
     "end_time": "2019-09-15T07:48:38.858905Z",
     "start_time": "2019-09-15T07:48:38.846264Z"
    }
   },
   "outputs": [
    {
     "data": {
      "text/plain": [
       "0.3878562624428157"
      ]
     },
     "execution_count": 101,
     "metadata": {},
     "output_type": "execute_result"
    }
   ],
   "source": [
    "log_loss(y_test, predictions_model2)"
   ]
  },
  {
   "cell_type": "code",
   "execution_count": 145,
   "metadata": {
    "ExecuteTime": {
     "end_time": "2019-09-15T08:19:03.790323Z",
     "start_time": "2019-09-15T08:19:03.786615Z"
    }
   },
   "outputs": [],
   "source": [
    "table.add_row(['Model 2', '0.40', '0.75', '0.42', '0.71', '0.38', '0.71'])"
   ]
  },
  {
   "cell_type": "markdown",
   "metadata": {},
   "source": [
    "**Model 2: Train loss**"
   ]
  },
  {
   "cell_type": "code",
   "execution_count": 102,
   "metadata": {
    "ExecuteTime": {
     "end_time": "2019-09-15T07:52:01.709649Z",
     "start_time": "2019-09-15T07:52:01.703445Z"
    }
   },
   "outputs": [
    {
     "data": {
      "image/png": "[encoded data removed]",
      "text/plain": [
       "<IPython.core.display.Image object>"
      ]
     },
     "execution_count": 102,
     "metadata": {},
     "output_type": "execute_result"
    }
   ],
   "source": [
    "from IPython.display import Image\n",
    "Image('./tensorboard pics/model_2_train_loss.png')"
   ]
  },
  {
   "cell_type": "markdown",
   "metadata": {},
   "source": [
    "**model 2: Train AUC**"
   ]
  },
  {
   "cell_type": "code",
   "execution_count": 103,
   "metadata": {
    "ExecuteTime": {
     "end_time": "2019-09-15T07:52:08.483392Z",
     "start_time": "2019-09-15T07:52:08.477218Z"
    }
   },
   "outputs": [
    {
     "data": {
      "image/png": "[encoded data removed]",
      "text/plain": [
       "<IPython.core.display.Image object>"
      ]
     },
     "execution_count": 103,
     "metadata": {},
     "output_type": "execute_result"
    }
   ],
   "source": [
    "Image('./tensorboard pics/model_2_train_AUC.png')"
   ]
  },
  {
   "cell_type": "markdown",
   "metadata": {},
   "source": [
    "**Model 2: Validation loss**"
   ]
  },
  {
   "cell_type": "code",
   "execution_count": 104,
   "metadata": {
    "ExecuteTime": {
     "end_time": "2019-09-15T07:52:14.360771Z",
     "start_time": "2019-09-15T07:52:14.353842Z"
    }
   },
   "outputs": [
    {
     "data": {
      "image/png": "[encoded data removed]",
      "text/plain": [
       "<IPython.core.display.Image object>"
      ]
     },
     "execution_count": 104,
     "metadata": {},
     "output_type": "execute_result"
    }
   ],
   "source": [
    "Image('./tensorboard pics/model_2_val_loss.png')"
   ]
  },
  {
   "cell_type": "markdown",
   "metadata": {},
   "source": [
    "**Model 2: Validation AUC**"
   ]
  },
  {
   "cell_type": "code",
   "execution_count": 105,
   "metadata": {
    "ExecuteTime": {
     "end_time": "2019-09-15T07:52:21.874139Z",
     "start_time": "2019-09-15T07:52:21.866534Z"
    }
   },
   "outputs": [
    {
     "data": {
      "image/png": "[encoded data removed]",
      "text/plain": [
       "<IPython.core.display.Image object>"
      ]
     },
     "execution_count": 105,
     "metadata": {},
     "output_type": "execute_result"
    }
   ],
   "source": [
    "Image('./tensorboard pics/model_2_val_AUC.png')"
   ]
  },
  {
   "cell_type": "markdown",
   "metadata": {},
   "source": [
    "# Model 3"
   ]
  },
  {
   "cell_type": "code",
   "execution_count": 106,
   "metadata": {
    "ExecuteTime": {
     "end_time": "2019-09-15T07:53:37.258298Z",
     "start_time": "2019-09-15T07:53:37.254439Z"
    }
   },
   "outputs": [],
   "source": [
    "from sklearn.feature_extraction.text import CountVectorizer\n",
    "from scipy.sparse import hstack"
   ]
  },
  {
   "cell_type": "code",
   "execution_count": 107,
   "metadata": {
    "ExecuteTime": {
     "end_time": "2019-09-15T07:53:49.433069Z",
     "start_time": "2019-09-15T07:53:49.427125Z"
    }
   },
   "outputs": [
    {
     "data": {
      "text/plain": [
       "Index(['school_state', 'teacher_prefix', 'project_grade_category',\n",
       "       'teacher_number_of_previously_posted_projects', 'clean_categories',\n",
       "       'clean_subcategories', 'essay', 'price', 'essay_IDF'],\n",
       "      dtype='object')"
      ]
     },
     "execution_count": 107,
     "metadata": {},
     "output_type": "execute_result"
    }
   ],
   "source": [
    "df_X_train.columns"
   ]
  },
  {
   "cell_type": "code",
   "execution_count": 108,
   "metadata": {
    "ExecuteTime": {
     "end_time": "2019-09-15T07:53:50.842324Z",
     "start_time": "2019-09-15T07:53:50.837480Z"
    }
   },
   "outputs": [
    {
     "data": {
      "text/plain": [
       "Index(['school_state', 'teacher_prefix', 'project_grade_category',\n",
       "       'teacher_number_of_previously_posted_projects', 'project_is_approved',\n",
       "       'clean_categories', 'clean_subcategories', 'essay', 'price'],\n",
       "      dtype='object')"
      ]
     },
     "execution_count": 108,
     "metadata": {},
     "output_type": "execute_result"
    }
   ],
   "source": [
    "df_donors.columns"
   ]
  },
  {
   "cell_type": "markdown",
   "metadata": {},
   "source": [
    "**School state 1 hot encoded**"
   ]
  },
  {
   "cell_type": "code",
   "execution_count": 109,
   "metadata": {
    "ExecuteTime": {
     "end_time": "2019-09-15T07:53:55.186174Z",
     "start_time": "2019-09-15T07:53:54.839366Z"
    }
   },
   "outputs": [],
   "source": [
    "vec = CountVectorizer(binary=False)\n",
    "\n",
    "school_state_train_1hot = vec.fit_transform(df_X_train['school_state'])\n",
    "school_state_CV_1hot = vec.transform(df_X_CV['school_state'])\n",
    "school_state_test_1hot = vec.transform(df_X_test['school_state'])"
   ]
  },
  {
   "cell_type": "markdown",
   "metadata": {},
   "source": [
    "**Teacher prefix 1 hot encoded**"
   ]
  },
  {
   "cell_type": "code",
   "execution_count": 110,
   "metadata": {
    "ExecuteTime": {
     "end_time": "2019-09-15T07:53:56.883944Z",
     "start_time": "2019-09-15T07:53:56.559143Z"
    }
   },
   "outputs": [],
   "source": [
    "vec = CountVectorizer(binary=False)\n",
    "\n",
    "teacher_prefix_train_1hot = vec.fit_transform(df_X_train['teacher_prefix'])\n",
    "teacher_prefix_CV_1hot = vec.transform(df_X_CV['teacher_prefix'])\n",
    "teacher_prefix_test_1hot = vec.transform(df_X_test['teacher_prefix'])"
   ]
  },
  {
   "cell_type": "code",
   "execution_count": 111,
   "metadata": {
    "ExecuteTime": {
     "end_time": "2019-09-15T07:53:59.182105Z",
     "start_time": "2019-09-15T07:53:59.173182Z"
    }
   },
   "outputs": [
    {
     "data": {
      "text/plain": [
       "(69918, 5)"
      ]
     },
     "execution_count": 111,
     "metadata": {},
     "output_type": "execute_result"
    }
   ],
   "source": [
    "teacher_prefix_train_1hot.toarray().shape"
   ]
  },
  {
   "cell_type": "markdown",
   "metadata": {
    "ExecuteTime": {
     "end_time": "2019-09-11T14:44:59.198971Z",
     "start_time": "2019-09-11T14:44:59.189665Z"
    }
   },
   "source": [
    "**Project grade category 1 hot encoded**"
   ]
  },
  {
   "cell_type": "code",
   "execution_count": 112,
   "metadata": {
    "ExecuteTime": {
     "end_time": "2019-09-15T07:54:03.050431Z",
     "start_time": "2019-09-15T07:54:02.715097Z"
    }
   },
   "outputs": [],
   "source": [
    "vec = CountVectorizer(binary=False)\n",
    "\n",
    "project_grade_category_train_1hot = vec.fit_transform(df_X_train['project_grade_category'])\n",
    "project_grade_category_CV_1hot = vec.transform(df_X_CV['project_grade_category'])\n",
    "project_grade_category_test_1hot = vec.transform(df_X_test['project_grade_category'])"
   ]
  },
  {
   "cell_type": "code",
   "execution_count": 113,
   "metadata": {
    "ExecuteTime": {
     "end_time": "2019-09-15T07:54:06.845283Z",
     "start_time": "2019-09-15T07:54:06.839659Z"
    }
   },
   "outputs": [
    {
     "data": {
      "text/plain": [
       "(69918, 4)"
      ]
     },
     "execution_count": 113,
     "metadata": {},
     "output_type": "execute_result"
    }
   ],
   "source": [
    "project_grade_category_train_1hot.toarray().shape"
   ]
  },
  {
   "cell_type": "markdown",
   "metadata": {},
   "source": [
    "**clean_categories 1 hot encoded**"
   ]
  },
  {
   "cell_type": "code",
   "execution_count": 114,
   "metadata": {
    "ExecuteTime": {
     "end_time": "2019-09-15T07:54:09.083649Z",
     "start_time": "2019-09-15T07:54:08.712426Z"
    }
   },
   "outputs": [],
   "source": [
    "vec = CountVectorizer(binary=False)\n",
    "\n",
    "clean_categories_train_1hot = vec.fit_transform(\n",
    "    df_X_train['clean_categories'])\n",
    "\n",
    "clean_categories_CV_1hot = vec.transform(\n",
    "    df_X_CV['clean_categories'])\n",
    "\n",
    "clean_categories_test_1hot = vec.transform(\n",
    "    df_X_test['clean_categories'])"
   ]
  },
  {
   "cell_type": "markdown",
   "metadata": {},
   "source": [
    "**Clean subcategories**"
   ]
  },
  {
   "cell_type": "code",
   "execution_count": 115,
   "metadata": {
    "ExecuteTime": {
     "end_time": "2019-09-15T07:54:12.653369Z",
     "start_time": "2019-09-15T07:54:12.262360Z"
    }
   },
   "outputs": [],
   "source": [
    "vec = CountVectorizer(binary=False)\n",
    "\n",
    "clean_subcategories_train_1hot = vec.fit_transform(\n",
    "    df_X_train['clean_subcategories'])\n",
    "\n",
    "clean_subcategories_CV_1hot = vec.transform(\n",
    "    df_X_CV['clean_subcategories'])\n",
    "\n",
    "clean_subcategories_test_1hot = vec.transform(\n",
    "    df_X_test['clean_subcategories'])"
   ]
  },
  {
   "cell_type": "markdown",
   "metadata": {},
   "source": [
    "**Stack all 1 hot encoded features together**"
   ]
  },
  {
   "cell_type": "code",
   "execution_count": 116,
   "metadata": {
    "ExecuteTime": {
     "end_time": "2019-09-15T07:54:16.800227Z",
     "start_time": "2019-09-15T07:54:16.740913Z"
    }
   },
   "outputs": [],
   "source": [
    "other_features_train = hstack([\n",
    "    school_state_train_1hot, teacher_prefix_train_1hot,\n",
    "    project_grade_category_train_1hot, clean_categories_train_1hot,\n",
    "    clean_subcategories_train_1hot\n",
    "]).todense()\n",
    "\n",
    "other_features_CV = hstack([\n",
    "    school_state_CV_1hot, teacher_prefix_CV_1hot,\n",
    "    project_grade_category_CV_1hot, clean_categories_CV_1hot,\n",
    "    clean_subcategories_CV_1hot\n",
    "]).todense()\n",
    "\n",
    "\n",
    "other_features_test = hstack([\n",
    "    school_state_test_1hot, teacher_prefix_test_1hot,\n",
    "    project_grade_category_test_1hot, clean_categories_test_1hot,\n",
    "    clean_subcategories_test_1hot\n",
    "]).todense()\n"
   ]
  },
  {
   "cell_type": "code",
   "execution_count": 117,
   "metadata": {
    "ExecuteTime": {
     "end_time": "2019-09-15T07:54:19.582726Z",
     "start_time": "2019-09-15T07:54:19.577742Z"
    }
   },
   "outputs": [
    {
     "data": {
      "text/plain": [
       "((69918, 99), (17480, 99), (21850, 99))"
      ]
     },
     "execution_count": 117,
     "metadata": {},
     "output_type": "execute_result"
    }
   ],
   "source": [
    "other_features_train.shape, other_features_CV.shape, other_features_test.shape"
   ]
  },
  {
   "cell_type": "markdown",
   "metadata": {},
   "source": [
    "**Numerical features**"
   ]
  },
  {
   "cell_type": "code",
   "execution_count": 118,
   "metadata": {
    "ExecuteTime": {
     "end_time": "2019-09-15T07:54:22.468974Z",
     "start_time": "2019-09-15T07:54:22.429779Z"
    }
   },
   "outputs": [],
   "source": [
    "X_train_ppp = df_X_train[[\n",
    "    'teacher_number_of_previously_posted_projects', 'price'\n",
    "]].values.reshape(-1, 2)\n",
    "\n",
    "X_CV_ppp = df_X_CV[['teacher_number_of_previously_posted_projects',\n",
    "                    'price']].values.reshape(-1, 2)\n",
    "\n",
    "X_test_ppp = df_X_test[[\n",
    "    'teacher_number_of_previously_posted_projects', 'price'\n",
    "]].values.reshape(-1, 2)"
   ]
  },
  {
   "cell_type": "code",
   "execution_count": 119,
   "metadata": {
    "ExecuteTime": {
     "end_time": "2019-09-15T07:54:25.187747Z",
     "start_time": "2019-09-15T07:54:25.178687Z"
    }
   },
   "outputs": [],
   "source": [
    "scaler = StandardScaler()\n",
    "\n",
    "X_train_ppp = scaler.fit_transform(X_train_ppp)\n",
    "X_CV_ppp = scaler.transform(X_CV_ppp)\n",
    "X_test_ppp = scaler.transform(X_test_ppp)"
   ]
  },
  {
   "cell_type": "markdown",
   "metadata": {},
   "source": [
    "**Stack all features together**"
   ]
  },
  {
   "cell_type": "code",
   "execution_count": 120,
   "metadata": {
    "ExecuteTime": {
     "end_time": "2019-09-15T07:54:28.146576Z",
     "start_time": "2019-09-15T07:54:28.100157Z"
    }
   },
   "outputs": [],
   "source": [
    "X_train = np.hstack([other_features_train, X_train_ppp])\n",
    "X_CV = np.hstack([other_features_CV, X_CV_ppp])\n",
    "X_test = np.hstack([other_features_test, X_test_ppp])"
   ]
  },
  {
   "cell_type": "code",
   "execution_count": 121,
   "metadata": {
    "ExecuteTime": {
     "end_time": "2019-09-15T07:54:31.119451Z",
     "start_time": "2019-09-15T07:54:31.115669Z"
    }
   },
   "outputs": [],
   "source": [
    "X_train = np.expand_dims(X_train,2)\n",
    "X_CV = np.expand_dims(X_CV,2)\n",
    "X_test = np.expand_dims(X_test,2)"
   ]
  },
  {
   "cell_type": "code",
   "execution_count": 122,
   "metadata": {
    "ExecuteTime": {
     "end_time": "2019-09-15T07:54:33.684558Z",
     "start_time": "2019-09-15T07:54:33.679727Z"
    }
   },
   "outputs": [
    {
     "data": {
      "text/plain": [
       "(69918, 101, 1)"
      ]
     },
     "execution_count": 122,
     "metadata": {},
     "output_type": "execute_result"
    }
   ],
   "source": [
    "X_train.shape"
   ]
  },
  {
   "cell_type": "code",
   "execution_count": 123,
   "metadata": {
    "ExecuteTime": {
     "end_time": "2019-09-15T07:54:35.475810Z",
     "start_time": "2019-09-15T07:54:35.337989Z"
    }
   },
   "outputs": [],
   "source": [
    "inp_conv =  Input(shape=(101,1),name='all_features')\n",
    "x1 = Conv1D(filters=128, kernel_size=(3), activation='relu',kernel_initializer=\"he_normal\")(inp_conv)\n",
    "x1 = Conv1D(filters=128, kernel_size=(3), activation='relu',kernel_initializer=\"he_normal\")(x1)\n",
    "x3 = Flatten()(x1)"
   ]
  },
  {
   "cell_type": "markdown",
   "metadata": {},
   "source": [
    "**concatenate the outputs**"
   ]
  },
  {
   "cell_type": "code",
   "execution_count": 124,
   "metadata": {
    "ExecuteTime": {
     "end_time": "2019-09-15T07:54:55.051914Z",
     "start_time": "2019-09-15T07:54:54.047398Z"
    }
   },
   "outputs": [],
   "source": [
    "merged = concatenate([lstm_out_flattened, x3])\n",
    "\n",
    "x = Dense(128,\n",
    "          activation=\"relu\",\n",
    "          kernel_initializer=\"he_normal\",\n",
    "          kernel_regularizer=regularizers.l2(0.001))(merged)\n",
    "\n",
    "x=Dropout(0.5)(x)\n",
    "\n",
    "x = Dense(64,activation=\"relu\",kernel_initializer=\"he_normal\",kernel_regularizer=regularizers.l2(0.001))(x)\n",
    "\n",
    "x=Dropout(0.3)(x)\n",
    "\n",
    "x = Dense(32,activation=\"relu\",kernel_initializer=\"he_normal\",kernel_regularizer=regularizers.l2(0.001))(x)\n",
    "\n",
    "output = Dense(1, activation='sigmoid', name='output')(x)\n",
    "final_model_3 = Model(inputs=[essay_input,inp_conv],outputs=[output])"
   ]
  },
  {
   "cell_type": "code",
   "execution_count": 125,
   "metadata": {
    "ExecuteTime": {
     "end_time": "2019-09-15T07:55:14.987699Z",
     "start_time": "2019-09-15T07:55:14.932364Z"
    }
   },
   "outputs": [],
   "source": [
    "from keras.optimizers import Adam\n",
    "adam = Adam(lr=0.001, beta_1=0.9, beta_2=0.999, epsilon=None, decay=0.0, amsgrad=False)\n",
    "final_model_3.compile(optimizer=adam, loss='binary_crossentropy', metrics=['accuracy', auc])"
   ]
  },
  {
   "cell_type": "code",
   "execution_count": 40,
   "metadata": {
    "ExecuteTime": {
     "end_time": "2019-09-12T11:46:31.360986Z",
     "start_time": "2019-09-12T11:46:31.352949Z"
    },
    "scrolled": false
   },
   "outputs": [
    {
     "name": "stdout",
     "output_type": "stream",
     "text": [
      "__________________________________________________________________________________________________\n",
      "Layer (type)                    Output Shape         Param #     Connected to                     \n",
      "==================================================================================================\n",
      "input_1 (InputLayer)            (None, 231)          0                                            \n",
      "__________________________________________________________________________________________________\n",
      "all_features (InputLayer)       (None, 101, 1)       0                                            \n",
      "__________________________________________________________________________________________________\n",
      "embedding_1 (Embedding)         (None, 231, 300)     14160600    input_1[0][0]                    \n",
      "__________________________________________________________________________________________________\n",
      "conv1d_1 (Conv1D)               (None, 99, 128)      512         all_features[0][0]               \n",
      "__________________________________________________________________________________________________\n",
      "lstm_1 (LSTM)                   (None, 231, 128)     219648      embedding_1[0][0]                \n",
      "__________________________________________________________________________________________________\n",
      "conv1d_2 (Conv1D)               (None, 97, 128)      49280       conv1d_1[0][0]                   \n",
      "__________________________________________________________________________________________________\n",
      "flatten_1 (Flatten)             (None, 29568)        0           lstm_1[0][0]                     \n",
      "__________________________________________________________________________________________________\n",
      "flatten_2 (Flatten)             (None, 12416)        0           conv1d_2[0][0]                   \n",
      "__________________________________________________________________________________________________\n",
      "concatenate_2 (Concatenate)     (None, 41984)        0           flatten_1[0][0]                  \n",
      "                                                                 flatten_2[0][0]                  \n",
      "__________________________________________________________________________________________________\n",
      "dense_4 (Dense)                 (None, 128)          5374080     concatenate_2[0][0]              \n",
      "__________________________________________________________________________________________________\n",
      "dropout_3 (Dropout)             (None, 128)          0           dense_4[0][0]                    \n",
      "__________________________________________________________________________________________________\n",
      "dense_5 (Dense)                 (None, 64)           8256        dropout_3[0][0]                  \n",
      "__________________________________________________________________________________________________\n",
      "dropout_4 (Dropout)             (None, 64)           0           dense_5[0][0]                    \n",
      "__________________________________________________________________________________________________\n",
      "dense_6 (Dense)                 (None, 32)           2080        dropout_4[0][0]                  \n",
      "__________________________________________________________________________________________________\n",
      "output (Dense)                  (None, 1)            33          dense_6[0][0]                    \n",
      "==================================================================================================\n",
      "Total params: 19,814,489\n",
      "Trainable params: 5,653,889\n",
      "Non-trainable params: 14,160,600\n",
      "__________________________________________________________________________________________________\n"
     ]
    }
   ],
   "source": [
    "final_model_3.summary()"
   ]
  },
  {
   "cell_type": "code",
   "execution_count": 126,
   "metadata": {
    "ExecuteTime": {
     "end_time": "2019-09-15T07:55:35.513273Z",
     "start_time": "2019-09-15T07:55:35.509738Z"
    }
   },
   "outputs": [],
   "source": [
    "tb_3 = TensorBoard(log_dir=\"logs/{}\".format(time()))"
   ]
  },
  {
   "cell_type": "markdown",
   "metadata": {},
   "source": [
    "**Visual representation of model 3**"
   ]
  },
  {
   "cell_type": "code",
   "execution_count": 96,
   "metadata": {
    "ExecuteTime": {
     "end_time": "2019-09-12T12:57:48.990152Z",
     "start_time": "2019-09-12T12:57:48.528241Z"
    }
   },
   "outputs": [
    {
     "data": {
      "image/png": "[encoded data removed]",
      "text/plain": [
       "<IPython.core.display.Image object>"
      ]
     },
     "execution_count": 96,
     "metadata": {
      "image/png": {
       "height": 590,
       "width": 428
      }
     },
     "output_type": "execute_result"
    }
   ],
   "source": [
    "plot_model(model_3, show_shapes=True, show_layer_names=True, to_file='model_3.png')\n",
    "Image(retina=True, filename='model_3.png')"
   ]
  },
  {
   "cell_type": "code",
   "execution_count": 127,
   "metadata": {
    "ExecuteTime": {
     "end_time": "2019-09-15T08:01:17.453296Z",
     "start_time": "2019-09-15T07:56:35.500630Z"
    }
   },
   "outputs": [
    {
     "name": "stdout",
     "output_type": "stream",
     "text": [
      "Train on 69918 samples, validate on 17480 samples\n",
      "Epoch 1/20\n",
      "69918/69918 [==============================] - 18s 255us/step - loss: 0.6856 - acc: 0.8408 - auc: 0.6569 - val_loss: 0.5654 - val_acc: 0.8479 - val_auc: 0.7195\n",
      "Epoch 2/20\n",
      "69918/69918 [==============================] - 14s 196us/step - loss: 0.5305 - acc: 0.8483 - auc: 0.7124 - val_loss: 0.4985 - val_acc: 0.8479 - val_auc: 0.7180\n",
      "Epoch 3/20\n",
      "69918/69918 [==============================] - 14s 198us/step - loss: 0.4823 - acc: 0.8484 - auc: 0.7217 - val_loss: 0.4675 - val_acc: 0.8479 - val_auc: 0.7226\n",
      "Epoch 4/20\n",
      "69918/69918 [==============================] - 14s 195us/step - loss: 0.4543 - acc: 0.8485 - auc: 0.7260 - val_loss: 0.4452 - val_acc: 0.8479 - val_auc: 0.7200\n",
      "Epoch 5/20\n",
      "69918/69918 [==============================] - 14s 196us/step - loss: 0.4366 - acc: 0.8485 - auc: 0.7304 - val_loss: 0.4330 - val_acc: 0.8479 - val_auc: 0.7218\n",
      "Epoch 6/20\n",
      "69918/69918 [==============================] - 14s 197us/step - loss: 0.4261 - acc: 0.8486 - auc: 0.7341 - val_loss: 0.4301 - val_acc: 0.8489 - val_auc: 0.7231\n",
      "Epoch 7/20\n",
      "69918/69918 [==============================] - 14s 197us/step - loss: 0.4201 - acc: 0.8488 - auc: 0.7349 - val_loss: 0.4194 - val_acc: 0.8478 - val_auc: 0.7246\n",
      "Epoch 8/20\n",
      "69918/69918 [==============================] - 14s 196us/step - loss: 0.4145 - acc: 0.8491 - auc: 0.7379 - val_loss: 0.4160 - val_acc: 0.8494 - val_auc: 0.7256\n",
      "Epoch 9/20\n",
      "69918/69918 [==============================] - 14s 196us/step - loss: 0.4103 - acc: 0.8493 - auc: 0.7408 - val_loss: 0.4146 - val_acc: 0.8494 - val_auc: 0.7196\n",
      "Epoch 10/20\n",
      "69918/69918 [==============================] - 14s 199us/step - loss: 0.4077 - acc: 0.8503 - auc: 0.7388 - val_loss: 0.4127 - val_acc: 0.8494 - val_auc: 0.7255\n",
      "Epoch 11/20\n",
      "69918/69918 [==============================] - 14s 196us/step - loss: 0.4039 - acc: 0.8491 - auc: 0.7446 - val_loss: 0.4123 - val_acc: 0.8489 - val_auc: 0.7212\n",
      "Epoch 12/20\n",
      "69918/69918 [==============================] - 14s 198us/step - loss: 0.4019 - acc: 0.8509 - auc: 0.7437 - val_loss: 0.4090 - val_acc: 0.8491 - val_auc: 0.7234\n",
      "Epoch 13/20\n",
      "69918/69918 [==============================] - 14s 198us/step - loss: 0.4013 - acc: 0.8497 - auc: 0.7437 - val_loss: 0.4085 - val_acc: 0.8491 - val_auc: 0.7233\n",
      "Epoch 14/20\n",
      "69918/69918 [==============================] - 14s 196us/step - loss: 0.3992 - acc: 0.8506 - auc: 0.7455 - val_loss: 0.4078 - val_acc: 0.8494 - val_auc: 0.7223\n",
      "Epoch 15/20\n",
      "69918/69918 [==============================] - 14s 196us/step - loss: 0.3983 - acc: 0.8508 - auc: 0.7480 - val_loss: 0.4094 - val_acc: 0.8485 - val_auc: 0.7228\n",
      "Epoch 16/20\n",
      "69918/69918 [==============================] - 14s 196us/step - loss: 0.3984 - acc: 0.8509 - auc: 0.7471 - val_loss: 0.4064 - val_acc: 0.8485 - val_auc: 0.7248\n",
      "Epoch 17/20\n",
      "69918/69918 [==============================] - 14s 195us/step - loss: 0.3965 - acc: 0.8518 - auc: 0.7495 - val_loss: 0.4084 - val_acc: 0.8498 - val_auc: 0.7210\n",
      "Epoch 18/20\n",
      "69918/69918 [==============================] - 14s 196us/step - loss: 0.3961 - acc: 0.8512 - auc: 0.7501 - val_loss: 0.4076 - val_acc: 0.8489 - val_auc: 0.7236\n",
      "Epoch 19/20\n",
      "69918/69918 [==============================] - 14s 196us/step - loss: 0.3956 - acc: 0.8520 - auc: 0.7511 - val_loss: 0.4127 - val_acc: 0.8462 - val_auc: 0.7199\n",
      "Epoch 20/20\n",
      "69918/69918 [==============================] - 14s 196us/step - loss: 0.3955 - acc: 0.8517 - auc: 0.7532 - val_loss: 0.4112 - val_acc: 0.8488 - val_auc: 0.7206\n"
     ]
    },
    {
     "data": {
      "text/plain": [
       "<keras.callbacks.History at 0x7f8a46718128>"
      ]
     },
     "execution_count": 127,
     "metadata": {},
     "output_type": "execute_result"
    },
    {
     "data": {
      "application/javascript": [
       "$(document).ready(\n",
       "    function() {\n",
       "        function appendUniqueDiv(){\n",
       "            // append a div with our uuid so we can check that it's already\n",
       "            // been sent and avoid duplicates on page reload\n",
       "            var notifiedDiv = document.createElement(\"div\")\n",
       "            notifiedDiv.id = \"bb608fb9-43d6-4b66-bfa7-f0e06b0899a1\"\n",
       "            element.append(notifiedDiv)\n",
       "        }\n",
       "\n",
       "        // only send notifications if the pageload is complete; this will\n",
       "        // help stop extra notifications when a saved notebook is loaded,\n",
       "        // which during testing gives us state \"interactive\", not \"complete\"\n",
       "        if (document.readyState === 'complete') {\n",
       "            // check for the div that signifies that the notification\n",
       "            // was already sent\n",
       "            if (document.getElementById(\"bb608fb9-43d6-4b66-bfa7-f0e06b0899a1\") === null) {\n",
       "                var notificationPayload = {\"requireInteraction\": false, \"body\": \"Cell execution has finished!\", \"icon\": \"/static/base/images/favicon.ico\"};\n",
       "                if (Notification.permission !== 'denied') {\n",
       "                    if (Notification.permission !== 'granted') { \n",
       "                        Notification.requestPermission(function (permission) {\n",
       "                            if(!('permission' in Notification)) {\n",
       "                                Notification.permission = permission\n",
       "                            }\n",
       "                        })\n",
       "                    }\n",
       "                    if (Notification.permission === 'granted') {\n",
       "                    var notification = new Notification(\"Jupyter Notebook\", notificationPayload)\n",
       "                    appendUniqueDiv()\n",
       "                    notification.onclick = function () {\n",
       "                        window.focus();\n",
       "                        this.close();\n",
       "                        };\n",
       "                    } \n",
       "                }     \n",
       "            }\n",
       "        }\n",
       "    }\n",
       ")\n"
      ],
      "text/plain": [
       "<IPython.core.display.Javascript object>"
      ]
     },
     "metadata": {},
     "output_type": "display_data"
    }
   ],
   "source": [
    "%%notify\n",
    "\n",
    "final_model_3.fit([padded_docs_train, X_train], [y_train],\n",
    "            epochs=20,\n",
    "            batch_size=1024,\n",
    "            validation_data=([padded_docs_CV, X_CV], [y_CV]),\n",
    "            callbacks=[tb_3])"
   ]
  },
  {
   "cell_type": "markdown",
   "metadata": {},
   "source": [
    "**Make predictions on test data**"
   ]
  },
  {
   "cell_type": "code",
   "execution_count": 130,
   "metadata": {
    "ExecuteTime": {
     "end_time": "2019-09-15T08:03:21.584208Z",
     "start_time": "2019-09-15T08:02:46.793795Z"
    }
   },
   "outputs": [],
   "source": [
    "predictions_model3 = final_model_3.predict([padded_docs_test, X_test])"
   ]
  },
  {
   "cell_type": "markdown",
   "metadata": {},
   "source": [
    "**Calculate the AUC on test data**"
   ]
  },
  {
   "cell_type": "code",
   "execution_count": 131,
   "metadata": {
    "ExecuteTime": {
     "end_time": "2019-09-15T08:03:26.728840Z",
     "start_time": "2019-09-15T08:03:26.715350Z"
    },
    "scrolled": true
   },
   "outputs": [
    {
     "data": {
      "text/plain": [
       "0.7255770174096867"
      ]
     },
     "execution_count": 131,
     "metadata": {},
     "output_type": "execute_result"
    }
   ],
   "source": [
    "roc_auc_score(y_test, predictions_model3)"
   ]
  },
  {
   "cell_type": "markdown",
   "metadata": {},
   "source": [
    "**Log loss on test data: Model 3**"
   ]
  },
  {
   "cell_type": "code",
   "execution_count": 132,
   "metadata": {
    "ExecuteTime": {
     "end_time": "2019-09-15T08:03:33.209706Z",
     "start_time": "2019-09-15T08:03:33.197582Z"
    },
    "scrolled": true
   },
   "outputs": [
    {
     "data": {
      "text/plain": [
       "0.3791596134759707"
      ]
     },
     "execution_count": 132,
     "metadata": {},
     "output_type": "execute_result"
    }
   ],
   "source": [
    "log_loss(y_test, predictions_model3)"
   ]
  },
  {
   "cell_type": "code",
   "execution_count": 146,
   "metadata": {
    "ExecuteTime": {
     "end_time": "2019-09-15T08:19:59.512015Z",
     "start_time": "2019-09-15T08:19:59.508436Z"
    }
   },
   "outputs": [],
   "source": [
    "table.add_row(['Model 3', '0.39', '0.75', '0.41', '0.72', '0.37', '0.72'])"
   ]
  },
  {
   "cell_type": "markdown",
   "metadata": {},
   "source": [
    "**Model 3: Train loss**"
   ]
  },
  {
   "cell_type": "code",
   "execution_count": 133,
   "metadata": {
    "ExecuteTime": {
     "end_time": "2019-09-15T08:08:28.575991Z",
     "start_time": "2019-09-15T08:08:28.570392Z"
    }
   },
   "outputs": [
    {
     "data": {
      "image/png": "[encoded data removed]",
      "text/plain": [
       "<IPython.core.display.Image object>"
      ]
     },
     "execution_count": 133,
     "metadata": {},
     "output_type": "execute_result"
    }
   ],
   "source": [
    "from IPython.display import Image\n",
    "Image('./tensorboard pics/model_3_train_loss.png')"
   ]
  },
  {
   "cell_type": "markdown",
   "metadata": {},
   "source": [
    "**model 3: Train AUC**"
   ]
  },
  {
   "cell_type": "code",
   "execution_count": 134,
   "metadata": {
    "ExecuteTime": {
     "end_time": "2019-09-15T08:08:38.539096Z",
     "start_time": "2019-09-15T08:08:38.533104Z"
    }
   },
   "outputs": [
    {
     "data": {
      "image/png": "[encoded data removed]",
      "text/plain": [
       "<IPython.core.display.Image object>"
      ]
     },
     "execution_count": 134,
     "metadata": {},
     "output_type": "execute_result"
    }
   ],
   "source": [
    "Image('./tensorboard pics/model_3_train_AUC.png')"
   ]
  },
  {
   "cell_type": "markdown",
   "metadata": {},
   "source": [
    "**Model 3: Validation loss**"
   ]
  },
  {
   "cell_type": "code",
   "execution_count": 135,
   "metadata": {
    "ExecuteTime": {
     "end_time": "2019-09-15T08:08:48.949944Z",
     "start_time": "2019-09-15T08:08:48.943897Z"
    }
   },
   "outputs": [
    {
     "data": {
      "image/png": "[encoded data removed]",
      "text/plain": [
       "<IPython.core.display.Image object>"
      ]
     },
     "execution_count": 135,
     "metadata": {},
     "output_type": "execute_result"
    }
   ],
   "source": [
    "Image('./tensorboard pics/model_3_val_loss.png')"
   ]
  },
  {
   "cell_type": "markdown",
   "metadata": {},
   "source": [
    "**Model 3: Validation AUC**"
   ]
  },
  {
   "cell_type": "code",
   "execution_count": 136,
   "metadata": {
    "ExecuteTime": {
     "end_time": "2019-09-15T08:08:56.791220Z",
     "start_time": "2019-09-15T08:08:56.784600Z"
    }
   },
   "outputs": [
    {
     "data": {
      "image/png": "[encoded data removed]",
      "text/plain": [
       "<IPython.core.display.Image object>"
      ]
     },
     "execution_count": 136,
     "metadata": {},
     "output_type": "execute_result"
    }
   ],
   "source": [
    "Image('./tensorboard pics/model_3_val_AUC.png')"
   ]
  },
  {
   "cell_type": "markdown",
   "metadata": {},
   "source": [
    "# Concluding Remarks\n",
    "\n",
    "* We tried out 3 different Neaural net models for this classification problem. The first two models had the same architecture, but varying number of essay features and used LSTMs.\n",
    "\n",
    "* We used Tensorboard to analyze how the loss and AUC varies with each epoch.\n",
    "\n",
    "\n",
    "* The best AUC observed on test data was ~0.74 with Model 1. Following tables contains the summary of the models trained."
   ]
  },
  {
   "cell_type": "code",
   "execution_count": 147,
   "metadata": {
    "ExecuteTime": {
     "end_time": "2019-09-15T08:20:09.283041Z",
     "start_time": "2019-09-15T08:20:09.278844Z"
    }
   },
   "outputs": [
    {
     "name": "stdout",
     "output_type": "stream",
     "text": [
      "+---------+------------+-----------+-----------------+----------------+-----------+----------+\n",
      "|    #    | Train Loss | Train AUC | Validation Loss | Validation AUC | Test Loss | Test AUC |\n",
      "+---------+------------+-----------+-----------------+----------------+-----------+----------+\n",
      "| Model 1 |    0.40    |    0.81   |       0.46      |      0.73      |    0.38   |   0.74   |\n",
      "| Model 2 |    0.40    |    0.75   |       0.42      |      0.71      |    0.38   |   0.71   |\n",
      "| Model 3 |    0.39    |    0.75   |       0.41      |      0.72      |    0.37   |   0.72   |\n",
      "+---------+------------+-----------+-----------------+----------------+-----------+----------+\n"
     ]
    }
   ],
   "source": [
    "print(table)"
   ]
  }
 ],
 "metadata": {
  "kernelspec": {
   "display_name": "Python 3",
   "language": "python",
   "name": "python3"
  },
  "language_info": {
   "codemirror_mode": {
    "name": "ipython",
    "version": 3
   },
   "file_extension": ".py",
   "mimetype": "text/x-python",
   "name": "python",
   "nbconvert_exporter": "python",
   "pygments_lexer": "ipython3",
   "version": "3.7.3"
  },
  "toc": {
   "base_numbering": 1,
   "nav_menu": {},
   "number_sections": true,
   "sideBar": true,
   "skip_h1_title": false,
   "title_cell": "Table of Contents",
   "title_sidebar": "Contents",
   "toc_cell": false,
   "toc_position": {},
   "toc_section_display": true,
   "toc_window_display": false
  },
  "varInspector": {
   "cols": {
    "lenName": 16,
    "lenType": 16,
    "lenVar": 40
   },
   "kernels_config": {
    "python": {
     "delete_cmd_postfix": "",
     "delete_cmd_prefix": "del ",
     "library": "var_list.py",
     "varRefreshCmd": "print(var_dic_list())"
    },
    "r": {
     "delete_cmd_postfix": ") ",
     "delete_cmd_prefix": "rm(",
     "library": "var_list.r",
     "varRefreshCmd": "cat(var_dic_list()) "
    }
   },
   "types_to_exclude": [
    "module",
    "function",
    "builtin_function_or_method",
    "instance",
    "_Feature"
   ],
   "window_display": false
  }
 },
 "nbformat": 4,
 "nbformat_minor": 2
}
